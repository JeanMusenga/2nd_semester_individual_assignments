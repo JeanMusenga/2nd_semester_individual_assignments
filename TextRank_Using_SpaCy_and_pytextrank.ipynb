{
  "nbformat": 4,
  "nbformat_minor": 0,
  "metadata": {
    "colab": {
      "provenance": [],
      "authorship_tag": "ABX9TyPgTXFXQehq1/M6WAGTSZQ1",
      "include_colab_link": true
    },
    "kernelspec": {
      "name": "python3",
      "display_name": "Python 3"
    },
    "language_info": {
      "name": "python"
    }
  },
  "cells": [
    {
      "cell_type": "markdown",
      "metadata": {
        "id": "view-in-github",
        "colab_type": "text"
      },
      "source": [
        "<a href=\"https://colab.research.google.com/github/JeanMusenga/PhD-Thesis_2024_Musenga/blob/main/TextRank_Using_SpaCy_and_pytextrank.ipynb\" target=\"_parent\"><img src=\"https://colab.research.google.com/assets/colab-badge.svg\" alt=\"Open In Colab\"/></a>"
      ]
    },
    {
      "cell_type": "markdown",
      "source": [
        "https://chatgpt.com/share/2cc1719b-b534-4cbb-9a11-aece17986c97"
      ],
      "metadata": {
        "id": "isF71wmn_Q72"
      }
    },
    {
      "cell_type": "markdown",
      "source": [
        "# Step 1: Install Necessary Libraries"
      ],
      "metadata": {
        "id": "Q2k38j5O_WSh"
      }
    },
    {
      "cell_type": "code",
      "source": [
        "pip install spacy pytextrank"
      ],
      "metadata": {
        "id": "HglT9vsT7k7H"
      },
      "execution_count": null,
      "outputs": []
    },
    {
      "cell_type": "code",
      "source": [
        "!python -m spacy download en_core_web_sm"
      ],
      "metadata": {
        "id": "3jdNUy0E7p7-"
      },
      "execution_count": 9,
      "outputs": []
    },
    {
      "cell_type": "code",
      "execution_count": 13,
      "metadata": {
        "id": "RMV6tVLK7Ost"
      },
      "outputs": [],
      "source": [
        "# Import libraries\n",
        "import pandas as pd\n",
        "import spacy\n",
        "import pytextrank"
      ]
    },
    {
      "cell_type": "markdown",
      "source": [
        "Step 2: Load the Dataset"
      ],
      "metadata": {
        "id": "ZI-WIeHz_Z6P"
      }
    },
    {
      "cell_type": "code",
      "source": [
        "# Load the dataset\n",
        "file_path = 'DataSampePilot.xlsx'  # Update with the correct path\n",
        "dataset = pd.read_excel(file_path)"
      ],
      "metadata": {
        "id": "Wm1e4oHb7THe"
      },
      "execution_count": null,
      "outputs": []
    },
    {
      "cell_type": "code",
      "source": [
        "# Display the first few rows of the dataset\n",
        "print(dataset.head())"
      ],
      "metadata": {
        "id": "p3KSU4XP8nuO"
      },
      "execution_count": null,
      "outputs": []
    },
    {
      "cell_type": "code",
      "source": [
        "# Load spaCy model\n",
        "nlp = spacy.load(\"en_core_web_sm\")"
      ],
      "metadata": {
        "id": "KJ13yEDJ7TEu"
      },
      "execution_count": 14,
      "outputs": []
    },
    {
      "cell_type": "code",
      "source": [
        "# Add PyTextRank to the spaCy pipeline\n",
        "nlp.add_pipe(\"textrank\")"
      ],
      "metadata": {
        "colab": {
          "base_uri": "https://localhost:8080/"
        },
        "id": "3T90rHUE7TCW",
        "outputId": "3579f5d4-dc4b-4c58-afe4-6575b00aa0bf"
      },
      "execution_count": 15,
      "outputs": [
        {
          "output_type": "execute_result",
          "data": {
            "text/plain": [
              "<pytextrank.base.BaseTextRankFactory at 0x7f538a3af250>"
            ]
          },
          "metadata": {},
          "execution_count": 15
        }
      ]
    },
    {
      "cell_type": "markdown",
      "source": [
        "# Step 3: Tokenize the Text"
      ],
      "metadata": {
        "id": "_AkGj4Az_gxv"
      }
    },
    {
      "cell_type": "code",
      "source": [
        "# Define a function to tokenize text\n",
        "def tokenize(text):\n",
        "    doc = nlp(text)\n",
        "    return [token.text for token in doc]"
      ],
      "metadata": {
        "id": "xw6uPr4p9edW"
      },
      "execution_count": 21,
      "outputs": []
    },
    {
      "cell_type": "code",
      "source": [
        "# Apply tokenization to 'Question_body' and 'Answer_body' columns\n",
        "dataset['question_tokens'] = dataset['Question_body'].apply(lambda x: tokenize(str(x)))\n",
        "dataset['answer_tokens'] = dataset['Answer_body'].apply(lambda x: tokenize(str(x)))\n"
      ],
      "metadata": {
        "id": "n26TWWOl7S_2"
      },
      "execution_count": 22,
      "outputs": []
    },
    {
      "cell_type": "code",
      "source": [
        "# Apply tokenization and summarization to 'Question_body' and 'Answer_body' columns\n",
        "dataset['question_tokens'], dataset['question_summary'] = zip(*dataset['Question_body'].apply(lambda x: tokenize_and_summarize(str(x))))\n",
        "dataset['answer_tokens'], dataset['answer_summary'] = zip(*dataset['Answer_body'].apply(lambda x: tokenize_and_summarize(str(x))))\n"
      ],
      "metadata": {
        "id": "NZUctPQR7S9G"
      },
      "execution_count": 17,
      "outputs": []
    },
    {
      "cell_type": "code",
      "source": [
        "# Display the first few rows with tokens\n",
        "dataset[['Question_body', 'question_tokens', 'Answer_body', 'answer_tokens']].head()"
      ],
      "metadata": {
        "id": "1wA_kcPZ7S6W"
      },
      "execution_count": null,
      "outputs": []
    },
    {
      "cell_type": "markdown",
      "source": [
        "# Step 4: Create a Similarity Matrix"
      ],
      "metadata": {
        "id": "D-xMlqBS9r24"
      }
    },
    {
      "cell_type": "code",
      "source": [
        "from sklearn.feature_extraction.text import TfidfVectorizer\n",
        "from sklearn.metrics.pairwise import cosine_similarity\n",
        "\n",
        "# Define a function to create a similarity matrix\n",
        "def create_similarity_matrix(texts):\n",
        "    vectorizer = TfidfVectorizer()\n",
        "    tfidf_matrix = vectorizer.fit_transform(texts)\n",
        "    similarity_matrix = cosine_similarity(tfidf_matrix)\n",
        "    return similarity_matrix\n",
        "\n",
        "# Create similarity matrices for 'Question_body' and 'Answer_body'\n",
        "question_similarity_matrix = create_similarity_matrix(dataset['Question_body'])\n",
        "answer_similarity_matrix = create_similarity_matrix(dataset['Answer_body'])\n",
        "\n",
        "# Display the similarity matrices\n",
        "print(question_similarity_matrix)\n",
        "print(answer_similarity_matrix)\n"
      ],
      "metadata": {
        "colab": {
          "base_uri": "https://localhost:8080/"
        },
        "id": "l3Wk8xtp9u4W",
        "outputId": "05eff1ed-744c-4cf4-9ebe-d2f6aff17ffb"
      },
      "execution_count": 25,
      "outputs": [
        {
          "output_type": "stream",
          "name": "stdout",
          "text": [
            "[[1.         0.22920805 0.30994537 0.34297233 0.20943778 0.1890436\n",
            "  0.14886688 0.22215655 0.19942164 0.2188573 ]\n",
            " [0.22920805 1.         0.24870993 0.33226641 0.21089174 0.15187851\n",
            "  0.15261209 0.22135724 0.31583627 0.17991187]\n",
            " [0.30994537 0.24870993 1.         0.38091193 0.18968868 0.2188276\n",
            "  0.23539308 0.26591497 0.20386423 0.38101829]\n",
            " [0.34297233 0.33226641 0.38091193 1.         0.17714062 0.25682604\n",
            "  0.23080007 0.35354224 0.25680798 0.25952111]\n",
            " [0.20943778 0.21089174 0.18968868 0.17714062 1.         0.13272595\n",
            "  0.13610595 0.10805898 0.20648205 0.12768302]\n",
            " [0.1890436  0.15187851 0.2188276  0.25682604 0.13272595 1.\n",
            "  0.18570336 0.18345517 0.1337157  0.18679124]\n",
            " [0.14886688 0.15261209 0.23539308 0.23080007 0.13610595 0.18570336\n",
            "  1.         0.18015524 0.12890661 0.2078603 ]\n",
            " [0.22215655 0.22135724 0.26591497 0.35354224 0.10805898 0.18345517\n",
            "  0.18015524 1.         0.19497718 0.20035726]\n",
            " [0.19942164 0.31583627 0.20386423 0.25680798 0.20648205 0.1337157\n",
            "  0.12890661 0.19497718 1.         0.16119248]\n",
            " [0.2188573  0.17991187 0.38101829 0.25952111 0.12768302 0.18679124\n",
            "  0.2078603  0.20035726 0.16119248 1.        ]]\n",
            "[[1.         0.2726685  0.22162085 0.19994266 0.29259231 0.09327255\n",
            "  0.15935653 0.07813076 0.15057794 0.15433692]\n",
            " [0.2726685  1.         0.27165205 0.22188337 0.23227231 0.1096549\n",
            "  0.13438982 0.07940621 0.22193502 0.14842796]\n",
            " [0.22162085 0.27165205 1.         0.19803162 0.22997079 0.09984576\n",
            "  0.11672969 0.09446292 0.16735194 0.17729721]\n",
            " [0.19994266 0.22188337 0.19803162 1.         0.18688393 0.28709536\n",
            "  0.25371659 0.08643333 0.16100378 0.21577177]\n",
            " [0.29259231 0.23227231 0.22997079 0.18688393 1.         0.0512088\n",
            "  0.11979737 0.07693502 0.20948842 0.20313949]\n",
            " [0.09327255 0.1096549  0.09984576 0.28709536 0.0512088  1.\n",
            "  0.09193702 0.04156004 0.05172061 0.10824517]\n",
            " [0.15935653 0.13438982 0.11672969 0.25371659 0.11979737 0.09193702\n",
            "  1.         0.0365768  0.13000903 0.14022092]\n",
            " [0.07813076 0.07940621 0.09446292 0.08643333 0.07693502 0.04156004\n",
            "  0.0365768  1.         0.03651756 0.0563141 ]\n",
            " [0.15057794 0.22193502 0.16735194 0.16100378 0.20948842 0.05172061\n",
            "  0.13000903 0.03651756 1.         0.13882016]\n",
            " [0.15433692 0.14842796 0.17729721 0.21577177 0.20313949 0.10824517\n",
            "  0.14022092 0.0563141  0.13882016 1.        ]]\n"
          ]
        }
      ]
    },
    {
      "cell_type": "markdown",
      "source": [
        "# Step 5: Apply the TextRank Algorithm"
      ],
      "metadata": {
        "id": "cSLJompT-nSX"
      }
    },
    {
      "cell_type": "code",
      "source": [
        "import numpy as np\n",
        "\n",
        "def text_rank(similarity_matrix, damping_factor=0.85, max_iter=100, tol=1e-4):\n",
        "    n = similarity_matrix.shape[0]\n",
        "    scores = np.ones(n) / n\n",
        "    for _ in range(max_iter):\n",
        "        prev_scores = scores.copy()\n",
        "        for i in range(n):\n",
        "            scores[i] = (1 - damping_factor) + damping_factor * np.sum(similarity_matrix[i] * prev_scores / np.sum(similarity_matrix[i]))\n",
        "        if np.linalg.norm(scores - prev_scores) < tol:\n",
        "            break\n",
        "    return scores\n",
        "\n",
        "# Apply TextRank to the similarity matrices\n",
        "question_scores = text_rank(question_similarity_matrix)\n",
        "answer_scores = text_rank(answer_similarity_matrix)\n",
        "\n",
        "# Add scores to the dataset\n",
        "dataset['question_scores'] = question_scores\n",
        "dataset['answer_scores'] = answer_scores\n",
        "\n",
        "# Display the first few rows with scores\n",
        "dataset[['Question_body', 'question_scores', 'Answer_body', 'answer_scores']].head()\n"
      ],
      "metadata": {
        "colab": {
          "base_uri": "https://localhost:8080/",
          "height": 206
        },
        "id": "860dMXcm7S3u",
        "outputId": "87568bc1-bdeb-451f-c16e-82a76839065f"
      },
      "execution_count": 27,
      "outputs": [
        {
          "output_type": "execute_result",
          "data": {
            "text/plain": [
              "                                       Question_body  question_scores  \\\n",
              "0  Kinda new to AWS. I have this high-level quest...         0.999837   \n",
              "1  I have some spring boot microservices and I wa...         0.999837   \n",
              "2  I'm trying to properly design an application a...         0.999837   \n",
              "3  I heard that for .NET8 Microsoft gifted us wit...         0.999837   \n",
              "4  I am trying to learn AWS services, and now it ...         0.999837   \n",
              "\n",
              "                                         Answer_body  answer_scores  \n",
              "0  You send a request, you get a response. In ord...       0.999837  \n",
              "1  <blockquote>\\ntl;dr: Spring MVC will not contr...       0.999837  \n",
              "2  Determining the source of the information is b...       0.999837  \n",
              "3  I have always asked myself this very same ques...       0.999837  \n",
              "4  Short answer is: no, you don't have to but you...       0.999837  "
            ],
            "text/html": [
              "\n",
              "  <div id=\"df-6b5a7433-ea4d-45a1-a0a3-d5facb91a580\" class=\"colab-df-container\">\n",
              "    <div>\n",
              "<style scoped>\n",
              "    .dataframe tbody tr th:only-of-type {\n",
              "        vertical-align: middle;\n",
              "    }\n",
              "\n",
              "    .dataframe tbody tr th {\n",
              "        vertical-align: top;\n",
              "    }\n",
              "\n",
              "    .dataframe thead th {\n",
              "        text-align: right;\n",
              "    }\n",
              "</style>\n",
              "<table border=\"1\" class=\"dataframe\">\n",
              "  <thead>\n",
              "    <tr style=\"text-align: right;\">\n",
              "      <th></th>\n",
              "      <th>Question_body</th>\n",
              "      <th>question_scores</th>\n",
              "      <th>Answer_body</th>\n",
              "      <th>answer_scores</th>\n",
              "    </tr>\n",
              "  </thead>\n",
              "  <tbody>\n",
              "    <tr>\n",
              "      <th>0</th>\n",
              "      <td>Kinda new to AWS. I have this high-level quest...</td>\n",
              "      <td>0.999837</td>\n",
              "      <td>You send a request, you get a response. In ord...</td>\n",
              "      <td>0.999837</td>\n",
              "    </tr>\n",
              "    <tr>\n",
              "      <th>1</th>\n",
              "      <td>I have some spring boot microservices and I wa...</td>\n",
              "      <td>0.999837</td>\n",
              "      <td>&lt;blockquote&gt;\\ntl;dr: Spring MVC will not contr...</td>\n",
              "      <td>0.999837</td>\n",
              "    </tr>\n",
              "    <tr>\n",
              "      <th>2</th>\n",
              "      <td>I'm trying to properly design an application a...</td>\n",
              "      <td>0.999837</td>\n",
              "      <td>Determining the source of the information is b...</td>\n",
              "      <td>0.999837</td>\n",
              "    </tr>\n",
              "    <tr>\n",
              "      <th>3</th>\n",
              "      <td>I heard that for .NET8 Microsoft gifted us wit...</td>\n",
              "      <td>0.999837</td>\n",
              "      <td>I have always asked myself this very same ques...</td>\n",
              "      <td>0.999837</td>\n",
              "    </tr>\n",
              "    <tr>\n",
              "      <th>4</th>\n",
              "      <td>I am trying to learn AWS services, and now it ...</td>\n",
              "      <td>0.999837</td>\n",
              "      <td>Short answer is: no, you don't have to but you...</td>\n",
              "      <td>0.999837</td>\n",
              "    </tr>\n",
              "  </tbody>\n",
              "</table>\n",
              "</div>\n",
              "    <div class=\"colab-df-buttons\">\n",
              "\n",
              "  <div class=\"colab-df-container\">\n",
              "    <button class=\"colab-df-convert\" onclick=\"convertToInteractive('df-6b5a7433-ea4d-45a1-a0a3-d5facb91a580')\"\n",
              "            title=\"Convert this dataframe to an interactive table.\"\n",
              "            style=\"display:none;\">\n",
              "\n",
              "  <svg xmlns=\"http://www.w3.org/2000/svg\" height=\"24px\" viewBox=\"0 -960 960 960\">\n",
              "    <path d=\"M120-120v-720h720v720H120Zm60-500h600v-160H180v160Zm220 220h160v-160H400v160Zm0 220h160v-160H400v160ZM180-400h160v-160H180v160Zm440 0h160v-160H620v160ZM180-180h160v-160H180v160Zm440 0h160v-160H620v160Z\"/>\n",
              "  </svg>\n",
              "    </button>\n",
              "\n",
              "  <style>\n",
              "    .colab-df-container {\n",
              "      display:flex;\n",
              "      gap: 12px;\n",
              "    }\n",
              "\n",
              "    .colab-df-convert {\n",
              "      background-color: #E8F0FE;\n",
              "      border: none;\n",
              "      border-radius: 50%;\n",
              "      cursor: pointer;\n",
              "      display: none;\n",
              "      fill: #1967D2;\n",
              "      height: 32px;\n",
              "      padding: 0 0 0 0;\n",
              "      width: 32px;\n",
              "    }\n",
              "\n",
              "    .colab-df-convert:hover {\n",
              "      background-color: #E2EBFA;\n",
              "      box-shadow: 0px 1px 2px rgba(60, 64, 67, 0.3), 0px 1px 3px 1px rgba(60, 64, 67, 0.15);\n",
              "      fill: #174EA6;\n",
              "    }\n",
              "\n",
              "    .colab-df-buttons div {\n",
              "      margin-bottom: 4px;\n",
              "    }\n",
              "\n",
              "    [theme=dark] .colab-df-convert {\n",
              "      background-color: #3B4455;\n",
              "      fill: #D2E3FC;\n",
              "    }\n",
              "\n",
              "    [theme=dark] .colab-df-convert:hover {\n",
              "      background-color: #434B5C;\n",
              "      box-shadow: 0px 1px 3px 1px rgba(0, 0, 0, 0.15);\n",
              "      filter: drop-shadow(0px 1px 2px rgba(0, 0, 0, 0.3));\n",
              "      fill: #FFFFFF;\n",
              "    }\n",
              "  </style>\n",
              "\n",
              "    <script>\n",
              "      const buttonEl =\n",
              "        document.querySelector('#df-6b5a7433-ea4d-45a1-a0a3-d5facb91a580 button.colab-df-convert');\n",
              "      buttonEl.style.display =\n",
              "        google.colab.kernel.accessAllowed ? 'block' : 'none';\n",
              "\n",
              "      async function convertToInteractive(key) {\n",
              "        const element = document.querySelector('#df-6b5a7433-ea4d-45a1-a0a3-d5facb91a580');\n",
              "        const dataTable =\n",
              "          await google.colab.kernel.invokeFunction('convertToInteractive',\n",
              "                                                    [key], {});\n",
              "        if (!dataTable) return;\n",
              "\n",
              "        const docLinkHtml = 'Like what you see? Visit the ' +\n",
              "          '<a target=\"_blank\" href=https://colab.research.google.com/notebooks/data_table.ipynb>data table notebook</a>'\n",
              "          + ' to learn more about interactive tables.';\n",
              "        element.innerHTML = '';\n",
              "        dataTable['output_type'] = 'display_data';\n",
              "        await google.colab.output.renderOutput(dataTable, element);\n",
              "        const docLink = document.createElement('div');\n",
              "        docLink.innerHTML = docLinkHtml;\n",
              "        element.appendChild(docLink);\n",
              "      }\n",
              "    </script>\n",
              "  </div>\n",
              "\n",
              "\n",
              "<div id=\"df-7ec4218c-e9ed-48fe-8431-36c57745834c\">\n",
              "  <button class=\"colab-df-quickchart\" onclick=\"quickchart('df-7ec4218c-e9ed-48fe-8431-36c57745834c')\"\n",
              "            title=\"Suggest charts\"\n",
              "            style=\"display:none;\">\n",
              "\n",
              "<svg xmlns=\"http://www.w3.org/2000/svg\" height=\"24px\"viewBox=\"0 0 24 24\"\n",
              "     width=\"24px\">\n",
              "    <g>\n",
              "        <path d=\"M19 3H5c-1.1 0-2 .9-2 2v14c0 1.1.9 2 2 2h14c1.1 0 2-.9 2-2V5c0-1.1-.9-2-2-2zM9 17H7v-7h2v7zm4 0h-2V7h2v10zm4 0h-2v-4h2v4z\"/>\n",
              "    </g>\n",
              "</svg>\n",
              "  </button>\n",
              "\n",
              "<style>\n",
              "  .colab-df-quickchart {\n",
              "      --bg-color: #E8F0FE;\n",
              "      --fill-color: #1967D2;\n",
              "      --hover-bg-color: #E2EBFA;\n",
              "      --hover-fill-color: #174EA6;\n",
              "      --disabled-fill-color: #AAA;\n",
              "      --disabled-bg-color: #DDD;\n",
              "  }\n",
              "\n",
              "  [theme=dark] .colab-df-quickchart {\n",
              "      --bg-color: #3B4455;\n",
              "      --fill-color: #D2E3FC;\n",
              "      --hover-bg-color: #434B5C;\n",
              "      --hover-fill-color: #FFFFFF;\n",
              "      --disabled-bg-color: #3B4455;\n",
              "      --disabled-fill-color: #666;\n",
              "  }\n",
              "\n",
              "  .colab-df-quickchart {\n",
              "    background-color: var(--bg-color);\n",
              "    border: none;\n",
              "    border-radius: 50%;\n",
              "    cursor: pointer;\n",
              "    display: none;\n",
              "    fill: var(--fill-color);\n",
              "    height: 32px;\n",
              "    padding: 0;\n",
              "    width: 32px;\n",
              "  }\n",
              "\n",
              "  .colab-df-quickchart:hover {\n",
              "    background-color: var(--hover-bg-color);\n",
              "    box-shadow: 0 1px 2px rgba(60, 64, 67, 0.3), 0 1px 3px 1px rgba(60, 64, 67, 0.15);\n",
              "    fill: var(--button-hover-fill-color);\n",
              "  }\n",
              "\n",
              "  .colab-df-quickchart-complete:disabled,\n",
              "  .colab-df-quickchart-complete:disabled:hover {\n",
              "    background-color: var(--disabled-bg-color);\n",
              "    fill: var(--disabled-fill-color);\n",
              "    box-shadow: none;\n",
              "  }\n",
              "\n",
              "  .colab-df-spinner {\n",
              "    border: 2px solid var(--fill-color);\n",
              "    border-color: transparent;\n",
              "    border-bottom-color: var(--fill-color);\n",
              "    animation:\n",
              "      spin 1s steps(1) infinite;\n",
              "  }\n",
              "\n",
              "  @keyframes spin {\n",
              "    0% {\n",
              "      border-color: transparent;\n",
              "      border-bottom-color: var(--fill-color);\n",
              "      border-left-color: var(--fill-color);\n",
              "    }\n",
              "    20% {\n",
              "      border-color: transparent;\n",
              "      border-left-color: var(--fill-color);\n",
              "      border-top-color: var(--fill-color);\n",
              "    }\n",
              "    30% {\n",
              "      border-color: transparent;\n",
              "      border-left-color: var(--fill-color);\n",
              "      border-top-color: var(--fill-color);\n",
              "      border-right-color: var(--fill-color);\n",
              "    }\n",
              "    40% {\n",
              "      border-color: transparent;\n",
              "      border-right-color: var(--fill-color);\n",
              "      border-top-color: var(--fill-color);\n",
              "    }\n",
              "    60% {\n",
              "      border-color: transparent;\n",
              "      border-right-color: var(--fill-color);\n",
              "    }\n",
              "    80% {\n",
              "      border-color: transparent;\n",
              "      border-right-color: var(--fill-color);\n",
              "      border-bottom-color: var(--fill-color);\n",
              "    }\n",
              "    90% {\n",
              "      border-color: transparent;\n",
              "      border-bottom-color: var(--fill-color);\n",
              "    }\n",
              "  }\n",
              "</style>\n",
              "\n",
              "  <script>\n",
              "    async function quickchart(key) {\n",
              "      const quickchartButtonEl =\n",
              "        document.querySelector('#' + key + ' button');\n",
              "      quickchartButtonEl.disabled = true;  // To prevent multiple clicks.\n",
              "      quickchartButtonEl.classList.add('colab-df-spinner');\n",
              "      try {\n",
              "        const charts = await google.colab.kernel.invokeFunction(\n",
              "            'suggestCharts', [key], {});\n",
              "      } catch (error) {\n",
              "        console.error('Error during call to suggestCharts:', error);\n",
              "      }\n",
              "      quickchartButtonEl.classList.remove('colab-df-spinner');\n",
              "      quickchartButtonEl.classList.add('colab-df-quickchart-complete');\n",
              "    }\n",
              "    (() => {\n",
              "      let quickchartButtonEl =\n",
              "        document.querySelector('#df-7ec4218c-e9ed-48fe-8431-36c57745834c button');\n",
              "      quickchartButtonEl.style.display =\n",
              "        google.colab.kernel.accessAllowed ? 'block' : 'none';\n",
              "    })();\n",
              "  </script>\n",
              "</div>\n",
              "    </div>\n",
              "  </div>\n"
            ],
            "application/vnd.google.colaboratory.intrinsic+json": {
              "type": "dataframe",
              "summary": "{\n  \"name\": \"dataset[['Question_body', 'question_scores', 'Answer_body', 'answer_scores']]\",\n  \"rows\": 5,\n  \"fields\": [\n    {\n      \"column\": \"Question_body\",\n      \"properties\": {\n        \"dtype\": \"string\",\n        \"num_unique_values\": 5,\n        \"samples\": [\n          \"I have some spring boot microservices and I want to use these microservices from a client application(front-end). If I use Spring MVC for designing the client side application, and from there, the client side application sends requests to the microservices REST APIs to use their services, is this a standard and correct solution?\\nI mean, designing the client side app using Spring MVC instead of frameworks like angular or react. But the main logic of the application resides in the spring boot microservices.\\n<a href=\\\"https://i.sstatic.net/BnByRPzu.png\\\" rel=\\\"nofollow noreferrer\\\">This image better shows the issue:</a>\\n\",\n          \"I am trying to learn AWS services, and now it is mainly focused on API Gateway.\\nI understand some benefits of API gateway as listed below.\\n\\nExpose service as REST endpoints\\nFeature like authentication and authorization\\nAbility to deploy multiple stages\\nThrottling options\\n\\nStill i am not sure whether we can use API Gateway Infront of some Kubernetes services we deployed in EKS.\\nFor instance, lets consider these services are some microservices in spring boot which responds to http requests, and contains some custom authentication/authorization mechanism using spring security.\\nDo we really need API Gateway endpoint Infront of such services? Also I would like to know what is standard/preferred way to create an infrastructure in AWS for such services.\\n\",\n          \"I'm trying to properly design an application according to clean architecture, but I'm struggling to determine on which layer (data/domain) to implement certain logic. In my application, there's a feature that displays data (user contacts) which can be either set locally in settings or retrieved through an API. Which version to show the user depends on other settings and the app's usage mode, for example, the API returns data, but the user has set a preference for using local data in the app's settings. On which layer should I implement the logic for choosing the data source?\\nLet's say there is a GetUserContactsUseCase in the domain.\\nThen, as I understand it, there are several approaches:\\n<strong>Approach 1</strong>\\nUserRepository, which contains 2 sources:\\nLocalData - contains all local settings, such as contact data and priority settings.\\nRemoteData - loads and caches data from the API.\\nGetUserContactsUseCase accesses RemoteData and LocalData (which apparently need to be renamed to RemoteDataRepository and LocalDataRepository), determines the priorities, and then fetches the data from them. The downside of this solution is that it seems the Repository should be determining the data source itself.\\n<strong>Approach 2</strong>\\nUserRepository independently determines the priority. This maintains encapsulation of layers, but in this case, UserRepository contains business logic that seems like it should be in a UseCase, not a repository. It is also not possible to call a UseCase from a repository. One solution seems to be writing a separate UseCase to determine the source of UserContacts and pass its result (e.g., UserContactFetchMode) to UserRepository. This UseCase still leads back to approach 1 as it will need the same LocalData and RemoteData.\\n<strong>Question:</strong>\\nPlease advise on the best way to organize this.\\nI'm not sure if it's relevant to my question, but I suspect there is some confusion in the level of function distribution among the Repositories themselves, for instance, instead of having a single LocalPreferences, it might be necessary to create several instances, like LocalUserData, LocalPreferencesData, etc.\\n\"\n        ],\n        \"semantic_type\": \"\",\n        \"description\": \"\"\n      }\n    },\n    {\n      \"column\": \"question_scores\",\n      \"properties\": {\n        \"dtype\": \"number\",\n        \"std\": 2.0014830212433605e-16,\n        \"min\": 0.9998365271733075,\n        \"max\": 0.999836527173308,\n        \"num_unique_values\": 3,\n        \"samples\": [\n          0.9998365271733077,\n          0.999836527173308,\n          0.9998365271733075\n        ],\n        \"semantic_type\": \"\",\n        \"description\": \"\"\n      }\n    },\n    {\n      \"column\": \"Answer_body\",\n      \"properties\": {\n        \"dtype\": \"string\",\n        \"num_unique_values\": 5,\n        \"samples\": [\n          \"<blockquote>\\ntl;dr: Spring MVC will not contradict what you are trying to do, but as a technology this is not the main scenario it was built for.\\n</blockquote>\\nFirst a short terminology clarification (a bit pedantic, but precision helps for the understanding):\\n\\nI think when you say &quot;Microservice&quot;, you mean &quot;<em>one</em> RESTful service, as part of your backend&quot;. The term &quot;<em>Microservices</em>&quot; is usually only used in plural, referring to the structural patter of having multiple REST services at interplay in a backend.\\n\\nCan / should you use Spring MVC for the scenario in mind?\\n\\nThe strong point of Spring MVC is a convenient exchange of variables between the static, server side created HTML pages (<strong>V</strong>) and the backend (<strong>C+M</strong>). E.g. a HTML form, where Spring MVC gives you convenient access to form fields, directly from your java code. The communication you describe (your frontend interacting with a REST API) is not part of this main Spring MVC purpose. However, Spring MVC is not per se ruling out the scenario you have in mind. HTML pages generated by Spring MVC may still contain code that fires requests to a REST API backend.\\n\\nHow is this usually done:\\n\\nThe communication of a web frontend with a REST backend usually works like this: Some JavaScript code, which is running on the client / frontend side issues <a href=\\\"https://developer.mozilla.org/en-US/docs/Web/API/Fetch_API/Using_Fetch\\\" rel=\\\"nofollow noreferrer\\\">fetch</a> calls to send HTTP requests to the RESTful service / backend. The Javascript code (or rather the page containing the JavaScript code) can be delivered from anywhere. It can be part of your Spring MVC application, but you do not need Spring MVC to deliver webpages.\\n\\n<blockquote>\\nConcerning your last question: You can of course use React etc on client side, to issue requests to the API. But basic JavaScript will perfectly get the job done. In fact, adding a huge client side framework might likely add unnecessary complexity. I'd go with simple basic technologies, unless you have a strong reason / need to add a client sided framework. Similarly, the logic residing on the backend is not tied to Spring MVC as a backend technology. Any basic REST API can encapsulate backend logic.\\n</blockquote>\\n\",\n          \"Short answer is: no, you don't have to but you probably should.\\nUsually, EKS would be deployed in a private VPC and, even if you can make it public in other ways, a VPC link from the API gateway and network/application load balancer is probably the safest way.\\nImagine the case where someone deploys an insecure service in EKS. If you expose the cluster, you risk having security issues. Again, there are ways to secure the Kubernetes cluster for those cases as well. It would also facilitate SSL (in addition to the feature you already listed).\\nI would say that you best practice in AWS would be to use API gateway for authentication and your micro services as resources where you check the auth (in Cognito f.ex.).\\nThat being said, that would make you project AWS dependent.\\nAlternative would be to implement your own gateway and security in your Kubernetes cluster which could be done with a service mesh like Istio or similar.\\nIn any cases, don't do security at the services level only. You can never assume that all services will be secured.\\n\",\n          \"Determining the source of the information is business logic, not data-access logic.  The logic does not belong in the Repository, it belongs in the UseCase.  Your repositories might return the same model, and even implement the same interfaces, but the fact that it needs to be selectable means you have business-logic involved which belongs in the UseCase.\\nBy moving the selection logic to the UseCase, you can let your repositories stay dumb, and only worry about the communication to their data-stores.\\nThis &quot;feels&quot; wrong as it seems like a separation-of-concerns issue, but it isn't.   They are different concerns BECAUSE they have the business logic to switch between them.  Put in an interface for RemoteUserContactsData and LocalUserContactsData and push the switching into the UseCase and it will become fairly obvious.\\n\"\n        ],\n        \"semantic_type\": \"\",\n        \"description\": \"\"\n      }\n    },\n    {\n      \"column\": \"answer_scores\",\n      \"properties\": {\n        \"dtype\": \"number\",\n        \"std\": 9.614813431917819e-17,\n        \"min\": 0.9998365271733074,\n        \"max\": 0.9998365271733076,\n        \"num_unique_values\": 3,\n        \"samples\": [\n          0.9998365271733074,\n          0.9998365271733076,\n          0.9998365271733075\n        ],\n        \"semantic_type\": \"\",\n        \"description\": \"\"\n      }\n    }\n  ]\n}"
            }
          },
          "metadata": {},
          "execution_count": 27
        }
      ]
    },
    {
      "cell_type": "markdown",
      "source": [
        "# Step 6: Summarize the Text"
      ],
      "metadata": {
        "id": "TgSYAZGu-rJu"
      }
    },
    {
      "cell_type": "code",
      "source": [
        "import spacy\n",
        "import pytextrank\n",
        "\n",
        "# Load spaCy model\n",
        "nlp = spacy.load(\"en_core_web_sm\")\n",
        "\n",
        "# Add PyTextRank to the spaCy pipeline\n",
        "nlp.add_pipe(\"textrank\")\n",
        "\n",
        "# Define a function to summarize text\n",
        "def summarize_text(text, limit_phrases=15, limit_sentences=3):\n",
        "    doc = nlp(text)\n",
        "    summary = \" \".join([sent.text for sent in doc._.textrank.summary(limit_phrases=limit_phrases, limit_sentences=limit_sentences)])\n",
        "    return summary\n",
        "\n",
        "# Apply summarization to 'Question_body' and 'Answer_body' columns\n",
        "dataset['question_summary'] = dataset['Question_body'].apply(lambda x: summarize_text(str(x)))\n",
        "dataset['answer_summary'] = dataset['Answer_body'].apply(lambda x: summarize_text(str(x)))\n",
        "\n",
        "# Display the first few rows with summaries\n",
        "dataset[['Question_body', 'question_summary', 'Answer_body', 'answer_summary']].head()\n"
      ],
      "metadata": {
        "colab": {
          "base_uri": "https://localhost:8080/",
          "height": 293
        },
        "id": "RBHgi_Lk-qgH",
        "outputId": "a4667bcd-961d-4add-831e-7e2f9514e332"
      },
      "execution_count": 28,
      "outputs": [
        {
          "output_type": "execute_result",
          "data": {
            "text/plain": [
              "                                       Question_body  \\\n",
              "0  Kinda new to AWS. I have this high-level quest...   \n",
              "1  I have some spring boot microservices and I wa...   \n",
              "2  I'm trying to properly design an application a...   \n",
              "3  I heard that for .NET8 Microsoft gifted us wit...   \n",
              "4  I am trying to learn AWS services, and now it ...   \n",
              "\n",
              "                                    question_summary  \\\n",
              "0  So thatâ€™s how Iâ€™d build it: React calls AP...   \n",
              "1  If I use Spring MVC for designing the client s...   \n",
              "2  Then, as I understand it, there are several ap...   \n",
              "3  There is the further complication that even if...   \n",
              "4  Expose service as REST endpoints\\nFeature like...   \n",
              "\n",
              "                                         Answer_body  \\\n",
              "0  You send a request, you get a response. In ord...   \n",
              "1  <blockquote>\\ntl;dr: Spring MVC will not contr...   \n",
              "2  Determining the source of the information is b...   \n",
              "3  I have always asked myself this very same ques...   \n",
              "4  Short answer is: no, you don't have to but you...   \n",
              "\n",
              "                                      answer_summary  \n",
              "0  Therefore it will be super-expensive compare t...  \n",
              "1  It can be part of your Spring MVC application,...  \n",
              "2  Your repositories might return the same model,...  \n",
              "3  The most challenging aspect here is to configu...  \n",
              "4  I would say that you best practice in AWS woul...  "
            ],
            "text/html": [
              "\n",
              "  <div id=\"df-6e39c267-648a-42fb-8ba1-1ac8d766ed8e\" class=\"colab-df-container\">\n",
              "    <div>\n",
              "<style scoped>\n",
              "    .dataframe tbody tr th:only-of-type {\n",
              "        vertical-align: middle;\n",
              "    }\n",
              "\n",
              "    .dataframe tbody tr th {\n",
              "        vertical-align: top;\n",
              "    }\n",
              "\n",
              "    .dataframe thead th {\n",
              "        text-align: right;\n",
              "    }\n",
              "</style>\n",
              "<table border=\"1\" class=\"dataframe\">\n",
              "  <thead>\n",
              "    <tr style=\"text-align: right;\">\n",
              "      <th></th>\n",
              "      <th>Question_body</th>\n",
              "      <th>question_summary</th>\n",
              "      <th>Answer_body</th>\n",
              "      <th>answer_summary</th>\n",
              "    </tr>\n",
              "  </thead>\n",
              "  <tbody>\n",
              "    <tr>\n",
              "      <th>0</th>\n",
              "      <td>Kinda new to AWS. I have this high-level quest...</td>\n",
              "      <td>So thatâ€™s how Iâ€™d build it: React calls AP...</td>\n",
              "      <td>You send a request, you get a response. In ord...</td>\n",
              "      <td>Therefore it will be super-expensive compare t...</td>\n",
              "    </tr>\n",
              "    <tr>\n",
              "      <th>1</th>\n",
              "      <td>I have some spring boot microservices and I wa...</td>\n",
              "      <td>If I use Spring MVC for designing the client s...</td>\n",
              "      <td>&lt;blockquote&gt;\\ntl;dr: Spring MVC will not contr...</td>\n",
              "      <td>It can be part of your Spring MVC application,...</td>\n",
              "    </tr>\n",
              "    <tr>\n",
              "      <th>2</th>\n",
              "      <td>I'm trying to properly design an application a...</td>\n",
              "      <td>Then, as I understand it, there are several ap...</td>\n",
              "      <td>Determining the source of the information is b...</td>\n",
              "      <td>Your repositories might return the same model,...</td>\n",
              "    </tr>\n",
              "    <tr>\n",
              "      <th>3</th>\n",
              "      <td>I heard that for .NET8 Microsoft gifted us wit...</td>\n",
              "      <td>There is the further complication that even if...</td>\n",
              "      <td>I have always asked myself this very same ques...</td>\n",
              "      <td>The most challenging aspect here is to configu...</td>\n",
              "    </tr>\n",
              "    <tr>\n",
              "      <th>4</th>\n",
              "      <td>I am trying to learn AWS services, and now it ...</td>\n",
              "      <td>Expose service as REST endpoints\\nFeature like...</td>\n",
              "      <td>Short answer is: no, you don't have to but you...</td>\n",
              "      <td>I would say that you best practice in AWS woul...</td>\n",
              "    </tr>\n",
              "  </tbody>\n",
              "</table>\n",
              "</div>\n",
              "    <div class=\"colab-df-buttons\">\n",
              "\n",
              "  <div class=\"colab-df-container\">\n",
              "    <button class=\"colab-df-convert\" onclick=\"convertToInteractive('df-6e39c267-648a-42fb-8ba1-1ac8d766ed8e')\"\n",
              "            title=\"Convert this dataframe to an interactive table.\"\n",
              "            style=\"display:none;\">\n",
              "\n",
              "  <svg xmlns=\"http://www.w3.org/2000/svg\" height=\"24px\" viewBox=\"0 -960 960 960\">\n",
              "    <path d=\"M120-120v-720h720v720H120Zm60-500h600v-160H180v160Zm220 220h160v-160H400v160Zm0 220h160v-160H400v160ZM180-400h160v-160H180v160Zm440 0h160v-160H620v160ZM180-180h160v-160H180v160Zm440 0h160v-160H620v160Z\"/>\n",
              "  </svg>\n",
              "    </button>\n",
              "\n",
              "  <style>\n",
              "    .colab-df-container {\n",
              "      display:flex;\n",
              "      gap: 12px;\n",
              "    }\n",
              "\n",
              "    .colab-df-convert {\n",
              "      background-color: #E8F0FE;\n",
              "      border: none;\n",
              "      border-radius: 50%;\n",
              "      cursor: pointer;\n",
              "      display: none;\n",
              "      fill: #1967D2;\n",
              "      height: 32px;\n",
              "      padding: 0 0 0 0;\n",
              "      width: 32px;\n",
              "    }\n",
              "\n",
              "    .colab-df-convert:hover {\n",
              "      background-color: #E2EBFA;\n",
              "      box-shadow: 0px 1px 2px rgba(60, 64, 67, 0.3), 0px 1px 3px 1px rgba(60, 64, 67, 0.15);\n",
              "      fill: #174EA6;\n",
              "    }\n",
              "\n",
              "    .colab-df-buttons div {\n",
              "      margin-bottom: 4px;\n",
              "    }\n",
              "\n",
              "    [theme=dark] .colab-df-convert {\n",
              "      background-color: #3B4455;\n",
              "      fill: #D2E3FC;\n",
              "    }\n",
              "\n",
              "    [theme=dark] .colab-df-convert:hover {\n",
              "      background-color: #434B5C;\n",
              "      box-shadow: 0px 1px 3px 1px rgba(0, 0, 0, 0.15);\n",
              "      filter: drop-shadow(0px 1px 2px rgba(0, 0, 0, 0.3));\n",
              "      fill: #FFFFFF;\n",
              "    }\n",
              "  </style>\n",
              "\n",
              "    <script>\n",
              "      const buttonEl =\n",
              "        document.querySelector('#df-6e39c267-648a-42fb-8ba1-1ac8d766ed8e button.colab-df-convert');\n",
              "      buttonEl.style.display =\n",
              "        google.colab.kernel.accessAllowed ? 'block' : 'none';\n",
              "\n",
              "      async function convertToInteractive(key) {\n",
              "        const element = document.querySelector('#df-6e39c267-648a-42fb-8ba1-1ac8d766ed8e');\n",
              "        const dataTable =\n",
              "          await google.colab.kernel.invokeFunction('convertToInteractive',\n",
              "                                                    [key], {});\n",
              "        if (!dataTable) return;\n",
              "\n",
              "        const docLinkHtml = 'Like what you see? Visit the ' +\n",
              "          '<a target=\"_blank\" href=https://colab.research.google.com/notebooks/data_table.ipynb>data table notebook</a>'\n",
              "          + ' to learn more about interactive tables.';\n",
              "        element.innerHTML = '';\n",
              "        dataTable['output_type'] = 'display_data';\n",
              "        await google.colab.output.renderOutput(dataTable, element);\n",
              "        const docLink = document.createElement('div');\n",
              "        docLink.innerHTML = docLinkHtml;\n",
              "        element.appendChild(docLink);\n",
              "      }\n",
              "    </script>\n",
              "  </div>\n",
              "\n",
              "\n",
              "<div id=\"df-fe7b386f-171e-4edc-9203-5f817cf29fac\">\n",
              "  <button class=\"colab-df-quickchart\" onclick=\"quickchart('df-fe7b386f-171e-4edc-9203-5f817cf29fac')\"\n",
              "            title=\"Suggest charts\"\n",
              "            style=\"display:none;\">\n",
              "\n",
              "<svg xmlns=\"http://www.w3.org/2000/svg\" height=\"24px\"viewBox=\"0 0 24 24\"\n",
              "     width=\"24px\">\n",
              "    <g>\n",
              "        <path d=\"M19 3H5c-1.1 0-2 .9-2 2v14c0 1.1.9 2 2 2h14c1.1 0 2-.9 2-2V5c0-1.1-.9-2-2-2zM9 17H7v-7h2v7zm4 0h-2V7h2v10zm4 0h-2v-4h2v4z\"/>\n",
              "    </g>\n",
              "</svg>\n",
              "  </button>\n",
              "\n",
              "<style>\n",
              "  .colab-df-quickchart {\n",
              "      --bg-color: #E8F0FE;\n",
              "      --fill-color: #1967D2;\n",
              "      --hover-bg-color: #E2EBFA;\n",
              "      --hover-fill-color: #174EA6;\n",
              "      --disabled-fill-color: #AAA;\n",
              "      --disabled-bg-color: #DDD;\n",
              "  }\n",
              "\n",
              "  [theme=dark] .colab-df-quickchart {\n",
              "      --bg-color: #3B4455;\n",
              "      --fill-color: #D2E3FC;\n",
              "      --hover-bg-color: #434B5C;\n",
              "      --hover-fill-color: #FFFFFF;\n",
              "      --disabled-bg-color: #3B4455;\n",
              "      --disabled-fill-color: #666;\n",
              "  }\n",
              "\n",
              "  .colab-df-quickchart {\n",
              "    background-color: var(--bg-color);\n",
              "    border: none;\n",
              "    border-radius: 50%;\n",
              "    cursor: pointer;\n",
              "    display: none;\n",
              "    fill: var(--fill-color);\n",
              "    height: 32px;\n",
              "    padding: 0;\n",
              "    width: 32px;\n",
              "  }\n",
              "\n",
              "  .colab-df-quickchart:hover {\n",
              "    background-color: var(--hover-bg-color);\n",
              "    box-shadow: 0 1px 2px rgba(60, 64, 67, 0.3), 0 1px 3px 1px rgba(60, 64, 67, 0.15);\n",
              "    fill: var(--button-hover-fill-color);\n",
              "  }\n",
              "\n",
              "  .colab-df-quickchart-complete:disabled,\n",
              "  .colab-df-quickchart-complete:disabled:hover {\n",
              "    background-color: var(--disabled-bg-color);\n",
              "    fill: var(--disabled-fill-color);\n",
              "    box-shadow: none;\n",
              "  }\n",
              "\n",
              "  .colab-df-spinner {\n",
              "    border: 2px solid var(--fill-color);\n",
              "    border-color: transparent;\n",
              "    border-bottom-color: var(--fill-color);\n",
              "    animation:\n",
              "      spin 1s steps(1) infinite;\n",
              "  }\n",
              "\n",
              "  @keyframes spin {\n",
              "    0% {\n",
              "      border-color: transparent;\n",
              "      border-bottom-color: var(--fill-color);\n",
              "      border-left-color: var(--fill-color);\n",
              "    }\n",
              "    20% {\n",
              "      border-color: transparent;\n",
              "      border-left-color: var(--fill-color);\n",
              "      border-top-color: var(--fill-color);\n",
              "    }\n",
              "    30% {\n",
              "      border-color: transparent;\n",
              "      border-left-color: var(--fill-color);\n",
              "      border-top-color: var(--fill-color);\n",
              "      border-right-color: var(--fill-color);\n",
              "    }\n",
              "    40% {\n",
              "      border-color: transparent;\n",
              "      border-right-color: var(--fill-color);\n",
              "      border-top-color: var(--fill-color);\n",
              "    }\n",
              "    60% {\n",
              "      border-color: transparent;\n",
              "      border-right-color: var(--fill-color);\n",
              "    }\n",
              "    80% {\n",
              "      border-color: transparent;\n",
              "      border-right-color: var(--fill-color);\n",
              "      border-bottom-color: var(--fill-color);\n",
              "    }\n",
              "    90% {\n",
              "      border-color: transparent;\n",
              "      border-bottom-color: var(--fill-color);\n",
              "    }\n",
              "  }\n",
              "</style>\n",
              "\n",
              "  <script>\n",
              "    async function quickchart(key) {\n",
              "      const quickchartButtonEl =\n",
              "        document.querySelector('#' + key + ' button');\n",
              "      quickchartButtonEl.disabled = true;  // To prevent multiple clicks.\n",
              "      quickchartButtonEl.classList.add('colab-df-spinner');\n",
              "      try {\n",
              "        const charts = await google.colab.kernel.invokeFunction(\n",
              "            'suggestCharts', [key], {});\n",
              "      } catch (error) {\n",
              "        console.error('Error during call to suggestCharts:', error);\n",
              "      }\n",
              "      quickchartButtonEl.classList.remove('colab-df-spinner');\n",
              "      quickchartButtonEl.classList.add('colab-df-quickchart-complete');\n",
              "    }\n",
              "    (() => {\n",
              "      let quickchartButtonEl =\n",
              "        document.querySelector('#df-fe7b386f-171e-4edc-9203-5f817cf29fac button');\n",
              "      quickchartButtonEl.style.display =\n",
              "        google.colab.kernel.accessAllowed ? 'block' : 'none';\n",
              "    })();\n",
              "  </script>\n",
              "</div>\n",
              "    </div>\n",
              "  </div>\n"
            ],
            "application/vnd.google.colaboratory.intrinsic+json": {
              "type": "dataframe",
              "summary": "{\n  \"name\": \"dataset[['Question_body', 'question_summary', 'Answer_body', 'answer_summary']]\",\n  \"rows\": 5,\n  \"fields\": [\n    {\n      \"column\": \"Question_body\",\n      \"properties\": {\n        \"dtype\": \"string\",\n        \"num_unique_values\": 5,\n        \"samples\": [\n          \"I have some spring boot microservices and I want to use these microservices from a client application(front-end). If I use Spring MVC for designing the client side application, and from there, the client side application sends requests to the microservices REST APIs to use their services, is this a standard and correct solution?\\nI mean, designing the client side app using Spring MVC instead of frameworks like angular or react. But the main logic of the application resides in the spring boot microservices.\\n<a href=\\\"https://i.sstatic.net/BnByRPzu.png\\\" rel=\\\"nofollow noreferrer\\\">This image better shows the issue:</a>\\n\",\n          \"I am trying to learn AWS services, and now it is mainly focused on API Gateway.\\nI understand some benefits of API gateway as listed below.\\n\\nExpose service as REST endpoints\\nFeature like authentication and authorization\\nAbility to deploy multiple stages\\nThrottling options\\n\\nStill i am not sure whether we can use API Gateway Infront of some Kubernetes services we deployed in EKS.\\nFor instance, lets consider these services are some microservices in spring boot which responds to http requests, and contains some custom authentication/authorization mechanism using spring security.\\nDo we really need API Gateway endpoint Infront of such services? Also I would like to know what is standard/preferred way to create an infrastructure in AWS for such services.\\n\",\n          \"I'm trying to properly design an application according to clean architecture, but I'm struggling to determine on which layer (data/domain) to implement certain logic. In my application, there's a feature that displays data (user contacts) which can be either set locally in settings or retrieved through an API. Which version to show the user depends on other settings and the app's usage mode, for example, the API returns data, but the user has set a preference for using local data in the app's settings. On which layer should I implement the logic for choosing the data source?\\nLet's say there is a GetUserContactsUseCase in the domain.\\nThen, as I understand it, there are several approaches:\\n<strong>Approach 1</strong>\\nUserRepository, which contains 2 sources:\\nLocalData - contains all local settings, such as contact data and priority settings.\\nRemoteData - loads and caches data from the API.\\nGetUserContactsUseCase accesses RemoteData and LocalData (which apparently need to be renamed to RemoteDataRepository and LocalDataRepository), determines the priorities, and then fetches the data from them. The downside of this solution is that it seems the Repository should be determining the data source itself.\\n<strong>Approach 2</strong>\\nUserRepository independently determines the priority. This maintains encapsulation of layers, but in this case, UserRepository contains business logic that seems like it should be in a UseCase, not a repository. It is also not possible to call a UseCase from a repository. One solution seems to be writing a separate UseCase to determine the source of UserContacts and pass its result (e.g., UserContactFetchMode) to UserRepository. This UseCase still leads back to approach 1 as it will need the same LocalData and RemoteData.\\n<strong>Question:</strong>\\nPlease advise on the best way to organize this.\\nI'm not sure if it's relevant to my question, but I suspect there is some confusion in the level of function distribution among the Repositories themselves, for instance, instead of having a single LocalPreferences, it might be necessary to create several instances, like LocalUserData, LocalPreferencesData, etc.\\n\"\n        ],\n        \"semantic_type\": \"\",\n        \"description\": \"\"\n      }\n    },\n    {\n      \"column\": \"question_summary\",\n      \"properties\": {\n        \"dtype\": \"string\",\n        \"num_unique_values\": 5,\n        \"samples\": [\n          \"If I use Spring MVC for designing the client side application, and from there, the client side application sends requests to the microservices REST APIs to use their services, is this a standard and correct solution?\\nI mean, designing the client side app using Spring MVC instead of frameworks like angular or react. But the main logic of the application resides in the spring boot microservices.\\n I have some spring boot microservices and I want to use these microservices from a client application(front-end).\",\n          \"Expose service as REST endpoints\\nFeature like authentication and authorization\\nAbility to deploy multiple stages\\nThrottling options\\n\\nStill i am not sure whether we can use API Gateway Infront of some Kubernetes services we deployed in EKS.\\n Do we really need API Gateway endpoint Infront of such services? For instance, lets consider these services are some microservices in spring boot which responds to http requests, and contains some custom authentication/authorization mechanism using spring security.\\n\",\n          \"Then, as I understand it, there are several approaches:\\n<strong>Approach 1</strong>\\nUserRepository, which contains 2 sources:\\nLocalData - contains all local settings, such as contact data and priority settings.\\n Which version to show the user depends on other settings and the app's usage mode, for example, the API returns data, but the user has set a preference for using local data in the app's settings. This maintains encapsulation of layers, but in this case, UserRepository contains business logic that seems like it should be in a UseCase, not a repository.\"\n        ],\n        \"semantic_type\": \"\",\n        \"description\": \"\"\n      }\n    },\n    {\n      \"column\": \"Answer_body\",\n      \"properties\": {\n        \"dtype\": \"string\",\n        \"num_unique_values\": 5,\n        \"samples\": [\n          \"<blockquote>\\ntl;dr: Spring MVC will not contradict what you are trying to do, but as a technology this is not the main scenario it was built for.\\n</blockquote>\\nFirst a short terminology clarification (a bit pedantic, but precision helps for the understanding):\\n\\nI think when you say &quot;Microservice&quot;, you mean &quot;<em>one</em> RESTful service, as part of your backend&quot;. The term &quot;<em>Microservices</em>&quot; is usually only used in plural, referring to the structural patter of having multiple REST services at interplay in a backend.\\n\\nCan / should you use Spring MVC for the scenario in mind?\\n\\nThe strong point of Spring MVC is a convenient exchange of variables between the static, server side created HTML pages (<strong>V</strong>) and the backend (<strong>C+M</strong>). E.g. a HTML form, where Spring MVC gives you convenient access to form fields, directly from your java code. The communication you describe (your frontend interacting with a REST API) is not part of this main Spring MVC purpose. However, Spring MVC is not per se ruling out the scenario you have in mind. HTML pages generated by Spring MVC may still contain code that fires requests to a REST API backend.\\n\\nHow is this usually done:\\n\\nThe communication of a web frontend with a REST backend usually works like this: Some JavaScript code, which is running on the client / frontend side issues <a href=\\\"https://developer.mozilla.org/en-US/docs/Web/API/Fetch_API/Using_Fetch\\\" rel=\\\"nofollow noreferrer\\\">fetch</a> calls to send HTTP requests to the RESTful service / backend. The Javascript code (or rather the page containing the JavaScript code) can be delivered from anywhere. It can be part of your Spring MVC application, but you do not need Spring MVC to deliver webpages.\\n\\n<blockquote>\\nConcerning your last question: You can of course use React etc on client side, to issue requests to the API. But basic JavaScript will perfectly get the job done. In fact, adding a huge client side framework might likely add unnecessary complexity. I'd go with simple basic technologies, unless you have a strong reason / need to add a client sided framework. Similarly, the logic residing on the backend is not tied to Spring MVC as a backend technology. Any basic REST API can encapsulate backend logic.\\n</blockquote>\\n\",\n          \"Short answer is: no, you don't have to but you probably should.\\nUsually, EKS would be deployed in a private VPC and, even if you can make it public in other ways, a VPC link from the API gateway and network/application load balancer is probably the safest way.\\nImagine the case where someone deploys an insecure service in EKS. If you expose the cluster, you risk having security issues. Again, there are ways to secure the Kubernetes cluster for those cases as well. It would also facilitate SSL (in addition to the feature you already listed).\\nI would say that you best practice in AWS would be to use API gateway for authentication and your micro services as resources where you check the auth (in Cognito f.ex.).\\nThat being said, that would make you project AWS dependent.\\nAlternative would be to implement your own gateway and security in your Kubernetes cluster which could be done with a service mesh like Istio or similar.\\nIn any cases, don't do security at the services level only. You can never assume that all services will be secured.\\n\",\n          \"Determining the source of the information is business logic, not data-access logic.  The logic does not belong in the Repository, it belongs in the UseCase.  Your repositories might return the same model, and even implement the same interfaces, but the fact that it needs to be selectable means you have business-logic involved which belongs in the UseCase.\\nBy moving the selection logic to the UseCase, you can let your repositories stay dumb, and only worry about the communication to their data-stores.\\nThis &quot;feels&quot; wrong as it seems like a separation-of-concerns issue, but it isn't.   They are different concerns BECAUSE they have the business logic to switch between them.  Put in an interface for RemoteUserContactsData and LocalUserContactsData and push the switching into the UseCase and it will become fairly obvious.\\n\"\n        ],\n        \"semantic_type\": \"\",\n        \"description\": \"\"\n      }\n    },\n    {\n      \"column\": \"answer_summary\",\n      \"properties\": {\n        \"dtype\": \"string\",\n        \"num_unique_values\": 5,\n        \"samples\": [\n          \"It can be part of your Spring MVC application, but you do not need Spring MVC to deliver webpages.\\n\\n The strong point of Spring MVC is a convenient exchange of variables between the static, server side created HTML pages (<strong>V</strong>) and the backend (<strong>C+M</strong>). HTML pages generated by Spring MVC may still contain code that fires requests to a REST API backend.\\n\\n\",\n          \"I would say that you best practice in AWS would be to use API gateway for authentication and your micro services as resources where you check the auth (in Cognito f.ex.).\\n Usually, EKS would be deployed in a private VPC and, even if you can make it public in other ways, a VPC link from the API gateway and network/application load balancer is probably the safest way.\\n Alternative would be to implement your own gateway and security in your Kubernetes cluster which could be done with a service mesh like Istio or similar.\\n\",\n          \"Your repositories might return the same model, and even implement the same interfaces, but the fact that it needs to be selectable means you have business-logic involved which belongs in the UseCase.\\n Determining the source of the information is business logic, not data-access logic.   Put in an interface for RemoteUserContactsData and LocalUserContactsData and push the switching into the UseCase and it will become fairly obvious.\\n\"\n        ],\n        \"semantic_type\": \"\",\n        \"description\": \"\"\n      }\n    }\n  ]\n}"
            }
          },
          "metadata": {},
          "execution_count": 28
        }
      ]
    },
    {
      "cell_type": "markdown",
      "source": [
        "# Step 7: Save the Output"
      ],
      "metadata": {
        "id": "1ShyzPLZ_rWu"
      }
    },
    {
      "cell_type": "code",
      "source": [
        "# Save the dataset with summaries to a new Excel file\n",
        "output_path = '/content/DataSamplePilot_with_summaries.xlsx'  # Update with the correct path if necessary\n",
        "dataset.to_excel(output_path, index=False)\n",
        "print(f\"Dataset saved to {output_path}\")\n"
      ],
      "metadata": {
        "colab": {
          "base_uri": "https://localhost:8080/"
        },
        "id": "76NIyc4r7S1G",
        "outputId": "66c9f4fb-0316-4d29-f97e-6e8746cd45cc"
      },
      "execution_count": 29,
      "outputs": [
        {
          "output_type": "stream",
          "name": "stdout",
          "text": [
            "Dataset saved to /content/DataSamplePilot_with_summaries.xlsx\n"
          ]
        }
      ]
    },
    {
      "cell_type": "code",
      "source": [],
      "metadata": {
        "id": "FWa8R2g97Sy2"
      },
      "execution_count": null,
      "outputs": []
    },
    {
      "cell_type": "code",
      "source": [],
      "metadata": {
        "id": "1oGOTD6L7Svf"
      },
      "execution_count": null,
      "outputs": []
    }
  ]
}