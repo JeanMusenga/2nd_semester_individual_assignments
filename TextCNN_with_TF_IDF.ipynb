{
  "nbformat": 4,
  "nbformat_minor": 0,
  "metadata": {
    "colab": {
      "provenance": [],
      "toc_visible": true,
      "authorship_tag": "ABX9TyNsU90SmIMysrVcUFhbeX1+",
      "include_colab_link": true
    },
    "kernelspec": {
      "name": "python3",
      "display_name": "Python 3"
    },
    "language_info": {
      "name": "python"
    }
  },
  "cells": [
    {
      "cell_type": "markdown",
      "metadata": {
        "id": "view-in-github",
        "colab_type": "text"
      },
      "source": [
        "<a href=\"https://colab.research.google.com/github/JeanMusenga/PhD-Thesis_2024_Musenga/blob/main/TextCNN_with_TF_IDF.ipynb\" target=\"_parent\"><img src=\"https://colab.research.google.com/assets/colab-badge.svg\" alt=\"Open In Colab\"/></a>"
      ]
    },
    {
      "cell_type": "markdown",
      "source": [
        "https://chatgpt.com/share/6b20ab3c-04a2-4b5b-b39b-6531835e3571"
      ],
      "metadata": {
        "id": "obTaIePDvcrg"
      }
    },
    {
      "cell_type": "code",
      "source": [
        "pip install tensorflow"
      ],
      "metadata": {
        "id": "-4tMggkBn46Y"
      },
      "execution_count": null,
      "outputs": []
    },
    {
      "cell_type": "code",
      "execution_count": 3,
      "metadata": {
        "id": "wB3oAsLonvYh"
      },
      "outputs": [],
      "source": [
        "import numpy as np\n",
        "import pandas as pd\n",
        "import tensorflow as tf\n",
        "from tensorflow.keras.models import Model\n",
        "from tensorflow.keras.layers import Input, Embedding, Conv1D, MaxPooling1D, Flatten, Dense, Dropout, concatenate\n",
        "from tensorflow.keras.preprocessing.text import Tokenizer\n",
        "from tensorflow.keras.preprocessing.sequence import pad_sequences\n",
        "from sklearn.model_selection import train_test_split\n",
        "from sklearn.preprocessing import LabelEncoder"
      ]
    },
    {
      "cell_type": "code",
      "source": [
        "file_path = './saved_file'\n",
        "file_path = ('ARPs_and_ProgrammingPosts.xlsx')\n",
        "\n",
        "data = pd.read_excel(file_path)\n"
      ],
      "metadata": {
        "id": "Wt7TqFW0n43h"
      },
      "execution_count": 5,
      "outputs": []
    },
    {
      "cell_type": "markdown",
      "source": [
        "# Preprocess the data"
      ],
      "metadata": {
        "id": "EBcqgCzKvkmx"
      }
    },
    {
      "cell_type": "code",
      "source": [
        "# Preprocess the data\n",
        "X = data['Question_body']\n",
        "y = data['Label']"
      ],
      "metadata": {
        "id": "HEDePz7Hn41B"
      },
      "execution_count": 6,
      "outputs": []
    },
    {
      "cell_type": "code",
      "source": [
        "# Encode labels\n",
        "label_encoder = LabelEncoder()\n",
        "y_encoded = label_encoder.fit_transform(y)"
      ],
      "metadata": {
        "id": "_e8p6jv0n4yZ"
      },
      "execution_count": 7,
      "outputs": []
    },
    {
      "cell_type": "code",
      "source": [
        "# Split the data into training and testing sets\n",
        "X_train, X_test, y_train, y_test = train_test_split(X, y_encoded, test_size=0.2, random_state=42)\n"
      ],
      "metadata": {
        "id": "xr-0D9zjn4v5"
      },
      "execution_count": 8,
      "outputs": []
    },
    {
      "cell_type": "code",
      "source": [
        "# Parameters\n",
        "vocab_size = 5000\n",
        "embedding_dim = 100\n",
        "max_length = 500\n",
        "trunc_type = 'post'\n",
        "padding_type = 'post'\n"
      ],
      "metadata": {
        "id": "_WzGrfDOn4tp"
      },
      "execution_count": 9,
      "outputs": []
    },
    {
      "cell_type": "code",
      "source": [
        "# Tokenize the data\n",
        "tokenizer = Tokenizer(num_words=vocab_size, oov_token='<OOV>')\n",
        "tokenizer.fit_on_texts(X_train)\n",
        "X_train_seq = tokenizer.texts_to_sequences(X_train)\n",
        "X_test_seq = tokenizer.texts_to_sequences(X_test)\n"
      ],
      "metadata": {
        "id": "nYYfVqOHn4rR"
      },
      "execution_count": 10,
      "outputs": []
    },
    {
      "cell_type": "code",
      "source": [
        "# Pad the sequences\n",
        "X_train_padded = pad_sequences(X_train_seq, maxlen=max_length, padding=padding_type, truncating=trunc_type)\n",
        "X_test_padded = pad_sequences(X_test_seq, maxlen=max_length, padding=padding_type, truncating=trunc_type)\n"
      ],
      "metadata": {
        "id": "JVkznUi7n4o5"
      },
      "execution_count": 11,
      "outputs": []
    },
    {
      "cell_type": "markdown",
      "source": [
        "# TextCNN model"
      ],
      "metadata": {
        "id": "JJhC6kMCvqEv"
      }
    },
    {
      "cell_type": "code",
      "source": [
        "# TextCNN model\n",
        "def create_text_cnn_model(vocab_size, embedding_dim, max_length):\n",
        "    inputs = Input(shape=(max_length,))\n",
        "    embedding = Embedding(vocab_size, embedding_dim, input_length=max_length)(inputs)\n",
        "\n",
        "    conv1 = Conv1D(128, 3, activation='relu')(embedding)\n",
        "    pool1 = MaxPooling1D(pool_size=2)(conv1)\n",
        "\n",
        "    conv2 = Conv1D(128, 4, activation='relu')(embedding)\n",
        "    pool2 = MaxPooling1D(pool_size=2)(conv2)\n",
        "\n",
        "    conv3 = Conv1D(128, 5, activation='relu')(embedding)\n",
        "    pool3 = MaxPooling1D(pool_size=2)(conv3)\n",
        "\n",
        "    concatenated = concatenate([pool1, pool2, pool3], axis=1)\n",
        "    flatten = Flatten()(concatenated)\n",
        "    dense1 = Dense(128, activation='relu')(flatten)\n",
        "    dropout = Dropout(0.5)(dense1)\n",
        "    outputs = Dense(1, activation='sigmoid')(dropout)\n",
        "\n",
        "    model = Model(inputs=inputs, outputs=outputs)\n",
        "    model.compile(loss='binary_crossentropy', optimizer='adam', metrics=['accuracy'])\n",
        "\n",
        "    return model"
      ],
      "metadata": {
        "id": "bB5IszL4n4mR"
      },
      "execution_count": 12,
      "outputs": []
    },
    {
      "cell_type": "markdown",
      "source": [
        "# Create the model"
      ],
      "metadata": {
        "id": "AcNok9hCvtxg"
      }
    },
    {
      "cell_type": "code",
      "source": [
        "# Create the model\n",
        "text_cnn_model = create_text_cnn_model(vocab_size, embedding_dim, max_length)"
      ],
      "metadata": {
        "id": "YDFinR7HuM2B"
      },
      "execution_count": 13,
      "outputs": []
    },
    {
      "cell_type": "markdown",
      "source": [
        "# Display the model summary"
      ],
      "metadata": {
        "id": "QbpqYiKuvzuH"
      }
    },
    {
      "cell_type": "code",
      "source": [
        "# Display the model summary\n",
        "text_cnn_model.summary()"
      ],
      "metadata": {
        "id": "AUsxCJ2wuMzq"
      },
      "execution_count": null,
      "outputs": []
    },
    {
      "cell_type": "markdown",
      "source": [
        "# Train the model"
      ],
      "metadata": {
        "id": "Q4jMx06gv1me"
      }
    },
    {
      "cell_type": "code",
      "source": [
        "# Train the model\n",
        "history = text_cnn_model.fit(X_train_padded, y_train, epochs=10, batch_size=32, validation_data=(X_test_padded, y_test))\n",
        "\n",
        "# Evaluate the model\n",
        "loss, accuracy = text_cnn_model.evaluate(X_test_padded, y_test)\n",
        "print(f'Test Accuracy: {accuracy}')"
      ],
      "metadata": {
        "colab": {
          "base_uri": "https://localhost:8080/"
        },
        "id": "swqwTC_luMxp",
        "outputId": "3fb9d182-3aa4-479b-8c9e-0d9922b58be5"
      },
      "execution_count": 15,
      "outputs": [
        {
          "output_type": "stream",
          "name": "stdout",
          "text": [
            "Epoch 1/10\n",
            "374/374 [==============================] - 254s 674ms/step - loss: 0.1704 - accuracy: 0.9421 - val_loss: 0.1088 - val_accuracy: 0.9672\n",
            "Epoch 2/10\n",
            "374/374 [==============================] - 249s 667ms/step - loss: 0.0693 - accuracy: 0.9802 - val_loss: 0.1205 - val_accuracy: 0.9672\n",
            "Epoch 3/10\n",
            "374/374 [==============================] - 250s 668ms/step - loss: 0.0389 - accuracy: 0.9877 - val_loss: 0.1599 - val_accuracy: 0.9675\n",
            "Epoch 4/10\n",
            "374/374 [==============================] - 251s 672ms/step - loss: 0.0239 - accuracy: 0.9910 - val_loss: 0.2187 - val_accuracy: 0.9648\n",
            "Epoch 5/10\n",
            "374/374 [==============================] - 251s 670ms/step - loss: 0.0120 - accuracy: 0.9956 - val_loss: 0.2961 - val_accuracy: 0.9602\n",
            "Epoch 6/10\n",
            "374/374 [==============================] - 252s 673ms/step - loss: 0.0251 - accuracy: 0.9931 - val_loss: 0.2787 - val_accuracy: 0.9588\n",
            "Epoch 7/10\n",
            "374/374 [==============================] - 242s 645ms/step - loss: 0.0134 - accuracy: 0.9972 - val_loss: 0.3696 - val_accuracy: 0.9652\n",
            "Epoch 8/10\n",
            "374/374 [==============================] - 252s 675ms/step - loss: 0.0091 - accuracy: 0.9971 - val_loss: 0.4398 - val_accuracy: 0.9618\n",
            "Epoch 9/10\n",
            "374/374 [==============================] - 252s 675ms/step - loss: 0.0082 - accuracy: 0.9980 - val_loss: 0.4634 - val_accuracy: 0.9622\n",
            "Epoch 10/10\n",
            "374/374 [==============================] - 252s 673ms/step - loss: 0.0052 - accuracy: 0.9990 - val_loss: 0.4685 - val_accuracy: 0.9632\n",
            "94/94 [==============================] - 13s 136ms/step - loss: 0.4685 - accuracy: 0.9632\n",
            "Test Accuracy: 0.9631737470626831\n"
          ]
        }
      ]
    },
    {
      "cell_type": "markdown",
      "source": [
        "# Predict on new data"
      ],
      "metadata": {
        "id": "yLcpOH8yv_Vv"
      }
    },
    {
      "cell_type": "code",
      "source": [
        "# Predict on new data\n",
        "y_pred = text_cnn_model.predict(X_test_padded)\n",
        "y_pred_classes = (y_pred > 0.5).astype(\"int32\")"
      ],
      "metadata": {
        "colab": {
          "base_uri": "https://localhost:8080/"
        },
        "id": "bmFOVmAAuMu6",
        "outputId": "891932c8-ebb4-43be-ed89-0a295ce8d1c9"
      },
      "execution_count": 16,
      "outputs": [
        {
          "metadata": {
            "tags": null
          },
          "name": "stdout",
          "output_type": "stream",
          "text": [
            "94/94 [==============================] - 27s 287ms/step\n"
          ]
        }
      ]
    },
    {
      "cell_type": "markdown",
      "source": [
        "# Evaluate predictions"
      ],
      "metadata": {
        "id": "laEZXeaNv6PW"
      }
    },
    {
      "cell_type": "code",
      "source": [
        "# Evaluate predictions\n",
        "from sklearn.metrics import classification_report\n",
        "\n",
        "report = classification_report(y_test, y_pred_classes)\n",
        "print(report)"
      ],
      "metadata": {
        "colab": {
          "base_uri": "https://localhost:8080/"
        },
        "id": "aWfrkzOIuMqZ",
        "outputId": "a4512d64-9f35-4036-95e5-b3dfa3dcd901"
      },
      "execution_count": 17,
      "outputs": [
        {
          "output_type": "stream",
          "name": "stdout",
          "text": [
            "              precision    recall  f1-score   support\n",
            "\n",
            "           0       0.98      0.95      0.96      1504\n",
            "           1       0.95      0.98      0.96      1483\n",
            "\n",
            "    accuracy                           0.96      2987\n",
            "   macro avg       0.96      0.96      0.96      2987\n",
            "weighted avg       0.96      0.96      0.96      2987\n",
            "\n"
          ]
        }
      ]
    },
    {
      "cell_type": "code",
      "source": [],
      "metadata": {
        "id": "w_i7HnjAuMdx"
      },
      "execution_count": null,
      "outputs": []
    }
  ]
}