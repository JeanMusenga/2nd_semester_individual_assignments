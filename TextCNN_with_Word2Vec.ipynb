{
  "nbformat": 4,
  "nbformat_minor": 0,
  "metadata": {
    "colab": {
      "provenance": [],
      "authorship_tag": "ABX9TyOnjwEmcNJC13M+r5YFs7eL",
      "include_colab_link": true
    },
    "kernelspec": {
      "name": "python3",
      "display_name": "Python 3"
    },
    "language_info": {
      "name": "python"
    }
  },
  "cells": [
    {
      "cell_type": "markdown",
      "metadata": {
        "id": "view-in-github",
        "colab_type": "text"
      },
      "source": [
        "<a href=\"https://colab.research.google.com/github/JeanMusenga/PhD-Thesis_2024_Musenga/blob/main/TextCNN_with_Word2Vec.ipynb\" target=\"_parent\"><img src=\"https://colab.research.google.com/assets/colab-badge.svg\" alt=\"Open In Colab\"/></a>"
      ]
    },
    {
      "cell_type": "markdown",
      "source": [
        "Important sorces:\n",
        "https://chatgpt.com/share/21220a6d-4cca-48bc-b461-bca6b0e140bc"
      ],
      "metadata": {
        "id": "v5BBxYOVSVUs"
      }
    },
    {
      "cell_type": "code",
      "execution_count": null,
      "metadata": {
        "id": "kbPhog7IPV7-"
      },
      "outputs": [],
      "source": [
        "pip install gensim"
      ]
    },
    {
      "cell_type": "code",
      "source": [
        "import pandas as pd\n",
        "import numpy as np\n",
        "import tensorflow as tf\n",
        "from gensim.models import Word2Vec\n",
        "from sklearn.model_selection import train_test_split\n",
        "from sklearn.metrics import classification_report\n",
        "from tensorflow.keras.preprocessing.sequence import pad_sequences"
      ],
      "metadata": {
        "id": "VR92jfI8PYcy"
      },
      "execution_count": 2,
      "outputs": []
    },
    {
      "cell_type": "code",
      "source": [
        "file_path = './saved_file'\n",
        "file_path = ('ARPs_and_ProgrammingPosts.xlsx')\n",
        "arp_data = pd.read_excel(file_path, sheet_name='13,205 ARPs')"
      ],
      "metadata": {
        "id": "GvYnP7C5PYaS"
      },
      "execution_count": 5,
      "outputs": []
    },
    {
      "cell_type": "code",
      "source": [
        "# Parameters\n",
        "max_len = 100  # Maximum length of all sequences"
      ],
      "metadata": {
        "id": "LWwETmdiPYXq"
      },
      "execution_count": 7,
      "outputs": []
    },
    {
      "cell_type": "code",
      "source": [
        "# Extract the text and labels\n",
        "texts = arp_data['Question_body'].astype(str).tolist()\n",
        "labels = arp_data['Label'].tolist()"
      ],
      "metadata": {
        "id": "C79jbYD5PYVK"
      },
      "execution_count": 8,
      "outputs": []
    },
    {
      "cell_type": "code",
      "source": [
        "# Tokenize the text and train Word2Vec model\n",
        "tokenized_texts = [text.split() for text in texts]\n",
        "word2vec_model = Word2Vec(tokenized_texts, vector_size=100, window=5, min_count=1, workers=4)\n"
      ],
      "metadata": {
        "id": "kCuew_V4PYSr"
      },
      "execution_count": 9,
      "outputs": []
    },
    {
      "cell_type": "code",
      "source": [
        "# Create an embedding matrix\n",
        "vocab_size = len(word2vec_model.wv.key_to_index) + 1\n",
        "embedding_dim = word2vec_model.vector_size\n",
        "embedding_matrix = np.zeros((vocab_size, embedding_dim))\n",
        "\n",
        "word_index = {word: index for index, word in enumerate(word2vec_model.wv.index_to_key, 1)}\n",
        "\n",
        "for word, index in word_index.items():\n",
        "    embedding_matrix[index] = word2vec_model.wv[word]"
      ],
      "metadata": {
        "id": "BYDkUJmUPYQC"
      },
      "execution_count": 11,
      "outputs": []
    },
    {
      "cell_type": "code",
      "source": [
        "# Convert text to sequences of word indexes\n",
        "sequences = [[word_index.get(word, 0) for word in text] for text in tokenized_texts]\n"
      ],
      "metadata": {
        "id": "RmeMkIUWPYNy"
      },
      "execution_count": 12,
      "outputs": []
    },
    {
      "cell_type": "code",
      "source": [
        "# Pad the sequences to ensure uniform input size\n",
        "data = pad_sequences(sequences, maxlen=max_len)"
      ],
      "metadata": {
        "id": "D7Nhvg12PYLK"
      },
      "execution_count": 13,
      "outputs": []
    },
    {
      "cell_type": "code",
      "source": [
        "# Convert labels to numpy array\n",
        "labels = tf.keras.utils.to_categorical(labels, num_classes=2)"
      ],
      "metadata": {
        "id": "6abw1f09PYIs"
      },
      "execution_count": 14,
      "outputs": []
    },
    {
      "cell_type": "code",
      "source": [
        "# Split the data into training and testing sets\n",
        "x_train, x_test, y_train, y_test = train_test_split(data, labels, test_size=0.2, random_state=42)\n"
      ],
      "metadata": {
        "id": "2jydD-tpPYES"
      },
      "execution_count": 15,
      "outputs": []
    },
    {
      "cell_type": "code",
      "source": [
        "# Define the neural network model\n",
        "def create_model(vocab_size, embedding_dim, input_length, embedding_matrix):\n",
        "    model = tf.keras.models.Sequential([\n",
        "        tf.keras.layers.Embedding(input_dim=vocab_size,\n",
        "                                  output_dim=embedding_dim,\n",
        "                                  weights=[embedding_matrix],\n",
        "                                  input_length=input_length,\n",
        "                                  trainable=False),\n",
        "        tf.keras.layers.Conv1D(128, 5, activation='relu'),\n",
        "        tf.keras.layers.GlobalMaxPooling1D(),\n",
        "        tf.keras.layers.Dense(128, activation='relu'),\n",
        "        tf.keras.layers.Dense(2, activation='softmax')\n",
        "    ])\n",
        "    model.compile(optimizer='adam', loss='categorical_crossentropy', metrics=['accuracy'])\n",
        "    return model"
      ],
      "metadata": {
        "id": "NgR251LfPYBi"
      },
      "execution_count": 16,
      "outputs": []
    },
    {
      "cell_type": "code",
      "source": [
        "# Create the model\n",
        "model = create_model(vocab_size, embedding_dim, max_len, embedding_matrix)\n"
      ],
      "metadata": {
        "id": "VH-Shml-PX_K"
      },
      "execution_count": 17,
      "outputs": []
    },
    {
      "cell_type": "code",
      "source": [
        "# Train the model\n",
        "history = model.fit(x_train, y_train, epochs=10, batch_size=32, validation_split=0.2)\n"
      ],
      "metadata": {
        "colab": {
          "base_uri": "https://localhost:8080/"
        },
        "id": "knD3gr-cPX8y",
        "outputId": "c07c5a82-be0f-4a03-91f0-bb50e86fd67b"
      },
      "execution_count": 18,
      "outputs": [
        {
          "output_type": "stream",
          "name": "stdout",
          "text": [
            "Epoch 1/10\n",
            "299/299 [==============================] - 11s 33ms/step - loss: 0.3207 - accuracy: 0.8744 - val_loss: 0.2668 - val_accuracy: 0.8907\n",
            "Epoch 2/10\n",
            "299/299 [==============================] - 8s 26ms/step - loss: 0.2248 - accuracy: 0.9102 - val_loss: 0.3159 - val_accuracy: 0.8882\n",
            "Epoch 3/10\n",
            "299/299 [==============================] - 9s 31ms/step - loss: 0.2007 - accuracy: 0.9165 - val_loss: 0.2799 - val_accuracy: 0.8761\n",
            "Epoch 4/10\n",
            "299/299 [==============================] - 9s 31ms/step - loss: 0.1707 - accuracy: 0.9310 - val_loss: 0.2944 - val_accuracy: 0.8849\n",
            "Epoch 5/10\n",
            "299/299 [==============================] - 8s 25ms/step - loss: 0.1550 - accuracy: 0.9385 - val_loss: 0.3389 - val_accuracy: 0.8928\n",
            "Epoch 6/10\n",
            "299/299 [==============================] - 10s 32ms/step - loss: 0.1184 - accuracy: 0.9520 - val_loss: 0.3925 - val_accuracy: 0.8255\n",
            "Epoch 7/10\n",
            "299/299 [==============================] - 8s 27ms/step - loss: 0.0888 - accuracy: 0.9667 - val_loss: 0.3807 - val_accuracy: 0.8577\n",
            "Epoch 8/10\n",
            "299/299 [==============================] - 8s 28ms/step - loss: 0.0800 - accuracy: 0.9717 - val_loss: 0.3837 - val_accuracy: 0.8506\n",
            "Epoch 9/10\n",
            "299/299 [==============================] - 9s 31ms/step - loss: 0.0575 - accuracy: 0.9785 - val_loss: 0.5105 - val_accuracy: 0.8288\n",
            "Epoch 10/10\n",
            "299/299 [==============================] - 8s 26ms/step - loss: 0.0407 - accuracy: 0.9861 - val_loss: 0.5089 - val_accuracy: 0.8535\n"
          ]
        }
      ]
    },
    {
      "cell_type": "code",
      "source": [
        "# Evaluate the model\n",
        "loss, accuracy = model.evaluate(x_test, y_test)\n",
        "print(f'Test Accuracy: {accuracy:.4f}')\n"
      ],
      "metadata": {
        "colab": {
          "base_uri": "https://localhost:8080/"
        },
        "id": "s8hzU2GxPX6S",
        "outputId": "f98b6ed9-a45e-4a1f-e14d-c3b2f37efc34"
      },
      "execution_count": 19,
      "outputs": [
        {
          "output_type": "stream",
          "name": "stdout",
          "text": [
            "94/94 [==============================] - 1s 13ms/step - loss: 0.4563 - accuracy: 0.8664\n",
            "Test Accuracy: 0.8664\n"
          ]
        }
      ]
    },
    {
      "cell_type": "code",
      "source": [
        "# Make predictions\n",
        "y_pred = model.predict(x_test)\n",
        "y_pred_classes = y_pred.argmax(axis=1)\n",
        "y_true_classes = y_test.argmax(axis=1)\n"
      ],
      "metadata": {
        "colab": {
          "base_uri": "https://localhost:8080/"
        },
        "id": "XWzrejhzPX3t",
        "outputId": "2d9227e9-a491-48b9-871d-47d25676c106"
      },
      "execution_count": 20,
      "outputs": [
        {
          "output_type": "stream",
          "name": "stdout",
          "text": [
            "94/94 [==============================] - 1s 9ms/step\n"
          ]
        }
      ]
    },
    {
      "cell_type": "code",
      "source": [
        "# Calculate precision, recall, and F1-score\n",
        "report = classification_report(y_true_classes, y_pred_classes, target_names=['Class 0', 'Class 1'])\n",
        "print(report)"
      ],
      "metadata": {
        "colab": {
          "base_uri": "https://localhost:8080/"
        },
        "id": "6t6CfxTlPX1T",
        "outputId": "3b873e2f-74bb-4979-d010-98314fdae756"
      },
      "execution_count": 21,
      "outputs": [
        {
          "output_type": "stream",
          "name": "stdout",
          "text": [
            "              precision    recall  f1-score   support\n",
            "\n",
            "     Class 0       0.85      0.89      0.87      1504\n",
            "     Class 1       0.89      0.84      0.86      1483\n",
            "\n",
            "    accuracy                           0.87      2987\n",
            "   macro avg       0.87      0.87      0.87      2987\n",
            "weighted avg       0.87      0.87      0.87      2987\n",
            "\n"
          ]
        }
      ]
    },
    {
      "cell_type": "code",
      "source": [
        "\n",
        "# Save the model\n",
        "model.save('word2vec_textcnn_model.h5')"
      ],
      "metadata": {
        "colab": {
          "base_uri": "https://localhost:8080/"
        },
        "id": "C7BS4ipEPXzC",
        "outputId": "987cb5cb-ebb0-4c22-b6b9-b4cb0891e137"
      },
      "execution_count": 22,
      "outputs": [
        {
          "output_type": "stream",
          "name": "stderr",
          "text": [
            "/usr/local/lib/python3.10/dist-packages/keras/src/engine/training.py:3103: UserWarning: You are saving your model as an HDF5 file via `model.save()`. This file format is considered legacy. We recommend using instead the native Keras format, e.g. `model.save('my_model.keras')`.\n",
            "  saving_api.save_model(\n"
          ]
        }
      ]
    },
    {
      "cell_type": "code",
      "source": [],
      "metadata": {
        "id": "ey7c7KnrPXwq"
      },
      "execution_count": null,
      "outputs": []
    },
    {
      "cell_type": "code",
      "source": [],
      "metadata": {
        "id": "rjLIaBAlPXt6"
      },
      "execution_count": null,
      "outputs": []
    },
    {
      "cell_type": "code",
      "source": [],
      "metadata": {
        "id": "cRZpcMqwPXrL"
      },
      "execution_count": null,
      "outputs": []
    }
  ]
}