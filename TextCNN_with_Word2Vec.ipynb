{
  "nbformat": 4,
  "nbformat_minor": 0,
  "metadata": {
    "colab": {
      "provenance": [],
      "gpuType": "T4",
      "include_colab_link": true
    },
    "kernelspec": {
      "name": "python3",
      "display_name": "Python 3"
    },
    "language_info": {
      "name": "python"
    },
    "accelerator": "GPU"
  },
  "cells": [
    {
      "cell_type": "markdown",
      "metadata": {
        "id": "view-in-github",
        "colab_type": "text"
      },
      "source": [
        "<a href=\"https://colab.research.google.com/github/JeanMusenga/PhD-Thesis_2024_Musenga/blob/main/TextCNN_with_Word2Vec.ipynb\" target=\"_parent\"><img src=\"https://colab.research.google.com/assets/colab-badge.svg\" alt=\"Open In Colab\"/></a>"
      ]
    },
    {
      "cell_type": "markdown",
      "source": [
        "Important sorces:\n",
        "https://chatgpt.com/share/21220a6d-4cca-48bc-b461-bca6b0e140bc"
      ],
      "metadata": {
        "id": "v5BBxYOVSVUs"
      }
    },
    {
      "cell_type": "code",
      "execution_count": null,
      "metadata": {
        "id": "kbPhog7IPV7-"
      },
      "outputs": [],
      "source": [
        "pip install gensim"
      ]
    },
    {
      "cell_type": "code",
      "source": [
        "import pandas as pd\n",
        "import numpy as np\n",
        "import tensorflow as tf\n",
        "from gensim.models import Word2Vec\n",
        "from sklearn.model_selection import train_test_split\n",
        "from sklearn.metrics import classification_report\n",
        "from tensorflow.keras.preprocessing.sequence import pad_sequences"
      ],
      "metadata": {
        "id": "VR92jfI8PYcy"
      },
      "execution_count": 2,
      "outputs": []
    },
    {
      "cell_type": "code",
      "source": [
        "file_path = './saved_file'\n",
        "file_path = ('posts.xlsx')\n",
        "arp_data = pd.read_excel(file_path)"
      ],
      "metadata": {
        "id": "GvYnP7C5PYaS"
      },
      "execution_count": 3,
      "outputs": []
    },
    {
      "cell_type": "code",
      "source": [
        "class_distribution = arp_data['Label'].value_counts()\n",
        "print(class_distribution)"
      ],
      "metadata": {
        "colab": {
          "base_uri": "https://localhost:8080/"
        },
        "id": "HHV_5AkLp8YS",
        "outputId": "4a4bbdef-5992-4bad-bfb5-39a9e8b465d7"
      },
      "execution_count": 4,
      "outputs": [
        {
          "output_type": "stream",
          "name": "stdout",
          "text": [
            "Label\n",
            "1    7466\n",
            "0    7466\n",
            "Name: count, dtype: int64\n"
          ]
        }
      ]
    },
    {
      "cell_type": "code",
      "source": [
        "# Parameters\n",
        "max_len = 100  # Maximum length of all sequences"
      ],
      "metadata": {
        "id": "LWwETmdiPYXq"
      },
      "execution_count": 5,
      "outputs": []
    },
    {
      "cell_type": "code",
      "source": [
        "# Extract the text and labels\n",
        "texts = arp_data['Question_body'].astype(str).tolist()\n",
        "labels = arp_data['Label'].tolist()"
      ],
      "metadata": {
        "id": "C79jbYD5PYVK"
      },
      "execution_count": 6,
      "outputs": []
    },
    {
      "cell_type": "markdown",
      "source": [
        "# Tokenize the text and train Word2Vec model"
      ],
      "metadata": {
        "id": "bvmcqI6h0VLH"
      }
    },
    {
      "cell_type": "code",
      "source": [
        "# Tokenize the text and train Word2Vec model\n",
        "tokenized_texts = [text.split() for text in texts]\n",
        "word2vec_model = Word2Vec(tokenized_texts, vector_size=100, window=5, min_count=1, workers=4)\n"
      ],
      "metadata": {
        "id": "kCuew_V4PYSr"
      },
      "execution_count": 7,
      "outputs": []
    },
    {
      "cell_type": "markdown",
      "source": [
        "# Create an embedding matrix"
      ],
      "metadata": {
        "id": "PcFwtPcC0R0v"
      }
    },
    {
      "cell_type": "code",
      "source": [
        "# Create an embedding matrix\n",
        "vocab_size = len(word2vec_model.wv.key_to_index) + 1\n",
        "embedding_dim = word2vec_model.vector_size\n",
        "embedding_matrix = np.zeros((vocab_size, embedding_dim))\n",
        "\n",
        "word_index = {word: index for index, word in enumerate(word2vec_model.wv.index_to_key, 1)}\n",
        "\n",
        "for word, index in word_index.items():\n",
        "    embedding_matrix[index] = word2vec_model.wv[word]"
      ],
      "metadata": {
        "id": "BYDkUJmUPYQC"
      },
      "execution_count": 8,
      "outputs": []
    },
    {
      "cell_type": "markdown",
      "source": [
        "# Convert text to sequences of word indexes"
      ],
      "metadata": {
        "id": "HMnHEA4a0TiA"
      }
    },
    {
      "cell_type": "code",
      "source": [
        "# Convert text to sequences of word indexes\n",
        "sequences = [[word_index.get(word, 0) for word in text] for text in tokenized_texts]\n"
      ],
      "metadata": {
        "id": "RmeMkIUWPYNy"
      },
      "execution_count": 9,
      "outputs": []
    },
    {
      "cell_type": "markdown",
      "source": [
        "# Pad the sequences to ensure uniform input size"
      ],
      "metadata": {
        "id": "N1DwSsN10OgP"
      }
    },
    {
      "cell_type": "code",
      "source": [
        "# Pad the sequences to ensure uniform input size\n",
        "data = pad_sequences(sequences, maxlen=max_len)"
      ],
      "metadata": {
        "id": "D7Nhvg12PYLK"
      },
      "execution_count": 10,
      "outputs": []
    },
    {
      "cell_type": "markdown",
      "source": [
        "# Convert labels to numpy array"
      ],
      "metadata": {
        "id": "Oe36fexn0QQH"
      }
    },
    {
      "cell_type": "code",
      "source": [
        "# Convert labels to numpy array\n",
        "labels = tf.keras.utils.to_categorical(labels, num_classes=2)"
      ],
      "metadata": {
        "id": "6abw1f09PYIs"
      },
      "execution_count": 11,
      "outputs": []
    },
    {
      "cell_type": "markdown",
      "source": [
        "# Split the data into training and testing sets"
      ],
      "metadata": {
        "id": "neVg3FG00ZQR"
      }
    },
    {
      "cell_type": "code",
      "source": [
        "# Split the data into training and testing sets\n",
        "x_train, x_test, y_train, y_test = train_test_split(data, labels, test_size=0.2, random_state=42)\n"
      ],
      "metadata": {
        "id": "2jydD-tpPYES"
      },
      "execution_count": 12,
      "outputs": []
    },
    {
      "cell_type": "markdown",
      "source": [
        "# Define the neural network model"
      ],
      "metadata": {
        "id": "dd3tx7m-0NTP"
      }
    },
    {
      "cell_type": "code",
      "source": [
        "# Define the neural network model\n",
        "def create_model(vocab_size, embedding_dim, input_length, embedding_matrix):\n",
        "    model = tf.keras.models.Sequential([\n",
        "        tf.keras.layers.Embedding(input_dim=vocab_size,\n",
        "                                  output_dim=embedding_dim,\n",
        "                                  weights=[embedding_matrix],\n",
        "                                  input_length=input_length,\n",
        "                                  trainable=False),\n",
        "        tf.keras.layers.Conv1D(128, 5, activation='relu'),\n",
        "        tf.keras.layers.GlobalMaxPooling1D(),\n",
        "        tf.keras.layers.Dense(128, activation='relu'),\n",
        "        tf.keras.layers.Dense(2, activation='softmax')\n",
        "    ])\n",
        "    model.compile(optimizer='adam', loss='categorical_crossentropy', metrics=['accuracy'])\n",
        "    return model"
      ],
      "metadata": {
        "id": "NgR251LfPYBi"
      },
      "execution_count": 13,
      "outputs": []
    },
    {
      "cell_type": "markdown",
      "source": [
        "# Create the model"
      ],
      "metadata": {
        "id": "Zynb4dy80L-v"
      }
    },
    {
      "cell_type": "code",
      "source": [
        "# Create the model\n",
        "model = create_model(vocab_size, embedding_dim, max_len, embedding_matrix)\n"
      ],
      "metadata": {
        "id": "VH-Shml-PX_K",
        "colab": {
          "base_uri": "https://localhost:8080/"
        },
        "outputId": "408a1a62-e11e-4d9e-ac83-8b3976a05685"
      },
      "execution_count": 14,
      "outputs": [
        {
          "output_type": "stream",
          "name": "stderr",
          "text": [
            "/usr/local/lib/python3.10/dist-packages/keras/src/layers/core/embedding.py:90: UserWarning: Argument `input_length` is deprecated. Just remove it.\n",
            "  warnings.warn(\n"
          ]
        }
      ]
    },
    {
      "cell_type": "markdown",
      "source": [
        "# Train the model"
      ],
      "metadata": {
        "id": "D2udqgDZ0K7_"
      }
    },
    {
      "cell_type": "code",
      "source": [
        "# Train the model\n",
        "history = model.fit(x_train, y_train, epochs=10, batch_size=32, validation_split=0.2)\n"
      ],
      "metadata": {
        "colab": {
          "base_uri": "https://localhost:8080/"
        },
        "id": "knD3gr-cPX8y",
        "outputId": "0774f53c-b7db-4259-cf4f-9e842159bacb"
      },
      "execution_count": 15,
      "outputs": [
        {
          "output_type": "stream",
          "name": "stdout",
          "text": [
            "Epoch 1/10\n",
            "\u001b[1m299/299\u001b[0m \u001b[32m━━━━━━━━━━━━━━━━━━━━\u001b[0m\u001b[37m\u001b[0m \u001b[1m8s\u001b[0m 12ms/step - accuracy: 0.8413 - loss: 0.3878 - val_accuracy: 0.8828 - val_loss: 0.3173\n",
            "Epoch 2/10\n",
            "\u001b[1m299/299\u001b[0m \u001b[32m━━━━━━━━━━━━━━━━━━━━\u001b[0m\u001b[37m\u001b[0m \u001b[1m5s\u001b[0m 3ms/step - accuracy: 0.9057 - loss: 0.2333 - val_accuracy: 0.8891 - val_loss: 0.2691\n",
            "Epoch 3/10\n",
            "\u001b[1m299/299\u001b[0m \u001b[32m━━━━━━━━━━━━━━━━━━━━\u001b[0m\u001b[37m\u001b[0m \u001b[1m1s\u001b[0m 3ms/step - accuracy: 0.9206 - loss: 0.1972 - val_accuracy: 0.8979 - val_loss: 0.2965\n",
            "Epoch 4/10\n",
            "\u001b[1m299/299\u001b[0m \u001b[32m━━━━━━━━━━━━━━━━━━━━\u001b[0m\u001b[37m\u001b[0m \u001b[1m1s\u001b[0m 3ms/step - accuracy: 0.9343 - loss: 0.1648 - val_accuracy: 0.8686 - val_loss: 0.2923\n",
            "Epoch 5/10\n",
            "\u001b[1m299/299\u001b[0m \u001b[32m━━━━━━━━━━━━━━━━━━━━\u001b[0m\u001b[37m\u001b[0m \u001b[1m1s\u001b[0m 3ms/step - accuracy: 0.9472 - loss: 0.1351 - val_accuracy: 0.8217 - val_loss: 0.3894\n",
            "Epoch 6/10\n",
            "\u001b[1m299/299\u001b[0m \u001b[32m━━━━━━━━━━━━━━━━━━━━\u001b[0m\u001b[37m\u001b[0m \u001b[1m1s\u001b[0m 3ms/step - accuracy: 0.9528 - loss: 0.1158 - val_accuracy: 0.8832 - val_loss: 0.3265\n",
            "Epoch 7/10\n",
            "\u001b[1m299/299\u001b[0m \u001b[32m━━━━━━━━━━━━━━━━━━━━\u001b[0m\u001b[37m\u001b[0m \u001b[1m1s\u001b[0m 3ms/step - accuracy: 0.9769 - loss: 0.0674 - val_accuracy: 0.8937 - val_loss: 0.3933\n",
            "Epoch 8/10\n",
            "\u001b[1m299/299\u001b[0m \u001b[32m━━━━━━━━━━━━━━━━━━━━\u001b[0m\u001b[37m\u001b[0m \u001b[1m1s\u001b[0m 3ms/step - accuracy: 0.9828 - loss: 0.0505 - val_accuracy: 0.8941 - val_loss: 0.4820\n",
            "Epoch 9/10\n",
            "\u001b[1m299/299\u001b[0m \u001b[32m━━━━━━━━━━━━━━━━━━━━\u001b[0m\u001b[37m\u001b[0m \u001b[1m2s\u001b[0m 4ms/step - accuracy: 0.9835 - loss: 0.0459 - val_accuracy: 0.8736 - val_loss: 0.4340\n",
            "Epoch 10/10\n",
            "\u001b[1m299/299\u001b[0m \u001b[32m━━━━━━━━━━━━━━━━━━━━\u001b[0m\u001b[37m\u001b[0m \u001b[1m2s\u001b[0m 3ms/step - accuracy: 0.9845 - loss: 0.0418 - val_accuracy: 0.8363 - val_loss: 0.5100\n"
          ]
        }
      ]
    },
    {
      "cell_type": "markdown",
      "source": [
        "# Evaluate the model"
      ],
      "metadata": {
        "id": "wul81FUD0dO_"
      }
    },
    {
      "cell_type": "code",
      "source": [
        "# Evaluate the model\n",
        "loss, accuracy = model.evaluate(x_test, y_test)\n",
        "print(f'Test Accuracy: {accuracy:.4f}')\n"
      ],
      "metadata": {
        "colab": {
          "base_uri": "https://localhost:8080/"
        },
        "id": "s8hzU2GxPX6S",
        "outputId": "af0b203a-fbcf-41db-e05a-bf1f138081c0"
      },
      "execution_count": 16,
      "outputs": [
        {
          "output_type": "stream",
          "name": "stdout",
          "text": [
            "\u001b[1m94/94\u001b[0m \u001b[32m━━━━━━━━━━━━━━━━━━━━\u001b[0m\u001b[37m\u001b[0m \u001b[1m1s\u001b[0m 7ms/step - accuracy: 0.8477 - loss: 0.4442\n",
            "Test Accuracy: 0.8524\n"
          ]
        }
      ]
    },
    {
      "cell_type": "markdown",
      "source": [
        "# Make predictions"
      ],
      "metadata": {
        "id": "BEG75b2k0fhg"
      }
    },
    {
      "cell_type": "code",
      "source": [
        "# Make predictions and convert to class labels\n",
        "y_pred = model.predict(x_test)\n",
        "y_pred_classes = y_pred.argmax(axis=1)\n",
        "y_true_classes = y_test.argmax(axis=1)\n"
      ],
      "metadata": {
        "id": "XWzrejhzPX3t",
        "colab": {
          "base_uri": "https://localhost:8080/"
        },
        "outputId": "036a4246-b035-426e-e61d-df49540b8798"
      },
      "execution_count": 17,
      "outputs": [
        {
          "output_type": "stream",
          "name": "stdout",
          "text": [
            "\u001b[1m94/94\u001b[0m \u001b[32m━━━━━━━━━━━━━━━━━━━━\u001b[0m\u001b[37m\u001b[0m \u001b[1m1s\u001b[0m 4ms/step\n"
          ]
        }
      ]
    },
    {
      "cell_type": "code",
      "source": [
        "# Calculate precision, recall, and F1-score\n",
        "report = classification_report(y_true_classes, y_pred_classes, target_names=['Class 0', 'Class 1'])\n",
        "print(report)"
      ],
      "metadata": {
        "colab": {
          "base_uri": "https://localhost:8080/"
        },
        "id": "6t6CfxTlPX1T",
        "outputId": "d9b98a87-b73e-441e-a34f-ab51c4b68e95"
      },
      "execution_count": 18,
      "outputs": [
        {
          "output_type": "stream",
          "name": "stdout",
          "text": [
            "              precision    recall  f1-score   support\n",
            "\n",
            "     Class 0       0.82      0.90      0.86      1504\n",
            "     Class 1       0.89      0.81      0.84      1483\n",
            "\n",
            "    accuracy                           0.85      2987\n",
            "   macro avg       0.86      0.85      0.85      2987\n",
            "weighted avg       0.86      0.85      0.85      2987\n",
            "\n"
          ]
        }
      ]
    },
    {
      "cell_type": "code",
      "source": [
        "from sklearn.metrics import precision_recall_fscore_support, confusion_matrix\n",
        "\n",
        "# Calculate precision, recall, f1-score, and support\n",
        "precision_class, recall_class, f1_class, support_class = precision_recall_fscore_support(y_true_classes, y_pred_classes, average=None)\n",
        "\n",
        "# Compute confusion matrix\n",
        "conf_matrix = confusion_matrix(y_true_classes, y_pred_classes)\n",
        "\n",
        "# Calculate class-wise accuracy\n",
        "accuracy_class_0 = conf_matrix[0, 0] / (conf_matrix[0, 0] + conf_matrix[0, 1]) if (conf_matrix[0, 0] + conf_matrix[0, 1]) > 0 else 0\n",
        "accuracy_class_1 = conf_matrix[1, 1] / (conf_matrix[1, 1] + conf_matrix[1, 0]) if (conf_matrix[1, 1] + conf_matrix[1, 0]) > 0 else 0\n",
        "\n",
        "# Compute overall accuracy\n",
        "accuracy = (conf_matrix[0, 0] + conf_matrix[1, 1]) / conf_matrix.sum()\n",
        "\n",
        "# Print metrics\n",
        "print(f'Class 0 - Precision: {precision_class[0]:.4f}, Recall: {recall_class[0]:.4f}, F1-score: {f1_class[0]:.4f}, Support: {support_class[0]}, Accuracy: {accuracy_class_0:.4f}')\n",
        "print(f'Class 1 - Precision: {precision_class[1]:.4f}, Recall: {recall_class[1]:.4f}, F1-score: {f1_class[1]:.4f}, Support: {support_class[1]}, Accuracy: {accuracy_class_1:.4f}')\n",
        "print(f'Overall Accuracy: {accuracy:.4f}')\n"
      ],
      "metadata": {
        "id": "qoGqpm6Tt4jf",
        "colab": {
          "base_uri": "https://localhost:8080/"
        },
        "outputId": "7e63c082-c085-48d5-fa5a-0116b1dece24"
      },
      "execution_count": 19,
      "outputs": [
        {
          "output_type": "stream",
          "name": "stdout",
          "text": [
            "Class 0 - Precision: 0.8239, Recall: 0.8989, F1-score: 0.8598, Support: 1504, Accuracy: 0.8989\n",
            "Class 1 - Precision: 0.8871, Recall: 0.8051, F1-score: 0.8441, Support: 1483, Accuracy: 0.8051\n",
            "Overall Accuracy: 0.8524\n"
          ]
        }
      ]
    },
    {
      "cell_type": "code",
      "source": [
        "# Save the model\n",
        "model.save('word2vec_textcnn_model.h5')"
      ],
      "metadata": {
        "id": "C7BS4ipEPXzC",
        "colab": {
          "base_uri": "https://localhost:8080/"
        },
        "outputId": "2ad1b6de-238e-48ba-ec46-c3326117f5e1"
      },
      "execution_count": 20,
      "outputs": [
        {
          "output_type": "stream",
          "name": "stderr",
          "text": [
            "WARNING:absl:You are saving your model as an HDF5 file via `model.save()` or `keras.saving.save_model(model)`. This file format is considered legacy. We recommend using instead the native Keras format, e.g. `model.save('my_model.keras')` or `keras.saving.save_model(model, 'my_model.keras')`. \n"
          ]
        }
      ]
    },
    {
      "cell_type": "markdown",
      "source": [
        "# Prediction results analysis with Confusion Matric"
      ],
      "metadata": {
        "id": "iYW6NamlaGfl"
      }
    },
    {
      "cell_type": "code",
      "source": [
        "from sklearn.metrics import confusion_matrix\n",
        "import seaborn as sns\n",
        "import matplotlib.pyplot as plt\n",
        "\n",
        "# Ensure y_test is in binary format\n",
        "y_true_classes = y_test.argmax(axis=1)  # Convert y_test to binary labels\n",
        "\n",
        "# Compute the confusion matrix\n",
        "cm = confusion_matrix(y_true_classes, y_pred_classes)\n",
        "\n",
        "# Plot the confusion matrix as a heatmap\n",
        "sns.heatmap(cm, annot=True, fmt='d', cmap='Blues', xticklabels=['Predicted 0', 'Predicted 1'], yticklabels=['Actual 0', 'Actual 1'])\n",
        "plt.xlabel('Predicted')\n",
        "plt.ylabel('Actual')\n",
        "plt.title('Confusion Matrix fot TextCNN with Word2vec')\n",
        "plt.show()\n"
      ],
      "metadata": {
        "id": "ey7c7KnrPXwq",
        "colab": {
          "base_uri": "https://localhost:8080/",
          "height": 472
        },
        "outputId": "49f025c1-e654-4ead-baf3-659450c9b1cf"
      },
      "execution_count": 21,
      "outputs": [
        {
          "output_type": "display_data",
          "data": {
            "text/plain": [
              "<Figure size 640x480 with 2 Axes>"
            ],
            "image/png": "[encoded data removed]"
          },
          "metadata": {}
        }
      ]
    },
    {
      "cell_type": "code",
      "source": [
        "import matplotlib.pyplot as plt\n",
        "from sklearn.metrics import roc_curve, auc\n",
        "\n",
        "# Assuming binary classification\n",
        "# Convert one-hot encoded labels to binary labels (0 or 1)\n",
        "y_pred_prob = y_pred[:, 1]  # Use the probability of the positive class (index 1)\n",
        "\n",
        "# Compute the ROC curve\n",
        "fpr, tpr, thresholds = roc_curve(y_true_classes, y_pred_prob)\n",
        "\n",
        "# Calculate the AUC (Area Under the Curve)\n",
        "roc_auc = auc(fpr, tpr)\n",
        "\n",
        "# Plot the ROC curve\n",
        "plt.figure()\n",
        "plt.plot(fpr, tpr, color='blue', lw=2, label=f'ROC curve (area = {roc_auc:.2f})')\n",
        "plt.plot([0, 1], [0, 1], color='gray', linestyle='--')  # Diagonal line\n",
        "plt.xlim([0.0, 1.0])\n",
        "plt.ylim([0.0, 1.05])\n",
        "plt.xlabel('False Positive Rate')\n",
        "plt.ylabel('True Positive Rate')\n",
        "plt.title('Receiver Operating Characteristic (ROC) Curve')\n",
        "plt.legend(loc=\"lower right\")\n",
        "plt.show()\n"
      ],
      "metadata": {
        "id": "cRZpcMqwPXrL",
        "colab": {
          "base_uri": "https://localhost:8080/",
          "height": 472
        },
        "outputId": "7ec3c033-d07a-4d4e-d98f-62b251118514"
      },
      "execution_count": 26,
      "outputs": [
        {
          "output_type": "display_data",
          "data": {
            "text/plain": [
              "<Figure size 640x480 with 1 Axes>"
            ],
            "image/png": "[encoded data removed]"
          },
          "metadata": {}
        }
      ]
    }
  ]
}