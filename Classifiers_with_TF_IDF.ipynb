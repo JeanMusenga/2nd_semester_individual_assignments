{
  "nbformat": 4,
  "nbformat_minor": 0,
  "metadata": {
    "colab": {
      "provenance": [],
      "toc_visible": true,
      "authorship_tag": "ABX9TyOY0//L+xRGvfDTM1+CwOC7",
      "include_colab_link": true
    },
    "kernelspec": {
      "name": "python3",
      "display_name": "Python 3"
    },
    "language_info": {
      "name": "python"
    }
  },
  "cells": [
    {
      "cell_type": "markdown",
      "metadata": {
        "id": "view-in-github",
        "colab_type": "text"
      },
      "source": [
        "<a href=\"https://colab.research.google.com/github/JeanMusenga/PhD-Thesis_2024_Musenga/blob/main/Classifiers_with_TF_IDF.ipynb\" target=\"_parent\"><img src=\"https://colab.research.google.com/assets/colab-badge.svg\" alt=\"Open In Colab\"/></a>"
      ]
    },
    {
      "cell_type": "markdown",
      "source": [
        "#What is the difference between Word2Vec and TF-IDF vectorizer?\n",
        "Word2Vec vs. BoW and TF-IDF: Word2Vec is a neural network-based technique that learns continuous word embeddings, capturing the semantic relationships between words"
      ],
      "metadata": {
        "id": "Izfk2EHVhMFC"
      }
    },
    {
      "cell_type": "code",
      "execution_count": 1,
      "metadata": {
        "id": "YJAzH3BbSb4W"
      },
      "outputs": [],
      "source": [
        "import pandas as pd\n",
        "import numpy as np\n",
        "from matplotlib import pyplot as plt\n",
        "import nltk\n",
        "import gensim\n",
        "from spacy.tokenizer import Tokenizer\n",
        "from sklearn.model_selection import train_test_split"
      ]
    },
    {
      "cell_type": "code",
      "source": [
        "np.random.seed(42) #The random seed helps in the reproduction of the results"
      ],
      "metadata": {
        "id": "2y1915LnUkJd"
      },
      "execution_count": 2,
      "outputs": []
    },
    {
      "cell_type": "code",
      "source": [
        "dataset=pd.read_excel('posts.xlsx')"
      ],
      "metadata": {
        "id": "-mpx_RweUkcd"
      },
      "execution_count": 3,
      "outputs": []
    },
    {
      "cell_type": "code",
      "source": [
        "dataset.shape"
      ],
      "metadata": {
        "colab": {
          "base_uri": "https://localhost:8080/"
        },
        "id": "uNvlQ1KgUky8",
        "outputId": "eed5c8ef-7f1b-48a4-8160-774198566836"
      },
      "execution_count": 4,
      "outputs": [
        {
          "output_type": "execute_result",
          "data": {
            "text/plain": [
              "(9980, 2)"
            ]
          },
          "metadata": {},
          "execution_count": 4
        }
      ]
    },
    {
      "cell_type": "code",
      "source": [
        "dataset.head()"
      ],
      "metadata": {
        "id": "hLiVvGoBUlCk",
        "colab": {
          "base_uri": "https://localhost:8080/",
          "height": 206
        },
        "outputId": "45a8b65a-7815-4ff8-868f-49fda44f4aca"
      },
      "execution_count": 5,
      "outputs": [
        {
          "output_type": "execute_result",
          "data": {
            "text/plain": [
              "                                       Question_body  Label\n",
              "0  Here's the architecture:\\n<ol>\\n<li>Input comp...      1\n",
              "1  I am confused about the architecture of Razor ...      1\n",
              "2  I have some spring boot microservices and I wa...      1\n",
              "3  I'm trying to properly design an application a...      1\n",
              "4  I heard that for .NET8 Microsoft gifted us wit...      1"
            ],
            "text/html": [
              "\n",
              "  <div id=\"df-4881aef7-0f86-4ee4-99a1-6d9a1f86bffb\" class=\"colab-df-container\">\n",
              "    <div>\n",
              "<style scoped>\n",
              "    .dataframe tbody tr th:only-of-type {\n",
              "        vertical-align: middle;\n",
              "    }\n",
              "\n",
              "    .dataframe tbody tr th {\n",
              "        vertical-align: top;\n",
              "    }\n",
              "\n",
              "    .dataframe thead th {\n",
              "        text-align: right;\n",
              "    }\n",
              "</style>\n",
              "<table border=\"1\" class=\"dataframe\">\n",
              "  <thead>\n",
              "    <tr style=\"text-align: right;\">\n",
              "      <th></th>\n",
              "      <th>Question_body</th>\n",
              "      <th>Label</th>\n",
              "    </tr>\n",
              "  </thead>\n",
              "  <tbody>\n",
              "    <tr>\n",
              "      <th>0</th>\n",
              "      <td>Here's the architecture:\\n&lt;ol&gt;\\n&lt;li&gt;Input comp...</td>\n",
              "      <td>1</td>\n",
              "    </tr>\n",
              "    <tr>\n",
              "      <th>1</th>\n",
              "      <td>I am confused about the architecture of Razor ...</td>\n",
              "      <td>1</td>\n",
              "    </tr>\n",
              "    <tr>\n",
              "      <th>2</th>\n",
              "      <td>I have some spring boot microservices and I wa...</td>\n",
              "      <td>1</td>\n",
              "    </tr>\n",
              "    <tr>\n",
              "      <th>3</th>\n",
              "      <td>I'm trying to properly design an application a...</td>\n",
              "      <td>1</td>\n",
              "    </tr>\n",
              "    <tr>\n",
              "      <th>4</th>\n",
              "      <td>I heard that for .NET8 Microsoft gifted us wit...</td>\n",
              "      <td>1</td>\n",
              "    </tr>\n",
              "  </tbody>\n",
              "</table>\n",
              "</div>\n",
              "    <div class=\"colab-df-buttons\">\n",
              "\n",
              "  <div class=\"colab-df-container\">\n",
              "    <button class=\"colab-df-convert\" onclick=\"convertToInteractive('df-4881aef7-0f86-4ee4-99a1-6d9a1f86bffb')\"\n",
              "            title=\"Convert this dataframe to an interactive table.\"\n",
              "            style=\"display:none;\">\n",
              "\n",
              "  <svg xmlns=\"http://www.w3.org/2000/svg\" height=\"24px\" viewBox=\"0 -960 960 960\">\n",
              "    <path d=\"M120-120v-720h720v720H120Zm60-500h600v-160H180v160Zm220 220h160v-160H400v160Zm0 220h160v-160H400v160ZM180-400h160v-160H180v160Zm440 0h160v-160H620v160ZM180-180h160v-160H180v160Zm440 0h160v-160H620v160Z\"/>\n",
              "  </svg>\n",
              "    </button>\n",
              "\n",
              "  <style>\n",
              "    .colab-df-container {\n",
              "      display:flex;\n",
              "      gap: 12px;\n",
              "    }\n",
              "\n",
              "    .colab-df-convert {\n",
              "      background-color: #E8F0FE;\n",
              "      border: none;\n",
              "      border-radius: 50%;\n",
              "      cursor: pointer;\n",
              "      display: none;\n",
              "      fill: #1967D2;\n",
              "      height: 32px;\n",
              "      padding: 0 0 0 0;\n",
              "      width: 32px;\n",
              "    }\n",
              "\n",
              "    .colab-df-convert:hover {\n",
              "      background-color: #E2EBFA;\n",
              "      box-shadow: 0px 1px 2px rgba(60, 64, 67, 0.3), 0px 1px 3px 1px rgba(60, 64, 67, 0.15);\n",
              "      fill: #174EA6;\n",
              "    }\n",
              "\n",
              "    .colab-df-buttons div {\n",
              "      margin-bottom: 4px;\n",
              "    }\n",
              "\n",
              "    [theme=dark] .colab-df-convert {\n",
              "      background-color: #3B4455;\n",
              "      fill: #D2E3FC;\n",
              "    }\n",
              "\n",
              "    [theme=dark] .colab-df-convert:hover {\n",
              "      background-color: #434B5C;\n",
              "      box-shadow: 0px 1px 3px 1px rgba(0, 0, 0, 0.15);\n",
              "      filter: drop-shadow(0px 1px 2px rgba(0, 0, 0, 0.3));\n",
              "      fill: #FFFFFF;\n",
              "    }\n",
              "  </style>\n",
              "\n",
              "    <script>\n",
              "      const buttonEl =\n",
              "        document.querySelector('#df-4881aef7-0f86-4ee4-99a1-6d9a1f86bffb button.colab-df-convert');\n",
              "      buttonEl.style.display =\n",
              "        google.colab.kernel.accessAllowed ? 'block' : 'none';\n",
              "\n",
              "      async function convertToInteractive(key) {\n",
              "        const element = document.querySelector('#df-4881aef7-0f86-4ee4-99a1-6d9a1f86bffb');\n",
              "        const dataTable =\n",
              "          await google.colab.kernel.invokeFunction('convertToInteractive',\n",
              "                                                    [key], {});\n",
              "        if (!dataTable) return;\n",
              "\n",
              "        const docLinkHtml = 'Like what you see? Visit the ' +\n",
              "          '<a target=\"_blank\" href=https://colab.research.google.com/notebooks/data_table.ipynb>data table notebook</a>'\n",
              "          + ' to learn more about interactive tables.';\n",
              "        element.innerHTML = '';\n",
              "        dataTable['output_type'] = 'display_data';\n",
              "        await google.colab.output.renderOutput(dataTable, element);\n",
              "        const docLink = document.createElement('div');\n",
              "        docLink.innerHTML = docLinkHtml;\n",
              "        element.appendChild(docLink);\n",
              "      }\n",
              "    </script>\n",
              "  </div>\n",
              "\n",
              "\n",
              "<div id=\"df-476c844b-2471-4a17-9258-749d0a3ccb6e\">\n",
              "  <button class=\"colab-df-quickchart\" onclick=\"quickchart('df-476c844b-2471-4a17-9258-749d0a3ccb6e')\"\n",
              "            title=\"Suggest charts\"\n",
              "            style=\"display:none;\">\n",
              "\n",
              "<svg xmlns=\"http://www.w3.org/2000/svg\" height=\"24px\"viewBox=\"0 0 24 24\"\n",
              "     width=\"24px\">\n",
              "    <g>\n",
              "        <path d=\"M19 3H5c-1.1 0-2 .9-2 2v14c0 1.1.9 2 2 2h14c1.1 0 2-.9 2-2V5c0-1.1-.9-2-2-2zM9 17H7v-7h2v7zm4 0h-2V7h2v10zm4 0h-2v-4h2v4z\"/>\n",
              "    </g>\n",
              "</svg>\n",
              "  </button>\n",
              "\n",
              "<style>\n",
              "  .colab-df-quickchart {\n",
              "      --bg-color: #E8F0FE;\n",
              "      --fill-color: #1967D2;\n",
              "      --hover-bg-color: #E2EBFA;\n",
              "      --hover-fill-color: #174EA6;\n",
              "      --disabled-fill-color: #AAA;\n",
              "      --disabled-bg-color: #DDD;\n",
              "  }\n",
              "\n",
              "  [theme=dark] .colab-df-quickchart {\n",
              "      --bg-color: #3B4455;\n",
              "      --fill-color: #D2E3FC;\n",
              "      --hover-bg-color: #434B5C;\n",
              "      --hover-fill-color: #FFFFFF;\n",
              "      --disabled-bg-color: #3B4455;\n",
              "      --disabled-fill-color: #666;\n",
              "  }\n",
              "\n",
              "  .colab-df-quickchart {\n",
              "    background-color: var(--bg-color);\n",
              "    border: none;\n",
              "    border-radius: 50%;\n",
              "    cursor: pointer;\n",
              "    display: none;\n",
              "    fill: var(--fill-color);\n",
              "    height: 32px;\n",
              "    padding: 0;\n",
              "    width: 32px;\n",
              "  }\n",
              "\n",
              "  .colab-df-quickchart:hover {\n",
              "    background-color: var(--hover-bg-color);\n",
              "    box-shadow: 0 1px 2px rgba(60, 64, 67, 0.3), 0 1px 3px 1px rgba(60, 64, 67, 0.15);\n",
              "    fill: var(--button-hover-fill-color);\n",
              "  }\n",
              "\n",
              "  .colab-df-quickchart-complete:disabled,\n",
              "  .colab-df-quickchart-complete:disabled:hover {\n",
              "    background-color: var(--disabled-bg-color);\n",
              "    fill: var(--disabled-fill-color);\n",
              "    box-shadow: none;\n",
              "  }\n",
              "\n",
              "  .colab-df-spinner {\n",
              "    border: 2px solid var(--fill-color);\n",
              "    border-color: transparent;\n",
              "    border-bottom-color: var(--fill-color);\n",
              "    animation:\n",
              "      spin 1s steps(1) infinite;\n",
              "  }\n",
              "\n",
              "  @keyframes spin {\n",
              "    0% {\n",
              "      border-color: transparent;\n",
              "      border-bottom-color: var(--fill-color);\n",
              "      border-left-color: var(--fill-color);\n",
              "    }\n",
              "    20% {\n",
              "      border-color: transparent;\n",
              "      border-left-color: var(--fill-color);\n",
              "      border-top-color: var(--fill-color);\n",
              "    }\n",
              "    30% {\n",
              "      border-color: transparent;\n",
              "      border-left-color: var(--fill-color);\n",
              "      border-top-color: var(--fill-color);\n",
              "      border-right-color: var(--fill-color);\n",
              "    }\n",
              "    40% {\n",
              "      border-color: transparent;\n",
              "      border-right-color: var(--fill-color);\n",
              "      border-top-color: var(--fill-color);\n",
              "    }\n",
              "    60% {\n",
              "      border-color: transparent;\n",
              "      border-right-color: var(--fill-color);\n",
              "    }\n",
              "    80% {\n",
              "      border-color: transparent;\n",
              "      border-right-color: var(--fill-color);\n",
              "      border-bottom-color: var(--fill-color);\n",
              "    }\n",
              "    90% {\n",
              "      border-color: transparent;\n",
              "      border-bottom-color: var(--fill-color);\n",
              "    }\n",
              "  }\n",
              "</style>\n",
              "\n",
              "  <script>\n",
              "    async function quickchart(key) {\n",
              "      const quickchartButtonEl =\n",
              "        document.querySelector('#' + key + ' button');\n",
              "      quickchartButtonEl.disabled = true;  // To prevent multiple clicks.\n",
              "      quickchartButtonEl.classList.add('colab-df-spinner');\n",
              "      try {\n",
              "        const charts = await google.colab.kernel.invokeFunction(\n",
              "            'suggestCharts', [key], {});\n",
              "      } catch (error) {\n",
              "        console.error('Error during call to suggestCharts:', error);\n",
              "      }\n",
              "      quickchartButtonEl.classList.remove('colab-df-spinner');\n",
              "      quickchartButtonEl.classList.add('colab-df-quickchart-complete');\n",
              "    }\n",
              "    (() => {\n",
              "      let quickchartButtonEl =\n",
              "        document.querySelector('#df-476c844b-2471-4a17-9258-749d0a3ccb6e button');\n",
              "      quickchartButtonEl.style.display =\n",
              "        google.colab.kernel.accessAllowed ? 'block' : 'none';\n",
              "    })();\n",
              "  </script>\n",
              "</div>\n",
              "\n",
              "    </div>\n",
              "  </div>\n"
            ],
            "application/vnd.google.colaboratory.intrinsic+json": {
              "type": "dataframe",
              "variable_name": "dataset",
              "summary": "{\n  \"name\": \"dataset\",\n  \"rows\": 9980,\n  \"fields\": [\n    {\n      \"column\": \"Question_body\",\n      \"properties\": {\n        \"dtype\": \"string\",\n        \"num_unique_values\": 9980,\n        \"samples\": [\n          \"I have the following three network architectures (similar to <a href=\\\"https://docs.aws.amazon.com/vpc/latest/userguide/VPC_Scenario3.html\\\" rel=\\\"nofollow noreferrer\\\">https://docs.aws.amazon.com/vpc/latest/userguide/VPC_Scenario3.html</a>) that are to be used on web-based, DB-driven applications to:\\n\\n<ul>\\n<li>enhance communications between servers efficiently</li>\\n<li>develop secure</li>\\n<li>network policies keep nodes secure and organized</li>\\n</ul>\\n\\nNote the CIDRs for each VPC and each subnet. Each subnet\\u00e2\\u20ac\\u2122s access is controlled by Route Tables and Network Access Control Lists which are not displayed in the diagrams for simplicity reasons. All subnets are different, some are public and some are private, some need to interact with some other ones as can be seen with the arrows.\\n\\n<img src=\\\"https://puma-2019.s3.amazonaws.com/cloud-vpc-architectures.jpg\\\" alt=\\\"cloud-vpc-architectures\\\">\\n\\nQuestions:\\n\\n<ol>\\n<li>Is <strong>VPC Architecture 2</strong> an enhancement over <strong>VPC Architecture 1</strong>?</li>\\n<li>Is <strong>VPC Architecture 3</strong> an enhancement over <strong>VPC Architecture 2</strong>? (Note how each VPC CIDR is the same 10.0.0.0/20)</li>\\n<li>Is there or could there be a penalty for <strong>VPC Architecture 3</strong> to have the same VPC CIDR of 10.0.0.0/20?\\n\\n<ul>\\n<li>What if I decide to bridge vpc-4 and vpc-5?</li>\\n</ul></li>\\n<li>If none of these architectures are good for my web-db networking needs, could you provide or point me towards good network architecture guidelines?</li>\\n</ol>\\n\\nThoughts are greatly appreciated.\\n\",\n          \"First- you had a syntax error - missing <code>+</code> here:\\n\\n<pre><code>e.type) ? \\\"-\\\" + e.type \\\" state:true-\\\"\\n                       ^----\\n</code></pre>\\n\\nSecond - it's better access elements using <code>document.getElementById</code> and not directly by their id:\\n\\n<pre><code>document.getElementById('log')\\n</code></pre>\\n\\n<div class=\\\"snippet\\\" data-lang=\\\"js\\\" data-hide=\\\"false\\\" data-console=\\\"true\\\" data-babel=\\\"false\\\">_x000D_\\n<div class=\\\"snippet-code\\\">_x000D_\\n<pre class=\\\"snippet-code-html lang-html prettyprint-override\\\"><code>&lt;!DOCTYPE html&gt;_x000D_\\n&lt;html&gt;_x000D_\\n&lt;head&gt;_x000D_\\n    &lt;title&gt;&lt;/title&gt;_x000D_\\n&lt;/head&gt;_x000D_\\n&lt;body&gt;Some sample text inside body_x000D_\\n    &lt;div id=\\\"log\\\"&gt;&lt;/div&gt;_x000D_\\n    &lt;script&gt;_x000D_\\n        var log = document.getElementById('log');_x000D_\\n        var clipboardEventsHandler = ['beforecut', 'cut', 'beforecopy', 'copy', 'paste'].forEach((evt) =&gt; {_x000D_\\n            document.addEventListener(evt, (e) =&gt; {_x000D_\\n                log.innerHTML += (\\\"-\\\" + e.type + \\\"-\\\");_x000D_\\n                log.innerHTML += (document.queryCommandSupported(e.type) ? \\\"-\\\" + e.type + \\\" supported-\\\" : \\\"-\\\" + e.type + \\\" **not** supported-\\\");_x000D_\\n                log.innerHTML += (document.queryCommandEnabled(e.type) ? \\\"-\\\" + e.type + \\\" enabled-\\\" : \\\"-\\\" + e.type + \\\" **not** enabled-\\\");_x000D_\\n                log.innerHTML += (document.queryCommandState(e.type) ? \\\"-\\\" + e.type + \\\" state:true-\\\" : \\\"-\\\" + e.type + \\\" state:false/null-\\\");_x000D_\\n                log.innerHTML += \\\"&lt;br&gt;\\\"_x000D_\\n            })_x000D_\\n        });_x000D_\\n    &lt;/script&gt;_x000D_\\n&lt;/body&gt;_x000D_\\n&lt;/html&gt;</code></pre>_x000D_\\n</div>_x000D_\\n</div>_x000D_\\n\\n\",\n          \"I'm relatively new to GCP and just starting to setup/evaluate my organizations architecture on GCP.\\n\\nScenario: <br>\\nData will flow into a pub/sub topic (high frequency, low amount of data). The goal is to move that data into Big Table. From my understanding you can do that either with a having a cloud function triggering on the topic or with Dataflow.\\n\\nNow I have previous experience with cloud functions which I am satisfied with, so that would be my pick.\\n\\nI fail to see the benefit of choosing one over the other. So my question is when to choose what of these products?\\n\\nThanks\\n\"\n        ],\n        \"semantic_type\": \"\",\n        \"description\": \"\"\n      }\n    },\n    {\n      \"column\": \"Label\",\n      \"properties\": {\n        \"dtype\": \"number\",\n        \"std\": 0,\n        \"min\": 0,\n        \"max\": 1,\n        \"num_unique_values\": 2,\n        \"samples\": [\n          0,\n          1\n        ],\n        \"semantic_type\": \"\",\n        \"description\": \"\"\n      }\n    }\n  ]\n}"
            }
          },
          "metadata": {},
          "execution_count": 5
        }
      ]
    },
    {
      "cell_type": "markdown",
      "source": [
        "# Tokenization"
      ],
      "metadata": {
        "id": "9gXEj3UOXcw0"
      }
    },
    {
      "cell_type": "code",
      "source": [
        "import spacy\n",
        "nlp = spacy.load(\"en_core_web_sm\")\n",
        "stop_words = nlp.Defaults.stop_words\n",
        "print(stop_words)\n",
        "print(\"-----------------------------------------------\")\n",
        "\n",
        "import string\n",
        "punctuations = string.punctuation\n",
        "print(punctuations)"
      ],
      "metadata": {
        "colab": {
          "base_uri": "https://localhost:8080/"
        },
        "id": "5qmYvgr1Xjt0",
        "outputId": "930732f9-d30e-4d88-eb2e-b93215ec0651"
      },
      "execution_count": 6,
      "outputs": [
        {
          "output_type": "stream",
          "name": "stdout",
          "text": [
            "{'forty', 'n’t', 'thence', 'will', 'well', 'both', 'sometime', 'towards', 'unless', 'although', 'amount', 'per', 'or', 'was', 'under', 'whatever', 'would', 'becoming', 'above', 'ours', 'make', 'ca', 'keep', 'through', 'namely', 'thereafter', 'their', 'empty', 'once', 'this', 'had', 'she', 'see', 'either', 'into', 'whereas', 'up', 'enough', 'anyone', 'seems', 'that', 'least', '‘s', 'whence', 'toward', 'anywhere', 'if', 'here', 'take', 'please', 'together', 'by', 'noone', 'already', 'seemed', 'also', 'other', 'call', 'thereby', 'except', 'elsewhere', 'often', 'below', 'the', \"'s\", 'else', 'me', 'who', 'he', 'your', 'herein', 'mostly', 'which', 'more', 'somewhere', 'hereupon', 'less', 'our', 'anyhow', 'four', 'go', '‘ve', 'always', 'on', 'just', 'moreover', 'n‘t', 'an', 'then', 'therefore', 'my', 'latterly', '‘ll', 'between', 'ten', 'besides', 'some', 'hence', 'get', 'too', 'while', 'how', 'when', 'quite', 'its', 'same', 'really', 'doing', 'alone', 'nothing', 're', 'third', 'there', 'name', 'i', 'latter', 'among', '’ll', 'however', \"'re\", 'may', 'before', 'mine', 'with', 'everyone', 'ever', 'last', '’s', 'against', 'own', 'a', 'something', 'why', 'someone', 'much', 'indeed', 'six', 'eight', 'itself', 'no', 'many', 'various', 'afterwards', 'down', 'meanwhile', 'so', 'very', 'himself', 'onto', 'out', 'must', '’d', 'everywhere', 'should', 'neither', 'still', 'move', 'they', 'perhaps', 'wherever', 'any', 'thereupon', 'full', 'after', 'about', 'twelve', 'those', 'being', 'not', 'formerly', 'first', 'ourselves', 'upon', 'has', 'nevertheless', 'herself', 'beside', 'than', 'whether', 'since', 'though', 'whither', 'done', 'one', 'every', 'did', 'say', 'regarding', 'him', 'are', 'next', 'everything', 'further', 'top', 'from', 'again', 'across', 'seeming', 'none', 'been', 'themselves', 'former', 'for', 'throughout', 'could', 'as', 'to', 'wherein', 'nowhere', '‘re', 'give', 'behind', 'yours', 'otherwise', '‘m', 'do', 'put', 'five', 'over', '’m', 'of', \"'ll\", 'all', 'only', 'rather', 'become', 'thus', 'where', 'whereby', 'within', 'using', 'most', '’ve', 'what', 'even', 'back', 'anything', 'became', 'whenever', 'might', 'we', 'eleven', 'such', 'were', 'his', 'due', 'nine', 'front', 'nor', 'beforehand', 'during', 'others', 'another', \"'d\", 'whereupon', 'hereafter', 'yet', 'does', 'therein', 'them', 'hundred', 'two', 'never', 'at', 'around', 'serious', \"'m\", 'thru', 'because', \"'ve\", 'twenty', 'almost', 'whole', 'amongst', 'without', 'fifteen', 'made', 'whoever', 'part', 'us', 'am', 'several', 'until', 'seem', \"n't\", 'in', '’re', 'is', 'somehow', 'can', 'hers', 'sixty', 'hereby', 'yourselves', 'whose', 'cannot', 'be', 'sometimes', 'nobody', 'three', 'yourself', 'beyond', 'now', 'each', 'have', 'used', 'becomes', 'whereafter', 'whom', 'her', 'along', 'via', 'show', 'and', 'side', 'myself', 'off', '‘d', 'anyway', 'fifty', 'these', 'few', 'it', 'but', 'bottom', 'you'}\n",
            "-----------------------------------------------\n",
            "!\"#$%&'()*+,-./:;<=>?@[\\]^_`{|}~\n"
          ]
        }
      ]
    },
    {
      "cell_type": "code",
      "source": [
        "# Creating our tokenizer function\n",
        "def spacy_tokenizer(sentence):\n",
        "    # Creating our token object, which is used to create documents with linguistic annotations.\n",
        "    doc = nlp(sentence)\n",
        "    #print(doc)\n",
        "    # print(type(doc))\n",
        "\n",
        "    # Lemmatizing each token and converting each token into lowercase\n",
        "    mytokens = [ word.lemma_.lower().strip() for word in doc ]\n",
        "\n",
        "    # print(mytokens)\n",
        "\n",
        "    # Removing stop words\n",
        "    mytokens = [ word for word in mytokens if word not in stop_words and word not in punctuations ]\n",
        "\n",
        "    # return preprocessed list of tokens\n",
        "    return mytokens"
      ],
      "metadata": {
        "id": "wF_oEFKLXnP8"
      },
      "execution_count": 7,
      "outputs": []
    },
    {
      "cell_type": "code",
      "source": [
        "dataset['Tokens'] = dataset['Question_body'].apply(spacy_tokenizer)"
      ],
      "metadata": {
        "id": "0xr0q7txX66U"
      },
      "execution_count": 8,
      "outputs": []
    },
    {
      "cell_type": "code",
      "source": [
        "# Save the updated DataFrame to an Excel file\n",
        "dataset.to_excel('posts.xlsx', index=False)"
      ],
      "metadata": {
        "id": "hkk4FhqQx3tL"
      },
      "execution_count": 9,
      "outputs": []
    },
    {
      "cell_type": "code",
      "source": [
        "dataset.head()"
      ],
      "metadata": {
        "id": "UDtj1vnWXyOE",
        "colab": {
          "base_uri": "https://localhost:8080/",
          "height": 206
        },
        "outputId": "3f7fe20d-bbc1-4068-fb8a-d40a405a3293"
      },
      "execution_count": 10,
      "outputs": [
        {
          "output_type": "execute_result",
          "data": {
            "text/plain": [
              "                                       Question_body  Label  \\\n",
              "0  Here's the architecture:\\n<ol>\\n<li>Input comp...      1   \n",
              "1  I am confused about the architecture of Razor ...      1   \n",
              "2  I have some spring boot microservices and I wa...      1   \n",
              "3  I'm trying to properly design an application a...      1   \n",
              "4  I heard that for .NET8 Microsoft gifted us wit...      1   \n",
              "\n",
              "                                              Tokens  \n",
              "0  [architecture, ol, li, input, component, recei...  \n",
              "1  [confused, architecture, razor, pages, asp.net...  \n",
              "2  [spring, boot, microservice, want, use, micros...  \n",
              "3  [try, properly, design, application, accord, c...  \n",
              "4  [hear, .net8, microsoft, gift, totally, quot;f...  "
            ],
            "text/html": [
              "\n",
              "  <div id=\"df-475837db-6351-43b4-9973-24103e49d59e\" class=\"colab-df-container\">\n",
              "    <div>\n",
              "<style scoped>\n",
              "    .dataframe tbody tr th:only-of-type {\n",
              "        vertical-align: middle;\n",
              "    }\n",
              "\n",
              "    .dataframe tbody tr th {\n",
              "        vertical-align: top;\n",
              "    }\n",
              "\n",
              "    .dataframe thead th {\n",
              "        text-align: right;\n",
              "    }\n",
              "</style>\n",
              "<table border=\"1\" class=\"dataframe\">\n",
              "  <thead>\n",
              "    <tr style=\"text-align: right;\">\n",
              "      <th></th>\n",
              "      <th>Question_body</th>\n",
              "      <th>Label</th>\n",
              "      <th>Tokens</th>\n",
              "    </tr>\n",
              "  </thead>\n",
              "  <tbody>\n",
              "    <tr>\n",
              "      <th>0</th>\n",
              "      <td>Here's the architecture:\\n&lt;ol&gt;\\n&lt;li&gt;Input comp...</td>\n",
              "      <td>1</td>\n",
              "      <td>[architecture, ol, li, input, component, recei...</td>\n",
              "    </tr>\n",
              "    <tr>\n",
              "      <th>1</th>\n",
              "      <td>I am confused about the architecture of Razor ...</td>\n",
              "      <td>1</td>\n",
              "      <td>[confused, architecture, razor, pages, asp.net...</td>\n",
              "    </tr>\n",
              "    <tr>\n",
              "      <th>2</th>\n",
              "      <td>I have some spring boot microservices and I wa...</td>\n",
              "      <td>1</td>\n",
              "      <td>[spring, boot, microservice, want, use, micros...</td>\n",
              "    </tr>\n",
              "    <tr>\n",
              "      <th>3</th>\n",
              "      <td>I'm trying to properly design an application a...</td>\n",
              "      <td>1</td>\n",
              "      <td>[try, properly, design, application, accord, c...</td>\n",
              "    </tr>\n",
              "    <tr>\n",
              "      <th>4</th>\n",
              "      <td>I heard that for .NET8 Microsoft gifted us wit...</td>\n",
              "      <td>1</td>\n",
              "      <td>[hear, .net8, microsoft, gift, totally, quot;f...</td>\n",
              "    </tr>\n",
              "  </tbody>\n",
              "</table>\n",
              "</div>\n",
              "    <div class=\"colab-df-buttons\">\n",
              "\n",
              "  <div class=\"colab-df-container\">\n",
              "    <button class=\"colab-df-convert\" onclick=\"convertToInteractive('df-475837db-6351-43b4-9973-24103e49d59e')\"\n",
              "            title=\"Convert this dataframe to an interactive table.\"\n",
              "            style=\"display:none;\">\n",
              "\n",
              "  <svg xmlns=\"http://www.w3.org/2000/svg\" height=\"24px\" viewBox=\"0 -960 960 960\">\n",
              "    <path d=\"M120-120v-720h720v720H120Zm60-500h600v-160H180v160Zm220 220h160v-160H400v160Zm0 220h160v-160H400v160ZM180-400h160v-160H180v160Zm440 0h160v-160H620v160ZM180-180h160v-160H180v160Zm440 0h160v-160H620v160Z\"/>\n",
              "  </svg>\n",
              "    </button>\n",
              "\n",
              "  <style>\n",
              "    .colab-df-container {\n",
              "      display:flex;\n",
              "      gap: 12px;\n",
              "    }\n",
              "\n",
              "    .colab-df-convert {\n",
              "      background-color: #E8F0FE;\n",
              "      border: none;\n",
              "      border-radius: 50%;\n",
              "      cursor: pointer;\n",
              "      display: none;\n",
              "      fill: #1967D2;\n",
              "      height: 32px;\n",
              "      padding: 0 0 0 0;\n",
              "      width: 32px;\n",
              "    }\n",
              "\n",
              "    .colab-df-convert:hover {\n",
              "      background-color: #E2EBFA;\n",
              "      box-shadow: 0px 1px 2px rgba(60, 64, 67, 0.3), 0px 1px 3px 1px rgba(60, 64, 67, 0.15);\n",
              "      fill: #174EA6;\n",
              "    }\n",
              "\n",
              "    .colab-df-buttons div {\n",
              "      margin-bottom: 4px;\n",
              "    }\n",
              "\n",
              "    [theme=dark] .colab-df-convert {\n",
              "      background-color: #3B4455;\n",
              "      fill: #D2E3FC;\n",
              "    }\n",
              "\n",
              "    [theme=dark] .colab-df-convert:hover {\n",
              "      background-color: #434B5C;\n",
              "      box-shadow: 0px 1px 3px 1px rgba(0, 0, 0, 0.15);\n",
              "      filter: drop-shadow(0px 1px 2px rgba(0, 0, 0, 0.3));\n",
              "      fill: #FFFFFF;\n",
              "    }\n",
              "  </style>\n",
              "\n",
              "    <script>\n",
              "      const buttonEl =\n",
              "        document.querySelector('#df-475837db-6351-43b4-9973-24103e49d59e button.colab-df-convert');\n",
              "      buttonEl.style.display =\n",
              "        google.colab.kernel.accessAllowed ? 'block' : 'none';\n",
              "\n",
              "      async function convertToInteractive(key) {\n",
              "        const element = document.querySelector('#df-475837db-6351-43b4-9973-24103e49d59e');\n",
              "        const dataTable =\n",
              "          await google.colab.kernel.invokeFunction('convertToInteractive',\n",
              "                                                    [key], {});\n",
              "        if (!dataTable) return;\n",
              "\n",
              "        const docLinkHtml = 'Like what you see? Visit the ' +\n",
              "          '<a target=\"_blank\" href=https://colab.research.google.com/notebooks/data_table.ipynb>data table notebook</a>'\n",
              "          + ' to learn more about interactive tables.';\n",
              "        element.innerHTML = '';\n",
              "        dataTable['output_type'] = 'display_data';\n",
              "        await google.colab.output.renderOutput(dataTable, element);\n",
              "        const docLink = document.createElement('div');\n",
              "        docLink.innerHTML = docLinkHtml;\n",
              "        element.appendChild(docLink);\n",
              "      }\n",
              "    </script>\n",
              "  </div>\n",
              "\n",
              "\n",
              "<div id=\"df-d01b5ced-20fd-4cbc-b1ef-7ef5d8de4b95\">\n",
              "  <button class=\"colab-df-quickchart\" onclick=\"quickchart('df-d01b5ced-20fd-4cbc-b1ef-7ef5d8de4b95')\"\n",
              "            title=\"Suggest charts\"\n",
              "            style=\"display:none;\">\n",
              "\n",
              "<svg xmlns=\"http://www.w3.org/2000/svg\" height=\"24px\"viewBox=\"0 0 24 24\"\n",
              "     width=\"24px\">\n",
              "    <g>\n",
              "        <path d=\"M19 3H5c-1.1 0-2 .9-2 2v14c0 1.1.9 2 2 2h14c1.1 0 2-.9 2-2V5c0-1.1-.9-2-2-2zM9 17H7v-7h2v7zm4 0h-2V7h2v10zm4 0h-2v-4h2v4z\"/>\n",
              "    </g>\n",
              "</svg>\n",
              "  </button>\n",
              "\n",
              "<style>\n",
              "  .colab-df-quickchart {\n",
              "      --bg-color: #E8F0FE;\n",
              "      --fill-color: #1967D2;\n",
              "      --hover-bg-color: #E2EBFA;\n",
              "      --hover-fill-color: #174EA6;\n",
              "      --disabled-fill-color: #AAA;\n",
              "      --disabled-bg-color: #DDD;\n",
              "  }\n",
              "\n",
              "  [theme=dark] .colab-df-quickchart {\n",
              "      --bg-color: #3B4455;\n",
              "      --fill-color: #D2E3FC;\n",
              "      --hover-bg-color: #434B5C;\n",
              "      --hover-fill-color: #FFFFFF;\n",
              "      --disabled-bg-color: #3B4455;\n",
              "      --disabled-fill-color: #666;\n",
              "  }\n",
              "\n",
              "  .colab-df-quickchart {\n",
              "    background-color: var(--bg-color);\n",
              "    border: none;\n",
              "    border-radius: 50%;\n",
              "    cursor: pointer;\n",
              "    display: none;\n",
              "    fill: var(--fill-color);\n",
              "    height: 32px;\n",
              "    padding: 0;\n",
              "    width: 32px;\n",
              "  }\n",
              "\n",
              "  .colab-df-quickchart:hover {\n",
              "    background-color: var(--hover-bg-color);\n",
              "    box-shadow: 0 1px 2px rgba(60, 64, 67, 0.3), 0 1px 3px 1px rgba(60, 64, 67, 0.15);\n",
              "    fill: var(--button-hover-fill-color);\n",
              "  }\n",
              "\n",
              "  .colab-df-quickchart-complete:disabled,\n",
              "  .colab-df-quickchart-complete:disabled:hover {\n",
              "    background-color: var(--disabled-bg-color);\n",
              "    fill: var(--disabled-fill-color);\n",
              "    box-shadow: none;\n",
              "  }\n",
              "\n",
              "  .colab-df-spinner {\n",
              "    border: 2px solid var(--fill-color);\n",
              "    border-color: transparent;\n",
              "    border-bottom-color: var(--fill-color);\n",
              "    animation:\n",
              "      spin 1s steps(1) infinite;\n",
              "  }\n",
              "\n",
              "  @keyframes spin {\n",
              "    0% {\n",
              "      border-color: transparent;\n",
              "      border-bottom-color: var(--fill-color);\n",
              "      border-left-color: var(--fill-color);\n",
              "    }\n",
              "    20% {\n",
              "      border-color: transparent;\n",
              "      border-left-color: var(--fill-color);\n",
              "      border-top-color: var(--fill-color);\n",
              "    }\n",
              "    30% {\n",
              "      border-color: transparent;\n",
              "      border-left-color: var(--fill-color);\n",
              "      border-top-color: var(--fill-color);\n",
              "      border-right-color: var(--fill-color);\n",
              "    }\n",
              "    40% {\n",
              "      border-color: transparent;\n",
              "      border-right-color: var(--fill-color);\n",
              "      border-top-color: var(--fill-color);\n",
              "    }\n",
              "    60% {\n",
              "      border-color: transparent;\n",
              "      border-right-color: var(--fill-color);\n",
              "    }\n",
              "    80% {\n",
              "      border-color: transparent;\n",
              "      border-right-color: var(--fill-color);\n",
              "      border-bottom-color: var(--fill-color);\n",
              "    }\n",
              "    90% {\n",
              "      border-color: transparent;\n",
              "      border-bottom-color: var(--fill-color);\n",
              "    }\n",
              "  }\n",
              "</style>\n",
              "\n",
              "  <script>\n",
              "    async function quickchart(key) {\n",
              "      const quickchartButtonEl =\n",
              "        document.querySelector('#' + key + ' button');\n",
              "      quickchartButtonEl.disabled = true;  // To prevent multiple clicks.\n",
              "      quickchartButtonEl.classList.add('colab-df-spinner');\n",
              "      try {\n",
              "        const charts = await google.colab.kernel.invokeFunction(\n",
              "            'suggestCharts', [key], {});\n",
              "      } catch (error) {\n",
              "        console.error('Error during call to suggestCharts:', error);\n",
              "      }\n",
              "      quickchartButtonEl.classList.remove('colab-df-spinner');\n",
              "      quickchartButtonEl.classList.add('colab-df-quickchart-complete');\n",
              "    }\n",
              "    (() => {\n",
              "      let quickchartButtonEl =\n",
              "        document.querySelector('#df-d01b5ced-20fd-4cbc-b1ef-7ef5d8de4b95 button');\n",
              "      quickchartButtonEl.style.display =\n",
              "        google.colab.kernel.accessAllowed ? 'block' : 'none';\n",
              "    })();\n",
              "  </script>\n",
              "</div>\n",
              "\n",
              "    </div>\n",
              "  </div>\n"
            ],
            "application/vnd.google.colaboratory.intrinsic+json": {
              "type": "dataframe",
              "variable_name": "dataset",
              "summary": "{\n  \"name\": \"dataset\",\n  \"rows\": 9980,\n  \"fields\": [\n    {\n      \"column\": \"Question_body\",\n      \"properties\": {\n        \"dtype\": \"string\",\n        \"num_unique_values\": 9980,\n        \"samples\": [\n          \"I have the following three network architectures (similar to <a href=\\\"https://docs.aws.amazon.com/vpc/latest/userguide/VPC_Scenario3.html\\\" rel=\\\"nofollow noreferrer\\\">https://docs.aws.amazon.com/vpc/latest/userguide/VPC_Scenario3.html</a>) that are to be used on web-based, DB-driven applications to:\\n\\n<ul>\\n<li>enhance communications between servers efficiently</li>\\n<li>develop secure</li>\\n<li>network policies keep nodes secure and organized</li>\\n</ul>\\n\\nNote the CIDRs for each VPC and each subnet. Each subnet\\u00e2\\u20ac\\u2122s access is controlled by Route Tables and Network Access Control Lists which are not displayed in the diagrams for simplicity reasons. All subnets are different, some are public and some are private, some need to interact with some other ones as can be seen with the arrows.\\n\\n<img src=\\\"https://puma-2019.s3.amazonaws.com/cloud-vpc-architectures.jpg\\\" alt=\\\"cloud-vpc-architectures\\\">\\n\\nQuestions:\\n\\n<ol>\\n<li>Is <strong>VPC Architecture 2</strong> an enhancement over <strong>VPC Architecture 1</strong>?</li>\\n<li>Is <strong>VPC Architecture 3</strong> an enhancement over <strong>VPC Architecture 2</strong>? (Note how each VPC CIDR is the same 10.0.0.0/20)</li>\\n<li>Is there or could there be a penalty for <strong>VPC Architecture 3</strong> to have the same VPC CIDR of 10.0.0.0/20?\\n\\n<ul>\\n<li>What if I decide to bridge vpc-4 and vpc-5?</li>\\n</ul></li>\\n<li>If none of these architectures are good for my web-db networking needs, could you provide or point me towards good network architecture guidelines?</li>\\n</ol>\\n\\nThoughts are greatly appreciated.\\n\",\n          \"First- you had a syntax error - missing <code>+</code> here:\\n\\n<pre><code>e.type) ? \\\"-\\\" + e.type \\\" state:true-\\\"\\n                       ^----\\n</code></pre>\\n\\nSecond - it's better access elements using <code>document.getElementById</code> and not directly by their id:\\n\\n<pre><code>document.getElementById('log')\\n</code></pre>\\n\\n<div class=\\\"snippet\\\" data-lang=\\\"js\\\" data-hide=\\\"false\\\" data-console=\\\"true\\\" data-babel=\\\"false\\\">_x000D_\\n<div class=\\\"snippet-code\\\">_x000D_\\n<pre class=\\\"snippet-code-html lang-html prettyprint-override\\\"><code>&lt;!DOCTYPE html&gt;_x000D_\\n&lt;html&gt;_x000D_\\n&lt;head&gt;_x000D_\\n    &lt;title&gt;&lt;/title&gt;_x000D_\\n&lt;/head&gt;_x000D_\\n&lt;body&gt;Some sample text inside body_x000D_\\n    &lt;div id=\\\"log\\\"&gt;&lt;/div&gt;_x000D_\\n    &lt;script&gt;_x000D_\\n        var log = document.getElementById('log');_x000D_\\n        var clipboardEventsHandler = ['beforecut', 'cut', 'beforecopy', 'copy', 'paste'].forEach((evt) =&gt; {_x000D_\\n            document.addEventListener(evt, (e) =&gt; {_x000D_\\n                log.innerHTML += (\\\"-\\\" + e.type + \\\"-\\\");_x000D_\\n                log.innerHTML += (document.queryCommandSupported(e.type) ? \\\"-\\\" + e.type + \\\" supported-\\\" : \\\"-\\\" + e.type + \\\" **not** supported-\\\");_x000D_\\n                log.innerHTML += (document.queryCommandEnabled(e.type) ? \\\"-\\\" + e.type + \\\" enabled-\\\" : \\\"-\\\" + e.type + \\\" **not** enabled-\\\");_x000D_\\n                log.innerHTML += (document.queryCommandState(e.type) ? \\\"-\\\" + e.type + \\\" state:true-\\\" : \\\"-\\\" + e.type + \\\" state:false/null-\\\");_x000D_\\n                log.innerHTML += \\\"&lt;br&gt;\\\"_x000D_\\n            })_x000D_\\n        });_x000D_\\n    &lt;/script&gt;_x000D_\\n&lt;/body&gt;_x000D_\\n&lt;/html&gt;</code></pre>_x000D_\\n</div>_x000D_\\n</div>_x000D_\\n\\n\",\n          \"I'm relatively new to GCP and just starting to setup/evaluate my organizations architecture on GCP.\\n\\nScenario: <br>\\nData will flow into a pub/sub topic (high frequency, low amount of data). The goal is to move that data into Big Table. From my understanding you can do that either with a having a cloud function triggering on the topic or with Dataflow.\\n\\nNow I have previous experience with cloud functions which I am satisfied with, so that would be my pick.\\n\\nI fail to see the benefit of choosing one over the other. So my question is when to choose what of these products?\\n\\nThanks\\n\"\n        ],\n        \"semantic_type\": \"\",\n        \"description\": \"\"\n      }\n    },\n    {\n      \"column\": \"Label\",\n      \"properties\": {\n        \"dtype\": \"number\",\n        \"std\": 0,\n        \"min\": 0,\n        \"max\": 1,\n        \"num_unique_values\": 2,\n        \"samples\": [\n          0,\n          1\n        ],\n        \"semantic_type\": \"\",\n        \"description\": \"\"\n      }\n    },\n    {\n      \"column\": \"Tokens\",\n      \"properties\": {\n        \"dtype\": \"object\",\n        \"semantic_type\": \"\",\n        \"description\": \"\"\n      }\n    }\n  ]\n}"
            }
          },
          "metadata": {},
          "execution_count": 10
        }
      ]
    },
    {
      "cell_type": "code",
      "source": [
        "x = dataset['Tokens'].map(' '.join)\n",
        "y = dataset['Label']"
      ],
      "metadata": {
        "id": "RwHZvVUNXz5c"
      },
      "execution_count": 11,
      "outputs": []
    },
    {
      "cell_type": "code",
      "source": [
        "#dataset.head()"
      ],
      "metadata": {
        "id": "UJ4T-1h_X14s"
      },
      "execution_count": 12,
      "outputs": []
    },
    {
      "cell_type": "code",
      "source": [
        "X_train, X_test, y_train, y_test = train_test_split(x , y, test_size=0.2, random_state=125)"
      ],
      "metadata": {
        "id": "8X3Uv_KUfqzG"
      },
      "execution_count": 13,
      "outputs": []
    },
    {
      "cell_type": "markdown",
      "source": [
        "# Features Engineering with TF-IDF"
      ],
      "metadata": {
        "id": "3_j-xEaGUzCO"
      }
    },
    {
      "cell_type": "code",
      "source": [
        "# I consider words that appear more than once, so I set the parameter min_df=2\n",
        "from sklearn.feature_extraction.text import TfidfVectorizer\n",
        "tf_idf_vector = TfidfVectorizer(min_df=2).fit(X_train)\n",
        "X_train_vect_tf_idf = tf_idf_vector.transform(X_train).toarray()\n",
        "X_test_vect_tf_idf = tf_idf_vector.transform(X_test).toarray()"
      ],
      "metadata": {
        "id": "KHSM7owcUlh1"
      },
      "execution_count": 14,
      "outputs": []
    },
    {
      "cell_type": "markdown",
      "source": [
        "# Naive Bayes -- TFIDF"
      ],
      "metadata": {
        "id": "Ce99DLK9Uoak"
      }
    },
    {
      "cell_type": "code",
      "source": [
        "from sklearn.naive_bayes import GaussianNB\n",
        "from sklearn.metrics import classification_report"
      ],
      "metadata": {
        "id": "GmHGxsSPfzrD"
      },
      "execution_count": 15,
      "outputs": []
    },
    {
      "cell_type": "code",
      "source": [
        "nb_model = GaussianNB()\n",
        "nb_model = nb_model.fit(X_train_vect_tf_idf, y_train)"
      ],
      "metadata": {
        "id": "fMlvc9WsVAPd"
      },
      "execution_count": 16,
      "outputs": []
    },
    {
      "cell_type": "code",
      "source": [
        "# Predict on the test set\n",
        "y_pred = nb_model.predict(X_test_vect_tf_idf)\n",
        "\n",
        "from sklearn.metrics import precision_recall_fscore_support, confusion_matrix\n",
        "\n",
        "# Compute metrics for each class\n",
        "precision_class, recall_class, f1_class, support_class = precision_recall_fscore_support(y_test, y_pred, average=None, labels=[0, 1])\n",
        "\n",
        "# Compute confusion matrix\n",
        "conf_matrix = confusion_matrix(y_test, y_pred, labels=[0, 1])\n",
        "\n",
        "# Extract TP, TN, FP, FN for each class\n",
        "TP_0 = conf_matrix[0, 0]\n",
        "FN_0 = conf_matrix[0, 1]\n",
        "FP_0 = conf_matrix[1, 0]\n",
        "TN_0 = conf_matrix[1, 1]\n",
        "\n",
        "TP_1 = conf_matrix[1, 1]\n",
        "FN_1 = conf_matrix[1, 0]\n",
        "FP_1 = conf_matrix[0, 1]\n",
        "TN_1 = conf_matrix[0, 0]\n",
        "\n",
        "# Calculate overall accuracy\n",
        "accuracy = (TP_0 + TP_1) / (TP_0 + TP_1 + FP_0 + FP_1 + FN_0 + FN_1)\n",
        "\n",
        "print(f'Overall Accuracy: {accuracy}')\n",
        "print(f'Class 0 - Precision: {precision_class[0]}, Recall: {recall_class[0]}, F1-score: {f1_class[0]}, Support: {support_class[0]}')\n",
        "print(f'Class 1 - Precision: {precision_class[1]}, Recall: {recall_class[1]}, F1-score: {f1_class[1]}, Support: {support_class[1]}')"
      ],
      "metadata": {
        "colab": {
          "base_uri": "https://localhost:8080/"
        },
        "id": "MLslns-AIoE1",
        "outputId": "ae28dd84-83dc-4818-fccf-5feceb6bd77c"
      },
      "execution_count": 17,
      "outputs": [
        {
          "output_type": "stream",
          "name": "stdout",
          "text": [
            "Overall Accuracy: 0.708904109589041\n",
            "Class 0 - Precision: 0.8590398365679265, Recall: 0.8063279002876318, F1-score: 0.8318496538081108, Support: 1043\n",
            "Class 1 - Precision: 0.8013765978367748, Recall: 0.8551941238195173, F1-score: 0.8274111675126904, Support: 953\n"
          ]
        }
      ]
    },
    {
      "cell_type": "code",
      "source": [
        "from sklearn.metrics import confusion_matrix\n",
        "import seaborn as sns\n",
        "import matplotlib.pyplot as plt\n",
        "\n",
        "cm = confusion_matrix(y_test, y_pred)\n",
        "sns.heatmap(cm, annot=True, fmt='d', cmap='Blues', xticklabels=['Predicted 0', 'Predicted 1'], yticklabels=['Actual 0', 'Actual 1'])\n",
        "plt.xlabel('Predicted')\n",
        "plt.ylabel('Actual')\n",
        "plt.show()"
      ],
      "metadata": {
        "colab": {
          "base_uri": "https://localhost:8080/",
          "height": 449
        },
        "id": "M2Tsf87W_SHa",
        "outputId": "804420d3-5e0a-4c23-a2ef-f5f7deaff8ac"
      },
      "execution_count": 32,
      "outputs": [
        {
          "output_type": "display_data",
          "data": {
            "text/plain": [
              "<Figure size 640x480 with 2 Axes>"
            ],
            "image/png": "[encoded data removed]"
          },
          "metadata": {}
        }
      ]
    },
    {
      "cell_type": "markdown",
      "source": [
        "# kNN with TF-IDF"
      ],
      "metadata": {
        "id": "pco9uZ_jYCIu"
      }
    },
    {
      "cell_type": "code",
      "source": [
        "from sklearn.neighbors import KNeighborsClassifier\n",
        "from sklearn.metrics import classification_report"
      ],
      "metadata": {
        "id": "BywgMI6nYBwc"
      },
      "execution_count": 18,
      "outputs": []
    },
    {
      "cell_type": "code",
      "source": [
        "knn_model = KNeighborsClassifier(n_neighbors=1)\n",
        "knn_model.fit(X_train_vect_tf_idf, y_train)"
      ],
      "metadata": {
        "colab": {
          "base_uri": "https://localhost:8080/",
          "height": 74
        },
        "id": "3ZnJlL2JYUjL",
        "outputId": "c8b550c5-44f9-4b61-c206-d9fd93b352a5"
      },
      "execution_count": 19,
      "outputs": [
        {
          "output_type": "execute_result",
          "data": {
            "text/plain": [
              "KNeighborsClassifier(n_neighbors=1)"
            ],
            "text/html": [
              "<style>#sk-container-id-1 {color: black;}#sk-container-id-1 pre{padding: 0;}#sk-container-id-1 div.sk-toggleable {background-color: white;}#sk-container-id-1 label.sk-toggleable__label {cursor: pointer;display: block;width: 100%;margin-bottom: 0;padding: 0.3em;box-sizing: border-box;text-align: center;}#sk-container-id-1 label.sk-toggleable__label-arrow:before {content: \"▸\";float: left;margin-right: 0.25em;color: #696969;}#sk-container-id-1 label.sk-toggleable__label-arrow:hover:before {color: black;}#sk-container-id-1 div.sk-estimator:hover label.sk-toggleable__label-arrow:before {color: black;}#sk-container-id-1 div.sk-toggleable__content {max-height: 0;max-width: 0;overflow: hidden;text-align: left;background-color: #f0f8ff;}#sk-container-id-1 div.sk-toggleable__content pre {margin: 0.2em;color: black;border-radius: 0.25em;background-color: #f0f8ff;}#sk-container-id-1 input.sk-toggleable__control:checked~div.sk-toggleable__content {max-height: 200px;max-width: 100%;overflow: auto;}#sk-container-id-1 input.sk-toggleable__control:checked~label.sk-toggleable__label-arrow:before {content: \"▾\";}#sk-container-id-1 div.sk-estimator input.sk-toggleable__control:checked~label.sk-toggleable__label {background-color: #d4ebff;}#sk-container-id-1 div.sk-label input.sk-toggleable__control:checked~label.sk-toggleable__label {background-color: #d4ebff;}#sk-container-id-1 input.sk-hidden--visually {border: 0;clip: rect(1px 1px 1px 1px);clip: rect(1px, 1px, 1px, 1px);height: 1px;margin: -1px;overflow: hidden;padding: 0;position: absolute;width: 1px;}#sk-container-id-1 div.sk-estimator {font-family: monospace;background-color: #f0f8ff;border: 1px dotted black;border-radius: 0.25em;box-sizing: border-box;margin-bottom: 0.5em;}#sk-container-id-1 div.sk-estimator:hover {background-color: #d4ebff;}#sk-container-id-1 div.sk-parallel-item::after {content: \"\";width: 100%;border-bottom: 1px solid gray;flex-grow: 1;}#sk-container-id-1 div.sk-label:hover label.sk-toggleable__label {background-color: #d4ebff;}#sk-container-id-1 div.sk-serial::before {content: \"\";position: absolute;border-left: 1px solid gray;box-sizing: border-box;top: 0;bottom: 0;left: 50%;z-index: 0;}#sk-container-id-1 div.sk-serial {display: flex;flex-direction: column;align-items: center;background-color: white;padding-right: 0.2em;padding-left: 0.2em;position: relative;}#sk-container-id-1 div.sk-item {position: relative;z-index: 1;}#sk-container-id-1 div.sk-parallel {display: flex;align-items: stretch;justify-content: center;background-color: white;position: relative;}#sk-container-id-1 div.sk-item::before, #sk-container-id-1 div.sk-parallel-item::before {content: \"\";position: absolute;border-left: 1px solid gray;box-sizing: border-box;top: 0;bottom: 0;left: 50%;z-index: -1;}#sk-container-id-1 div.sk-parallel-item {display: flex;flex-direction: column;z-index: 1;position: relative;background-color: white;}#sk-container-id-1 div.sk-parallel-item:first-child::after {align-self: flex-end;width: 50%;}#sk-container-id-1 div.sk-parallel-item:last-child::after {align-self: flex-start;width: 50%;}#sk-container-id-1 div.sk-parallel-item:only-child::after {width: 0;}#sk-container-id-1 div.sk-dashed-wrapped {border: 1px dashed gray;margin: 0 0.4em 0.5em 0.4em;box-sizing: border-box;padding-bottom: 0.4em;background-color: white;}#sk-container-id-1 div.sk-label label {font-family: monospace;font-weight: bold;display: inline-block;line-height: 1.2em;}#sk-container-id-1 div.sk-label-container {text-align: center;}#sk-container-id-1 div.sk-container {/* jupyter's `normalize.less` sets `[hidden] { display: none; }` but bootstrap.min.css set `[hidden] { display: none !important; }` so we also need the `!important` here to be able to override the default hidden behavior on the sphinx rendered scikit-learn.org. See: https://github.com/scikit-learn/scikit-learn/issues/21755 */display: inline-block !important;position: relative;}#sk-container-id-1 div.sk-text-repr-fallback {display: none;}</style><div id=\"sk-container-id-1\" class=\"sk-top-container\"><div class=\"sk-text-repr-fallback\"><pre>KNeighborsClassifier(n_neighbors=1)</pre><b>In a Jupyter environment, please rerun this cell to show the HTML representation or trust the notebook. <br />On GitHub, the HTML representation is unable to render, please try loading this page with nbviewer.org.</b></div><div class=\"sk-container\" hidden><div class=\"sk-item\"><div class=\"sk-estimator sk-toggleable\"><input class=\"sk-toggleable__control sk-hidden--visually\" id=\"sk-estimator-id-1\" type=\"checkbox\" checked><label for=\"sk-estimator-id-1\" class=\"sk-toggleable__label sk-toggleable__label-arrow\">KNeighborsClassifier</label><div class=\"sk-toggleable__content\"><pre>KNeighborsClassifier(n_neighbors=1)</pre></div></div></div></div></div>"
            ]
          },
          "metadata": {},
          "execution_count": 19
        }
      ]
    },
    {
      "cell_type": "code",
      "source": [
        "# Predict on the test set\n",
        "y_pred = knn_model.predict(X_test_vect_tf_idf)\n",
        "\n",
        "from sklearn.metrics import precision_recall_fscore_support, confusion_matrix\n",
        "\n",
        "# Compute metrics for each class\n",
        "precision_class, recall_class, f1_class, support_class = precision_recall_fscore_support(y_test, y_pred, average=None, labels=[0, 1])\n",
        "\n",
        "# Compute confusion matrix\n",
        "conf_matrix = confusion_matrix(y_test, y_pred, labels=[0, 1])\n",
        "\n",
        "# Extract TP, TN, FP, FN for each class\n",
        "TP_0 = conf_matrix[0, 0]\n",
        "FN_0 = conf_matrix[0, 1]\n",
        "FP_0 = conf_matrix[1, 0]\n",
        "TN_0 = conf_matrix[1, 1]\n",
        "\n",
        "TP_1 = conf_matrix[1, 1]\n",
        "FN_1 = conf_matrix[1, 0]\n",
        "FP_1 = conf_matrix[0, 1]\n",
        "TN_1 = conf_matrix[0, 0]\n",
        "\n",
        "# Calculate overall accuracy\n",
        "accuracy = (TP_0 + TP_1) / (TP_0 + TP_1 + FP_0 + FP_1 + FN_0 + FN_1)\n",
        "\n",
        "print(f'Overall Accuracy: {accuracy}')\n",
        "print(f'Class 0 - Precision: {precision_class[0]}, Recall: {recall_class[0]}, F1-score: {f1_class[0]}, Support: {support_class[0]}')\n",
        "print(f'Class 1 - Precision: {precision_class[1]}, Recall: {recall_class[1]}, F1-score: {f1_class[1]}, Support: {support_class[1]}')"
      ],
      "metadata": {
        "colab": {
          "base_uri": "https://localhost:8080/"
        },
        "id": "J2w4IuCKJZZk",
        "outputId": "298dee5b-0b17-457a-a201-9428c7282de6"
      },
      "execution_count": 20,
      "outputs": [
        {
          "output_type": "stream",
          "name": "stdout",
          "text": [
            "Overall Accuracy: 0.7861297539149888\n",
            "Class 0 - Precision: 0.8688073394495412, Recall: 0.9079578139980825, F1-score: 0.8879512423816222, Support: 1043\n",
            "Class 1 - Precision: 0.8940397350993378, Recall: 0.8499475341028332, F1-score: 0.8714362560516407, Support: 953\n"
          ]
        }
      ]
    },
    {
      "cell_type": "code",
      "source": [
        "from sklearn.metrics import confusion_matrix\n",
        "import seaborn as sns\n",
        "import matplotlib.pyplot as plt\n",
        "\n",
        "cm = confusion_matrix(y_test, y_pred)\n",
        "sns.heatmap(cm, annot=True, fmt='d', cmap='Blues', xticklabels=['Predicted 0', 'Predicted 1'], yticklabels=['Actual 0', 'Actual 1'])\n",
        "plt.xlabel('Predicted')\n",
        "plt.ylabel('Actual')\n",
        "plt.show()"
      ],
      "metadata": {
        "colab": {
          "base_uri": "https://localhost:8080/",
          "height": 449
        },
        "id": "EbbkpjBj_Ulb",
        "outputId": "fe53cead-8cea-4288-a224-df21513b62e3"
      },
      "execution_count": 33,
      "outputs": [
        {
          "output_type": "display_data",
          "data": {
            "text/plain": [
              "<Figure size 640x480 with 2 Axes>"
            ],
            "image/png": "[encoded data removed]"
          },
          "metadata": {}
        }
      ]
    },
    {
      "cell_type": "markdown",
      "source": [
        "# Decison Tree with TF-IDF"
      ],
      "metadata": {
        "id": "HtfqmxfJYgiL"
      }
    },
    {
      "cell_type": "code",
      "source": [
        "from sklearn.tree import DecisionTreeClassifier\n",
        "dt_model = DecisionTreeClassifier()\n",
        "dt_model = dt_model.fit(X_train_vect_tf_idf, y_train)"
      ],
      "metadata": {
        "id": "lJMcuXD4YnL8"
      },
      "execution_count": 21,
      "outputs": []
    },
    {
      "cell_type": "code",
      "source": [
        "# Predict on the test set\n",
        "y_pred = dt_model.predict(X_test_vect_tf_idf)\n",
        "\n",
        "from sklearn.metrics import precision_recall_fscore_support, confusion_matrix\n",
        "\n",
        "# Compute metrics for each class\n",
        "precision_class, recall_class, f1_class, support_class = precision_recall_fscore_support(y_test, y_pred, average=None, labels=[0, 1])\n",
        "\n",
        "# Compute confusion matrix\n",
        "conf_matrix = confusion_matrix(y_test, y_pred, labels=[0, 1])\n",
        "\n",
        "# Extract TP, TN, FP, FN for each class\n",
        "TP_0 = conf_matrix[0, 0]\n",
        "FN_0 = conf_matrix[0, 1]\n",
        "FP_0 = conf_matrix[1, 0]\n",
        "TN_0 = conf_matrix[1, 1]\n",
        "\n",
        "TP_1 = conf_matrix[1, 1]\n",
        "FN_1 = conf_matrix[1, 0]\n",
        "FP_1 = conf_matrix[0, 1]\n",
        "TN_1 = conf_matrix[0, 0]\n",
        "\n",
        "# Calculate overall accuracy\n",
        "accuracy = (TP_0 + TP_1) / (TP_0 + TP_1 + FP_0 + FP_1 + FN_0 + FN_1)\n",
        "\n",
        "print(f'Overall Accuracy: {accuracy}')\n",
        "print(f'Class 0 - Precision: {precision_class[0]}, Recall: {recall_class[0]}, F1-score: {f1_class[0]}, Support: {support_class[0]}')\n",
        "print(f'Class 1 - Precision: {precision_class[1]}, Recall: {recall_class[1]}, F1-score: {f1_class[1]}, Support: {support_class[1]}')"
      ],
      "metadata": {
        "colab": {
          "base_uri": "https://localhost:8080/"
        },
        "id": "TaHn0kYBLHBz",
        "outputId": "3aa3c60a-5699-4fde-febc-8e4b922e2d64"
      },
      "execution_count": 22,
      "outputs": [
        {
          "output_type": "stream",
          "name": "stdout",
          "text": [
            "Overall Accuracy: 0.9733069698467622\n",
            "Class 0 - Precision: 0.98565965583174, Recall: 0.9884947267497604, F1-score: 0.9870751555768311, Support: 1043\n",
            "Class 1 - Precision: 0.9873684210526316, Recall: 0.9842602308499475, F1-score: 0.9858118759852864, Support: 953\n"
          ]
        }
      ]
    },
    {
      "cell_type": "code",
      "source": [
        "from sklearn.metrics import confusion_matrix\n",
        "import seaborn as sns\n",
        "import matplotlib.pyplot as plt\n",
        "\n",
        "cm = confusion_matrix(y_test, y_pred)\n",
        "sns.heatmap(cm, annot=True, fmt='d', cmap='Blues', xticklabels=['Predicted 0', 'Predicted 1'], yticklabels=['Actual 0', 'Actual 1'])\n",
        "plt.xlabel('Predicted')\n",
        "plt.ylabel('Actual')\n",
        "plt.show()"
      ],
      "metadata": {
        "colab": {
          "base_uri": "https://localhost:8080/",
          "height": 449
        },
        "id": "6t8SZCb5_V8N",
        "outputId": "4576b9c5-65fe-4478-aab4-b2e623fef12b"
      },
      "execution_count": 34,
      "outputs": [
        {
          "output_type": "display_data",
          "data": {
            "text/plain": [
              "<Figure size 640x480 with 2 Axes>"
            ],
            "image/png": "[encoded data removed]"
          },
          "metadata": {}
        }
      ]
    },
    {
      "cell_type": "markdown",
      "source": [
        "# Logistic Regression with TF-IDF"
      ],
      "metadata": {
        "id": "UNAHupNXYyZv"
      }
    },
    {
      "cell_type": "code",
      "source": [
        "from sklearn.linear_model import LogisticRegression\n",
        "lg_model = LogisticRegression(C=5, penalty='l1', solver='liblinear')\n",
        "lg_model = lg_model.fit(X_train_vect_tf_idf, y_train)"
      ],
      "metadata": {
        "id": "C3pWsI8VYwtP"
      },
      "execution_count": 23,
      "outputs": []
    },
    {
      "cell_type": "code",
      "source": [
        "# Predict on the test set\n",
        "y_pred = lg_model.predict(X_test_vect_tf_idf)\n",
        "\n",
        "from sklearn.metrics import precision_recall_fscore_support, confusion_matrix\n",
        "\n",
        "# Compute metrics for each class\n",
        "precision_class, recall_class, f1_class, support_class = precision_recall_fscore_support(y_test, y_pred, average=None, labels=[0, 1])\n",
        "\n",
        "# Compute confusion matrix\n",
        "conf_matrix = confusion_matrix(y_test, y_pred, labels=[0, 1])\n",
        "\n",
        "# Extract TP, TN, FP, FN for each class\n",
        "TP_0 = conf_matrix[0, 0]\n",
        "FN_0 = conf_matrix[0, 1]\n",
        "FP_0 = conf_matrix[1, 0]\n",
        "TN_0 = conf_matrix[1, 1]\n",
        "\n",
        "TP_1 = conf_matrix[1, 1]\n",
        "FN_1 = conf_matrix[1, 0]\n",
        "FP_1 = conf_matrix[0, 1]\n",
        "TN_1 = conf_matrix[0, 0]\n",
        "\n",
        "# Calculate overall accuracy\n",
        "accuracy = (TP_0 + TP_1) / (TP_0 + TP_1 + FP_0 + FP_1 + FN_0 + FN_1)\n",
        "\n",
        "print(f'Overall Accuracy: {accuracy}')\n",
        "print(f'Class 0 - Precision: {precision_class[0]}, Recall: {recall_class[0]}, F1-score: {f1_class[0]}, Support: {support_class[0]}')\n",
        "print(f'Class 1 - Precision: {precision_class[1]}, Recall: {recall_class[1]}, F1-score: {f1_class[1]}, Support: {support_class[1]}')"
      ],
      "metadata": {
        "colab": {
          "base_uri": "https://localhost:8080/"
        },
        "id": "gZvrF3CyLXdE",
        "outputId": "3ff4676f-cd1b-495d-a326-efb347490231"
      },
      "execution_count": 24,
      "outputs": [
        {
          "output_type": "stream",
          "name": "stdout",
          "text": [
            "Overall Accuracy: 0.9772164437840515\n",
            "Class 0 - Precision: 0.9875717017208413, Recall: 0.9904122722914669, F1-score: 0.9889899473432264, Support: 1043\n",
            "Class 1 - Precision: 0.9894736842105263, Recall: 0.9863588667366212, F1-score: 0.9879138202837625, Support: 953\n"
          ]
        }
      ]
    },
    {
      "cell_type": "code",
      "source": [
        "from sklearn.metrics import confusion_matrix\n",
        "import seaborn as sns\n",
        "import matplotlib.pyplot as plt\n",
        "\n",
        "cm = confusion_matrix(y_test, y_pred)\n",
        "sns.heatmap(cm, annot=True, fmt='d', cmap='Blues', xticklabels=['Predicted 0', 'Predicted 1'], yticklabels=['Actual 0', 'Actual 1'])\n",
        "plt.xlabel('Predicted')\n",
        "plt.ylabel('Actual')\n",
        "plt.show()"
      ],
      "metadata": {
        "colab": {
          "base_uri": "https://localhost:8080/",
          "height": 449
        },
        "id": "jmVif6Ol_XLs",
        "outputId": "b8c3c95a-f935-4b54-b458-88497ca7c716"
      },
      "execution_count": 35,
      "outputs": [
        {
          "output_type": "display_data",
          "data": {
            "text/plain": [
              "<Figure size 640x480 with 2 Axes>"
            ],
            "image/png": "[encoded data removed]"
          },
          "metadata": {}
        }
      ]
    },
    {
      "cell_type": "markdown",
      "source": [
        "# SVM with TF-IDF"
      ],
      "metadata": {
        "id": "RncXwdgDZF4U"
      }
    },
    {
      "cell_type": "code",
      "source": [
        "from sklearn.svm import SVC\n",
        "svm_model = SVC()\n",
        "svm_model = svm_model.fit(X_train_vect_tf_idf, y_train)"
      ],
      "metadata": {
        "id": "acFenBDEZKc0"
      },
      "execution_count": 25,
      "outputs": []
    },
    {
      "cell_type": "code",
      "source": [
        "# Predict on the test set\n",
        "y_pred = svm_model.predict(X_test_vect_tf_idf)\n",
        "\n",
        "from sklearn.metrics import precision_recall_fscore_support, confusion_matrix\n",
        "\n",
        "# Compute metrics for each class\n",
        "precision_class, recall_class, f1_class, support_class = precision_recall_fscore_support(y_test, y_pred, average=None, labels=[0, 1])\n",
        "\n",
        "# Compute confusion matrix\n",
        "conf_matrix = confusion_matrix(y_test, y_pred, labels=[0, 1])\n",
        "\n",
        "# Extract TP, TN, FP, FN for each class\n",
        "TP_0 = conf_matrix[0, 0]\n",
        "FN_0 = conf_matrix[0, 1]\n",
        "FP_0 = conf_matrix[1, 0]\n",
        "TN_0 = conf_matrix[1, 1]\n",
        "\n",
        "TP_1 = conf_matrix[1, 1]\n",
        "FN_1 = conf_matrix[1, 0]\n",
        "FP_1 = conf_matrix[0, 1]\n",
        "TN_1 = conf_matrix[0, 0]\n",
        "\n",
        "# Calculate overall accuracy\n",
        "accuracy = (TP_0 + TP_1) / (TP_0 + TP_1 + FP_0 + FP_1 + FN_0 + FN_1)\n",
        "\n",
        "print(f'Overall Accuracy: {accuracy}')\n",
        "print(f'Class 0 - Precision: {precision_class[0]}, Recall: {recall_class[0]}, F1-score: {f1_class[0]}, Support: {support_class[0]}')\n",
        "print(f'Class 1 - Precision: {precision_class[1]}, Recall: {recall_class[1]}, F1-score: {f1_class[1]}, Support: {support_class[1]}')"
      ],
      "metadata": {
        "colab": {
          "base_uri": "https://localhost:8080/"
        },
        "id": "2H11qWCYLZg2",
        "outputId": "18b22784-27a4-4475-e4bf-614b01d92d7c"
      },
      "execution_count": 26,
      "outputs": [
        {
          "output_type": "stream",
          "name": "stdout",
          "text": [
            "Overall Accuracy: 0.9781962338949455\n",
            "Class 0 - Precision: 0.9932367149758454, Recall: 0.9856184084372004, F1-score: 0.9894128970163619, Support: 1043\n",
            "Class 1 - Precision: 0.9843912591050988, Recall: 0.9926547743966422, F1-score: 0.9885057471264367, Support: 953\n"
          ]
        }
      ]
    },
    {
      "cell_type": "code",
      "source": [
        "from sklearn.metrics import confusion_matrix\n",
        "import seaborn as sns\n",
        "import matplotlib.pyplot as plt\n",
        "\n",
        "cm = confusion_matrix(y_test, y_pred)\n",
        "sns.heatmap(cm, annot=True, fmt='d', cmap='Blues', xticklabels=['Predicted 0', 'Predicted 1'], yticklabels=['Actual 0', 'Actual 1'])\n",
        "plt.xlabel('Predicted')\n",
        "plt.ylabel('Actual')\n",
        "plt.show()"
      ],
      "metadata": {
        "colab": {
          "base_uri": "https://localhost:8080/",
          "height": 449
        },
        "id": "uqRr0CXa_K2h",
        "outputId": "46e1c64d-37f1-433f-e850-a3bd07bb80a6"
      },
      "execution_count": 29,
      "outputs": [
        {
          "output_type": "display_data",
          "data": {
            "text/plain": [
              "<Figure size 640x480 with 2 Axes>"
            ],
            "image/png": "[encoded data removed]"
          },
          "metadata": {}
        }
      ]
    },
    {
      "cell_type": "markdown",
      "source": [
        "# GridSearchCV\n",
        "\n",
        "https://chatgpt.com/share/2d177bbf-aa11-4e78-a40b-04e4504d2933 this is a link with a working example\n",
        "\n",
        "https://chatgpt.com/share/4200614f-4ded-4cff-8d85-f3d721492adb : this is a link for me to learn about GridSearchCV"
      ],
      "metadata": {
        "id": "K8ImKu4dYEuU"
      }
    },
    {
      "cell_type": "code",
      "source": [
        "from sklearn.svm import SVC\n",
        "from sklearn.model_selection import GridSearchCV\n",
        "\n",
        "# Set up the SVM model with GridSearchCV\n",
        "svm = SVC()\n",
        "parameters = {\n",
        "    'kernel': ['linear', 'rbf'],\n",
        "    'C': [0.1, 1, 10, 100],\n",
        "    'gamma': [1, 0.1, 0.01, 0.001]\n",
        "}\n",
        "clf = GridSearchCV(svm, parameters, cv=5, scoring='accuracy')\n",
        "\n",
        "# Train the model\n",
        "clf.fit(X_train, y_train)\n",
        "\n",
        "# Retrieve the best hyperparameters\n",
        "best_params = clf.best_params_\n",
        "print(\"Best Parameters:\", best_params)\n",
        "\n",
        "\n",
        "# Printing Overall Mertics\n",
        "from sklearn.metrics import classification_report, accuracy_score, precision_score, recall_score\n",
        "\n",
        "# Predict on the test set\n",
        "y_pred = clf.predict(X_test)\n",
        "\n",
        "# Evaluate the model\n",
        "accuracy = accuracy_score(y_test, y_pred)\n",
        "precision = precision_score(y_test, y_pred, pos_label='1', average='binary')\n",
        "recall = recall_score(y_test, y_pred, pos_label='1', average='binary')\n",
        "report = classification_report(y_test, y_pred)\n",
        "\n",
        "print(\"Accuracy:\", accuracy)\n",
        "print(\"Precision:\", precision)\n",
        "print(\"Recall:\", recall)\n",
        "print(\"Classification Report:\\n\", report)"
      ],
      "metadata": {
        "id": "qBVjf9twYFyp"
      },
      "execution_count": null,
      "outputs": []
    },
    {
      "cell_type": "markdown",
      "source": [],
      "metadata": {
        "id": "YoT4Hwj7_cja"
      }
    }
  ]
}