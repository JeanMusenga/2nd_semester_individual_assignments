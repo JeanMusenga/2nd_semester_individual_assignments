{
  "cells": [
    {
      "cell_type": "markdown",
      "metadata": {
        "id": "view-in-github",
        "colab_type": "text"
      },
      "source": [
        "<a href=\"https://colab.research.google.com/github/JeanMusenga/PhD-Thesis_2024_Musenga/blob/main/Summirizer.ipynb\" target=\"_parent\"><img src=\"https://colab.research.google.com/assets/colab-badge.svg\" alt=\"Open In Colab\"/></a>"
      ]
    },
    {
      "cell_type": "code",
      "execution_count": null,
      "id": "cdOkamGVnu4n",
      "metadata": {
        "id": "cdOkamGVnu4n"
      },
      "outputs": [],
      "source": [
        "#!pip install pytextrank"
      ]
    },
    {
      "cell_type": "code",
      "source": [
        "#pip show pytextrank"
      ],
      "metadata": {
        "id": "TO3TMjITAqki"
      },
      "id": "TO3TMjITAqki",
      "execution_count": null,
      "outputs": []
    },
    {
      "cell_type": "markdown",
      "source": [
        "# Importing Libraries"
      ],
      "metadata": {
        "id": "qCHDnF2d2Xq8"
      },
      "id": "qCHDnF2d2Xq8"
    },
    {
      "cell_type": "code",
      "execution_count": 5,
      "id": "666365c6",
      "metadata": {
        "id": "666365c6",
        "colab": {
          "base_uri": "https://localhost:8080/"
        },
        "outputId": "8da5abfa-f831-4b85-c1e5-f511b70046ea"
      },
      "outputs": [
        {
          "output_type": "stream",
          "name": "stdout",
          "text": [
            "/usr/local/lib/python3.10/dist-packages\n"
          ]
        }
      ],
      "source": [
        "import spacy\n",
        "import pytextrank\n",
        "import pandas as pd\n",
        "import numpy as np\n",
        "from matplotlib import pyplot as plt\n",
        "import nltk\n",
        "import gensim\n",
        "from sklearn.metrics import classification_report\n",
        "from sklearn.model_selection import train_test_split"
      ]
    },
    {
      "cell_type": "code",
      "execution_count": 6,
      "id": "oSs5qk5lpD6-",
      "metadata": {
        "id": "oSs5qk5lpD6-"
      },
      "outputs": [],
      "source": [
        "dataset=pd.read_excel('ARPs_and_ProgrammingPosts.xlsx')"
      ]
    },
    {
      "cell_type": "markdown",
      "source": [
        "# Load a spaCy model and English-language pipeline:en_core_web_sm\n",
        "\n",
        "---\n",
        "\n"
      ],
      "metadata": {
        "id": "YIM1Ceap2ltG"
      },
      "id": "YIM1Ceap2ltG"
    },
    {
      "cell_type": "code",
      "execution_count": null,
      "id": "524fcbf5",
      "metadata": {
        "colab": {
          "base_uri": "https://localhost:8080/"
        },
        "id": "524fcbf5",
        "outputId": "e099ff39-511f-43aa-b4b1-c76fda727746"
      },
      "outputs": [
        {
          "output_type": "execute_result",
          "data": {
            "text/plain": [
              "<pytextrank.base.BaseTextRankFactory at 0x7ddc30cbc880>"
            ]
          },
          "metadata": {},
          "execution_count": 37
        }
      ],
      "source": [
        "# load a spaCy model, depending on language, scale, etc.\n",
        "import spacy\n",
        "nlp = spacy.load(\"en_core_web_sm\")\n",
        "\n",
        "# add PyTextRank to the spaCy pipeline\n",
        "nlp.add_pipe(\"textrank\")"
      ]
    },
    {
      "cell_type": "code",
      "execution_count": null,
      "id": "a4448968",
      "metadata": {
        "id": "a4448968"
      },
      "outputs": [],
      "source": [
        "title = \"\"\" Framework/Protocol/Tools to use for implementing request-response type application in SOA environment [closed] \"\"\"\n",
        "\n",
        "doc_body = \"\"\"Exploring SOA, I come across the two prominent options SOAP and REST. As I mention, I have to make a choice interms a communication methodology to use internally between the modules/layers in my application.\n",
        "        Is there an obvious/popular choice to make between them when looking for quick request-response and high scalability, load balancing, failover scenario? I don't intend to convert this post into REST vs. SOAP discussion \"\"\"\n",
        "\n",
        "doc_answer = \"\"\"if you are probably trying to achieve almost zero application latency, then you must cache almost everything\n",
        "        near the web layer, like memcached, and postpone or make updates asynchronously. consider also using REST, it demands less overhead than SOAP, and you can use JSON as a document format which\n",
        "        is also more compact than XML, lowering network throughput requirements \"\"\""
      ]
    },
    {
      "cell_type": "code",
      "execution_count": null,
      "id": "66bd9db7",
      "metadata": {
        "colab": {
          "base_uri": "https://localhost:8080/"
        },
        "id": "66bd9db7",
        "outputId": "2b338502-003e-47dd-c601-2ba62221e1b9"
      },
      "outputs": [
        {
          "name": "stdout",
          "output_type": "stream",
          "text": [
            "Original Question text Document Size: 435 , while sammarized question text is: 82\n",
            "Is there an obvious/popular choice to make between them when looking for quick request-response and high scalability, load balancing, failover scenario?\n",
            "Exploring SOA, I come across the two prominent options SOAP and REST.\n",
            "I don't intend to convert this post into REST vs. SOAP discussion\n",
            "As I mention, I have to make a choice interms a communication methodology to use internally between the modules/layers in my application.\n",
            "        \n",
            "-----------------------\n",
            "Original Answer Body text Size: 388 , while sammarized answer text is: 68\n",
            "consider also using REST, it demands less overhead than SOAP, and you can use JSON as a document format which\n",
            "        is also more compact than XML, lowering network throughput requirements\n",
            "if you are probably trying to achieve almost zero application latency, then you must cache almost everything\n",
            "        near the web layer, like memcached, and postpone or make updates asynchronously.\n"
          ]
        }
      ],
      "source": [
        "#Printing orginal question body text size\n",
        "print(\"Original Question text Document Size:\",len(doc_body), \", while sammarized question text is:\",len(docBodyTosummirize))\n",
        "docBodyTosummirize  = nlp(doc_body)\n",
        "\n",
        "for sent in docBodyTosummirize._.textrank.summary(limit_sentences=4):\n",
        "    print(sent)\n",
        "print(\"-----------------------\")\n",
        "\n",
        "#Printing orginal answer body text size\n",
        "print(\"Original Answer Body text Size:\",len(doc_answer), \", while sammarized answer text is:\",len(docAnswerToSummirize))\n",
        "docAnswerToSummirize = nlp(doc_answer)\n",
        "\n",
        "for sent in docAnswerToSummirize._.textrank.summary(limit_sentences=4):\n",
        "    print(sent)"
      ]
    },
    {
      "cell_type": "code",
      "execution_count": null,
      "id": "812a3e96",
      "metadata": {
        "colab": {
          "base_uri": "https://localhost:8080/"
        },
        "id": "812a3e96",
        "outputId": "7529e479-9a14-4823-adc0-0ced89b212a7"
      },
      "outputs": [
        {
          "name": "stdout",
          "output_type": "stream",
          "text": [
            "high scalability\n",
            "0.11786933164632792 1\n",
            "[high scalability]\n",
            "load balancing\n",
            "0.11590691239510964 1\n",
            "[load balancing]\n",
            "REST\n",
            "0.10975476006886072 3\n",
            "[REST, REST, REST]\n",
            "failover scenario\n",
            "0.09661717626579261 1\n",
            "[failover scenario]\n",
            "SOA\n",
            "0.08011349701719533 1\n",
            "[SOA]\n",
            "SOAP\n",
            "0.07916790022775148 1\n",
            "[SOAP]\n",
            "REST vs. SOAP discussion\n",
            "0.07871207097449869 1\n",
            "[REST vs. SOAP discussion]\n",
            "quick request-response\n",
            "0.07686706352544839 1\n",
            "[quick request-response]\n",
            "a communication methodology\n",
            "0.06238124831688275 1\n",
            "[a communication methodology]\n",
            "the two prominent options SOAP\n",
            "0.057361595035519124 1\n",
            "[the two prominent options SOAP]\n",
            "an obvious/popular choice\n",
            "0.05612501494787773 1\n",
            "[an obvious/popular choice]\n",
            "a choice\n",
            "0.0512076744429259 1\n",
            "[a choice]\n",
            "this post\n",
            "0.04140469541605163 1\n",
            "[this post]\n",
            "the modules/layers\n",
            "0.04109333355630419 1\n",
            "[the modules/layers]\n",
            "my application\n",
            "0.03149104077518847 1\n",
            "[my application]\n",
            "I\n",
            "0.0 4\n",
            "[I, I, I, I]\n",
            "them\n",
            "0.0 1\n",
            "[them]\n",
            "two\n",
            "0.0 1\n",
            "[two]\n"
          ]
        }
      ],
      "source": [
        "# examine the top-ranked phrases in the document\n",
        "for phrase in docBodyTosummirize._.phrases:\n",
        "    print(phrase.text)\n",
        "    print(phrase.rank, phrase.count)\n",
        "    print(phrase.chunks)"
      ]
    },
    {
      "cell_type": "code",
      "execution_count": null,
      "id": "2af4e120",
      "metadata": {
        "colab": {
          "base_uri": "https://localhost:8080/",
          "height": 200
        },
        "id": "2af4e120",
        "outputId": "ecbff6e8-5b04-4dec-dd92-e32776a2da69"
      },
      "outputs": [
        {
          "ename": "NameError",
          "evalue": "name 'doc' is not defined",
          "output_type": "error",
          "traceback": [
            "\u001b[0;31m---------------------------------------------------------------------------\u001b[0m",
            "\u001b[0;31mNameError\u001b[0m                                 Traceback (most recent call last)",
            "\u001b[0;32m<ipython-input-28-e052be64b5a4>\u001b[0m in \u001b[0;36m<cell line: 2>\u001b[0;34m()\u001b[0m\n\u001b[1;32m      1\u001b[0m \u001b[0;31m# Analyze syntax\u001b[0m\u001b[0;34m\u001b[0m\u001b[0;34m\u001b[0m\u001b[0m\n\u001b[0;32m----> 2\u001b[0;31m \u001b[0mprint\u001b[0m\u001b[0;34m(\u001b[0m\u001b[0;34m\"Noun phrases:\"\u001b[0m\u001b[0;34m,\u001b[0m \u001b[0;34m[\u001b[0m\u001b[0mchunk\u001b[0m\u001b[0;34m.\u001b[0m\u001b[0mtext\u001b[0m \u001b[0;32mfor\u001b[0m \u001b[0mchunk\u001b[0m \u001b[0;32min\u001b[0m \u001b[0mdoc\u001b[0m\u001b[0;34m.\u001b[0m\u001b[0mnoun_chunks\u001b[0m\u001b[0;34m]\u001b[0m\u001b[0;34m)\u001b[0m\u001b[0;34m\u001b[0m\u001b[0;34m\u001b[0m\u001b[0m\n\u001b[0m\u001b[1;32m      3\u001b[0m \u001b[0mprint\u001b[0m\u001b[0;34m(\u001b[0m\u001b[0;34m\"------------------------------------------------------------------------\"\u001b[0m\u001b[0;34m)\u001b[0m\u001b[0;34m\u001b[0m\u001b[0;34m\u001b[0m\u001b[0m\n\u001b[1;32m      4\u001b[0m \u001b[0mprint\u001b[0m\u001b[0;34m(\u001b[0m\u001b[0;34m\"Verbs:\"\u001b[0m\u001b[0;34m,\u001b[0m \u001b[0;34m[\u001b[0m\u001b[0mtoken\u001b[0m\u001b[0;34m.\u001b[0m\u001b[0mlemma_\u001b[0m \u001b[0;32mfor\u001b[0m \u001b[0mtoken\u001b[0m \u001b[0;32min\u001b[0m \u001b[0mdoc\u001b[0m \u001b[0;32mif\u001b[0m \u001b[0mtoken\u001b[0m\u001b[0;34m.\u001b[0m\u001b[0mpos_\u001b[0m \u001b[0;34m==\u001b[0m \u001b[0;34m\"VERB\"\u001b[0m\u001b[0;34m]\u001b[0m\u001b[0;34m)\u001b[0m\u001b[0;34m\u001b[0m\u001b[0;34m\u001b[0m\u001b[0m\n",
            "\u001b[0;31mNameError\u001b[0m: name 'doc' is not defined"
          ]
        }
      ],
      "source": [
        "# Analyze syntax\n",
        "print(\"Noun phrases:\", [chunk.text for chunk in doc.noun_chunks])\n",
        "print(\"------------------------------------------------------------------------\")\n",
        "print(\"Verbs:\", [token.lemma_ for token in doc if token.pos_ == \"VERB\"])"
      ]
    },
    {
      "cell_type": "code",
      "execution_count": null,
      "id": "fc62a00c",
      "metadata": {
        "id": "fc62a00c"
      },
      "outputs": [],
      "source": []
    },
    {
      "cell_type": "code",
      "execution_count": null,
      "id": "de4e841f",
      "metadata": {
        "id": "de4e841f"
      },
      "outputs": [],
      "source": []
    },
    {
      "cell_type": "code",
      "execution_count": null,
      "id": "24975efa",
      "metadata": {
        "id": "24975efa"
      },
      "outputs": [],
      "source": []
    }
  ],
  "metadata": {
    "colab": {
      "provenance": [],
      "include_colab_link": true
    },
    "kernelspec": {
      "display_name": "Python 3 (ipykernel)",
      "language": "python",
      "name": "python3"
    },
    "language_info": {
      "codemirror_mode": {
        "name": "ipython",
        "version": 3
      },
      "file_extension": ".py",
      "mimetype": "text/x-python",
      "name": "python",
      "nbconvert_exporter": "python",
      "pygments_lexer": "ipython3",
      "version": "3.10.9"
    }
  },
  "nbformat": 4,
  "nbformat_minor": 5
}