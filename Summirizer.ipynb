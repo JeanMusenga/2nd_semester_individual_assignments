{
  "cells": [
    {
      "cell_type": "markdown",
      "metadata": {
        "id": "view-in-github",
        "colab_type": "text"
      },
      "source": [
        "<a href=\"https://colab.research.google.com/github/JeanMusenga/PhD-Thesis_2024_Musenga/blob/main/Summirizer.ipynb\" target=\"_parent\"><img src=\"https://colab.research.google.com/assets/colab-badge.svg\" alt=\"Open In Colab\"/></a>"
      ]
    },
    {
      "cell_type": "code",
      "execution_count": null,
      "id": "cdOkamGVnu4n",
      "metadata": {
        "id": "cdOkamGVnu4n"
      },
      "outputs": [],
      "source": [
        "#!pip install pytextrank"
      ]
    },
    {
      "cell_type": "code",
      "source": [
        "#pip show pytextrank"
      ],
      "metadata": {
        "id": "TO3TMjITAqki"
      },
      "id": "TO3TMjITAqki",
      "execution_count": null,
      "outputs": []
    },
    {
      "cell_type": "markdown",
      "source": [
        "# Importing Libraries"
      ],
      "metadata": {
        "id": "qCHDnF2d2Xq8"
      },
      "id": "qCHDnF2d2Xq8"
    },
    {
      "cell_type": "code",
      "execution_count": 5,
      "id": "666365c6",
      "metadata": {
        "id": "666365c6",
        "colab": {
          "base_uri": "https://localhost:8080/"
        },
        "outputId": "8da5abfa-f831-4b85-c1e5-f511b70046ea"
      },
      "outputs": [
        {
          "output_type": "stream",
          "name": "stdout",
          "text": [
            "/usr/local/lib/python3.10/dist-packages\n"
          ]
        }
      ],
      "source": [
        "import spacy\n",
        "import pytextrank\n",
        "import pandas as pd\n",
        "import numpy as np\n",
        "from matplotlib import pyplot as plt\n",
        "import nltk\n",
        "import gensim\n",
        "from sklearn.metrics import classification_report\n",
        "from sklearn.model_selection import train_test_split"
      ]
    },
    {
      "cell_type": "code",
      "execution_count": 6,
      "id": "oSs5qk5lpD6-",
      "metadata": {
        "id": "oSs5qk5lpD6-"
      },
      "outputs": [],
      "source": [
        "dataset=pd.read_excel('ARPs_and_ProgrammingPosts.xlsx')"
      ]
    },
    {
      "cell_type": "markdown",
      "source": [
        "# Load a spaCy model and English-language pipeline:en_core_web_sm\n",
        "\n",
        "---\n",
        "\n"
      ],
      "metadata": {
        "id": "YIM1Ceap2ltG"
      },
      "id": "YIM1Ceap2ltG"
    },
    {
      "cell_type": "code",
      "execution_count": 10,
      "id": "524fcbf5",
      "metadata": {
        "colab": {
          "base_uri": "https://localhost:8080/"
        },
        "id": "524fcbf5",
        "outputId": "3be421ea-093a-43c2-d973-3be5483eb7c7"
      },
      "outputs": [
        {
          "output_type": "execute_result",
          "data": {
            "text/plain": [
              "<pytextrank.base.BaseTextRankFactory at 0x7eb639953610>"
            ]
          },
          "metadata": {},
          "execution_count": 10
        }
      ],
      "source": [
        "# load a spaCy model, depending on language, scale, etc.\n",
        "import spacy\n",
        "nlp = spacy.load(\"en_core_web_sm\")\n",
        "\n",
        "# add PyTextRank to the spaCy pipeline\n",
        "nlp.add_pipe(\"textrank\")"
      ]
    },
    {
      "cell_type": "code",
      "execution_count": 11,
      "id": "a4448968",
      "metadata": {
        "id": "a4448968"
      },
      "outputs": [],
      "source": [
        "title = \"\"\" Framework/Protocol/Tools to use for implementing request-response type application in SOA environment [closed] \"\"\"\n",
        "\n",
        "docBodyTosummirize = \"\"\"Exploring SOA, I come across the two prominent options SOAP and REST. As I mention, I have to make a choice interms a communication methodology to use internally between the modules/layers in my application.\n",
        "        Is there an obvious/popular choice to make between them when looking for quick request-response and high scalability, load balancing, failover scenario? I don't intend to convert this post into REST vs. SOAP discussion \"\"\"\n",
        "\n",
        "docAnswerToSummirize = \"\"\"if you are probably trying to achieve almost zero application latency, then you must cache almost everything\n",
        "        near the web layer, like memcached, and postpone or make updates asynchronously. consider also using REST, it demands less overhead than SOAP, and you can use JSON as a document format which\n",
        "        is also more compact than XML, lowering network throughput requirements \"\"\""
      ]
    },
    {
      "cell_type": "code",
      "execution_count": 12,
      "id": "66bd9db7",
      "metadata": {
        "colab": {
          "base_uri": "https://localhost:8080/"
        },
        "id": "66bd9db7",
        "outputId": "90634275-5e9a-4177-c36c-f7abcb08be97"
      },
      "outputs": [
        {
          "output_type": "stream",
          "name": "stdout",
          "text": [
            "Original Question text Document Size: 435 , while sammarized question text is: 435\n",
            "Is there an obvious/popular choice to make between them when looking for quick request-response and high scalability, load balancing, failover scenario?\n",
            "Exploring SOA, I come across the two prominent options SOAP and REST.\n",
            "I don't intend to convert this post into REST vs. SOAP discussion\n",
            "As I mention, I have to make a choice interms a communication methodology to use internally between the modules/layers in my application.\n",
            "        \n",
            "-----------------------\n",
            "Original Answer Body text Size: 388 , while sammarized answer text is: 388\n",
            "consider also using REST, it demands less overhead than SOAP, and you can use JSON as a document format which\n",
            "        is also more compact than XML, lowering network throughput requirements\n",
            "if you are probably trying to achieve almost zero application latency, then you must cache almost everything\n",
            "        near the web layer, like memcached, and postpone or make updates asynchronously.\n"
          ]
        }
      ],
      "source": [
        "#Printing orginal question body text size\n",
        "print(\"Original Question text Document Size:\",len(doc_body), \", while sammarized question text is:\",len(docBodyTosummirize))\n",
        "docBodyTosummirize  = nlp(doc_body)\n",
        "\n",
        "for sent in docBodyTosummirize._.textrank.summary(limit_sentences=4):\n",
        "    print(sent)\n",
        "print(\"-----------------------\")\n",
        "\n",
        "#Printing orginal answer body text size\n",
        "print(\"Original Answer Body text Size:\",len(doc_answer), \", while sammarized answer text is:\",len(docAnswerToSummirize))\n",
        "docAnswerToSummirize = nlp(doc_answer)\n",
        "\n",
        "for sent in docAnswerToSummirize._.textrank.summary(limit_sentences=4):\n",
        "    print(sent)"
      ]
    },
    {
      "cell_type": "code",
      "execution_count": 13,
      "id": "812a3e96",
      "metadata": {
        "colab": {
          "base_uri": "https://localhost:8080/"
        },
        "id": "812a3e96",
        "outputId": "ad2f4f29-4040-4d95-8ea3-37a033ba8d6c"
      },
      "outputs": [
        {
          "output_type": "stream",
          "name": "stdout",
          "text": [
            "high scalability\n",
            "0.11786933164632792 1\n",
            "[high scalability]\n",
            "load balancing\n",
            "0.11590691239510964 1\n",
            "[load balancing]\n",
            "REST\n",
            "0.10975476006886072 3\n",
            "[REST, REST, REST]\n",
            "failover scenario\n",
            "0.09661717626579261 1\n",
            "[failover scenario]\n",
            "SOA\n",
            "0.08011349701719533 1\n",
            "[SOA]\n",
            "SOAP\n",
            "0.07916790022775148 1\n",
            "[SOAP]\n",
            "REST vs. SOAP discussion\n",
            "0.07871207097449869 1\n",
            "[REST vs. SOAP discussion]\n",
            "quick request-response\n",
            "0.07686706352544839 1\n",
            "[quick request-response]\n",
            "a communication methodology\n",
            "0.06238124831688275 1\n",
            "[a communication methodology]\n",
            "the two prominent options SOAP\n",
            "0.057361595035519124 1\n",
            "[the two prominent options SOAP]\n",
            "an obvious/popular choice\n",
            "0.05612501494787773 1\n",
            "[an obvious/popular choice]\n",
            "a choice\n",
            "0.0512076744429259 1\n",
            "[a choice]\n",
            "this post\n",
            "0.04140469541605163 1\n",
            "[this post]\n",
            "the modules/layers\n",
            "0.04109333355630419 1\n",
            "[the modules/layers]\n",
            "my application\n",
            "0.03149104077518847 1\n",
            "[my application]\n",
            "I\n",
            "0.0 4\n",
            "[I, I, I, I]\n",
            "them\n",
            "0.0 1\n",
            "[them]\n",
            "two\n",
            "0.0 1\n",
            "[two]\n"
          ]
        }
      ],
      "source": [
        "# examine the top-ranked phrases in the document\n",
        "for phrase in docBodyTosummirize._.phrases:\n",
        "    print(phrase.text)\n",
        "    print(phrase.rank, phrase.count)\n",
        "    print(phrase.chunks)"
      ]
    },
    {
      "cell_type": "code",
      "execution_count": 16,
      "id": "2af4e120",
      "metadata": {
        "colab": {
          "base_uri": "https://localhost:8080/"
        },
        "id": "2af4e120",
        "outputId": "bf55a8e7-08b7-490e-c6c4-f2171734b29d"
      },
      "outputs": [
        {
          "output_type": "stream",
          "name": "stdout",
          "text": [
            "Noun phrases: ['SOA', 'I', 'the two prominent options SOAP', 'REST', 'I', 'I', 'a choice', 'a communication methodology', 'the modules/layers', 'my application', 'an obvious/popular choice', 'them', 'quick request-response', 'high scalability', 'load balancing', 'failover scenario', 'I', 'this post', 'REST vs. SOAP discussion']\n",
            "------------------------------------------------------------------------\n",
            "Verbs: ['explore', 'come', 'mention', 'have', 'make', 'interm', 'use', 'make', 'look', 'intend', 'convert']\n"
          ]
        }
      ],
      "source": [
        "# Analyze syntax/tokenization\n",
        "print(\"Noun phrases:\", [chunk.text for chunk in docBodyTosummirize.noun_chunks])\n",
        "print(\"------------------------------------------------------------------------\")\n",
        "print(\"Verbs:\", [token.lemma_ for token in docBodyTosummirize if token.pos_ == \"VERB\"])"
      ]
    },
    {
      "cell_type": "code",
      "execution_count": null,
      "id": "fc62a00c",
      "metadata": {
        "id": "fc62a00c"
      },
      "outputs": [],
      "source": []
    },
    {
      "cell_type": "code",
      "execution_count": null,
      "id": "de4e841f",
      "metadata": {
        "id": "de4e841f"
      },
      "outputs": [],
      "source": []
    },
    {
      "cell_type": "code",
      "execution_count": null,
      "id": "24975efa",
      "metadata": {
        "id": "24975efa"
      },
      "outputs": [],
      "source": []
    }
  ],
  "metadata": {
    "colab": {
      "provenance": [],
      "include_colab_link": true
    },
    "kernelspec": {
      "display_name": "Python 3 (ipykernel)",
      "language": "python",
      "name": "python3"
    },
    "language_info": {
      "codemirror_mode": {
        "name": "ipython",
        "version": 3
      },
      "file_extension": ".py",
      "mimetype": "text/x-python",
      "name": "python",
      "nbconvert_exporter": "python",
      "pygments_lexer": "ipython3",
      "version": "3.10.9"
    }
  },
  "nbformat": 4,
  "nbformat_minor": 5
}