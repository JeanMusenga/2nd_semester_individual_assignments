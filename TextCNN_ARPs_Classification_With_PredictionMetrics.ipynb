{
  "nbformat": 4,
  "nbformat_minor": 0,
  "metadata": {
    "colab": {
      "provenance": [],
      "authorship_tag": "ABX9TyMsVJzOsWyykB6wRuRbEpta",
      "include_colab_link": true
    },
    "kernelspec": {
      "name": "python3",
      "display_name": "Python 3"
    },
    "language_info": {
      "name": "python"
    }
  },
  "cells": [
    {
      "cell_type": "markdown",
      "metadata": {
        "id": "view-in-github",
        "colab_type": "text"
      },
      "source": [
        "<a href=\"https://colab.research.google.com/github/JeanMusenga/PhD-Thesis_2024_Musenga/blob/main/TextCNN_ARPs_Classification_With_PredictionMetrics.ipynb\" target=\"_parent\"><img src=\"https://colab.research.google.com/assets/colab-badge.svg\" alt=\"Open In Colab\"/></a>"
      ]
    },
    {
      "cell_type": "code",
      "source": [
        "pip install tensorflow"
      ],
      "metadata": {
        "id": "rWp9Bhy2Fzoc"
      },
      "execution_count": null,
      "outputs": []
    },
    {
      "cell_type": "code",
      "execution_count": 5,
      "metadata": {
        "id": "cPwYiVq2Fjl7"
      },
      "outputs": [],
      "source": [
        "import pandas as pd\n",
        "import tensorflow as tf\n",
        "from tensorflow.keras.preprocessing.text import Tokenizer\n",
        "from tensorflow.keras.preprocessing.sequence import pad_sequences\n",
        "from sklearn.model_selection import train_test_split\n",
        "from sklearn.metrics import classification_report\n"
      ]
    },
    {
      "cell_type": "code",
      "source": [
        "file_path = './saved_file'\n",
        "file_path = ('ARPs_and_ProgrammingPosts.xlsx')\n",
        "arp_data = pd.read_excel(file_path, sheet_name='13,205 ARPs')"
      ],
      "metadata": {
        "id": "YUAFtISVGRXO"
      },
      "execution_count": null,
      "outputs": []
    },
    {
      "cell_type": "code",
      "source": [
        "# Parameters for text preprocessing\n",
        "max_words = 10000  # Maximum number of words to keep, based on word frequency\n",
        "max_len = 100      # Maximum length of all sequences"
      ],
      "metadata": {
        "id": "1bfeua0KF5Lr"
      },
      "execution_count": 14,
      "outputs": []
    },
    {
      "cell_type": "code",
      "source": [
        "# Extract the text and labels\n",
        "texts = arp_data['Question_body'].astype(str).tolist()\n",
        "labels = arp_data['Label'].tolist()"
      ],
      "metadata": {
        "id": "5Nur0TWyG8ir"
      },
      "execution_count": 15,
      "outputs": []
    },
    {
      "cell_type": "code",
      "source": [
        "# Tokenize the text\n",
        "tokenizer = Tokenizer(num_words=max_words)\n",
        "tokenizer.fit_on_texts(texts)\n",
        "sequences = tokenizer.texts_to_sequences(texts)"
      ],
      "metadata": {
        "id": "_fJ5HuGKF5JM"
      },
      "execution_count": 16,
      "outputs": []
    },
    {
      "cell_type": "code",
      "source": [
        "# Pad the sequences to ensure uniform input size\n",
        "data = pad_sequences(sequences, maxlen=max_len)"
      ],
      "metadata": {
        "id": "1EiJBd3hF5G7"
      },
      "execution_count": 17,
      "outputs": []
    },
    {
      "cell_type": "code",
      "source": [
        "# Convert labels to numpy array\n",
        "labels = tf.keras.utils.to_categorical(labels, num_classes=2)"
      ],
      "metadata": {
        "id": "n22mdYNNF5Eb"
      },
      "execution_count": 18,
      "outputs": []
    },
    {
      "cell_type": "code",
      "source": [
        "# Split the data into training and testing sets\n",
        "x_train, x_test, y_train, y_test = train_test_split(data, labels, test_size=0.2, random_state=42)\n"
      ],
      "metadata": {
        "id": "sevbwTjbF5CD"
      },
      "execution_count": 19,
      "outputs": []
    },
    {
      "cell_type": "code",
      "source": [
        "# Define the TextCNN model\n",
        "def create_textcnn_model(input_length, vocab_size):\n",
        "    model = tf.keras.models.Sequential([\n",
        "        tf.keras.layers.Embedding(vocab_size, 128, input_length=input_length),\n",
        "        tf.keras.layers.Conv1D(128, 5, activation='relu'),\n",
        "        tf.keras.layers.GlobalMaxPooling1D(),\n",
        "        tf.keras.layers.Dense(128, activation='relu'),\n",
        "        tf.keras.layers.Dense(2, activation='softmax')\n",
        "    ])\n",
        "    model.compile(optimizer='adam', loss='categorical_crossentropy', metrics=['accuracy'])\n",
        "    return model"
      ],
      "metadata": {
        "id": "sB7NYn2aF4_r"
      },
      "execution_count": 20,
      "outputs": []
    },
    {
      "cell_type": "code",
      "source": [
        "# Create the model\n",
        "model = create_textcnn_model(max_len, max_words)"
      ],
      "metadata": {
        "id": "CoGIzq4HF49N"
      },
      "execution_count": 21,
      "outputs": []
    },
    {
      "cell_type": "code",
      "source": [
        "# Train the model\n",
        "history = model.fit(x_train, y_train, epochs=10, batch_size=32, validation_split=0.2)\n"
      ],
      "metadata": {
        "colab": {
          "base_uri": "https://localhost:8080/"
        },
        "id": "X0FyO6z4F46l",
        "outputId": "38cd6463-a3d8-4ffb-ee3d-9d1a41e68fbf"
      },
      "execution_count": 22,
      "outputs": [
        {
          "output_type": "stream",
          "name": "stdout",
          "text": [
            "Epoch 1/10\n",
            "299/299 [==============================] - 22s 67ms/step - loss: 0.2072 - accuracy: 0.9236 - val_loss: 0.1606 - val_accuracy: 0.9431\n",
            "Epoch 2/10\n",
            "299/299 [==============================] - 19s 63ms/step - loss: 0.0914 - accuracy: 0.9671 - val_loss: 0.1804 - val_accuracy: 0.9368\n",
            "Epoch 3/10\n",
            "299/299 [==============================] - 20s 67ms/step - loss: 0.0323 - accuracy: 0.9902 - val_loss: 0.2242 - val_accuracy: 0.9322\n",
            "Epoch 4/10\n",
            "299/299 [==============================] - 19s 63ms/step - loss: 0.0082 - accuracy: 0.9984 - val_loss: 0.2687 - val_accuracy: 0.9334\n",
            "Epoch 5/10\n",
            "299/299 [==============================] - 20s 67ms/step - loss: 0.0041 - accuracy: 0.9996 - val_loss: 0.2917 - val_accuracy: 0.9351\n",
            "Epoch 6/10\n",
            "299/299 [==============================] - 18s 61ms/step - loss: 0.0025 - accuracy: 0.9996 - val_loss: 0.3213 - val_accuracy: 0.9360\n",
            "Epoch 7/10\n",
            "299/299 [==============================] - 18s 62ms/step - loss: 0.0043 - accuracy: 0.9997 - val_loss: 0.3154 - val_accuracy: 0.9330\n",
            "Epoch 8/10\n",
            "299/299 [==============================] - 20s 66ms/step - loss: 0.0018 - accuracy: 0.9998 - val_loss: 0.3754 - val_accuracy: 0.9360\n",
            "Epoch 9/10\n",
            "299/299 [==============================] - 19s 62ms/step - loss: 2.4747e-04 - accuracy: 1.0000 - val_loss: 0.3774 - val_accuracy: 0.9347\n",
            "Epoch 10/10\n",
            "299/299 [==============================] - 19s 62ms/step - loss: 1.4428e-04 - accuracy: 1.0000 - val_loss: 0.3798 - val_accuracy: 0.9251\n"
          ]
        }
      ]
    },
    {
      "cell_type": "code",
      "source": [
        "# Evaluate the model\n",
        "loss, accuracy = model.evaluate(x_test, y_test)\n",
        "print(f'Test Accuracy: {accuracy:.4f}')\n"
      ],
      "metadata": {
        "colab": {
          "base_uri": "https://localhost:8080/"
        },
        "id": "2_DWT4BIF44D",
        "outputId": "33cb4c47-1dce-4e98-bba2-69a69847f14c"
      },
      "execution_count": 25,
      "outputs": [
        {
          "output_type": "stream",
          "name": "stdout",
          "text": [
            "94/94 [==============================] - 1s 11ms/step - loss: 0.3392 - accuracy: 0.9394\n",
            "Test Accuracy: 0.9394\n"
          ]
        }
      ]
    },
    {
      "cell_type": "code",
      "source": [
        "# Make predictions\n",
        "y_pred = model.predict(x_test)\n",
        "y_pred_classes = y_pred.argmax(axis=1)\n",
        "y_true_classes = y_test.argmax(axis=1)\n",
        "\n",
        "# Calculate precision, recall, and F1-score\n",
        "report = classification_report(y_true_classes, y_pred_classes, target_names=['Class 0', 'Class 1'])\n",
        "print(report)\n"
      ],
      "metadata": {
        "colab": {
          "base_uri": "https://localhost:8080/"
        },
        "id": "mfpmM6BlF41b",
        "outputId": "379ae18e-5ddb-410f-c2dd-320faff76850"
      },
      "execution_count": 26,
      "outputs": [
        {
          "output_type": "stream",
          "name": "stdout",
          "text": [
            "94/94 [==============================] - 1s 12ms/step\n",
            "              precision    recall  f1-score   support\n",
            "\n",
            "     Class 0       0.95      0.92      0.94      1504\n",
            "     Class 1       0.93      0.95      0.94      1483\n",
            "\n",
            "    accuracy                           0.94      2987\n",
            "   macro avg       0.94      0.94      0.94      2987\n",
            "weighted avg       0.94      0.94      0.94      2987\n",
            "\n"
          ]
        }
      ]
    },
    {
      "cell_type": "code",
      "source": [
        "# Save the model\n",
        "model.save('textcnn_model.h5')"
      ],
      "metadata": {
        "colab": {
          "base_uri": "https://localhost:8080/"
        },
        "id": "8tmuB8iuF4sr",
        "outputId": "50aabcdc-e89a-4c75-a879-b770f9bcd605"
      },
      "execution_count": 27,
      "outputs": [
        {
          "output_type": "stream",
          "name": "stderr",
          "text": [
            "/usr/local/lib/python3.10/dist-packages/keras/src/engine/training.py:3103: UserWarning: You are saving your model as an HDF5 file via `model.save()`. This file format is considered legacy. We recommend using instead the native Keras format, e.g. `model.save('my_model.keras')`.\n",
            "  saving_api.save_model(\n"
          ]
        }
      ]
    },
    {
      "cell_type": "code",
      "source": [],
      "metadata": {
        "id": "jXIO4EUJF4qN"
      },
      "execution_count": null,
      "outputs": []
    },
    {
      "cell_type": "code",
      "source": [],
      "metadata": {
        "id": "_LcQARZlF4oE"
      },
      "execution_count": null,
      "outputs": []
    },
    {
      "cell_type": "code",
      "source": [],
      "metadata": {
        "id": "oXf__JwoF4la"
      },
      "execution_count": null,
      "outputs": []
    },
    {
      "cell_type": "code",
      "source": [],
      "metadata": {
        "id": "OVJDUU9mF4i7"
      },
      "execution_count": null,
      "outputs": []
    },
    {
      "cell_type": "code",
      "source": [],
      "metadata": {
        "id": "JHS0DOA2F4bz"
      },
      "execution_count": null,
      "outputs": []
    },
    {
      "cell_type": "code",
      "source": [],
      "metadata": {
        "id": "2eG8_0_oF4Zj"
      },
      "execution_count": null,
      "outputs": []
    },
    {
      "cell_type": "code",
      "source": [],
      "metadata": {
        "id": "P4-5ifzvF4Xc"
      },
      "execution_count": null,
      "outputs": []
    },
    {
      "cell_type": "code",
      "source": [],
      "metadata": {
        "id": "-SGUt0qfF4VE"
      },
      "execution_count": null,
      "outputs": []
    },
    {
      "cell_type": "code",
      "source": [],
      "metadata": {
        "id": "y45xaQIyF4Sr"
      },
      "execution_count": null,
      "outputs": []
    },
    {
      "cell_type": "code",
      "source": [],
      "metadata": {
        "id": "hVXvois3F4QV"
      },
      "execution_count": null,
      "outputs": []
    },
    {
      "cell_type": "code",
      "source": [],
      "metadata": {
        "id": "vVxiLxUzF4N7"
      },
      "execution_count": null,
      "outputs": []
    },
    {
      "cell_type": "code",
      "source": [],
      "metadata": {
        "id": "p2izd2MgF4Lr"
      },
      "execution_count": null,
      "outputs": []
    },
    {
      "cell_type": "code",
      "source": [],
      "metadata": {
        "id": "5n9myr77F4JL"
      },
      "execution_count": null,
      "outputs": []
    },
    {
      "cell_type": "code",
      "source": [],
      "metadata": {
        "id": "1buIOMWQF4Gi"
      },
      "execution_count": null,
      "outputs": []
    },
    {
      "cell_type": "code",
      "source": [],
      "metadata": {
        "id": "cbRx6-lzF4D7"
      },
      "execution_count": null,
      "outputs": []
    },
    {
      "cell_type": "code",
      "source": [],
      "metadata": {
        "id": "ztSkQcRUF4Bz"
      },
      "execution_count": null,
      "outputs": []
    },
    {
      "cell_type": "code",
      "source": [],
      "metadata": {
        "id": "f_gxSTmpF3_b"
      },
      "execution_count": null,
      "outputs": []
    },
    {
      "cell_type": "code",
      "source": [],
      "metadata": {
        "id": "hbypFyMeF387"
      },
      "execution_count": null,
      "outputs": []
    },
    {
      "cell_type": "code",
      "source": [],
      "metadata": {
        "id": "yrO_ygeGF36i"
      },
      "execution_count": null,
      "outputs": []
    },
    {
      "cell_type": "code",
      "source": [],
      "metadata": {
        "id": "t_Deha9dF33z"
      },
      "execution_count": null,
      "outputs": []
    },
    {
      "cell_type": "code",
      "source": [],
      "metadata": {
        "id": "H3xgPMQYF3uc"
      },
      "execution_count": null,
      "outputs": []
    }
  ]
}