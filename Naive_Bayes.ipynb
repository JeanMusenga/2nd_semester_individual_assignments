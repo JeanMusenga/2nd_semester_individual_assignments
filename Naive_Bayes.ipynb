{
  "nbformat": 4,
  "nbformat_minor": 0,
  "metadata": {
    "colab": {
      "provenance": [],
      "authorship_tag": "ABX9TyOn+wIyhXmg6TgcmV4vkArr",
      "include_colab_link": true
    },
    "kernelspec": {
      "name": "python3",
      "display_name": "Python 3"
    },
    "language_info": {
      "name": "python"
    }
  },
  "cells": [
    {
      "cell_type": "markdown",
      "metadata": {
        "id": "view-in-github",
        "colab_type": "text"
      },
      "source": [
        "<a href=\"https://colab.research.google.com/github/JeanMusenga/2nd_semester_individual_assignments/blob/main/Naive_Bayes.ipynb\" target=\"_parent\"><img src=\"https://colab.research.google.com/assets/colab-badge.svg\" alt=\"Open In Colab\"/></a>"
      ]
    },
    {
      "cell_type": "code",
      "execution_count": 3,
      "metadata": {
        "id": "kb5WEyMzjEgd"
      },
      "outputs": [],
      "source": [
        "import pandas as pd\n",
        "import numpy as np\n",
        "from matplotlib import pyplot as plt\n",
        "from sklearn.preprocessing import StandardScaler\n",
        "#from imblearn.over_sampling import RandomOverSampler\n",
        "from sklearn.model_selection import train_test_split"
      ]
    },
    {
      "cell_type": "code",
      "source": [
        "dataset=pd.read_excel('ARPs_and_ProgrammingPosts.xlsx')"
      ],
      "metadata": {
        "id": "L7c_vEIdjVbq"
      },
      "execution_count": 4,
      "outputs": []
    },
    {
      "cell_type": "code",
      "source": [
        "x = dataset.Post\n",
        "y = dataset.Class\n",
        "X_train, X_test, y_train, y_test = train_test_split(x , y, test_size=0.33, random_state=125)\n",
        "\n",
        "\n",
        "print('Total number of sample:', len(dataset))\n",
        "# check the shape of X_train and X_test\n",
        "print('X Training sample:', len(X_train))\n",
        "print('X Test sample:', len(X_test))\n",
        "\n",
        "# check the shape of y_train and y_test\n",
        "print(\"-------------------------\")\n",
        "print('Y Training sample:', len(y_train))\n",
        "print('Y Test sample:', len(y_test))"
      ],
      "metadata": {
        "colab": {
          "base_uri": "https://localhost:8080/"
        },
        "id": "uKT2Tkn5jgU8",
        "outputId": "896f0bf4-b8a2-40cc-e258-0366bb71c506"
      },
      "execution_count": 15,
      "outputs": [
        {
          "output_type": "stream",
          "name": "stdout",
          "text": [
            "Total number of sample: 14932\n",
            "X Training sample: 10004\n",
            "X Test sample: 4928\n",
            "-------------------------\n",
            "Y Training sample: 10004\n",
            "Y Test sample: 4928\n"
          ]
        }
      ]
    },
    {
      "cell_type": "code",
      "source": [
        "#Feature Engineering or feature generation/extraction is the process of transforming raw data into useful features that help us to understand\n",
        "#our model better and increase its predictive power. I will carry out feature engineering on different types of variables.\n",
        "from sklearn.feature_extraction.text import CountVectorizer\n",
        "\n",
        "vect = CountVectorizer().fit(X_train) #CountVectorizer implements both tokenization and occurrence counting in a single class\n",
        "X_train_vect = vect.transform(X_train).toarray()\n",
        "X_test_vect = vect.transform(X_test).toarray()"
      ],
      "metadata": {
        "id": "jsDIQOBVj-Jc"
      },
      "execution_count": 19,
      "outputs": []
    },
    {
      "cell_type": "code",
      "source": [
        "from sklearn.naive_bayes import GaussianNB\n",
        "from sklearn.metrics import classification_report"
      ],
      "metadata": {
        "id": "EeJggggFjSZL"
      },
      "execution_count": 25,
      "outputs": []
    },
    {
      "cell_type": "code",
      "source": [
        "nb_model = GaussianNB()\n",
        "nb_model = nb_model.fit(X_train_vect, y_train)\n",
        "\n",
        "y_pred = nb_model.predict(X_test_vect)"
      ],
      "metadata": {
        "id": "j4nb1ojMkSCL"
      },
      "execution_count": 26,
      "outputs": []
    },
    {
      "cell_type": "code",
      "source": [
        "print(classification_report(y_test, y_pred))"
      ],
      "metadata": {
        "colab": {
          "base_uri": "https://localhost:8080/"
        },
        "id": "KwGKDkD3jvA_",
        "outputId": "8f711fb1-b6ae-4080-d3b1-4fb34bf4b258"
      },
      "execution_count": 28,
      "outputs": [
        {
          "output_type": "stream",
          "name": "stdout",
          "text": [
            "              precision    recall  f1-score   support\n",
            "\n",
            "           0       0.82      0.83      0.82      2544\n",
            "           1       0.81      0.80      0.81      2384\n",
            "\n",
            "    accuracy                           0.81      4928\n",
            "   macro avg       0.81      0.81      0.81      4928\n",
            "weighted avg       0.81      0.81      0.81      4928\n",
            "\n"
          ]
        }
      ]
    }
  ]
}