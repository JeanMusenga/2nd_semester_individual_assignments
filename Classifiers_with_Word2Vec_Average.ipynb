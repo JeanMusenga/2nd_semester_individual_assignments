{
  "nbformat": 4,
  "nbformat_minor": 0,
  "metadata": {
    "colab": {
      "provenance": [],
      "gpuType": "T4",
      "authorship_tag": "ABX9TyPC0+u1FfclQgLoRH5Dwa50",
      "include_colab_link": true
    },
    "kernelspec": {
      "name": "python3",
      "display_name": "Python 3"
    },
    "language_info": {
      "name": "python"
    },
    "accelerator": "GPU"
  },
  "cells": [
    {
      "cell_type": "markdown",
      "metadata": {
        "id": "view-in-github",
        "colab_type": "text"
      },
      "source": [
        "<a href=\"https://colab.research.google.com/github/JeanMusenga/PhD-Thesis_2024_Musenga/blob/main/Classifiers_with_Word2Vec_Average.ipynb\" target=\"_parent\"><img src=\"https://colab.research.google.com/assets/colab-badge.svg\" alt=\"Open In Colab\"/></a>"
      ]
    },
    {
      "cell_type": "markdown",
      "source": [
        "# Important and helpful sources\n",
        "https://www.youtube.com/watch?v=P47raNuzAW0\n",
        "https://github.com/PradipNichite/Youtube-Tutorials/blob/main/Yotutube_WordVectors.ipynb\n"
      ],
      "metadata": {
        "id": "dn9Y0q6Kie18"
      }
    },
    {
      "cell_type": "code",
      "execution_count": 1,
      "metadata": {
        "id": "kb5WEyMzjEgd"
      },
      "outputs": [],
      "source": [
        "import pandas as pd\n",
        "import numpy as np\n",
        "from matplotlib import pyplot as plt\n",
        "import nltk\n",
        "import gensim\n",
        "from spacy.tokenizer import Tokenizer\n",
        "from sklearn.model_selection import train_test_split"
      ]
    },
    {
      "cell_type": "code",
      "source": [
        "np.random.seed(42) #The random seed helps in the reproduction of the results"
      ],
      "metadata": {
        "id": "-5hkoB-toceB"
      },
      "execution_count": 2,
      "outputs": []
    },
    {
      "cell_type": "code",
      "source": [
        "dataset=pd.read_excel('posts.xlsx')"
      ],
      "metadata": {
        "id": "L7c_vEIdjVbq"
      },
      "execution_count": 5,
      "outputs": []
    },
    {
      "cell_type": "code",
      "source": [
        "dataset.shape"
      ],
      "metadata": {
        "id": "alXSMszbK40x",
        "outputId": "ae00cbd5-f243-42b1-cc80-a57063f8dd59",
        "colab": {
          "base_uri": "https://localhost:8080/"
        }
      },
      "execution_count": 6,
      "outputs": [
        {
          "output_type": "execute_result",
          "data": {
            "text/plain": [
              "(9980, 2)"
            ]
          },
          "metadata": {},
          "execution_count": 6
        }
      ]
    },
    {
      "cell_type": "code",
      "source": [
        "dataset.head()"
      ],
      "metadata": {
        "id": "FIgJqYQ6Al7t"
      },
      "execution_count": null,
      "outputs": []
    },
    {
      "cell_type": "markdown",
      "source": [
        "# Tokenization"
      ],
      "metadata": {
        "id": "3K6kM8yp35SQ"
      }
    },
    {
      "cell_type": "code",
      "source": [
        "import spacy\n",
        "nlp = spacy.load(\"en_core_web_sm\")\n",
        "stop_words = nlp.Defaults.stop_words\n",
        "print(stop_words)\n",
        "print(\"-----------------------------------------------\")\n",
        "\n",
        "import string\n",
        "punctuations = string.punctuation\n",
        "print(punctuations)"
      ],
      "metadata": {
        "colab": {
          "base_uri": "https://localhost:8080/"
        },
        "id": "a7n02u8n4B1g",
        "outputId": "141b7821-b999-4da2-deea-8b9591d5c13f"
      },
      "execution_count": 3,
      "outputs": [
        {
          "output_type": "stream",
          "name": "stdout",
          "text": [
            "{'once', 'always', \"'re\", 'same', 'does', 'that', 'nobody', 'doing', 'his', 'anywhere', 'she', 'whereupon', \"'m\", 'three', 'ours', 'by', 'thence', 'perhaps', 'do', 'whole', 'whose', 'their', 'did', 'others', 'front', 'six', 'another', 'him', 'be', 'however', 'nor', 'call', 'made', 'while', 'am', 'will', 'why', 'yourselves', 'we', 'themselves', \"n't\", 'may', 'just', 'side', 'latter', 'for', 'someone', 'therein', 'might', 'because', 'done', 'became', 'himself', 'ten', 'under', 'else', 'they', 'get', 'how', 'amongst', 'most', 'very', 'though', 'what', 'meanwhile', 'now', '‘ve', 'whither', 'was', 'whom', 'back', 'seeming', 'were', 'fifteen', 'herself', 'across', '‘ll', 'being', 'already', 'with', \"'s\", 'up', 'in', 'least', 'toward', 'among', 'been', 'mostly', 'above', 'thru', 'first', 'take', 'anything', 'throughout', 'say', 'really', '‘m', 'behind', 'had', 'two', 'thus', 'cannot', 'neither', 'eight', 'using', 'becoming', 'this', 'without', \"'ll\", 'other', 'sixty', 'to', \"'d\", 'third', 'could', 'whence', 'thereby', 'last', 'before', 'make', 'then', 'onto', 'show', 'herein', 'thereupon', 'until', 'mine', 'myself', 'unless', 'if', 'beforehand', 'except', 'although', 'within', '’ve', 'would', 'give', 'along', 'ca', 'go', 'noone', 'every', 'whoever', 'below', 'too', 'forty', 'towards', 'namely', 'also', 'off', 'down', 'nine', 'top', 'see', 'ourselves', 'somehow', 'about', '‘s', 'alone', '’re', 'ever', 'therefore', 'latterly', 'move', '’s', 'something', 'her', 'whether', 'us', 'name', '’d', 'sometimes', 'during', 'at', 'never', 'into', 'more', 'bottom', 'our', 'i', 'serious', 'only', 'he', 'via', 'twelve', 'itself', 'almost', 'indeed', 'still', 'beyond', 'everyone', 'moreover', 'should', 'again', 'nevertheless', 'much', 'such', 'each', 'further', 'or', 'wherein', '’m', 'afterwards', 'sometime', 'my', 'who', 'rather', 'hers', 'you', 'even', 'not', 'as', 'hence', 'nowhere', 'part', 'over', 'one', 'n’t', 'but', 'so', 'five', 'has', 'around', 'fifty', 'otherwise', 'here', 'anyone', 'put', 'becomes', 're', 'are', 'than', 'hereupon', 'upon', 'quite', 'regarding', 'various', 'yet', 'whereby', 'hundred', 'nothing', \"'ve\", 'its', 'any', 'and', 'whereafter', 'all', 'where', 'n‘t', 'them', 'the', '‘re', 'empty', 'between', 'formerly', 'none', 'have', 'both', 'four', 'everything', 'beside', 'seems', 'can', 'there', 'those', 'no', 'everywhere', 'which', 'must', 'few', 'thereafter', 'together', 'seemed', 'a', 'less', 'either', 'several', 'own', 'hereafter', 'often', 'of', 'former', 'against', 'through', 'amount', 'is', 'out', 'eleven', 'besides', 'please', 'used', 'since', 'well', 'some', 'these', 'yours', 'somewhere', 'twenty', 'from', 'per', 'elsewhere', 'when', 'whenever', 'seem', 'next', '’ll', 'an', 'become', 'enough', 'on', 'it', 'anyhow', 'your', 'anyway', 'whereas', 'hereby', 'many', 'yourself', 'full', 'me', 'keep', 'wherever', 'whatever', 'after', '‘d', 'due'}\n",
            "-----------------------------------------------\n",
            "!\"#$%&'()*+,-./:;<=>?@[\\]^_`{|}~\n"
          ]
        }
      ]
    },
    {
      "cell_type": "code",
      "source": [
        "# Creating our tokenizer function\n",
        "def spacy_tokenizer(sentence):\n",
        "    # Creating our token object, which is used to create documents with linguistic annotations.\n",
        "    doc = nlp(sentence)\n",
        "\n",
        "    # print(doc)\n",
        "    # print(type(doc))\n",
        "\n",
        "    # Lemmatizing each token and converting each token into lowercase\n",
        "    mytokens = [ word.lemma_.lower().strip() for word in doc ]\n",
        "\n",
        "    # print(mytokens)\n",
        "\n",
        "    # Removing stop words\n",
        "    mytokens = [ word for word in mytokens if word not in stop_words and word not in punctuations ]\n",
        "\n",
        "    # return preprocessed list of tokens\n",
        "    return mytokens"
      ],
      "metadata": {
        "id": "xB5HR_Mn499_"
      },
      "execution_count": 4,
      "outputs": []
    },
    {
      "cell_type": "code",
      "source": [
        "dataset['Question_body_Tokens'] = dataset['Question_body'].apply(spacy_tokenizer)"
      ],
      "metadata": {
        "id": "FYc16i_q5gJv"
      },
      "execution_count": 8,
      "outputs": []
    },
    {
      "cell_type": "code",
      "source": [
        "# Save the updated DataFrame to an Excel file\n",
        "dataset.to_excel('posts.xlsx', index=False)"
      ],
      "metadata": {
        "id": "YSc6ft3LgUMs"
      },
      "execution_count": 10,
      "outputs": []
    },
    {
      "cell_type": "code",
      "source": [
        "dataset.head()"
      ],
      "metadata": {
        "id": "FK5cySID_7mV"
      },
      "execution_count": null,
      "outputs": []
    },
    {
      "cell_type": "markdown",
      "source": [
        "# Feature Vectors Engineering"
      ],
      "metadata": {
        "id": "JLtUecUtG6va"
      }
    },
    {
      "cell_type": "code",
      "source": [
        "import gensim.downloader as api\n",
        "print(list(gensim.downloader.info()['models'].keys()))"
      ],
      "metadata": {
        "colab": {
          "base_uri": "https://localhost:8080/"
        },
        "id": "E-Ddw1MhHqqM",
        "outputId": "019de2f3-1f17-4e18-9415-d0f2c203eb9f"
      },
      "execution_count": 11,
      "outputs": [
        {
          "output_type": "stream",
          "name": "stdout",
          "text": [
            "['fasttext-wiki-news-subwords-300', 'conceptnet-numberbatch-17-06-300', 'word2vec-ruscorpora-300', 'word2vec-google-news-300', 'glove-wiki-gigaword-50', 'glove-wiki-gigaword-100', 'glove-wiki-gigaword-200', 'glove-wiki-gigaword-300', 'glove-twitter-25', 'glove-twitter-50', 'glove-twitter-100', 'glove-twitter-200', '__testing_word2vec-matrix-synopsis']\n"
          ]
        }
      ]
    },
    {
      "cell_type": "code",
      "source": [
        "pretrained_Word2vec_Model = api.load('word2vec-google-news-300')"
      ],
      "metadata": {
        "id": "KVFu37l8H4US",
        "colab": {
          "base_uri": "https://localhost:8080/"
        },
        "outputId": "0c3a4407-3db8-4f79-eac7-bf928119847b"
      },
      "execution_count": 12,
      "outputs": [
        {
          "output_type": "stream",
          "name": "stdout",
          "text": [
            "[==================================================] 100.0% 1662.8/1662.8MB downloaded\n"
          ]
        }
      ]
    },
    {
      "cell_type": "code",
      "source": [
        "def sent_vec(sent):\n",
        "    vector_size = pretrained_Word2vec_Model.vector_size\n",
        "    pretrained_res = np.zeros(vector_size)\n",
        "    # print(wv_res)\n",
        "    string = 1\n",
        "    for w in sent:\n",
        "        if w in pretrained_Word2vec_Model:\n",
        "            string += 1\n",
        "            pretrained_res += pretrained_Word2vec_Model[w]\n",
        "    pretrained_res = pretrained_res/string\n",
        "    return pretrained_res"
      ],
      "metadata": {
        "id": "-EqDKi5cGzm8"
      },
      "execution_count": 13,
      "outputs": []
    },
    {
      "cell_type": "code",
      "source": [
        "dataset['W2V_Vect'] = dataset['Tokens'].apply(sent_vec)"
      ],
      "metadata": {
        "id": "TSZC3TyCHWjE"
      },
      "execution_count": 14,
      "outputs": []
    },
    {
      "cell_type": "code",
      "source": [
        "# Save the updated DataFrame to an Excel file\n",
        "dataset.to_excel('posts.xlsx', index=False)"
      ],
      "metadata": {
        "id": "JbeZDpzNg3gk"
      },
      "execution_count": 15,
      "outputs": []
    },
    {
      "cell_type": "code",
      "source": [
        "dataset.head()"
      ],
      "metadata": {
        "id": "tth98d97NMlt",
        "colab": {
          "base_uri": "https://localhost:8080/",
          "height": 206
        },
        "outputId": "d4a093e1-f973-419c-e144-cc7e6ebe17ec"
      },
      "execution_count": 16,
      "outputs": [
        {
          "output_type": "execute_result",
          "data": {
            "text/plain": [
              "                                       Question_body  Label  \\\n",
              "0  Here's the architecture:\\n<ol>\\n<li>Input comp...      1   \n",
              "1  I am confused about the architecture of Razor ...      1   \n",
              "2  I have some spring boot microservices and I wa...      1   \n",
              "3  I'm trying to properly design an application a...      1   \n",
              "4  I heard that for .NET8 Microsoft gifted us wit...      1   \n",
              "\n",
              "                                              Tokens  \\\n",
              "0  [architecture, ol, li, input, component, recei...   \n",
              "1  [confused, architecture, razor, pages, asp.net...   \n",
              "2  [spring, boot, microservice, want, use, micros...   \n",
              "3  [try, properly, design, application, accord, c...   \n",
              "4  [hear, .net8, microsoft, gift, totally, quot;f...   \n",
              "\n",
              "                                            W2V_Vect  \n",
              "0  [0.042191066099016857, -0.03547005171186469, -...  \n",
              "1  [0.020880169338650174, 0.029664357503255207, 0...  \n",
              "2  [0.011846774961890244, 0.0009713521817835366, ...  \n",
              "3  [0.046028193721064814, -0.027165794372558595, ...  \n",
              "4  [0.06962245343679405, -0.020223778414439005, -...  "
            ],
            "text/html": [
              "\n",
              "  <div id=\"df-915eb96f-ed92-436f-843f-d27acbfe544b\" class=\"colab-df-container\">\n",
              "    <div>\n",
              "<style scoped>\n",
              "    .dataframe tbody tr th:only-of-type {\n",
              "        vertical-align: middle;\n",
              "    }\n",
              "\n",
              "    .dataframe tbody tr th {\n",
              "        vertical-align: top;\n",
              "    }\n",
              "\n",
              "    .dataframe thead th {\n",
              "        text-align: right;\n",
              "    }\n",
              "</style>\n",
              "<table border=\"1\" class=\"dataframe\">\n",
              "  <thead>\n",
              "    <tr style=\"text-align: right;\">\n",
              "      <th></th>\n",
              "      <th>Question_body</th>\n",
              "      <th>Label</th>\n",
              "      <th>Tokens</th>\n",
              "      <th>W2V_Vect</th>\n",
              "    </tr>\n",
              "  </thead>\n",
              "  <tbody>\n",
              "    <tr>\n",
              "      <th>0</th>\n",
              "      <td>Here's the architecture:\\n&lt;ol&gt;\\n&lt;li&gt;Input comp...</td>\n",
              "      <td>1</td>\n",
              "      <td>[architecture, ol, li, input, component, recei...</td>\n",
              "      <td>[0.042191066099016857, -0.03547005171186469, -...</td>\n",
              "    </tr>\n",
              "    <tr>\n",
              "      <th>1</th>\n",
              "      <td>I am confused about the architecture of Razor ...</td>\n",
              "      <td>1</td>\n",
              "      <td>[confused, architecture, razor, pages, asp.net...</td>\n",
              "      <td>[0.020880169338650174, 0.029664357503255207, 0...</td>\n",
              "    </tr>\n",
              "    <tr>\n",
              "      <th>2</th>\n",
              "      <td>I have some spring boot microservices and I wa...</td>\n",
              "      <td>1</td>\n",
              "      <td>[spring, boot, microservice, want, use, micros...</td>\n",
              "      <td>[0.011846774961890244, 0.0009713521817835366, ...</td>\n",
              "    </tr>\n",
              "    <tr>\n",
              "      <th>3</th>\n",
              "      <td>I'm trying to properly design an application a...</td>\n",
              "      <td>1</td>\n",
              "      <td>[try, properly, design, application, accord, c...</td>\n",
              "      <td>[0.046028193721064814, -0.027165794372558595, ...</td>\n",
              "    </tr>\n",
              "    <tr>\n",
              "      <th>4</th>\n",
              "      <td>I heard that for .NET8 Microsoft gifted us wit...</td>\n",
              "      <td>1</td>\n",
              "      <td>[hear, .net8, microsoft, gift, totally, quot;f...</td>\n",
              "      <td>[0.06962245343679405, -0.020223778414439005, -...</td>\n",
              "    </tr>\n",
              "  </tbody>\n",
              "</table>\n",
              "</div>\n",
              "    <div class=\"colab-df-buttons\">\n",
              "\n",
              "  <div class=\"colab-df-container\">\n",
              "    <button class=\"colab-df-convert\" onclick=\"convertToInteractive('df-915eb96f-ed92-436f-843f-d27acbfe544b')\"\n",
              "            title=\"Convert this dataframe to an interactive table.\"\n",
              "            style=\"display:none;\">\n",
              "\n",
              "  <svg xmlns=\"http://www.w3.org/2000/svg\" height=\"24px\" viewBox=\"0 -960 960 960\">\n",
              "    <path d=\"M120-120v-720h720v720H120Zm60-500h600v-160H180v160Zm220 220h160v-160H400v160Zm0 220h160v-160H400v160ZM180-400h160v-160H180v160Zm440 0h160v-160H620v160ZM180-180h160v-160H180v160Zm440 0h160v-160H620v160Z\"/>\n",
              "  </svg>\n",
              "    </button>\n",
              "\n",
              "  <style>\n",
              "    .colab-df-container {\n",
              "      display:flex;\n",
              "      gap: 12px;\n",
              "    }\n",
              "\n",
              "    .colab-df-convert {\n",
              "      background-color: #E8F0FE;\n",
              "      border: none;\n",
              "      border-radius: 50%;\n",
              "      cursor: pointer;\n",
              "      display: none;\n",
              "      fill: #1967D2;\n",
              "      height: 32px;\n",
              "      padding: 0 0 0 0;\n",
              "      width: 32px;\n",
              "    }\n",
              "\n",
              "    .colab-df-convert:hover {\n",
              "      background-color: #E2EBFA;\n",
              "      box-shadow: 0px 1px 2px rgba(60, 64, 67, 0.3), 0px 1px 3px 1px rgba(60, 64, 67, 0.15);\n",
              "      fill: #174EA6;\n",
              "    }\n",
              "\n",
              "    .colab-df-buttons div {\n",
              "      margin-bottom: 4px;\n",
              "    }\n",
              "\n",
              "    [theme=dark] .colab-df-convert {\n",
              "      background-color: #3B4455;\n",
              "      fill: #D2E3FC;\n",
              "    }\n",
              "\n",
              "    [theme=dark] .colab-df-convert:hover {\n",
              "      background-color: #434B5C;\n",
              "      box-shadow: 0px 1px 3px 1px rgba(0, 0, 0, 0.15);\n",
              "      filter: drop-shadow(0px 1px 2px rgba(0, 0, 0, 0.3));\n",
              "      fill: #FFFFFF;\n",
              "    }\n",
              "  </style>\n",
              "\n",
              "    <script>\n",
              "      const buttonEl =\n",
              "        document.querySelector('#df-915eb96f-ed92-436f-843f-d27acbfe544b button.colab-df-convert');\n",
              "      buttonEl.style.display =\n",
              "        google.colab.kernel.accessAllowed ? 'block' : 'none';\n",
              "\n",
              "      async function convertToInteractive(key) {\n",
              "        const element = document.querySelector('#df-915eb96f-ed92-436f-843f-d27acbfe544b');\n",
              "        const dataTable =\n",
              "          await google.colab.kernel.invokeFunction('convertToInteractive',\n",
              "                                                    [key], {});\n",
              "        if (!dataTable) return;\n",
              "\n",
              "        const docLinkHtml = 'Like what you see? Visit the ' +\n",
              "          '<a target=\"_blank\" href=https://colab.research.google.com/notebooks/data_table.ipynb>data table notebook</a>'\n",
              "          + ' to learn more about interactive tables.';\n",
              "        element.innerHTML = '';\n",
              "        dataTable['output_type'] = 'display_data';\n",
              "        await google.colab.output.renderOutput(dataTable, element);\n",
              "        const docLink = document.createElement('div');\n",
              "        docLink.innerHTML = docLinkHtml;\n",
              "        element.appendChild(docLink);\n",
              "      }\n",
              "    </script>\n",
              "  </div>\n",
              "\n",
              "\n",
              "<div id=\"df-d52d8f97-ecf6-4950-b086-e2cd8740e0c8\">\n",
              "  <button class=\"colab-df-quickchart\" onclick=\"quickchart('df-d52d8f97-ecf6-4950-b086-e2cd8740e0c8')\"\n",
              "            title=\"Suggest charts\"\n",
              "            style=\"display:none;\">\n",
              "\n",
              "<svg xmlns=\"http://www.w3.org/2000/svg\" height=\"24px\"viewBox=\"0 0 24 24\"\n",
              "     width=\"24px\">\n",
              "    <g>\n",
              "        <path d=\"M19 3H5c-1.1 0-2 .9-2 2v14c0 1.1.9 2 2 2h14c1.1 0 2-.9 2-2V5c0-1.1-.9-2-2-2zM9 17H7v-7h2v7zm4 0h-2V7h2v10zm4 0h-2v-4h2v4z\"/>\n",
              "    </g>\n",
              "</svg>\n",
              "  </button>\n",
              "\n",
              "<style>\n",
              "  .colab-df-quickchart {\n",
              "      --bg-color: #E8F0FE;\n",
              "      --fill-color: #1967D2;\n",
              "      --hover-bg-color: #E2EBFA;\n",
              "      --hover-fill-color: #174EA6;\n",
              "      --disabled-fill-color: #AAA;\n",
              "      --disabled-bg-color: #DDD;\n",
              "  }\n",
              "\n",
              "  [theme=dark] .colab-df-quickchart {\n",
              "      --bg-color: #3B4455;\n",
              "      --fill-color: #D2E3FC;\n",
              "      --hover-bg-color: #434B5C;\n",
              "      --hover-fill-color: #FFFFFF;\n",
              "      --disabled-bg-color: #3B4455;\n",
              "      --disabled-fill-color: #666;\n",
              "  }\n",
              "\n",
              "  .colab-df-quickchart {\n",
              "    background-color: var(--bg-color);\n",
              "    border: none;\n",
              "    border-radius: 50%;\n",
              "    cursor: pointer;\n",
              "    display: none;\n",
              "    fill: var(--fill-color);\n",
              "    height: 32px;\n",
              "    padding: 0;\n",
              "    width: 32px;\n",
              "  }\n",
              "\n",
              "  .colab-df-quickchart:hover {\n",
              "    background-color: var(--hover-bg-color);\n",
              "    box-shadow: 0 1px 2px rgba(60, 64, 67, 0.3), 0 1px 3px 1px rgba(60, 64, 67, 0.15);\n",
              "    fill: var(--button-hover-fill-color);\n",
              "  }\n",
              "\n",
              "  .colab-df-quickchart-complete:disabled,\n",
              "  .colab-df-quickchart-complete:disabled:hover {\n",
              "    background-color: var(--disabled-bg-color);\n",
              "    fill: var(--disabled-fill-color);\n",
              "    box-shadow: none;\n",
              "  }\n",
              "\n",
              "  .colab-df-spinner {\n",
              "    border: 2px solid var(--fill-color);\n",
              "    border-color: transparent;\n",
              "    border-bottom-color: var(--fill-color);\n",
              "    animation:\n",
              "      spin 1s steps(1) infinite;\n",
              "  }\n",
              "\n",
              "  @keyframes spin {\n",
              "    0% {\n",
              "      border-color: transparent;\n",
              "      border-bottom-color: var(--fill-color);\n",
              "      border-left-color: var(--fill-color);\n",
              "    }\n",
              "    20% {\n",
              "      border-color: transparent;\n",
              "      border-left-color: var(--fill-color);\n",
              "      border-top-color: var(--fill-color);\n",
              "    }\n",
              "    30% {\n",
              "      border-color: transparent;\n",
              "      border-left-color: var(--fill-color);\n",
              "      border-top-color: var(--fill-color);\n",
              "      border-right-color: var(--fill-color);\n",
              "    }\n",
              "    40% {\n",
              "      border-color: transparent;\n",
              "      border-right-color: var(--fill-color);\n",
              "      border-top-color: var(--fill-color);\n",
              "    }\n",
              "    60% {\n",
              "      border-color: transparent;\n",
              "      border-right-color: var(--fill-color);\n",
              "    }\n",
              "    80% {\n",
              "      border-color: transparent;\n",
              "      border-right-color: var(--fill-color);\n",
              "      border-bottom-color: var(--fill-color);\n",
              "    }\n",
              "    90% {\n",
              "      border-color: transparent;\n",
              "      border-bottom-color: var(--fill-color);\n",
              "    }\n",
              "  }\n",
              "</style>\n",
              "\n",
              "  <script>\n",
              "    async function quickchart(key) {\n",
              "      const quickchartButtonEl =\n",
              "        document.querySelector('#' + key + ' button');\n",
              "      quickchartButtonEl.disabled = true;  // To prevent multiple clicks.\n",
              "      quickchartButtonEl.classList.add('colab-df-spinner');\n",
              "      try {\n",
              "        const charts = await google.colab.kernel.invokeFunction(\n",
              "            'suggestCharts', [key], {});\n",
              "      } catch (error) {\n",
              "        console.error('Error during call to suggestCharts:', error);\n",
              "      }\n",
              "      quickchartButtonEl.classList.remove('colab-df-spinner');\n",
              "      quickchartButtonEl.classList.add('colab-df-quickchart-complete');\n",
              "    }\n",
              "    (() => {\n",
              "      let quickchartButtonEl =\n",
              "        document.querySelector('#df-d52d8f97-ecf6-4950-b086-e2cd8740e0c8 button');\n",
              "      quickchartButtonEl.style.display =\n",
              "        google.colab.kernel.accessAllowed ? 'block' : 'none';\n",
              "    })();\n",
              "  </script>\n",
              "</div>\n",
              "\n",
              "    </div>\n",
              "  </div>\n"
            ],
            "application/vnd.google.colaboratory.intrinsic+json": {
              "type": "dataframe",
              "variable_name": "dataset",
              "summary": "{\n  \"name\": \"dataset\",\n  \"rows\": 9980,\n  \"fields\": [\n    {\n      \"column\": \"Question_body\",\n      \"properties\": {\n        \"dtype\": \"string\",\n        \"num_unique_values\": 9980,\n        \"samples\": [\n          \"I have the following three network architectures (similar to <a href=\\\"https://docs.aws.amazon.com/vpc/latest/userguide/VPC_Scenario3.html\\\" rel=\\\"nofollow noreferrer\\\">https://docs.aws.amazon.com/vpc/latest/userguide/VPC_Scenario3.html</a>) that are to be used on web-based, DB-driven applications to:\\n\\n<ul>\\n<li>enhance communications between servers efficiently</li>\\n<li>develop secure</li>\\n<li>network policies keep nodes secure and organized</li>\\n</ul>\\n\\nNote the CIDRs for each VPC and each subnet. Each subnet\\u00e2\\u20ac\\u2122s access is controlled by Route Tables and Network Access Control Lists which are not displayed in the diagrams for simplicity reasons. All subnets are different, some are public and some are private, some need to interact with some other ones as can be seen with the arrows.\\n\\n<img src=\\\"https://puma-2019.s3.amazonaws.com/cloud-vpc-architectures.jpg\\\" alt=\\\"cloud-vpc-architectures\\\">\\n\\nQuestions:\\n\\n<ol>\\n<li>Is <strong>VPC Architecture 2</strong> an enhancement over <strong>VPC Architecture 1</strong>?</li>\\n<li>Is <strong>VPC Architecture 3</strong> an enhancement over <strong>VPC Architecture 2</strong>? (Note how each VPC CIDR is the same 10.0.0.0/20)</li>\\n<li>Is there or could there be a penalty for <strong>VPC Architecture 3</strong> to have the same VPC CIDR of 10.0.0.0/20?\\n\\n<ul>\\n<li>What if I decide to bridge vpc-4 and vpc-5?</li>\\n</ul></li>\\n<li>If none of these architectures are good for my web-db networking needs, could you provide or point me towards good network architecture guidelines?</li>\\n</ol>\\n\\nThoughts are greatly appreciated.\\n\",\n          \"First- you had a syntax error - missing <code>+</code> here:\\n\\n<pre><code>e.type) ? \\\"-\\\" + e.type \\\" state:true-\\\"\\n                       ^----\\n</code></pre>\\n\\nSecond - it's better access elements using <code>document.getElementById</code> and not directly by their id:\\n\\n<pre><code>document.getElementById('log')\\n</code></pre>\\n\\n<div class=\\\"snippet\\\" data-lang=\\\"js\\\" data-hide=\\\"false\\\" data-console=\\\"true\\\" data-babel=\\\"false\\\">_x000D_\\n<div class=\\\"snippet-code\\\">_x000D_\\n<pre class=\\\"snippet-code-html lang-html prettyprint-override\\\"><code>&lt;!DOCTYPE html&gt;_x000D_\\n&lt;html&gt;_x000D_\\n&lt;head&gt;_x000D_\\n    &lt;title&gt;&lt;/title&gt;_x000D_\\n&lt;/head&gt;_x000D_\\n&lt;body&gt;Some sample text inside body_x000D_\\n    &lt;div id=\\\"log\\\"&gt;&lt;/div&gt;_x000D_\\n    &lt;script&gt;_x000D_\\n        var log = document.getElementById('log');_x000D_\\n        var clipboardEventsHandler = ['beforecut', 'cut', 'beforecopy', 'copy', 'paste'].forEach((evt) =&gt; {_x000D_\\n            document.addEventListener(evt, (e) =&gt; {_x000D_\\n                log.innerHTML += (\\\"-\\\" + e.type + \\\"-\\\");_x000D_\\n                log.innerHTML += (document.queryCommandSupported(e.type) ? \\\"-\\\" + e.type + \\\" supported-\\\" : \\\"-\\\" + e.type + \\\" **not** supported-\\\");_x000D_\\n                log.innerHTML += (document.queryCommandEnabled(e.type) ? \\\"-\\\" + e.type + \\\" enabled-\\\" : \\\"-\\\" + e.type + \\\" **not** enabled-\\\");_x000D_\\n                log.innerHTML += (document.queryCommandState(e.type) ? \\\"-\\\" + e.type + \\\" state:true-\\\" : \\\"-\\\" + e.type + \\\" state:false/null-\\\");_x000D_\\n                log.innerHTML += \\\"&lt;br&gt;\\\"_x000D_\\n            })_x000D_\\n        });_x000D_\\n    &lt;/script&gt;_x000D_\\n&lt;/body&gt;_x000D_\\n&lt;/html&gt;</code></pre>_x000D_\\n</div>_x000D_\\n</div>_x000D_\\n\\n\",\n          \"I'm relatively new to GCP and just starting to setup/evaluate my organizations architecture on GCP.\\n\\nScenario: <br>\\nData will flow into a pub/sub topic (high frequency, low amount of data). The goal is to move that data into Big Table. From my understanding you can do that either with a having a cloud function triggering on the topic or with Dataflow.\\n\\nNow I have previous experience with cloud functions which I am satisfied with, so that would be my pick.\\n\\nI fail to see the benefit of choosing one over the other. So my question is when to choose what of these products?\\n\\nThanks\\n\"\n        ],\n        \"semantic_type\": \"\",\n        \"description\": \"\"\n      }\n    },\n    {\n      \"column\": \"Label\",\n      \"properties\": {\n        \"dtype\": \"number\",\n        \"std\": 0,\n        \"min\": 0,\n        \"max\": 1,\n        \"num_unique_values\": 2,\n        \"samples\": [\n          0,\n          1\n        ],\n        \"semantic_type\": \"\",\n        \"description\": \"\"\n      }\n    },\n    {\n      \"column\": \"Tokens\",\n      \"properties\": {\n        \"dtype\": \"object\",\n        \"semantic_type\": \"\",\n        \"description\": \"\"\n      }\n    },\n    {\n      \"column\": \"W2V_Vect\",\n      \"properties\": {\n        \"dtype\": \"object\",\n        \"semantic_type\": \"\",\n        \"description\": \"\"\n      }\n    }\n  ]\n}"
            }
          },
          "metadata": {},
          "execution_count": 16
        }
      ]
    },
    {
      "cell_type": "code",
      "source": [
        "x = dataset['W2V_Vect'].to_list()\n",
        "y = dataset['Label'].to_list()"
      ],
      "metadata": {
        "id": "wYAbemrkReIw"
      },
      "execution_count": 17,
      "outputs": []
    },
    {
      "cell_type": "code",
      "source": [
        "from sklearn.model_selection import train_test_split\n",
        "X_train, X_test, y_train, y_test = train_test_split(x , y, test_size=0.2, random_state=125)"
      ],
      "metadata": {
        "id": "EWOgWWpAR_Eq"
      },
      "execution_count": 18,
      "outputs": []
    },
    {
      "cell_type": "markdown",
      "source": [
        "# Naive Bayes with W2vect"
      ],
      "metadata": {
        "id": "2HL1AQ8oS6s1"
      }
    },
    {
      "cell_type": "code",
      "source": [
        "from sklearn.naive_bayes import GaussianNB\n",
        "from sklearn.metrics import classification_report"
      ],
      "metadata": {
        "id": "Th9ZfPKxSrcw"
      },
      "execution_count": 19,
      "outputs": []
    },
    {
      "cell_type": "code",
      "source": [
        "nb_model = GaussianNB()\n",
        "nb_model = nb_model.fit(X_train, y_train)"
      ],
      "metadata": {
        "id": "WV4V_VbzR_hD"
      },
      "execution_count": 20,
      "outputs": []
    },
    {
      "cell_type": "code",
      "source": [
        "#print(classification_report(y_test, y_pred))"
      ],
      "metadata": {
        "id": "xTZsgVC7Sng6"
      },
      "execution_count": null,
      "outputs": []
    },
    {
      "cell_type": "code",
      "source": [
        "y_pred = nb_model.predict(X_test)\n",
        "\n",
        "from sklearn.metrics import precision_recall_fscore_support, confusion_matrix\n",
        "\n",
        "# Compute precision, recall, and F1-score for each class\n",
        "precision_class, recall_class, f1_class, support_class = precision_recall_fscore_support(y_test, y_pred, average=None, labels=[0, 1])\n",
        "\n",
        "# Compute confusion matrix\n",
        "conf_matrix = confusion_matrix(y_test, y_pred, labels=[0, 1])\n",
        "\n",
        "# Extract TP, TN, FP, FN for each class\n",
        "TP_0 = conf_matrix[0, 0]\n",
        "FN_0 = conf_matrix[0, 1]\n",
        "FP_0 = conf_matrix[1, 0]\n",
        "TN_0 = conf_matrix[1, 1]\n",
        "\n",
        "TP_1 = conf_matrix[1, 1]\n",
        "FN_1 = conf_matrix[1, 0]\n",
        "FP_1 = conf_matrix[0, 1]\n",
        "TN_1 = conf_matrix[0, 0]\n",
        "\n",
        "# Calculate overall accuracy\n",
        "accuracy = (TP_0 + TP_1) / (TP_0 + TP_1 + FP_0 + FP_1 + FN_0 + FN_1)\n",
        "\n",
        "print(f'Overall Accuracy: {accuracy}')\n",
        "print(f'Class 0 - Precision: {precision_class[0]}, Recall: {recall_class[0]}, F1-score: {f1_class[0]}, Support: {support_class[0]}')\n",
        "print(f'Class 1 - Precision: {precision_class[1]}, Recall: {recall_class[1]}, F1-score: {f1_class[1]}, Support: {support_class[1]}')\n",
        "\n"
      ],
      "metadata": {
        "colab": {
          "base_uri": "https://localhost:8080/"
        },
        "id": "pHgIIPKRZ5lW",
        "outputId": "bacc8363-b0af-480c-93bf-e680143ed6c0"
      },
      "execution_count": 35,
      "outputs": [
        {
          "output_type": "stream",
          "name": "stdout",
          "text": [
            "Overall Accuracy: 0.6605657237936772\n",
            "Class 0 - Precision: 0.8477546549835706, Recall: 0.7420901246404602, F1-score: 0.7914110429447853, Support: 1043\n",
            "Class 1 - Precision: 0.7516158818097877, Recall: 0.8541448058761805, F1-score: 0.7996070726915521, Support: 953\n"
          ]
        }
      ]
    },
    {
      "cell_type": "markdown",
      "source": [
        "# kNN with W2vect"
      ],
      "metadata": {
        "id": "UBHyHHhWTNdl"
      }
    },
    {
      "cell_type": "code",
      "source": [
        "from sklearn.neighbors import KNeighborsClassifier\n",
        "from sklearn.metrics import classification_report"
      ],
      "metadata": {
        "id": "mjW6G-OKTSiN"
      },
      "execution_count": 22,
      "outputs": []
    },
    {
      "cell_type": "code",
      "source": [
        "knn_model = KNeighborsClassifier(n_neighbors=1)\n",
        "knn_model.fit(X_train, y_train)"
      ],
      "metadata": {
        "colab": {
          "base_uri": "https://localhost:8080/",
          "height": 74
        },
        "id": "yBgtnFnuTTKs",
        "outputId": "5f71dccb-8238-4c8d-d38c-9cb8e9ecde69"
      },
      "execution_count": 23,
      "outputs": [
        {
          "output_type": "execute_result",
          "data": {
            "text/plain": [
              "KNeighborsClassifier(n_neighbors=1)"
            ],
            "text/html": [
              "<style>#sk-container-id-1 {color: black;}#sk-container-id-1 pre{padding: 0;}#sk-container-id-1 div.sk-toggleable {background-color: white;}#sk-container-id-1 label.sk-toggleable__label {cursor: pointer;display: block;width: 100%;margin-bottom: 0;padding: 0.3em;box-sizing: border-box;text-align: center;}#sk-container-id-1 label.sk-toggleable__label-arrow:before {content: \"▸\";float: left;margin-right: 0.25em;color: #696969;}#sk-container-id-1 label.sk-toggleable__label-arrow:hover:before {color: black;}#sk-container-id-1 div.sk-estimator:hover label.sk-toggleable__label-arrow:before {color: black;}#sk-container-id-1 div.sk-toggleable__content {max-height: 0;max-width: 0;overflow: hidden;text-align: left;background-color: #f0f8ff;}#sk-container-id-1 div.sk-toggleable__content pre {margin: 0.2em;color: black;border-radius: 0.25em;background-color: #f0f8ff;}#sk-container-id-1 input.sk-toggleable__control:checked~div.sk-toggleable__content {max-height: 200px;max-width: 100%;overflow: auto;}#sk-container-id-1 input.sk-toggleable__control:checked~label.sk-toggleable__label-arrow:before {content: \"▾\";}#sk-container-id-1 div.sk-estimator input.sk-toggleable__control:checked~label.sk-toggleable__label {background-color: #d4ebff;}#sk-container-id-1 div.sk-label input.sk-toggleable__control:checked~label.sk-toggleable__label {background-color: #d4ebff;}#sk-container-id-1 input.sk-hidden--visually {border: 0;clip: rect(1px 1px 1px 1px);clip: rect(1px, 1px, 1px, 1px);height: 1px;margin: -1px;overflow: hidden;padding: 0;position: absolute;width: 1px;}#sk-container-id-1 div.sk-estimator {font-family: monospace;background-color: #f0f8ff;border: 1px dotted black;border-radius: 0.25em;box-sizing: border-box;margin-bottom: 0.5em;}#sk-container-id-1 div.sk-estimator:hover {background-color: #d4ebff;}#sk-container-id-1 div.sk-parallel-item::after {content: \"\";width: 100%;border-bottom: 1px solid gray;flex-grow: 1;}#sk-container-id-1 div.sk-label:hover label.sk-toggleable__label {background-color: #d4ebff;}#sk-container-id-1 div.sk-serial::before {content: \"\";position: absolute;border-left: 1px solid gray;box-sizing: border-box;top: 0;bottom: 0;left: 50%;z-index: 0;}#sk-container-id-1 div.sk-serial {display: flex;flex-direction: column;align-items: center;background-color: white;padding-right: 0.2em;padding-left: 0.2em;position: relative;}#sk-container-id-1 div.sk-item {position: relative;z-index: 1;}#sk-container-id-1 div.sk-parallel {display: flex;align-items: stretch;justify-content: center;background-color: white;position: relative;}#sk-container-id-1 div.sk-item::before, #sk-container-id-1 div.sk-parallel-item::before {content: \"\";position: absolute;border-left: 1px solid gray;box-sizing: border-box;top: 0;bottom: 0;left: 50%;z-index: -1;}#sk-container-id-1 div.sk-parallel-item {display: flex;flex-direction: column;z-index: 1;position: relative;background-color: white;}#sk-container-id-1 div.sk-parallel-item:first-child::after {align-self: flex-end;width: 50%;}#sk-container-id-1 div.sk-parallel-item:last-child::after {align-self: flex-start;width: 50%;}#sk-container-id-1 div.sk-parallel-item:only-child::after {width: 0;}#sk-container-id-1 div.sk-dashed-wrapped {border: 1px dashed gray;margin: 0 0.4em 0.5em 0.4em;box-sizing: border-box;padding-bottom: 0.4em;background-color: white;}#sk-container-id-1 div.sk-label label {font-family: monospace;font-weight: bold;display: inline-block;line-height: 1.2em;}#sk-container-id-1 div.sk-label-container {text-align: center;}#sk-container-id-1 div.sk-container {/* jupyter's `normalize.less` sets `[hidden] { display: none; }` but bootstrap.min.css set `[hidden] { display: none !important; }` so we also need the `!important` here to be able to override the default hidden behavior on the sphinx rendered scikit-learn.org. See: https://github.com/scikit-learn/scikit-learn/issues/21755 */display: inline-block !important;position: relative;}#sk-container-id-1 div.sk-text-repr-fallback {display: none;}</style><div id=\"sk-container-id-1\" class=\"sk-top-container\"><div class=\"sk-text-repr-fallback\"><pre>KNeighborsClassifier(n_neighbors=1)</pre><b>In a Jupyter environment, please rerun this cell to show the HTML representation or trust the notebook. <br />On GitHub, the HTML representation is unable to render, please try loading this page with nbviewer.org.</b></div><div class=\"sk-container\" hidden><div class=\"sk-item\"><div class=\"sk-estimator sk-toggleable\"><input class=\"sk-toggleable__control sk-hidden--visually\" id=\"sk-estimator-id-1\" type=\"checkbox\" checked><label for=\"sk-estimator-id-1\" class=\"sk-toggleable__label sk-toggleable__label-arrow\">KNeighborsClassifier</label><div class=\"sk-toggleable__content\"><pre>KNeighborsClassifier(n_neighbors=1)</pre></div></div></div></div></div>"
            ]
          },
          "metadata": {},
          "execution_count": 23
        }
      ]
    },
    {
      "cell_type": "code",
      "source": [
        "#print(classification_report(y_test, y_pred))"
      ],
      "metadata": {
        "id": "TnCPctN7TS6N"
      },
      "execution_count": null,
      "outputs": []
    },
    {
      "cell_type": "code",
      "source": [
        "y_pred = knn_model.predict(X_test)\n",
        "\n",
        "from sklearn.metrics import precision_recall_fscore_support, confusion_matrix\n",
        "\n",
        "# Compute precision, recall, and F1-score for each class\n",
        "precision_class, recall_class, f1_class, support_class = precision_recall_fscore_support(y_test, y_pred, average=None, labels=[0, 1])\n",
        "\n",
        "# Compute confusion matrix\n",
        "conf_matrix = confusion_matrix(y_test, y_pred, labels=[0, 1])\n",
        "\n",
        "# Extract TP, TN, FP, FN for each class\n",
        "TP_0 = conf_matrix[0, 0]\n",
        "FN_0 = conf_matrix[0, 1]\n",
        "FP_0 = conf_matrix[1, 0]\n",
        "TN_0 = conf_matrix[1, 1]\n",
        "\n",
        "TP_1 = conf_matrix[1, 1]\n",
        "FN_1 = conf_matrix[1, 0]\n",
        "FP_1 = conf_matrix[0, 1]\n",
        "TN_1 = conf_matrix[0, 0]\n",
        "\n",
        "# Calculate overall accuracy\n",
        "accuracy = (TP_0 + TP_1) / (TP_0 + TP_1 + FP_0 + FP_1 + FN_0 + FN_1)\n",
        "\n",
        "print(f'Overall Accuracy: {accuracy}')\n",
        "print(f'Class 0 - Precision: {precision_class[0]}, Recall: {recall_class[0]}, F1-score: {f1_class[0]}, Support: {support_class[0]}')\n",
        "print(f'Class 1 - Precision: {precision_class[1]}, Recall: {recall_class[1]}, F1-score: {f1_class[1]}, Support: {support_class[1]}')\n"
      ],
      "metadata": {
        "colab": {
          "base_uri": "https://localhost:8080/"
        },
        "id": "sxTHVneDaVMQ",
        "outputId": "3a624be9-407c-4076-d643-3002c9abc896"
      },
      "execution_count": 34,
      "outputs": [
        {
          "output_type": "stream",
          "name": "stdout",
          "text": [
            "Overall Accuracy: 0.7409507195813345\n",
            "Class 0 - Precision: 0.9072052401746725, Recall: 0.7967401725790988, F1-score: 0.8483920367534457, Support: 1043\n",
            "Class 1 - Precision: 0.8037037037037037, Recall: 0.9108079748163693, F1-score: 0.853910477127398, Support: 953\n"
          ]
        }
      ]
    },
    {
      "cell_type": "markdown",
      "source": [
        "# Logistic Regression with W2vect"
      ],
      "metadata": {
        "id": "2aURx612S0ZV"
      }
    },
    {
      "cell_type": "code",
      "source": [
        "from sklearn.linear_model import LogisticRegression\n",
        "lg_model = LogisticRegression(C=5, penalty='l1', solver='liblinear')\n",
        "lg_model = lg_model.fit(X_train, y_train)"
      ],
      "metadata": {
        "id": "YXf1To5sdeOm"
      },
      "execution_count": 25,
      "outputs": []
    },
    {
      "cell_type": "code",
      "source": [
        "#print(classification_report(y_test, y_pred))"
      ],
      "metadata": {
        "id": "pe5eihOPenA2"
      },
      "execution_count": null,
      "outputs": []
    },
    {
      "cell_type": "code",
      "source": [
        "y_pred = lg_model.predict(X_test)\n",
        "\n",
        "from sklearn.metrics import precision_recall_fscore_support, confusion_matrix\n",
        "\n",
        "# Compute precision, recall, and F1-score for each class\n",
        "precision_class, recall_class, f1_class, support_class = precision_recall_fscore_support(y_test, y_pred, average=None, labels=[0, 1])\n",
        "\n",
        "# Compute confusion matrix\n",
        "conf_matrix = confusion_matrix(y_test, y_pred, labels=[0, 1])\n",
        "\n",
        "# Extract TP, TN, FP, FN for each class\n",
        "TP_0 = conf_matrix[0, 0]\n",
        "FN_0 = conf_matrix[0, 1]\n",
        "FP_0 = conf_matrix[1, 0]\n",
        "TN_0 = conf_matrix[1, 1]\n",
        "\n",
        "TP_1 = conf_matrix[1, 1]\n",
        "FN_1 = conf_matrix[1, 0]\n",
        "FP_1 = conf_matrix[0, 1]\n",
        "TN_1 = conf_matrix[0, 0]\n",
        "\n",
        "# Calculate overall accuracy\n",
        "accuracy = (TP_0 + TP_1) / (TP_0 + TP_1 + FP_0 + FP_1 + FN_0 + FN_1)\n",
        "\n",
        "print(f'Overall Accuracy: {accuracy}')\n",
        "print(f'Class 0 - Precision: {precision_class[0]}, Recall: {recall_class[0]}, F1-score: {f1_class[0]}, Support: {support_class[0]}')\n",
        "print(f'Class 1 - Precision: {precision_class[1]}, Recall: {recall_class[1]}, F1-score: {f1_class[1]}, Support: {support_class[1]}')"
      ],
      "metadata": {
        "colab": {
          "base_uri": "https://localhost:8080/"
        },
        "id": "c2M1iVmvachs",
        "outputId": "06462d06-2774-4294-f17b-ec5428717f69"
      },
      "execution_count": 33,
      "outputs": [
        {
          "output_type": "stream",
          "name": "stdout",
          "text": [
            "Overall Accuracy: 0.8584729981378026\n",
            "Class 0 - Precision: 0.9304347826086956, Recall: 0.9232981783317353, F1-score: 0.9268527430221366, Support: 1043\n",
            "Class 1 - Precision: 0.9167533818938606, Recall: 0.9244491080797481, F1-score: 0.9205851619644723, Support: 953\n"
          ]
        }
      ]
    },
    {
      "cell_type": "markdown",
      "source": [
        "# Decison Tree with W2vect"
      ],
      "metadata": {
        "id": "zaiQ1RDJStLU"
      }
    },
    {
      "cell_type": "code",
      "source": [
        "from sklearn.tree import DecisionTreeClassifier\n",
        "dt_model = DecisionTreeClassifier()\n",
        "dt_model = dt_model.fit(X_train, y_train)"
      ],
      "metadata": {
        "id": "Ksxn40O5e0-N"
      },
      "execution_count": 27,
      "outputs": []
    },
    {
      "cell_type": "code",
      "source": [
        "#print(classification_report(y_test, y_pred))"
      ],
      "metadata": {
        "id": "EX2Xd-yke7OF"
      },
      "execution_count": null,
      "outputs": []
    },
    {
      "cell_type": "code",
      "source": [
        "y_pred = dt_model.predict(X_test)\n",
        "\n",
        "from sklearn.metrics import precision_recall_fscore_support, confusion_matrix\n",
        "\n",
        "# Compute precision, recall, and F1-score for each class\n",
        "precision_class, recall_class, f1_class, support_class = precision_recall_fscore_support(y_test, y_pred, average=None, labels=[0, 1])\n",
        "\n",
        "# Compute confusion matrix\n",
        "conf_matrix = confusion_matrix(y_test, y_pred, labels=[0, 1])\n",
        "\n",
        "# Extract TP, TN, FP, FN for each class\n",
        "TP_0 = conf_matrix[0, 0]\n",
        "FN_0 = conf_matrix[0, 1]\n",
        "FP_0 = conf_matrix[1, 0]\n",
        "TN_0 = conf_matrix[1, 1]\n",
        "\n",
        "TP_1 = conf_matrix[1, 1]\n",
        "FN_1 = conf_matrix[1, 0]\n",
        "FP_1 = conf_matrix[0, 1]\n",
        "TN_1 = conf_matrix[0, 0]\n",
        "\n",
        "# Calculate overall accuracy\n",
        "accuracy = (TP_0 + TP_1) / (TP_0 + TP_1 + FP_0 + FP_1 + FN_0 + FN_1)\n",
        "\n",
        "print(f'Overall Accuracy: {accuracy}')\n",
        "print(f'Class 0 - Precision: {precision_class[0]}, Recall: {recall_class[0]}, F1-score: {f1_class[0]}, Support: {support_class[0]}')\n",
        "print(f'Class 1 - Precision: {precision_class[1]}, Recall: {recall_class[1]}, F1-score: {f1_class[1]}, Support: {support_class[1]}')"
      ],
      "metadata": {
        "colab": {
          "base_uri": "https://localhost:8080/"
        },
        "id": "lC-7lzakaePA",
        "outputId": "b05a64d0-402a-4deb-f308-ab9748e2a968"
      },
      "execution_count": 32,
      "outputs": [
        {
          "output_type": "stream",
          "name": "stdout",
          "text": [
            "Overall Accuracy: 0.638752052545156\n",
            "Class 0 - Precision: 0.7874165872259294, Recall: 0.7919463087248322, F1-score: 0.7896749521988528, Support: 1043\n",
            "Class 1 - Precision: 0.7708553326293559, Recall: 0.7660020986358866, F1-score: 0.768421052631579, Support: 953\n"
          ]
        }
      ]
    },
    {
      "cell_type": "markdown",
      "source": [
        "# SVM with W2vect"
      ],
      "metadata": {
        "id": "-hq49S9bSlxs"
      }
    },
    {
      "cell_type": "code",
      "source": [
        "from sklearn.svm import SVC\n",
        "svm_model = SVC()\n",
        "svm_model = svm_model.fit(X_train, y_train)"
      ],
      "metadata": {
        "id": "GaFnFJ58fErJ"
      },
      "execution_count": 29,
      "outputs": []
    },
    {
      "cell_type": "code",
      "source": [
        "#print(classification_report(y_test, y_pred))"
      ],
      "metadata": {
        "id": "ugkXYN7IfKTm"
      },
      "execution_count": null,
      "outputs": []
    },
    {
      "cell_type": "code",
      "source": [
        "# Compute predictions\n",
        "y_pred = svm_model.predict(X_test)\n",
        "\n",
        "from sklearn.metrics import precision_recall_fscore_support, confusion_matrix\n",
        "\n",
        "# Compute precision, recall, and F1-score for each class\n",
        "precision_class, recall_class, f1_class, support_class = precision_recall_fscore_support(y_test, y_pred, average=None, labels=[0, 1])\n",
        "\n",
        "# Compute confusion matrix\n",
        "conf_matrix = confusion_matrix(y_test, y_pred, labels=[0, 1])\n",
        "\n",
        "# Extract TP, TN, FP, FN for each class\n",
        "TP_0 = conf_matrix[0, 0]\n",
        "FN_0 = conf_matrix[0, 1]\n",
        "FP_0 = conf_matrix[1, 0]\n",
        "TN_0 = conf_matrix[1, 1]\n",
        "\n",
        "TP_1 = conf_matrix[1, 1]\n",
        "FN_1 = conf_matrix[1, 0]\n",
        "FP_1 = conf_matrix[0, 1]\n",
        "TN_1 = conf_matrix[0, 0]\n",
        "\n",
        "# Calculate overall accuracy\n",
        "accuracy = (TP_0 + TP_1) / (TP_0 + TP_1 + FP_0 + FP_1 + FN_0 + FN_1)\n",
        "\n",
        "print(f'Overall Accuracy: {accuracy}')\n",
        "print(f'Class 0 - Precision: {precision_class[0]}, Recall: {recall_class[0]}, F1-score: {f1_class[0]}, Support: {support_class[0]}')\n",
        "print(f'Class 1 - Precision: {precision_class[1]}, Recall: {recall_class[1]}, F1-score: {f1_class[1]}, Support: {support_class[1]}')"
      ],
      "metadata": {
        "colab": {
          "base_uri": "https://localhost:8080/"
        },
        "id": "KbPpot8iagey",
        "outputId": "8fcdfba6-bdb9-4425-a409-e1089d9a1dd4"
      },
      "execution_count": 31,
      "outputs": [
        {
          "output_type": "stream",
          "name": "stdout",
          "text": [
            "Overall Accuracy: 0.8689138576779026\n",
            "Class 0 - Precision: 0.9320574162679426, Recall: 0.9338446788111218, F1-score: 0.9329501915708812, Support: 1043\n",
            "Class 1 - Precision: 0.9274447949526814, Recall: 0.925498426023085, F1-score: 0.9264705882352942, Support: 953\n"
          ]
        }
      ]
    }
  ]
}