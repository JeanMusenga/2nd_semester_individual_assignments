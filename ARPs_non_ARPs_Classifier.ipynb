{
  "nbformat": 4,
  "nbformat_minor": 0,
  "metadata": {
    "colab": {
      "provenance": [],
      "toc_visible": true,
      "authorship_tag": "ABX9TyMa75gko0NToqmEufo+NDO3",
      "include_colab_link": true
    },
    "kernelspec": {
      "name": "python3",
      "display_name": "Python 3"
    },
    "language_info": {
      "name": "python"
    }
  },
  "cells": [
    {
      "cell_type": "markdown",
      "metadata": {
        "id": "view-in-github",
        "colab_type": "text"
      },
      "source": [
        "<a href=\"https://colab.research.google.com/github/JeanMusenga/2nd_semester_individual_assignments/blob/main/ARPs_non_ARPs_Classifier.ipynb\" target=\"_parent\"><img src=\"https://colab.research.google.com/assets/colab-badge.svg\" alt=\"Open In Colab\"/></a>"
      ]
    },
    {
      "cell_type": "code",
      "source": [
        "import pandas as pd\n",
        "import numpy as np\n",
        "from matplotlib import pyplot as plt\n",
        "from sklearn.preprocessing import StandardScaler\n",
        "#from imblearn.over_sampling import RandomOverSampler"
      ],
      "metadata": {
        "id": "J879bAngAUnt"
      },
      "execution_count": null,
      "outputs": []
    },
    {
      "cell_type": "code",
      "source": [
        "dataset=pd.read_excel('ARPs_and_ProgrammingPosts.xlsx')"
      ],
      "metadata": {
        "id": "Sz3Cr_dyAzod"
      },
      "execution_count": null,
      "outputs": []
    },
    {
      "cell_type": "code",
      "source": [
        "dataset.head()"
      ],
      "metadata": {
        "colab": {
          "base_uri": "https://localhost:8080/",
          "height": 206
        },
        "id": "LqvAVInrBCBE",
        "outputId": "78d13530-bc80-4718-ad46-86a1e866d7fc"
      },
      "execution_count": null,
      "outputs": [
        {
          "output_type": "execute_result",
          "data": {
            "text/plain": [
              "                                                Post  Class\n",
              "0  <p>Here's the architecture:</p>\\n<ol>\\n<li>Inp...      1\n",
              "1  <p>I am confused about the architecture of Raz...      1\n",
              "2  <p>I have some spring boot microservices and I...      1\n",
              "3  <p>I'm trying to properly design an applicatio...      1\n",
              "4  <p>I heard that for .NET8 Microsoft gifted us ...      1"
            ],
            "text/html": [
              "\n",
              "  <div id=\"df-87e56950-c19e-4e72-b4d2-098480463c06\" class=\"colab-df-container\">\n",
              "    <div>\n",
              "<style scoped>\n",
              "    .dataframe tbody tr th:only-of-type {\n",
              "        vertical-align: middle;\n",
              "    }\n",
              "\n",
              "    .dataframe tbody tr th {\n",
              "        vertical-align: top;\n",
              "    }\n",
              "\n",
              "    .dataframe thead th {\n",
              "        text-align: right;\n",
              "    }\n",
              "</style>\n",
              "<table border=\"1\" class=\"dataframe\">\n",
              "  <thead>\n",
              "    <tr style=\"text-align: right;\">\n",
              "      <th></th>\n",
              "      <th>Post</th>\n",
              "      <th>Class</th>\n",
              "    </tr>\n",
              "  </thead>\n",
              "  <tbody>\n",
              "    <tr>\n",
              "      <th>0</th>\n",
              "      <td>&lt;p&gt;Here's the architecture:&lt;/p&gt;\\n&lt;ol&gt;\\n&lt;li&gt;Inp...</td>\n",
              "      <td>1</td>\n",
              "    </tr>\n",
              "    <tr>\n",
              "      <th>1</th>\n",
              "      <td>&lt;p&gt;I am confused about the architecture of Raz...</td>\n",
              "      <td>1</td>\n",
              "    </tr>\n",
              "    <tr>\n",
              "      <th>2</th>\n",
              "      <td>&lt;p&gt;I have some spring boot microservices and I...</td>\n",
              "      <td>1</td>\n",
              "    </tr>\n",
              "    <tr>\n",
              "      <th>3</th>\n",
              "      <td>&lt;p&gt;I'm trying to properly design an applicatio...</td>\n",
              "      <td>1</td>\n",
              "    </tr>\n",
              "    <tr>\n",
              "      <th>4</th>\n",
              "      <td>&lt;p&gt;I heard that for .NET8 Microsoft gifted us ...</td>\n",
              "      <td>1</td>\n",
              "    </tr>\n",
              "  </tbody>\n",
              "</table>\n",
              "</div>\n",
              "    <div class=\"colab-df-buttons\">\n",
              "\n",
              "  <div class=\"colab-df-container\">\n",
              "    <button class=\"colab-df-convert\" onclick=\"convertToInteractive('df-87e56950-c19e-4e72-b4d2-098480463c06')\"\n",
              "            title=\"Convert this dataframe to an interactive table.\"\n",
              "            style=\"display:none;\">\n",
              "\n",
              "  <svg xmlns=\"http://www.w3.org/2000/svg\" height=\"24px\" viewBox=\"0 -960 960 960\">\n",
              "    <path d=\"M120-120v-720h720v720H120Zm60-500h600v-160H180v160Zm220 220h160v-160H400v160Zm0 220h160v-160H400v160ZM180-400h160v-160H180v160Zm440 0h160v-160H620v160ZM180-180h160v-160H180v160Zm440 0h160v-160H620v160Z\"/>\n",
              "  </svg>\n",
              "    </button>\n",
              "\n",
              "  <style>\n",
              "    .colab-df-container {\n",
              "      display:flex;\n",
              "      gap: 12px;\n",
              "    }\n",
              "\n",
              "    .colab-df-convert {\n",
              "      background-color: #E8F0FE;\n",
              "      border: none;\n",
              "      border-radius: 50%;\n",
              "      cursor: pointer;\n",
              "      display: none;\n",
              "      fill: #1967D2;\n",
              "      height: 32px;\n",
              "      padding: 0 0 0 0;\n",
              "      width: 32px;\n",
              "    }\n",
              "\n",
              "    .colab-df-convert:hover {\n",
              "      background-color: #E2EBFA;\n",
              "      box-shadow: 0px 1px 2px rgba(60, 64, 67, 0.3), 0px 1px 3px 1px rgba(60, 64, 67, 0.15);\n",
              "      fill: #174EA6;\n",
              "    }\n",
              "\n",
              "    .colab-df-buttons div {\n",
              "      margin-bottom: 4px;\n",
              "    }\n",
              "\n",
              "    [theme=dark] .colab-df-convert {\n",
              "      background-color: #3B4455;\n",
              "      fill: #D2E3FC;\n",
              "    }\n",
              "\n",
              "    [theme=dark] .colab-df-convert:hover {\n",
              "      background-color: #434B5C;\n",
              "      box-shadow: 0px 1px 3px 1px rgba(0, 0, 0, 0.15);\n",
              "      filter: drop-shadow(0px 1px 2px rgba(0, 0, 0, 0.3));\n",
              "      fill: #FFFFFF;\n",
              "    }\n",
              "  </style>\n",
              "\n",
              "    <script>\n",
              "      const buttonEl =\n",
              "        document.querySelector('#df-87e56950-c19e-4e72-b4d2-098480463c06 button.colab-df-convert');\n",
              "      buttonEl.style.display =\n",
              "        google.colab.kernel.accessAllowed ? 'block' : 'none';\n",
              "\n",
              "      async function convertToInteractive(key) {\n",
              "        const element = document.querySelector('#df-87e56950-c19e-4e72-b4d2-098480463c06');\n",
              "        const dataTable =\n",
              "          await google.colab.kernel.invokeFunction('convertToInteractive',\n",
              "                                                    [key], {});\n",
              "        if (!dataTable) return;\n",
              "\n",
              "        const docLinkHtml = 'Like what you see? Visit the ' +\n",
              "          '<a target=\"_blank\" href=https://colab.research.google.com/notebooks/data_table.ipynb>data table notebook</a>'\n",
              "          + ' to learn more about interactive tables.';\n",
              "        element.innerHTML = '';\n",
              "        dataTable['output_type'] = 'display_data';\n",
              "        await google.colab.output.renderOutput(dataTable, element);\n",
              "        const docLink = document.createElement('div');\n",
              "        docLink.innerHTML = docLinkHtml;\n",
              "        element.appendChild(docLink);\n",
              "      }\n",
              "    </script>\n",
              "  </div>\n",
              "\n",
              "\n",
              "<div id=\"df-4652466c-a0f9-4fa1-a9e1-4d70395d7ffc\">\n",
              "  <button class=\"colab-df-quickchart\" onclick=\"quickchart('df-4652466c-a0f9-4fa1-a9e1-4d70395d7ffc')\"\n",
              "            title=\"Suggest charts\"\n",
              "            style=\"display:none;\">\n",
              "\n",
              "<svg xmlns=\"http://www.w3.org/2000/svg\" height=\"24px\"viewBox=\"0 0 24 24\"\n",
              "     width=\"24px\">\n",
              "    <g>\n",
              "        <path d=\"M19 3H5c-1.1 0-2 .9-2 2v14c0 1.1.9 2 2 2h14c1.1 0 2-.9 2-2V5c0-1.1-.9-2-2-2zM9 17H7v-7h2v7zm4 0h-2V7h2v10zm4 0h-2v-4h2v4z\"/>\n",
              "    </g>\n",
              "</svg>\n",
              "  </button>\n",
              "\n",
              "<style>\n",
              "  .colab-df-quickchart {\n",
              "      --bg-color: #E8F0FE;\n",
              "      --fill-color: #1967D2;\n",
              "      --hover-bg-color: #E2EBFA;\n",
              "      --hover-fill-color: #174EA6;\n",
              "      --disabled-fill-color: #AAA;\n",
              "      --disabled-bg-color: #DDD;\n",
              "  }\n",
              "\n",
              "  [theme=dark] .colab-df-quickchart {\n",
              "      --bg-color: #3B4455;\n",
              "      --fill-color: #D2E3FC;\n",
              "      --hover-bg-color: #434B5C;\n",
              "      --hover-fill-color: #FFFFFF;\n",
              "      --disabled-bg-color: #3B4455;\n",
              "      --disabled-fill-color: #666;\n",
              "  }\n",
              "\n",
              "  .colab-df-quickchart {\n",
              "    background-color: var(--bg-color);\n",
              "    border: none;\n",
              "    border-radius: 50%;\n",
              "    cursor: pointer;\n",
              "    display: none;\n",
              "    fill: var(--fill-color);\n",
              "    height: 32px;\n",
              "    padding: 0;\n",
              "    width: 32px;\n",
              "  }\n",
              "\n",
              "  .colab-df-quickchart:hover {\n",
              "    background-color: var(--hover-bg-color);\n",
              "    box-shadow: 0 1px 2px rgba(60, 64, 67, 0.3), 0 1px 3px 1px rgba(60, 64, 67, 0.15);\n",
              "    fill: var(--button-hover-fill-color);\n",
              "  }\n",
              "\n",
              "  .colab-df-quickchart-complete:disabled,\n",
              "  .colab-df-quickchart-complete:disabled:hover {\n",
              "    background-color: var(--disabled-bg-color);\n",
              "    fill: var(--disabled-fill-color);\n",
              "    box-shadow: none;\n",
              "  }\n",
              "\n",
              "  .colab-df-spinner {\n",
              "    border: 2px solid var(--fill-color);\n",
              "    border-color: transparent;\n",
              "    border-bottom-color: var(--fill-color);\n",
              "    animation:\n",
              "      spin 1s steps(1) infinite;\n",
              "  }\n",
              "\n",
              "  @keyframes spin {\n",
              "    0% {\n",
              "      border-color: transparent;\n",
              "      border-bottom-color: var(--fill-color);\n",
              "      border-left-color: var(--fill-color);\n",
              "    }\n",
              "    20% {\n",
              "      border-color: transparent;\n",
              "      border-left-color: var(--fill-color);\n",
              "      border-top-color: var(--fill-color);\n",
              "    }\n",
              "    30% {\n",
              "      border-color: transparent;\n",
              "      border-left-color: var(--fill-color);\n",
              "      border-top-color: var(--fill-color);\n",
              "      border-right-color: var(--fill-color);\n",
              "    }\n",
              "    40% {\n",
              "      border-color: transparent;\n",
              "      border-right-color: var(--fill-color);\n",
              "      border-top-color: var(--fill-color);\n",
              "    }\n",
              "    60% {\n",
              "      border-color: transparent;\n",
              "      border-right-color: var(--fill-color);\n",
              "    }\n",
              "    80% {\n",
              "      border-color: transparent;\n",
              "      border-right-color: var(--fill-color);\n",
              "      border-bottom-color: var(--fill-color);\n",
              "    }\n",
              "    90% {\n",
              "      border-color: transparent;\n",
              "      border-bottom-color: var(--fill-color);\n",
              "    }\n",
              "  }\n",
              "</style>\n",
              "\n",
              "  <script>\n",
              "    async function quickchart(key) {\n",
              "      const quickchartButtonEl =\n",
              "        document.querySelector('#' + key + ' button');\n",
              "      quickchartButtonEl.disabled = true;  // To prevent multiple clicks.\n",
              "      quickchartButtonEl.classList.add('colab-df-spinner');\n",
              "      try {\n",
              "        const charts = await google.colab.kernel.invokeFunction(\n",
              "            'suggestCharts', [key], {});\n",
              "      } catch (error) {\n",
              "        console.error('Error during call to suggestCharts:', error);\n",
              "      }\n",
              "      quickchartButtonEl.classList.remove('colab-df-spinner');\n",
              "      quickchartButtonEl.classList.add('colab-df-quickchart-complete');\n",
              "    }\n",
              "    (() => {\n",
              "      let quickchartButtonEl =\n",
              "        document.querySelector('#df-4652466c-a0f9-4fa1-a9e1-4d70395d7ffc button');\n",
              "      quickchartButtonEl.style.display =\n",
              "        google.colab.kernel.accessAllowed ? 'block' : 'none';\n",
              "    })();\n",
              "  </script>\n",
              "</div>\n",
              "    </div>\n",
              "  </div>\n"
            ],
            "application/vnd.google.colaboratory.intrinsic+json": {
              "type": "dataframe",
              "variable_name": "dataset",
              "summary": "{\n  \"name\": \"dataset\",\n  \"rows\": 14932,\n  \"fields\": [\n    {\n      \"column\": \"Post\",\n      \"properties\": {\n        \"dtype\": \"string\",\n        \"num_unique_values\": 14925,\n        \"samples\": [\n          \"<p>So the enemy does drop a coin but i does not get the properties of the coin( if it hits the player it gives him +5 coins)</p>\\n\\n<p>The coin will be removed if it hits the bottom of the stage, if the player dies or if the player hits it. Sadly, it does not work. </p>\\n\\n<p>But this does work if i place a coin on the stage before i start the game, it gets all its properties, so then it must be the moment it gets added to the stage that it does not get linked with the coding or something..... and that is where i am right now.</p>\\n\\n<p>this is the .as file for the coin:</p>\\n\\n<p>package \\n{</p>\\n\\n<pre><code>import flash.display.MovieClip;\\nimport flash.events.Event;\\npublic class Coin1 extends MovieClip\\n{\\n    private var _root:Object;\\n    private var speed:int = 0;\\n\\n    public function Coin1()\\n    {\\n    addEventListener(Event.ENTER_FRAME, Speed1);\\n    addEventListener(Event.ADDED, beginClass);\\n    addEventListener(Event.ENTER_FRAME, coin1go);\\n    }\\n    private function beginClass(event:Event):void\\n    {\\n        _root = MovieClip(root);\\n    }\\n\\n    private function Speed1(event:Event):void\\n    {\\n        y +=  speed;\\n    }\\n\\n        private function coin1go(event:Event):void\\n        {\\n        if (this.y &gt; stage.stageHeight)\\n        {\\n            removeEventListener(Event.ENTER_FRAME, coin1go);\\n            _root.removeChild(this);\\n        }\\n        if (hitTestObject(_root.player_mc))\\n        {\\n            _root.coin +=  1;\\n            removeEventListener(Event.ENTER_FRAME, coin1go);\\n            _root.removeChild(this);\\n\\n        }\\n        if (_root.playerhealth &lt;= 1)\\n        {\\n            removeEventListener(Event.ENTER_FRAME, coin1go);\\n            _root.removeChild(this);\\n\\n        }\\n    }\\n}\\n</code></pre>\\n\\n<p>}</p>\\n\\n<p>This is the part from where it gets added to the stage:</p>\\n\\n<pre><code>    if (enemy2health &lt;= 0)\\n    {\\n        removeEventListener(Event.ENTER_FRAME, eFrame);\\n        _root.score +=  _root.Enemy2Score * _root.scoremultiplyer;\\n        stage.addChild(newExplosionSmall)\\n        newExplosionSmall.x = this.x;\\n        newExplosionSmall.y = this.y;\\n        stage.addChild(newCoin1)\\n        newCoin1.x = this.x;\\n        newCoin1.y = this.y;\\n</code></pre>\\n\\n<p>Ass you can see there is also an addchild for an explosion wich works perfectly fine but that may jus be because it does nothing else than appear and remove itself.</p>\\n\\n<p>So long story short: enemy drops coin but it does nothing and floats to the bottom of the screen and i get a constant stream of 1009 errors. so does anyone know how to fix this?</p>\\n\",\n          \"<p>We have a legacy .NET 1.1 application which communicates multiple systems along with SAP systems also. Currently we are using DCOM Connector for SAP communication.</p>\\n<p>We have decided to replace the DCOM Connector with .NET 3.0 SAP connector as latest SAP versions are not providing support for the DCOM Connector. But the problem is we cannot call .NET 3.0 DLL from .NET 1.1 DLL.</p>\\n<p>We have considered the below options:</p>\\n<ol>\\n<li>Migrating current 1.1 application to 3.5 or latest. However we didn't get approval for this since it consumes <strong>huge effort</strong> as the application is critical and complex</li>\\n<li>Create Intermediate VB component which can act as communicator for both 1.1 and 3.5. It adds one more layer and leads to architectural change. We didn't get approval for this also due to <strong>performance issues</strong> and architectural review.</li>\\n<li>Create a web-service which calls SAP through .NET SAP connector and host in the same server and consume that from .NET 1.1 application. This also not get approved due to <strong>performance issues</strong> and architectural review.</li>\\n<li>Checking any other mechanism in WCF which helps to communication between .NET 1.1 and .NET 3.0 applications. This also not get approved due to <strong>performance issues</strong> and architectural review.</li>\\n<li>Make .NET 3.5 classes exposed as COM objects (out-of-process), and use these COM objects from your .NET 1.1 app. We have tried this option and it is <strong>giving this exception</strong>:\\n<blockquote>\\n<p>A reference to 'NETDLL' could not be added. Converting the type library to a .NET assembly failed. Type library NETDLL was exported from a CLR assembly and cannot be re-imported as a CLR assembly</p>\\n</blockquote>\\n</li>\\n</ol>\\n<p>Can you help me any other approaches which doesn't cost architectural change and doesn't cause performance hit?</p>\\n\",\n          \"<p>I am specifically looking at the AlexNet architecture found here:\\n<a href=\\\"https://github.com/pytorch/vision/blob/master/torchvision/models/alexnet.py\\\" rel=\\\"nofollow noreferrer\\\">https://github.com/pytorch/vision/blob/master/torchvision/models/alexnet.py</a></p>\\n\\n<p>I am confused as to how they are getting the input and output channels. Based on my readings of the AlexNet, I can't figure out where they are getting <em>outputchannels = 64</em> from (as the second argument to the <code>Conv2d</code> function). Even if the <em>256</em> is split across 2 GPUs, that should give <em>128</em> rather than <em>64</em>. The input channel of 3 initially represents the color channels as per my assumption. However, the other input and output channels don't make sense to me either.</p>\\n\\n<p>Could anyone clarify what the input and output channels are? </p>\\n\\n<p>class AlexNet(nn.Module):</p>\\n\\n<pre><code>def __init__(self, num_classes=1000):\\n    super(AlexNet, self).__init__()\\n    self.features = nn.Sequential(\\n        nn.Conv2d(3, 64, kernel_size=11, stride=4, padding=2), #why 64?\\n        nn.ReLU(inplace=True),\\n        nn.MaxPool2d(kernel_size=3, stride=2),\\n        nn.Conv2d(64, 192, kernel_size=5, padding=2),\\n        nn.ReLU(inplace=True),\\n        nn.MaxPool2d(kernel_size=3, stride=2),\\n        nn.Conv2d(192, 384, kernel_size=3, padding=1),\\n        nn.ReLU(inplace=True),\\n        nn.Conv2d(384, 256, kernel_size=3, padding=1),\\n        nn.ReLU(inplace=True),\\n        nn.Conv2d(256, 256, kernel_size=3, padding=1),\\n        nn.ReLU(inplace=True),\\n        nn.MaxPool2d(kernel_size=3, stride=2),\\n</code></pre>\\n\\n<p>)\\n<a href=\\\"https://i.stack.imgur.com/rPOTl.jpg\\\" rel=\\\"nofollow noreferrer\\\"><img src=\\\"https://i.stack.imgur.com/rPOTl.jpg\\\" alt=\\\"enter image description here\\\"></a></p>\\n\"\n        ],\n        \"semantic_type\": \"\",\n        \"description\": \"\"\n      }\n    },\n    {\n      \"column\": \"Class\",\n      \"properties\": {\n        \"dtype\": \"number\",\n        \"std\": 0,\n        \"min\": 0,\n        \"max\": 1,\n        \"num_unique_values\": 2,\n        \"samples\": [\n          0,\n          1\n        ],\n        \"semantic_type\": \"\",\n        \"description\": \"\"\n      }\n    }\n  ]\n}"
            }
          },
          "metadata": {},
          "execution_count": 4
        }
      ]
    },
    {
      "source": [
        "# @title Class\n",
        "\n",
        "from matplotlib import pyplot as plt\n",
        "dataset['Class'].plot(kind='hist', bins=10, title='Class')\n",
        "plt.gca().spines[['top', 'right',]].set_visible(False)"
      ],
      "cell_type": "code",
      "execution_count": null,
      "outputs": [
        {
          "output_type": "display_data",
          "data": {
            "text/plain": [
              "<Figure size 640x480 with 1 Axes>"
            ],
            "image/png": "[encoded data removed]"
          },
          "metadata": {}
        }
      ],
      "metadata": {
        "colab": {
          "base_uri": "https://localhost:8080/",
          "height": 452
        },
        "id": "sSW7xvesbvtf",
        "outputId": "93a91a49-1cb8-4fbc-f7c4-6ab0259bd848"
      }
    },
    {
      "cell_type": "code",
      "source": [
        "dataset.columns"
      ],
      "metadata": {
        "colab": {
          "base_uri": "https://localhost:8080/"
        },
        "id": "bqsVro9QBKO8",
        "outputId": "8c9922b4-e1b5-4783-d02a-bff21f2ec014"
      },
      "execution_count": null,
      "outputs": [
        {
          "output_type": "execute_result",
          "data": {
            "text/plain": [
              "Index(['Post', 'Class'], dtype='object')"
            ]
          },
          "metadata": {},
          "execution_count": 7
        }
      ]
    },
    {
      "cell_type": "code",
      "source": [
        "dataset.Class"
      ],
      "metadata": {
        "colab": {
          "base_uri": "https://localhost:8080/"
        },
        "id": "Qh-ykzOABLO0",
        "outputId": "517744c2-6685-4c84-cecf-b770ea035395"
      },
      "execution_count": null,
      "outputs": [
        {
          "output_type": "execute_result",
          "data": {
            "text/plain": [
              "0        1\n",
              "1        1\n",
              "2        1\n",
              "3        1\n",
              "4        1\n",
              "        ..\n",
              "14927    0\n",
              "14928    0\n",
              "14929    0\n",
              "14930    0\n",
              "14931    0\n",
              "Name: Class, Length: 14932, dtype: int64"
            ]
          },
          "metadata": {},
          "execution_count": 12
        }
      ]
    },
    {
      "cell_type": "code",
      "source": [
        "##dataset[\"class\"] = (dataset[\"Class\"] == \"g\").astype(int)"
      ],
      "metadata": {
        "id": "qKkGw4xOBMes"
      },
      "execution_count": null,
      "outputs": []
    },
    {
      "cell_type": "code",
      "source": [
        "dataset.info()"
      ],
      "metadata": {
        "colab": {
          "base_uri": "https://localhost:8080/"
        },
        "id": "9aiUesfiBUjE",
        "outputId": "f40e1bbd-8f77-4df4-9459-ec31c37f6721"
      },
      "execution_count": null,
      "outputs": [
        {
          "output_type": "stream",
          "name": "stdout",
          "text": [
            "<class 'pandas.core.frame.DataFrame'>\n",
            "RangeIndex: 14932 entries, 0 to 14931\n",
            "Data columns (total 2 columns):\n",
            " #   Column  Non-Null Count  Dtype \n",
            "---  ------  --------------  ----- \n",
            " 0   Post    14932 non-null  object\n",
            " 1   Class   14932 non-null  int64 \n",
            "dtypes: int64(1), object(1)\n",
            "memory usage: 233.4+ KB\n"
          ]
        }
      ]
    },
    {
      "cell_type": "code",
      "source": [
        "dataset[dataset['Class'] ==1].count()"
      ],
      "metadata": {
        "colab": {
          "base_uri": "https://localhost:8080/"
        },
        "id": "BjFkNvpEBvzV",
        "outputId": "669f4898-e957-419f-85be-5e0053127a34"
      },
      "execution_count": null,
      "outputs": [
        {
          "output_type": "execute_result",
          "data": {
            "text/plain": [
              "Post     7466\n",
              "Class    7466\n",
              "dtype: int64"
            ]
          },
          "metadata": {},
          "execution_count": 46
        }
      ]
    },
    {
      "cell_type": "code",
      "source": [
        "dataset[dataset['Class'] ==0].count()"
      ],
      "metadata": {
        "colab": {
          "base_uri": "https://localhost:8080/"
        },
        "id": "H1EryYOgBx8u",
        "outputId": "2eabf775-4a2c-4dbc-b7bd-0cf7f8be5511"
      },
      "execution_count": null,
      "outputs": [
        {
          "output_type": "execute_result",
          "data": {
            "text/plain": [
              "Post     7466\n",
              "Class    7466\n",
              "dtype: int64"
            ]
          },
          "metadata": {},
          "execution_count": 47
        }
      ]
    },
    {
      "cell_type": "code",
      "source": [
        "dataset.Post[300]"
      ],
      "metadata": {
        "colab": {
          "base_uri": "https://localhost:8080/",
          "height": 144
        },
        "id": "ztNtiClhBzpb",
        "outputId": "3c9cb00d-da25-421b-87a8-02ec81da9399"
      },
      "execution_count": null,
      "outputs": [
        {
          "output_type": "execute_result",
          "data": {
            "text/plain": [
              "'<p>I m trying to design a Platform which can have multiple Publishers and Consumers. It can expose the Layer on REST API as well as GRAPHQL.\\nNow if we want to have an Orchestration or Workflow layer which supports following things</p>\\n<ol>\\n<li>SAGA base Message Processing.</li>\\n<li>REST API based Step by Step execution</li>\\n<li>REST API based Orchestration</li>\\n</ol>\\n<p>with keeping all the Microservices decoupled and Transformation; Routing done through the Workflow/Orchestrator itself.\\nAny Tool or Framework in market can help such as NETFLIX Conductor. Need Suggestions on this how can move forward.</p>\\n<p>At the end it needs to</p>\\n<ol>\\n<li>Easy to Configure -- while adding new API; New services.</li>\\n<li>Support Observailibility</li>\\n<li>Plug and Play configuration</li>\\n<li>Things such as Service discovery and Cloud Agnostic if required</li>\\n</ol>\\n'"
            ],
            "application/vnd.google.colaboratory.intrinsic+json": {
              "type": "string"
            }
          },
          "metadata": {},
          "execution_count": 48
        }
      ]
    },
    {
      "cell_type": "code",
      "source": [
        "x = dataset.Post\n",
        "y = dataset['Class']"
      ],
      "metadata": {
        "id": "01U0W6M0B10L"
      },
      "execution_count": null,
      "outputs": []
    },
    {
      "cell_type": "code",
      "source": [
        "import seaborn as sns\n",
        "sns.countplot(data=dataset)\n",
        "plt.xticks(rotation=45, ha='right');"
      ],
      "metadata": {
        "colab": {
          "base_uri": "https://localhost:8080/",
          "height": 452
        },
        "id": "bb8KQALHyj67",
        "outputId": "5f02ac76-a539-42c0-b387-40e862ffa8ce"
      },
      "execution_count": null,
      "outputs": [
        {
          "output_type": "display_data",
          "data": {
            "text/plain": [
              "<Figure size 640x480 with 1 Axes>"
            ],
            "image/png": "[encoded data removed]"
          },
          "metadata": {}
        }
      ]
    },
    {
      "cell_type": "code",
      "source": [
        "dataset.drop_duplicates(subset =\"Post\", keep = False, inplace = True)"
      ],
      "metadata": {
        "id": "9zSdf76SB2oc"
      },
      "execution_count": null,
      "outputs": []
    },
    {
      "cell_type": "code",
      "source": [
        "dataset.duplicated(subset='Post').value_counts()"
      ],
      "metadata": {
        "colab": {
          "base_uri": "https://localhost:8080/"
        },
        "id": "eJEfquCeB4Fk",
        "outputId": "2f2bdf36-5407-4823-84eb-0de2b2ce03ce"
      },
      "execution_count": null,
      "outputs": [
        {
          "output_type": "execute_result",
          "data": {
            "text/plain": [
              "False    14918\n",
              "Name: count, dtype: int64"
            ]
          },
          "metadata": {},
          "execution_count": 14
        }
      ]
    },
    {
      "cell_type": "code",
      "source": [
        "#split X and y into training and testing sets\n",
        "#train, valid, test = np.split(dataset.sample(frac=1), [int(0.6*len(dataset)), int(0.8*len(dataset))])\n",
        "x = dataset.Post\n",
        "y = dataset.Class\n",
        "\n",
        "from sklearn.model_selection import train_test_split\n",
        "X_train, X_test, y_train, y_test = train_test_split(x , y, test_size=0.33, random_state=125)\n",
        "\n",
        "\n",
        "print('Total number of sample:', len(dataset))\n",
        "# check the shape of X_train and X_test\n",
        "print('X Training sample:', len(X_train))\n",
        "print('X Test sample:', len(X_test))\n",
        "\n",
        "# check the shape of y_train and y_test\n",
        "print(\"-------------------------\")\n",
        "print('Y Training sample:', len(y_train))\n",
        "print('Y Test sample:', len(y_test))"
      ],
      "metadata": {
        "id": "_2u7uQukB6YL",
        "colab": {
          "base_uri": "https://localhost:8080/"
        },
        "outputId": "e1620fed-5a97-4e4b-ba3c-b7cfc34ed9c2"
      },
      "execution_count": null,
      "outputs": [
        {
          "output_type": "stream",
          "name": "stdout",
          "text": [
            "Total number of sample: 14932\n",
            "X Training sample: 10004\n",
            "X Test sample: 4928\n",
            "-------------------------\n",
            "Y Training sample: 10004\n",
            "Y Test sample: 4928\n"
          ]
        }
      ]
    },
    {
      "cell_type": "code",
      "source": [
        "dataset.shape #I have 14918 instances/posts and 2 attributes/columns in the dataset."
      ],
      "metadata": {
        "colab": {
          "base_uri": "https://localhost:8080/"
        },
        "id": "xfu1GoI_ZwBE",
        "outputId": "a0be4595-0841-4eac-c3cf-72619defe149"
      },
      "execution_count": null,
      "outputs": [
        {
          "output_type": "execute_result",
          "data": {
            "text/plain": [
              "(14932, 2)"
            ]
          },
          "metadata": {},
          "execution_count": 7
        }
      ]
    },
    {
      "cell_type": "code",
      "source": [
        "X_train.dtypes\n"
      ],
      "metadata": {
        "colab": {
          "base_uri": "https://localhost:8080/"
        },
        "id": "znND7nVDcVsM",
        "outputId": "2829eec6-2725-4c8a-ce74-d16945f2d52d"
      },
      "execution_count": null,
      "outputs": [
        {
          "output_type": "execute_result",
          "data": {
            "text/plain": [
              "dtype('O')"
            ]
          },
          "metadata": {},
          "execution_count": 226
        }
      ]
    },
    {
      "cell_type": "code",
      "source": [
        "# check data types in y_train\n",
        "y_train.dtypes"
      ],
      "metadata": {
        "colab": {
          "base_uri": "https://localhost:8080/"
        },
        "id": "t9zcAx-8coJE",
        "outputId": "c78fab29-4ba3-4e30-cb43-6e687e75d773"
      },
      "execution_count": null,
      "outputs": [
        {
          "output_type": "execute_result",
          "data": {
            "text/plain": [
              "dtype('float64')"
            ]
          },
          "metadata": {},
          "execution_count": 217
        }
      ]
    },
    {
      "cell_type": "code",
      "source": [
        "#Feature Engineering or feature generation/extraction is the process of transforming raw data into useful features that help us to understand\n",
        "#our model better and increase its predictive power. I will carry out feature engineering on different types of variables.\n",
        "from sklearn.feature_extraction.text import CountVectorizer\n",
        "\n",
        "vect = CountVectorizer().fit(X_train) #CountVectorizer implements both tokenization and occurrence counting in a single class\n",
        "X_train_vect = vect.transform(X_train)\n",
        "X_test_vect = vect.transform(X_test)\n"
      ],
      "metadata": {
        "id": "w77qQ5v0CFf7"
      },
      "execution_count": null,
      "outputs": []
    },
    {
      "cell_type": "code",
      "source": [
        "print(\"X_train:\\n{}\".format(repr(X_train_vect)))"
      ],
      "metadata": {
        "colab": {
          "base_uri": "https://localhost:8080/"
        },
        "id": "B4x2dgpBFv1R",
        "outputId": "2b2481b7-15b5-4db0-bb53-58b6f7a60cf4"
      },
      "execution_count": null,
      "outputs": [
        {
          "output_type": "stream",
          "name": "stdout",
          "text": [
            "X_train:\n",
            "<10004x76211 sparse matrix of type '<class 'numpy.int64'>'\n",
            "\twith 978772 stored elements in Compressed Sparse Row format>\n"
          ]
        }
      ]
    },
    {
      "cell_type": "code",
      "source": [
        "vect.get_feature_names_out()"
      ],
      "metadata": {
        "colab": {
          "base_uri": "https://localhost:8080/"
        },
        "id": "eNbu1buUFlI5",
        "outputId": "10ae4232-baaf-433a-fbd2-71d4cb0d23aa"
      },
      "execution_count": null,
      "outputs": [
        {
          "output_type": "execute_result",
          "data": {
            "text/plain": [
              "array(['00', '000', '0000', ..., 'œï¼', 'œˆ', 'šã'], dtype=object)"
            ]
          },
          "metadata": {},
          "execution_count": 10
        }
      ]
    },
    {
      "cell_type": "markdown",
      "source": [
        "# kNN"
      ],
      "metadata": {
        "id": "L52lqOTJCjac"
      }
    },
    {
      "cell_type": "code",
      "source": [
        "#X.toarray()"
      ],
      "metadata": {
        "id": "XWpbjANM-rfj"
      },
      "execution_count": null,
      "outputs": []
    },
    {
      "cell_type": "code",
      "source": [
        "from sklearn.neighbors import KNeighborsClassifier\n",
        "from sklearn.metrics import classification_report"
      ],
      "metadata": {
        "id": "NokhkImmCQkV"
      },
      "execution_count": null,
      "outputs": []
    },
    {
      "cell_type": "code",
      "source": [
        "knn_model = KNeighborsClassifier(n_neighbors=5)\n",
        "knn_model.fit(X_train_vect, y_train)"
      ],
      "metadata": {
        "colab": {
          "base_uri": "https://localhost:8080/",
          "height": 74
        },
        "id": "din4K270CRa2",
        "outputId": "899a350c-5c01-4af5-cd4d-97dc08fe6d65"
      },
      "execution_count": null,
      "outputs": [
        {
          "output_type": "execute_result",
          "data": {
            "text/plain": [
              "KNeighborsClassifier()"
            ],
            "text/html": [
              "<style>#sk-container-id-1 {color: black;background-color: white;}#sk-container-id-1 pre{padding: 0;}#sk-container-id-1 div.sk-toggleable {background-color: white;}#sk-container-id-1 label.sk-toggleable__label {cursor: pointer;display: block;width: 100%;margin-bottom: 0;padding: 0.3em;box-sizing: border-box;text-align: center;}#sk-container-id-1 label.sk-toggleable__label-arrow:before {content: \"▸\";float: left;margin-right: 0.25em;color: #696969;}#sk-container-id-1 label.sk-toggleable__label-arrow:hover:before {color: black;}#sk-container-id-1 div.sk-estimator:hover label.sk-toggleable__label-arrow:before {color: black;}#sk-container-id-1 div.sk-toggleable__content {max-height: 0;max-width: 0;overflow: hidden;text-align: left;background-color: #f0f8ff;}#sk-container-id-1 div.sk-toggleable__content pre {margin: 0.2em;color: black;border-radius: 0.25em;background-color: #f0f8ff;}#sk-container-id-1 input.sk-toggleable__control:checked~div.sk-toggleable__content {max-height: 200px;max-width: 100%;overflow: auto;}#sk-container-id-1 input.sk-toggleable__control:checked~label.sk-toggleable__label-arrow:before {content: \"▾\";}#sk-container-id-1 div.sk-estimator input.sk-toggleable__control:checked~label.sk-toggleable__label {background-color: #d4ebff;}#sk-container-id-1 div.sk-label input.sk-toggleable__control:checked~label.sk-toggleable__label {background-color: #d4ebff;}#sk-container-id-1 input.sk-hidden--visually {border: 0;clip: rect(1px 1px 1px 1px);clip: rect(1px, 1px, 1px, 1px);height: 1px;margin: -1px;overflow: hidden;padding: 0;position: absolute;width: 1px;}#sk-container-id-1 div.sk-estimator {font-family: monospace;background-color: #f0f8ff;border: 1px dotted black;border-radius: 0.25em;box-sizing: border-box;margin-bottom: 0.5em;}#sk-container-id-1 div.sk-estimator:hover {background-color: #d4ebff;}#sk-container-id-1 div.sk-parallel-item::after {content: \"\";width: 100%;border-bottom: 1px solid gray;flex-grow: 1;}#sk-container-id-1 div.sk-label:hover label.sk-toggleable__label {background-color: #d4ebff;}#sk-container-id-1 div.sk-serial::before {content: \"\";position: absolute;border-left: 1px solid gray;box-sizing: border-box;top: 0;bottom: 0;left: 50%;z-index: 0;}#sk-container-id-1 div.sk-serial {display: flex;flex-direction: column;align-items: center;background-color: white;padding-right: 0.2em;padding-left: 0.2em;position: relative;}#sk-container-id-1 div.sk-item {position: relative;z-index: 1;}#sk-container-id-1 div.sk-parallel {display: flex;align-items: stretch;justify-content: center;background-color: white;position: relative;}#sk-container-id-1 div.sk-item::before, #sk-container-id-1 div.sk-parallel-item::before {content: \"\";position: absolute;border-left: 1px solid gray;box-sizing: border-box;top: 0;bottom: 0;left: 50%;z-index: -1;}#sk-container-id-1 div.sk-parallel-item {display: flex;flex-direction: column;z-index: 1;position: relative;background-color: white;}#sk-container-id-1 div.sk-parallel-item:first-child::after {align-self: flex-end;width: 50%;}#sk-container-id-1 div.sk-parallel-item:last-child::after {align-self: flex-start;width: 50%;}#sk-container-id-1 div.sk-parallel-item:only-child::after {width: 0;}#sk-container-id-1 div.sk-dashed-wrapped {border: 1px dashed gray;margin: 0 0.4em 0.5em 0.4em;box-sizing: border-box;padding-bottom: 0.4em;background-color: white;}#sk-container-id-1 div.sk-label label {font-family: monospace;font-weight: bold;display: inline-block;line-height: 1.2em;}#sk-container-id-1 div.sk-label-container {text-align: center;}#sk-container-id-1 div.sk-container {/* jupyter's `normalize.less` sets `[hidden] { display: none; }` but bootstrap.min.css set `[hidden] { display: none !important; }` so we also need the `!important` here to be able to override the default hidden behavior on the sphinx rendered scikit-learn.org. See: https://github.com/scikit-learn/scikit-learn/issues/21755 */display: inline-block !important;position: relative;}#sk-container-id-1 div.sk-text-repr-fallback {display: none;}</style><div id=\"sk-container-id-1\" class=\"sk-top-container\"><div class=\"sk-text-repr-fallback\"><pre>KNeighborsClassifier()</pre><b>In a Jupyter environment, please rerun this cell to show the HTML representation or trust the notebook. <br />On GitHub, the HTML representation is unable to render, please try loading this page with nbviewer.org.</b></div><div class=\"sk-container\" hidden><div class=\"sk-item\"><div class=\"sk-estimator sk-toggleable\"><input class=\"sk-toggleable__control sk-hidden--visually\" id=\"sk-estimator-id-1\" type=\"checkbox\" checked><label for=\"sk-estimator-id-1\" class=\"sk-toggleable__label sk-toggleable__label-arrow\">KNeighborsClassifier</label><div class=\"sk-toggleable__content\"><pre>KNeighborsClassifier()</pre></div></div></div></div></div>"
            ]
          },
          "metadata": {},
          "execution_count": 12
        }
      ]
    },
    {
      "cell_type": "code",
      "source": [
        "y_pred = knn_model.predict(X_test_vect)"
      ],
      "metadata": {
        "id": "XKnBrXH_CUR8"
      },
      "execution_count": null,
      "outputs": []
    },
    {
      "cell_type": "code",
      "source": [
        "print(classification_report(y_test, y_pred))"
      ],
      "metadata": {
        "colab": {
          "base_uri": "https://localhost:8080/"
        },
        "id": "XnJfItasCV6c",
        "outputId": "2dcdc611-9eb2-458d-a7cc-466d4592f532"
      },
      "execution_count": null,
      "outputs": [
        {
          "output_type": "stream",
          "name": "stdout",
          "text": [
            "              precision    recall  f1-score   support\n",
            "\n",
            "           0       0.99      0.86      0.92      2544\n",
            "           1       0.87      0.99      0.93      2384\n",
            "\n",
            "    accuracy                           0.92      4928\n",
            "   macro avg       0.93      0.92      0.92      4928\n",
            "weighted avg       0.93      0.92      0.92      4928\n",
            "\n"
          ]
        }
      ]
    },
    {
      "cell_type": "markdown",
      "source": [
        "# Logistic Regression-"
      ],
      "metadata": {
        "id": "2dZleE1mDfpt"
      }
    },
    {
      "cell_type": "code",
      "source": [
        "from sklearn.linear_model import LogisticRegression"
      ],
      "metadata": {
        "id": "JunykXMiDiZE"
      },
      "execution_count": null,
      "outputs": []
    },
    {
      "cell_type": "code",
      "source": [
        "lg_model = LogisticRegression(C=5, penalty='l1', solver='liblinear')\n",
        "lg_model = lg_model.fit(X_train_vect, y_train)"
      ],
      "metadata": {
        "id": "G7EhUiDwDmul"
      },
      "execution_count": null,
      "outputs": []
    },
    {
      "cell_type": "code",
      "source": [
        "y_pred = lg_model.predict(X_test_vect)\n",
        "print(classification_report(y_test, y_pred))"
      ],
      "metadata": {
        "colab": {
          "base_uri": "https://localhost:8080/"
        },
        "id": "6oHsXWdhDrc8",
        "outputId": "f1c40e19-e6c2-4468-c4c2-598de10383f6"
      },
      "execution_count": null,
      "outputs": [
        {
          "output_type": "stream",
          "name": "stdout",
          "text": [
            "              precision    recall  f1-score   support\n",
            "\n",
            "           0       0.97      0.95      0.96      2544\n",
            "           1       0.95      0.96      0.96      2384\n",
            "\n",
            "    accuracy                           0.96      4928\n",
            "   macro avg       0.96      0.96      0.96      4928\n",
            "weighted avg       0.96      0.96      0.96      4928\n",
            "\n"
          ]
        }
      ]
    },
    {
      "cell_type": "markdown",
      "source": [
        "# SVM"
      ],
      "metadata": {
        "id": "eN2adSWYEe_e"
      }
    },
    {
      "cell_type": "code",
      "source": [
        "from sklearn.svm import SVC"
      ],
      "metadata": {
        "id": "47WbXfuREnb1"
      },
      "execution_count": null,
      "outputs": []
    },
    {
      "cell_type": "code",
      "source": [
        "svm_model = SVC()\n",
        "svm_model = svm_model.fit(X_train_vect, y_train)"
      ],
      "metadata": {
        "id": "QBCvVq_7EqH3"
      },
      "execution_count": null,
      "outputs": []
    },
    {
      "cell_type": "code",
      "source": [
        "y_pred = svm_model.predict(X_test_vect)\n",
        "print(classification_report(y_test, y_pred))"
      ],
      "metadata": {
        "colab": {
          "base_uri": "https://localhost:8080/"
        },
        "id": "PFXdVISZEq4V",
        "outputId": "20235e22-4fa0-44bd-83ae-c643b3b8b64c"
      },
      "execution_count": null,
      "outputs": [
        {
          "output_type": "stream",
          "name": "stdout",
          "text": [
            "              precision    recall  f1-score   support\n",
            "\n",
            "           0       0.99      0.94      0.96      2544\n",
            "           1       0.94      0.99      0.96      2384\n",
            "\n",
            "    accuracy                           0.96      4928\n",
            "   macro avg       0.96      0.96      0.96      4928\n",
            "weighted avg       0.96      0.96      0.96      4928\n",
            "\n"
          ]
        }
      ]
    },
    {
      "cell_type": "markdown",
      "source": [
        "# Neural Net"
      ],
      "metadata": {
        "id": "fd-oFVa5G-Jb"
      }
    },
    {
      "cell_type": "code",
      "source": [
        "import tensorflow as tf"
      ],
      "metadata": {
        "id": "Cb0hTeFGHGiZ"
      },
      "execution_count": null,
      "outputs": []
    }
  ]
}