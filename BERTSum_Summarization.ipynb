{
  "nbformat": 4,
  "nbformat_minor": 0,
  "metadata": {
    "colab": {
      "provenance": [],
      "gpuType": "T4",
      "authorship_tag": "ABX9TyNYAse0I/qr/iZ2pV2dEcib",
      "include_colab_link": true
    },
    "kernelspec": {
      "name": "python3",
      "display_name": "Python 3"
    },
    "language_info": {
      "name": "python"
    },
    "accelerator": "GPU"
  },
  "cells": [
    {
      "cell_type": "markdown",
      "metadata": {
        "id": "view-in-github",
        "colab_type": "text"
      },
      "source": [
        "<a href=\"https://colab.research.google.com/github/JeanMusenga/PhD-Thesis_2024_Musenga/blob/main/BERTSum_Summarization.ipynb\" target=\"_parent\"><img src=\"https://colab.research.google.com/assets/colab-badge.svg\" alt=\"Open In Colab\"/></a>"
      ]
    },
    {
      "cell_type": "markdown",
      "source": [
        "https://github.com/nlpyang/BertSum\n",
        "\n",
        "https://web.stanford.edu/class/archive/cs/cs224n/cs224n.1214/reports/final_reports/report042.pdf\n",
        "\n",
        "https://github.com/sudharsan13296/Getting-Started-with-Google-BERT/blob/main/6.%20Exploring%20BERTSUM%20for%20text%20summarization/6.07.%20Training%20the%20BERTSUM%20model%20.ipynb"
      ],
      "metadata": {
        "id": "gkbjOVDobKaS"
      }
    },
    {
      "cell_type": "code",
      "source": [
        "# Step 1: Install dependencies\n",
        "!pip install transformers\n",
        "!pip install torch"
      ],
      "metadata": {
        "id": "GiLi0TbwjA86"
      },
      "execution_count": null,
      "outputs": []
    },
    {
      "cell_type": "code",
      "execution_count": 13,
      "metadata": {
        "id": "D35C4Cs8XhnK",
        "colab": {
          "base_uri": "https://localhost:8080/"
        },
        "outputId": "b58feb66-b830-436f-d8f5-0556878f4c94"
      },
      "outputs": [
        {
          "output_type": "stream",
          "name": "stderr",
          "text": [
            "[nltk_data] Downloading package punkt to /root/nltk_data...\n",
            "[nltk_data]   Unzipping tokenizers/punkt.zip.\n"
          ]
        }
      ],
      "source": [
        "# Step 2: Import necessary libraries\n",
        "from transformers import BertTokenizer, BertModel\n",
        "import torch\n",
        "from torch.nn.functional import softmax\n",
        "import pandas as pd\n",
        "import nltk\n",
        "nltk.download('punkt')\n",
        "from nltk.tokenize import sent_tokenize"
      ]
    },
    {
      "cell_type": "code",
      "source": [
        "file_path = './saved_file'\n",
        "file_path = ('DataSampePilot.xlsx')\n",
        "\n",
        "data = pd.read_excel(file_path)"
      ],
      "metadata": {
        "id": "XtIGGc_OXmCn"
      },
      "execution_count": 6,
      "outputs": []
    },
    {
      "cell_type": "code",
      "source": [
        "# Display the first few rows of the dataset\n",
        "data.head()"
      ],
      "metadata": {
        "id": "RebPnwzR5c7L"
      },
      "execution_count": null,
      "outputs": []
    },
    {
      "cell_type": "markdown",
      "source": [
        "# Clone the Repository and Navigate to It\n",
        "https://chatgpt.com/share/d9a17184-b011-4f11-85e4-7ab2636bbd30"
      ],
      "metadata": {
        "id": "UxeAPIxah1wp"
      }
    },
    {
      "cell_type": "code",
      "source": [
        "!git clone https://github.com/nlpyang/BertSum.git\n"
      ],
      "metadata": {
        "id": "3D6SpqwrdRkZ"
      },
      "execution_count": null,
      "outputs": []
    },
    {
      "cell_type": "markdown",
      "source": [],
      "metadata": {
        "id": "zGzZM0PurrrK"
      }
    },
    {
      "cell_type": "code",
      "source": [
        "# List the files in the current directory\n",
        "!ls"
      ],
      "metadata": {
        "colab": {
          "base_uri": "https://localhost:8080/"
        },
        "id": "v8mUBHUudlf5",
        "outputId": "6cb7d054-f358-4bbd-eba7-736dcc30e06a"
      },
      "execution_count": 14,
      "outputs": [
        {
          "output_type": "stream",
          "name": "stdout",
          "text": [
            "BertSum  DataSampePilot.xlsx  sample_data\n"
          ]
        }
      ]
    },
    {
      "cell_type": "code",
      "source": [
        "!ls BertSum"
      ],
      "metadata": {
        "colab": {
          "base_uri": "https://localhost:8080/"
        },
        "id": "l6Ze726HksJQ",
        "outputId": "47c0818e-a826-45ed-c84b-06a55811a3b4"
      },
      "execution_count": 13,
      "outputs": [
        {
          "output_type": "stream",
          "name": "stdout",
          "text": [
            "bert_config_uncased_base.json  json_data  logs\t  raw_data   results  urls\n",
            "bert_data\t\t       LICENSE\t  models  README.md  src\n"
          ]
        }
      ]
    },
    {
      "cell_type": "code",
      "source": [
        "%cd BertSum"
      ],
      "metadata": {
        "colab": {
          "base_uri": "https://localhost:8080/"
        },
        "id": "5F7_JtTRmVp4",
        "outputId": "2f9281fc-9f11-46e9-f468-665f45077e0d"
      },
      "execution_count": 16,
      "outputs": [
        {
          "output_type": "stream",
          "name": "stdout",
          "text": [
            "[Errno 2] No such file or directory: 'BertSum'\n",
            "/content/BertSum\n"
          ]
        }
      ]
    },
    {
      "cell_type": "code",
      "source": [
        "nltk.download('punkt')\n",
        "nltk.download('stopwords')"
      ],
      "metadata": {
        "colab": {
          "base_uri": "https://localhost:8080/"
        },
        "id": "1oFiTsBV9clY",
        "outputId": "4f981257-fd33-473a-fa8c-e93b7c323a7f"
      },
      "execution_count": 21,
      "outputs": [
        {
          "output_type": "stream",
          "name": "stderr",
          "text": [
            "[nltk_data] Downloading package punkt to /root/nltk_data...\n",
            "[nltk_data]   Package punkt is already up-to-date!\n"
          ]
        },
        {
          "output_type": "execute_result",
          "data": {
            "text/plain": [
              "True"
            ]
          },
          "metadata": {},
          "execution_count": 21
        }
      ]
    },
    {
      "cell_type": "code",
      "source": [
        "# Step 3: Define the BertSum model for extractive summarization\n",
        "class BertSum:\n",
        "    def __init__(self, model_name='bert-base-uncased'):\n",
        "        self.tokenizer = BertTokenizer.from_pretrained(model_name)\n",
        "        self.model = BertModel.from_pretrained(model_name)\n",
        "\n",
        "    def summarize(self, text):\n",
        "        inputs = self.tokenizer(text, return_tensors='pt', truncation=True, padding='max_length', max_length=512)\n",
        "        outputs = self.model(**inputs)\n",
        "        # Obtain the embeddings for each token\n",
        "        token_embeddings = outputs.last_hidden_state\n",
        "        # Average the token embeddings to get a sentence embedding\n",
        "        sentence_embedding = torch.mean(token_embeddings, dim=1)\n",
        "        # Compute softmax scores\n",
        "        scores = softmax(sentence_embedding, dim=1)\n",
        "        # Split the text into sentences\n",
        "        sentences = sent_tokenize(text)\n",
        "        # Get the top N sentences (e.g., top 3)\n",
        "        N = min(3, len(sentences))  # Ensure N does not exceed the number of sentences\n",
        "        top_sentence_idxs = scores[0].topk(N).indices.tolist()\n",
        "        # Select the top N sentences, ensuring valid indices\n",
        "        top_sentence_idxs = [idx for idx in top_sentence_idxs if idx < len(sentences)]\n",
        "        summary = '. '.join([sentences[idx] for idx in top_sentence_idxs])\n",
        "        return summary"
      ],
      "metadata": {
        "id": "sYGsiE1C7UjW"
      },
      "execution_count": 22,
      "outputs": []
    },
    {
      "cell_type": "code",
      "source": [
        "# Initialize the model\n",
        "bertsum = BertSum()"
      ],
      "metadata": {
        "id": "EdA2Xlf9mVng"
      },
      "execution_count": 23,
      "outputs": []
    },
    {
      "cell_type": "code",
      "source": [
        "# Step 4: Apply the model to the Question_body and Answer_body columns\n",
        "data['Question_summary'] = data['Question_body'].apply(lambda x: bertsum.summarize(x) if pd.notnull(x) else \"\")\n",
        "data['Answer_summary'] = data['Answer_body'].apply(lambda x: bertsum.summarize(x) if pd.notnull(x) else \"\")\n"
      ],
      "metadata": {
        "id": "WWSCmSrOmVig"
      },
      "execution_count": 24,
      "outputs": []
    },
    {
      "cell_type": "code",
      "source": [
        "# Display the summarized data\n",
        "data[['Question_body', 'Question_summary', 'Answer_body', 'Answer_summary']].head()\n"
      ],
      "metadata": {
        "colab": {
          "base_uri": "https://localhost:8080/",
          "height": 293
        },
        "id": "dVv40JHHmVfi",
        "outputId": "e9371c75-9a72-417e-833a-e99cd0fc2fc5"
      },
      "execution_count": 25,
      "outputs": [
        {
          "output_type": "execute_result",
          "data": {
            "text/plain": [
              "                                       Question_body Question_summary  \\\n",
              "0  Kinda new to AWS. I have this high-level quest...                    \n",
              "1  I have some spring boot microservices and I wa...                    \n",
              "2  I'm trying to properly design an application a...                    \n",
              "3  I heard that for .NET8 Microsoft gifted us wit...                    \n",
              "4  I am trying to learn AWS services, and now it ...                    \n",
              "\n",
              "                                         Answer_body  \\\n",
              "0  You send a request, you get a response. In ord...   \n",
              "1  <blockquote>\\ntl;dr: Spring MVC will not contr...   \n",
              "2  Determining the source of the information is b...   \n",
              "3  I have always asked myself this very same ques...   \n",
              "4  Short answer is: no, you don't have to but you...   \n",
              "\n",
              "                                      Answer_summary  \n",
              "0                                                     \n",
              "1                                                     \n",
              "2  Your repositories might return the same model,...  \n",
              "3                                                     \n",
              "4                                                     "
            ],
            "text/html": [
              "\n",
              "  <div id=\"df-cb7c5feb-cd95-4e18-a042-fdd00aa20a0a\" class=\"colab-df-container\">\n",
              "    <div>\n",
              "<style scoped>\n",
              "    .dataframe tbody tr th:only-of-type {\n",
              "        vertical-align: middle;\n",
              "    }\n",
              "\n",
              "    .dataframe tbody tr th {\n",
              "        vertical-align: top;\n",
              "    }\n",
              "\n",
              "    .dataframe thead th {\n",
              "        text-align: right;\n",
              "    }\n",
              "</style>\n",
              "<table border=\"1\" class=\"dataframe\">\n",
              "  <thead>\n",
              "    <tr style=\"text-align: right;\">\n",
              "      <th></th>\n",
              "      <th>Question_body</th>\n",
              "      <th>Question_summary</th>\n",
              "      <th>Answer_body</th>\n",
              "      <th>Answer_summary</th>\n",
              "    </tr>\n",
              "  </thead>\n",
              "  <tbody>\n",
              "    <tr>\n",
              "      <th>0</th>\n",
              "      <td>Kinda new to AWS. I have this high-level quest...</td>\n",
              "      <td></td>\n",
              "      <td>You send a request, you get a response. In ord...</td>\n",
              "      <td></td>\n",
              "    </tr>\n",
              "    <tr>\n",
              "      <th>1</th>\n",
              "      <td>I have some spring boot microservices and I wa...</td>\n",
              "      <td></td>\n",
              "      <td>&lt;blockquote&gt;\\ntl;dr: Spring MVC will not contr...</td>\n",
              "      <td></td>\n",
              "    </tr>\n",
              "    <tr>\n",
              "      <th>2</th>\n",
              "      <td>I'm trying to properly design an application a...</td>\n",
              "      <td></td>\n",
              "      <td>Determining the source of the information is b...</td>\n",
              "      <td>Your repositories might return the same model,...</td>\n",
              "    </tr>\n",
              "    <tr>\n",
              "      <th>3</th>\n",
              "      <td>I heard that for .NET8 Microsoft gifted us wit...</td>\n",
              "      <td></td>\n",
              "      <td>I have always asked myself this very same ques...</td>\n",
              "      <td></td>\n",
              "    </tr>\n",
              "    <tr>\n",
              "      <th>4</th>\n",
              "      <td>I am trying to learn AWS services, and now it ...</td>\n",
              "      <td></td>\n",
              "      <td>Short answer is: no, you don't have to but you...</td>\n",
              "      <td></td>\n",
              "    </tr>\n",
              "  </tbody>\n",
              "</table>\n",
              "</div>\n",
              "    <div class=\"colab-df-buttons\">\n",
              "\n",
              "  <div class=\"colab-df-container\">\n",
              "    <button class=\"colab-df-convert\" onclick=\"convertToInteractive('df-cb7c5feb-cd95-4e18-a042-fdd00aa20a0a')\"\n",
              "            title=\"Convert this dataframe to an interactive table.\"\n",
              "            style=\"display:none;\">\n",
              "\n",
              "  <svg xmlns=\"http://www.w3.org/2000/svg\" height=\"24px\" viewBox=\"0 -960 960 960\">\n",
              "    <path d=\"M120-120v-720h720v720H120Zm60-500h600v-160H180v160Zm220 220h160v-160H400v160Zm0 220h160v-160H400v160ZM180-400h160v-160H180v160Zm440 0h160v-160H620v160ZM180-180h160v-160H180v160Zm440 0h160v-160H620v160Z\"/>\n",
              "  </svg>\n",
              "    </button>\n",
              "\n",
              "  <style>\n",
              "    .colab-df-container {\n",
              "      display:flex;\n",
              "      gap: 12px;\n",
              "    }\n",
              "\n",
              "    .colab-df-convert {\n",
              "      background-color: #E8F0FE;\n",
              "      border: none;\n",
              "      border-radius: 50%;\n",
              "      cursor: pointer;\n",
              "      display: none;\n",
              "      fill: #1967D2;\n",
              "      height: 32px;\n",
              "      padding: 0 0 0 0;\n",
              "      width: 32px;\n",
              "    }\n",
              "\n",
              "    .colab-df-convert:hover {\n",
              "      background-color: #E2EBFA;\n",
              "      box-shadow: 0px 1px 2px rgba(60, 64, 67, 0.3), 0px 1px 3px 1px rgba(60, 64, 67, 0.15);\n",
              "      fill: #174EA6;\n",
              "    }\n",
              "\n",
              "    .colab-df-buttons div {\n",
              "      margin-bottom: 4px;\n",
              "    }\n",
              "\n",
              "    [theme=dark] .colab-df-convert {\n",
              "      background-color: #3B4455;\n",
              "      fill: #D2E3FC;\n",
              "    }\n",
              "\n",
              "    [theme=dark] .colab-df-convert:hover {\n",
              "      background-color: #434B5C;\n",
              "      box-shadow: 0px 1px 3px 1px rgba(0, 0, 0, 0.15);\n",
              "      filter: drop-shadow(0px 1px 2px rgba(0, 0, 0, 0.3));\n",
              "      fill: #FFFFFF;\n",
              "    }\n",
              "  </style>\n",
              "\n",
              "    <script>\n",
              "      const buttonEl =\n",
              "        document.querySelector('#df-cb7c5feb-cd95-4e18-a042-fdd00aa20a0a button.colab-df-convert');\n",
              "      buttonEl.style.display =\n",
              "        google.colab.kernel.accessAllowed ? 'block' : 'none';\n",
              "\n",
              "      async function convertToInteractive(key) {\n",
              "        const element = document.querySelector('#df-cb7c5feb-cd95-4e18-a042-fdd00aa20a0a');\n",
              "        const dataTable =\n",
              "          await google.colab.kernel.invokeFunction('convertToInteractive',\n",
              "                                                    [key], {});\n",
              "        if (!dataTable) return;\n",
              "\n",
              "        const docLinkHtml = 'Like what you see? Visit the ' +\n",
              "          '<a target=\"_blank\" href=https://colab.research.google.com/notebooks/data_table.ipynb>data table notebook</a>'\n",
              "          + ' to learn more about interactive tables.';\n",
              "        element.innerHTML = '';\n",
              "        dataTable['output_type'] = 'display_data';\n",
              "        await google.colab.output.renderOutput(dataTable, element);\n",
              "        const docLink = document.createElement('div');\n",
              "        docLink.innerHTML = docLinkHtml;\n",
              "        element.appendChild(docLink);\n",
              "      }\n",
              "    </script>\n",
              "  </div>\n",
              "\n",
              "\n",
              "<div id=\"df-91566cd8-7924-4f5d-a106-cb672591a98d\">\n",
              "  <button class=\"colab-df-quickchart\" onclick=\"quickchart('df-91566cd8-7924-4f5d-a106-cb672591a98d')\"\n",
              "            title=\"Suggest charts\"\n",
              "            style=\"display:none;\">\n",
              "\n",
              "<svg xmlns=\"http://www.w3.org/2000/svg\" height=\"24px\"viewBox=\"0 0 24 24\"\n",
              "     width=\"24px\">\n",
              "    <g>\n",
              "        <path d=\"M19 3H5c-1.1 0-2 .9-2 2v14c0 1.1.9 2 2 2h14c1.1 0 2-.9 2-2V5c0-1.1-.9-2-2-2zM9 17H7v-7h2v7zm4 0h-2V7h2v10zm4 0h-2v-4h2v4z\"/>\n",
              "    </g>\n",
              "</svg>\n",
              "  </button>\n",
              "\n",
              "<style>\n",
              "  .colab-df-quickchart {\n",
              "      --bg-color: #E8F0FE;\n",
              "      --fill-color: #1967D2;\n",
              "      --hover-bg-color: #E2EBFA;\n",
              "      --hover-fill-color: #174EA6;\n",
              "      --disabled-fill-color: #AAA;\n",
              "      --disabled-bg-color: #DDD;\n",
              "  }\n",
              "\n",
              "  [theme=dark] .colab-df-quickchart {\n",
              "      --bg-color: #3B4455;\n",
              "      --fill-color: #D2E3FC;\n",
              "      --hover-bg-color: #434B5C;\n",
              "      --hover-fill-color: #FFFFFF;\n",
              "      --disabled-bg-color: #3B4455;\n",
              "      --disabled-fill-color: #666;\n",
              "  }\n",
              "\n",
              "  .colab-df-quickchart {\n",
              "    background-color: var(--bg-color);\n",
              "    border: none;\n",
              "    border-radius: 50%;\n",
              "    cursor: pointer;\n",
              "    display: none;\n",
              "    fill: var(--fill-color);\n",
              "    height: 32px;\n",
              "    padding: 0;\n",
              "    width: 32px;\n",
              "  }\n",
              "\n",
              "  .colab-df-quickchart:hover {\n",
              "    background-color: var(--hover-bg-color);\n",
              "    box-shadow: 0 1px 2px rgba(60, 64, 67, 0.3), 0 1px 3px 1px rgba(60, 64, 67, 0.15);\n",
              "    fill: var(--button-hover-fill-color);\n",
              "  }\n",
              "\n",
              "  .colab-df-quickchart-complete:disabled,\n",
              "  .colab-df-quickchart-complete:disabled:hover {\n",
              "    background-color: var(--disabled-bg-color);\n",
              "    fill: var(--disabled-fill-color);\n",
              "    box-shadow: none;\n",
              "  }\n",
              "\n",
              "  .colab-df-spinner {\n",
              "    border: 2px solid var(--fill-color);\n",
              "    border-color: transparent;\n",
              "    border-bottom-color: var(--fill-color);\n",
              "    animation:\n",
              "      spin 1s steps(1) infinite;\n",
              "  }\n",
              "\n",
              "  @keyframes spin {\n",
              "    0% {\n",
              "      border-color: transparent;\n",
              "      border-bottom-color: var(--fill-color);\n",
              "      border-left-color: var(--fill-color);\n",
              "    }\n",
              "    20% {\n",
              "      border-color: transparent;\n",
              "      border-left-color: var(--fill-color);\n",
              "      border-top-color: var(--fill-color);\n",
              "    }\n",
              "    30% {\n",
              "      border-color: transparent;\n",
              "      border-left-color: var(--fill-color);\n",
              "      border-top-color: var(--fill-color);\n",
              "      border-right-color: var(--fill-color);\n",
              "    }\n",
              "    40% {\n",
              "      border-color: transparent;\n",
              "      border-right-color: var(--fill-color);\n",
              "      border-top-color: var(--fill-color);\n",
              "    }\n",
              "    60% {\n",
              "      border-color: transparent;\n",
              "      border-right-color: var(--fill-color);\n",
              "    }\n",
              "    80% {\n",
              "      border-color: transparent;\n",
              "      border-right-color: var(--fill-color);\n",
              "      border-bottom-color: var(--fill-color);\n",
              "    }\n",
              "    90% {\n",
              "      border-color: transparent;\n",
              "      border-bottom-color: var(--fill-color);\n",
              "    }\n",
              "  }\n",
              "</style>\n",
              "\n",
              "  <script>\n",
              "    async function quickchart(key) {\n",
              "      const quickchartButtonEl =\n",
              "        document.querySelector('#' + key + ' button');\n",
              "      quickchartButtonEl.disabled = true;  // To prevent multiple clicks.\n",
              "      quickchartButtonEl.classList.add('colab-df-spinner');\n",
              "      try {\n",
              "        const charts = await google.colab.kernel.invokeFunction(\n",
              "            'suggestCharts', [key], {});\n",
              "      } catch (error) {\n",
              "        console.error('Error during call to suggestCharts:', error);\n",
              "      }\n",
              "      quickchartButtonEl.classList.remove('colab-df-spinner');\n",
              "      quickchartButtonEl.classList.add('colab-df-quickchart-complete');\n",
              "    }\n",
              "    (() => {\n",
              "      let quickchartButtonEl =\n",
              "        document.querySelector('#df-91566cd8-7924-4f5d-a106-cb672591a98d button');\n",
              "      quickchartButtonEl.style.display =\n",
              "        google.colab.kernel.accessAllowed ? 'block' : 'none';\n",
              "    })();\n",
              "  </script>\n",
              "</div>\n",
              "\n",
              "    </div>\n",
              "  </div>\n"
            ],
            "application/vnd.google.colaboratory.intrinsic+json": {
              "type": "dataframe",
              "summary": "{\n  \"name\": \"data[['Question_body', 'Question_summary', 'Answer_body', 'Answer_summary']]\",\n  \"rows\": 5,\n  \"fields\": [\n    {\n      \"column\": \"Question_body\",\n      \"properties\": {\n        \"dtype\": \"string\",\n        \"num_unique_values\": 5,\n        \"samples\": [\n          \"I have some spring boot microservices and I want to use these microservices from a client application(front-end). If I use Spring MVC for designing the client side application, and from there, the client side application sends requests to the microservices REST APIs to use their services, is this a standard and correct solution?\\nI mean, designing the client side app using Spring MVC instead of frameworks like angular or react. But the main logic of the application resides in the spring boot microservices.\\n<a href=\\\"https://i.sstatic.net/BnByRPzu.png\\\" rel=\\\"nofollow noreferrer\\\">This image better shows the issue:</a>\\n\",\n          \"I am trying to learn AWS services, and now it is mainly focused on API Gateway.\\nI understand some benefits of API gateway as listed below.\\n\\nExpose service as REST endpoints\\nFeature like authentication and authorization\\nAbility to deploy multiple stages\\nThrottling options\\n\\nStill i am not sure whether we can use API Gateway Infront of some Kubernetes services we deployed in EKS.\\nFor instance, lets consider these services are some microservices in spring boot which responds to http requests, and contains some custom authentication/authorization mechanism using spring security.\\nDo we really need API Gateway endpoint Infront of such services? Also I would like to know what is standard/preferred way to create an infrastructure in AWS for such services.\\n\",\n          \"I'm trying to properly design an application according to clean architecture, but I'm struggling to determine on which layer (data/domain) to implement certain logic. In my application, there's a feature that displays data (user contacts) which can be either set locally in settings or retrieved through an API. Which version to show the user depends on other settings and the app's usage mode, for example, the API returns data, but the user has set a preference for using local data in the app's settings. On which layer should I implement the logic for choosing the data source?\\nLet's say there is a GetUserContactsUseCase in the domain.\\nThen, as I understand it, there are several approaches:\\n<strong>Approach 1</strong>\\nUserRepository, which contains 2 sources:\\nLocalData - contains all local settings, such as contact data and priority settings.\\nRemoteData - loads and caches data from the API.\\nGetUserContactsUseCase accesses RemoteData and LocalData (which apparently need to be renamed to RemoteDataRepository and LocalDataRepository), determines the priorities, and then fetches the data from them. The downside of this solution is that it seems the Repository should be determining the data source itself.\\n<strong>Approach 2</strong>\\nUserRepository independently determines the priority. This maintains encapsulation of layers, but in this case, UserRepository contains business logic that seems like it should be in a UseCase, not a repository. It is also not possible to call a UseCase from a repository. One solution seems to be writing a separate UseCase to determine the source of UserContacts and pass its result (e.g., UserContactFetchMode) to UserRepository. This UseCase still leads back to approach 1 as it will need the same LocalData and RemoteData.\\n<strong>Question:</strong>\\nPlease advise on the best way to organize this.\\nI'm not sure if it's relevant to my question, but I suspect there is some confusion in the level of function distribution among the Repositories themselves, for instance, instead of having a single LocalPreferences, it might be necessary to create several instances, like LocalUserData, LocalPreferencesData, etc.\\n\"\n        ],\n        \"semantic_type\": \"\",\n        \"description\": \"\"\n      }\n    },\n    {\n      \"column\": \"Question_summary\",\n      \"properties\": {\n        \"dtype\": \"object\",\n        \"num_unique_values\": 1,\n        \"samples\": [\n          \"\"\n        ],\n        \"semantic_type\": \"\",\n        \"description\": \"\"\n      }\n    },\n    {\n      \"column\": \"Answer_body\",\n      \"properties\": {\n        \"dtype\": \"string\",\n        \"num_unique_values\": 5,\n        \"samples\": [\n          \"<blockquote>\\ntl;dr: Spring MVC will not contradict what you are trying to do, but as a technology this is not the main scenario it was built for.\\n</blockquote>\\nFirst a short terminology clarification (a bit pedantic, but precision helps for the understanding):\\n\\nI think when you say &quot;Microservice&quot;, you mean &quot;<em>one</em> RESTful service, as part of your backend&quot;. The term &quot;<em>Microservices</em>&quot; is usually only used in plural, referring to the structural patter of having multiple REST services at interplay in a backend.\\n\\nCan / should you use Spring MVC for the scenario in mind?\\n\\nThe strong point of Spring MVC is a convenient exchange of variables between the static, server side created HTML pages (<strong>V</strong>) and the backend (<strong>C+M</strong>). E.g. a HTML form, where Spring MVC gives you convenient access to form fields, directly from your java code. The communication you describe (your frontend interacting with a REST API) is not part of this main Spring MVC purpose. However, Spring MVC is not per se ruling out the scenario you have in mind. HTML pages generated by Spring MVC may still contain code that fires requests to a REST API backend.\\n\\nHow is this usually done:\\n\\nThe communication of a web frontend with a REST backend usually works like this: Some JavaScript code, which is running on the client / frontend side issues <a href=\\\"https://developer.mozilla.org/en-US/docs/Web/API/Fetch_API/Using_Fetch\\\" rel=\\\"nofollow noreferrer\\\">fetch</a> calls to send HTTP requests to the RESTful service / backend. The Javascript code (or rather the page containing the JavaScript code) can be delivered from anywhere. It can be part of your Spring MVC application, but you do not need Spring MVC to deliver webpages.\\n\\n<blockquote>\\nConcerning your last question: You can of course use React etc on client side, to issue requests to the API. But basic JavaScript will perfectly get the job done. In fact, adding a huge client side framework might likely add unnecessary complexity. I'd go with simple basic technologies, unless you have a strong reason / need to add a client sided framework. Similarly, the logic residing on the backend is not tied to Spring MVC as a backend technology. Any basic REST API can encapsulate backend logic.\\n</blockquote>\\n\"\n        ],\n        \"semantic_type\": \"\",\n        \"description\": \"\"\n      }\n    },\n    {\n      \"column\": \"Answer_summary\",\n      \"properties\": {\n        \"dtype\": \"category\",\n        \"num_unique_values\": 2,\n        \"samples\": [\n          \"Your repositories might return the same model, and even implement the same interfaces, but the fact that it needs to be selectable means you have business-logic involved which belongs in the UseCase.\"\n        ],\n        \"semantic_type\": \"\",\n        \"description\": \"\"\n      }\n    }\n  ]\n}"
            }
          },
          "metadata": {},
          "execution_count": 25
        }
      ]
    },
    {
      "cell_type": "code",
      "source": [
        "# Save the summarized data to a new Excel file\n",
        "data.to_excel('SummarizedData.xlsx', index=False)"
      ],
      "metadata": {
        "id": "Y4sc1bdMXlxZ"
      },
      "execution_count": 26,
      "outputs": []
    },
    {
      "cell_type": "code",
      "source": [],
      "metadata": {
        "id": "393mhJ71Xlu7"
      },
      "execution_count": null,
      "outputs": []
    },
    {
      "cell_type": "code",
      "source": [],
      "metadata": {
        "id": "I39N6NtVXlsh"
      },
      "execution_count": null,
      "outputs": []
    },
    {
      "cell_type": "code",
      "source": [],
      "metadata": {
        "id": "HBCW24twXlp5"
      },
      "execution_count": null,
      "outputs": []
    }
  ]
}