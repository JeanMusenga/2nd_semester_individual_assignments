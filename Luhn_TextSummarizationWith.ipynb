{
  "nbformat": 4,
  "nbformat_minor": 0,
  "metadata": {
    "colab": {
      "provenance": [],
      "authorship_tag": "ABX9TyP7AziKnuDTcdl5rVe7Sf2U",
      "include_colab_link": true
    },
    "kernelspec": {
      "name": "python3",
      "display_name": "Python 3"
    },
    "language_info": {
      "name": "python"
    }
  },
  "cells": [
    {
      "cell_type": "markdown",
      "metadata": {
        "id": "view-in-github",
        "colab_type": "text"
      },
      "source": [
        "<a href=\"https://colab.research.google.com/github/JeanMusenga/PhD-Thesis_2024_Musenga/blob/main/Luhn_TextSummarizationWith.ipynb\" target=\"_parent\"><img src=\"https://colab.research.google.com/assets/colab-badge.svg\" alt=\"Open In Colab\"/></a>"
      ]
    },
    {
      "cell_type": "markdown",
      "source": [
        "Important resources:\n",
        "https://chatgpt.com/share/0fde4435-eb1d-4ab1-9149-78c0899251e0"
      ],
      "metadata": {
        "id": "TBorlIO0H36g"
      }
    },
    {
      "cell_type": "markdown",
      "source": [
        "Importing necessary libraries"
      ],
      "metadata": {
        "id": "gpa52vUeH7UH"
      }
    },
    {
      "cell_type": "code",
      "execution_count": 1,
      "metadata": {
        "id": "aDp7cDm5DGC5"
      },
      "outputs": [],
      "source": [
        "import re\n",
        "import nltk\n",
        "import numpy as np\n",
        "import pandas as pd\n",
        "from sklearn.feature_extraction.text import ENGLISH_STOP_WORDS"
      ]
    },
    {
      "cell_type": "code",
      "source": [
        "dataset=pd.read_excel('DataSampePilot.xlsx')"
      ],
      "metadata": {
        "id": "SScr_jpIDcP3"
      },
      "execution_count": 14,
      "outputs": []
    },
    {
      "cell_type": "code",
      "source": [
        "nltk.download('punkt')\n",
        "nltk.download('stopwords')"
      ],
      "metadata": {
        "colab": {
          "base_uri": "https://localhost:8080/"
        },
        "id": "RTAx07CCcWCK",
        "outputId": "9f187628-f1b7-4d24-f19a-428e0eddd3a8"
      },
      "execution_count": 3,
      "outputs": [
        {
          "output_type": "stream",
          "name": "stderr",
          "text": [
            "[nltk_data] Downloading package punkt to /root/nltk_data...\n",
            "[nltk_data]   Unzipping tokenizers/punkt.zip.\n",
            "[nltk_data] Downloading package stopwords to /root/nltk_data...\n",
            "[nltk_data]   Unzipping corpora/stopwords.zip.\n"
          ]
        },
        {
          "output_type": "execute_result",
          "data": {
            "text/plain": [
              "True"
            ]
          },
          "metadata": {},
          "execution_count": 3
        }
      ]
    },
    {
      "cell_type": "markdown",
      "source": [
        "# Preprocessing function"
      ],
      "metadata": {
        "id": "DCdB70A7DfT3"
      }
    },
    {
      "cell_type": "code",
      "source": [
        "# Preprocessing function\n",
        "def preprocess_text(text):\n",
        "    sentences = re.split(r'(?<=[.!?]) +', text)  # Simple sentence tokenizer\n",
        "    processed_sentences = []\n",
        "\n",
        "    for sentence in sentences:\n",
        "        words = re.findall(r'\\b\\w+\\b', sentence.lower())  # Tokenization\n",
        "        words = [word for word in words if word not in ENGLISH_STOP_WORDS]\n",
        "        processed_sentences.append(words)\n",
        "\n",
        "    return sentences, processed_sentences"
      ],
      "metadata": {
        "id": "Uiagi2dQDctv"
      },
      "execution_count": 15,
      "outputs": []
    },
    {
      "cell_type": "markdown",
      "source": [
        "# Calculate word frequency function"
      ],
      "metadata": {
        "id": "DJDBcedPDkwY"
      }
    },
    {
      "cell_type": "code",
      "source": [
        "# Calculate word frequency function\n",
        "def calculate_word_frequency(processed_sentences):\n",
        "    word_freq = {}\n",
        "    for sentence in processed_sentences:\n",
        "        for word in sentence:\n",
        "            if word not in word_freq:\n",
        "                word_freq[word] = 1\n",
        "            else:\n",
        "                word_freq[word] += 1\n",
        "    return word_freq"
      ],
      "metadata": {
        "id": "XyrBT991DjaA"
      },
      "execution_count": 16,
      "outputs": []
    },
    {
      "cell_type": "markdown",
      "source": [
        "# Score sentences function"
      ],
      "metadata": {
        "id": "jGK0yFZYDq8w"
      }
    },
    {
      "cell_type": "code",
      "source": [
        "# Score sentences function\n",
        "def score_sentences(original_sentences, processed_sentences, word_freq):\n",
        "    sentence_scores = np.zeros(len(original_sentences))\n",
        "    for i, sentence in enumerate(processed_sentences):\n",
        "        for word in sentence:\n",
        "            if word in word_freq:\n",
        "                sentence_scores[i] += word_freq[word]\n",
        "    return sentence_scores"
      ],
      "metadata": {
        "id": "J70QiYsFDpwg"
      },
      "execution_count": 17,
      "outputs": []
    },
    {
      "cell_type": "markdown",
      "source": [
        "# Generate summary function"
      ],
      "metadata": {
        "id": "fSqt_e2KDuoY"
      }
    },
    {
      "cell_type": "code",
      "source": [
        "# Generate summary function\n",
        "def generate_summary(original_sentences, scores, num_sentences=3):\n",
        "    ranked_sentence_indices = np.argsort(scores)[::-1]\n",
        "    summary = []\n",
        "    for i in range(min(num_sentences, len(original_sentences))):\n",
        "        summary.append(original_sentences[ranked_sentence_indices[i]])\n",
        "    return \" \".join(summary)"
      ],
      "metadata": {
        "id": "GUKKrOiPDtUZ"
      },
      "execution_count": 18,
      "outputs": []
    },
    {
      "cell_type": "code",
      "source": [
        "# Preprocess the Question_body and Answer_body columns\n",
        "dataset['processed_question'] = dataset['Question_body'].apply(preprocess_text)\n",
        "dataset['processed_answer'] = dataset['Answer_body'].apply(preprocess_text)"
      ],
      "metadata": {
        "id": "T39XT3JvDxCP"
      },
      "execution_count": 19,
      "outputs": []
    },
    {
      "cell_type": "code",
      "source": [
        "# Calculate word frequencies\n",
        "dataset['question_word_freq'] = dataset['processed_question'].apply(lambda x: calculate_word_frequency(x[1]))\n",
        "dataset['answer_word_freq'] = dataset['processed_answer'].apply(lambda x: calculate_word_frequency(x[1]))\n"
      ],
      "metadata": {
        "id": "zf3s1ORjE08Z"
      },
      "execution_count": 21,
      "outputs": []
    },
    {
      "cell_type": "code",
      "source": [
        "# Score sentences\n",
        "dataset['question_scores'] = dataset.apply(lambda x: score_sentences(x['processed_question'][0], x['processed_question'][1], x['question_word_freq']), axis=1)\n",
        "dataset['answer_scores'] = dataset.apply(lambda x: score_sentences(x['processed_answer'][0], x['processed_answer'][1], x['answer_word_freq']), axis=1)\n"
      ],
      "metadata": {
        "id": "surZfYGnD85o"
      },
      "execution_count": 22,
      "outputs": []
    },
    {
      "cell_type": "code",
      "source": [
        "# Generate summaries for both questions and answers\n",
        "dataset['question_summary'] = dataset.apply(lambda x: generate_summary(x['processed_question'][0], x['question_scores']), axis=1)\n",
        "dataset['answer_summary'] = dataset.apply(lambda x: generate_summary(x['processed_answer'][0], x['answer_scores']), axis=1)\n"
      ],
      "metadata": {
        "id": "VB4-5IQND-bG"
      },
      "execution_count": 23,
      "outputs": []
    },
    {
      "cell_type": "code",
      "source": [
        "# Display the summaries\n",
        "summaries = dataset[['question_summary', 'answer_summary']]\n",
        "summaries.head()"
      ],
      "metadata": {
        "colab": {
          "base_uri": "https://localhost:8080/",
          "height": 206
        },
        "id": "vWePWeqqD_-e",
        "outputId": "1e6a9abe-bade-4a73-8575-dbc42860236e"
      },
      "execution_count": 25,
      "outputs": [
        {
          "output_type": "execute_result",
          "data": {
            "text/plain": [
              "                                    question_summary  \\\n",
              "0  When all is done, itâ€™ll show a response.\\nSo...   \n",
              "1  If I use Spring MVC for designing the client s...   \n",
              "2  On which layer should I implement the logic fo...   \n",
              "3  But that's trouble for another time.\\nMy wider...   \n",
              "4  I am trying to learn AWS services, and now it ...   \n",
              "\n",
              "                                      answer_summary  \n",
              "0  Single container can usually handle hundreds o...  \n",
              "1  The term &quot;<em>Microservices</em>&quot; is...  \n",
              "2  Your repositories might return the same model,...  \n",
              "3  Use a URL like this, replacing xxxx with your ...  \n",
              "4  It would also facilitate SSL (in addition to t...  "
            ],
            "text/html": [
              "\n",
              "  <div id=\"df-0e0664da-4721-424e-ae9c-b56b6eb12f1d\" class=\"colab-df-container\">\n",
              "    <div>\n",
              "<style scoped>\n",
              "    .dataframe tbody tr th:only-of-type {\n",
              "        vertical-align: middle;\n",
              "    }\n",
              "\n",
              "    .dataframe tbody tr th {\n",
              "        vertical-align: top;\n",
              "    }\n",
              "\n",
              "    .dataframe thead th {\n",
              "        text-align: right;\n",
              "    }\n",
              "</style>\n",
              "<table border=\"1\" class=\"dataframe\">\n",
              "  <thead>\n",
              "    <tr style=\"text-align: right;\">\n",
              "      <th></th>\n",
              "      <th>question_summary</th>\n",
              "      <th>answer_summary</th>\n",
              "    </tr>\n",
              "  </thead>\n",
              "  <tbody>\n",
              "    <tr>\n",
              "      <th>0</th>\n",
              "      <td>When all is done, itâ€™ll show a response.\\nSo...</td>\n",
              "      <td>Single container can usually handle hundreds o...</td>\n",
              "    </tr>\n",
              "    <tr>\n",
              "      <th>1</th>\n",
              "      <td>If I use Spring MVC for designing the client s...</td>\n",
              "      <td>The term &amp;quot;&lt;em&gt;Microservices&lt;/em&gt;&amp;quot; is...</td>\n",
              "    </tr>\n",
              "    <tr>\n",
              "      <th>2</th>\n",
              "      <td>On which layer should I implement the logic fo...</td>\n",
              "      <td>Your repositories might return the same model,...</td>\n",
              "    </tr>\n",
              "    <tr>\n",
              "      <th>3</th>\n",
              "      <td>But that's trouble for another time.\\nMy wider...</td>\n",
              "      <td>Use a URL like this, replacing xxxx with your ...</td>\n",
              "    </tr>\n",
              "    <tr>\n",
              "      <th>4</th>\n",
              "      <td>I am trying to learn AWS services, and now it ...</td>\n",
              "      <td>It would also facilitate SSL (in addition to t...</td>\n",
              "    </tr>\n",
              "  </tbody>\n",
              "</table>\n",
              "</div>\n",
              "    <div class=\"colab-df-buttons\">\n",
              "\n",
              "  <div class=\"colab-df-container\">\n",
              "    <button class=\"colab-df-convert\" onclick=\"convertToInteractive('df-0e0664da-4721-424e-ae9c-b56b6eb12f1d')\"\n",
              "            title=\"Convert this dataframe to an interactive table.\"\n",
              "            style=\"display:none;\">\n",
              "\n",
              "  <svg xmlns=\"http://www.w3.org/2000/svg\" height=\"24px\" viewBox=\"0 -960 960 960\">\n",
              "    <path d=\"M120-120v-720h720v720H120Zm60-500h600v-160H180v160Zm220 220h160v-160H400v160Zm0 220h160v-160H400v160ZM180-400h160v-160H180v160Zm440 0h160v-160H620v160ZM180-180h160v-160H180v160Zm440 0h160v-160H620v160Z\"/>\n",
              "  </svg>\n",
              "    </button>\n",
              "\n",
              "  <style>\n",
              "    .colab-df-container {\n",
              "      display:flex;\n",
              "      gap: 12px;\n",
              "    }\n",
              "\n",
              "    .colab-df-convert {\n",
              "      background-color: #E8F0FE;\n",
              "      border: none;\n",
              "      border-radius: 50%;\n",
              "      cursor: pointer;\n",
              "      display: none;\n",
              "      fill: #1967D2;\n",
              "      height: 32px;\n",
              "      padding: 0 0 0 0;\n",
              "      width: 32px;\n",
              "    }\n",
              "\n",
              "    .colab-df-convert:hover {\n",
              "      background-color: #E2EBFA;\n",
              "      box-shadow: 0px 1px 2px rgba(60, 64, 67, 0.3), 0px 1px 3px 1px rgba(60, 64, 67, 0.15);\n",
              "      fill: #174EA6;\n",
              "    }\n",
              "\n",
              "    .colab-df-buttons div {\n",
              "      margin-bottom: 4px;\n",
              "    }\n",
              "\n",
              "    [theme=dark] .colab-df-convert {\n",
              "      background-color: #3B4455;\n",
              "      fill: #D2E3FC;\n",
              "    }\n",
              "\n",
              "    [theme=dark] .colab-df-convert:hover {\n",
              "      background-color: #434B5C;\n",
              "      box-shadow: 0px 1px 3px 1px rgba(0, 0, 0, 0.15);\n",
              "      filter: drop-shadow(0px 1px 2px rgba(0, 0, 0, 0.3));\n",
              "      fill: #FFFFFF;\n",
              "    }\n",
              "  </style>\n",
              "\n",
              "    <script>\n",
              "      const buttonEl =\n",
              "        document.querySelector('#df-0e0664da-4721-424e-ae9c-b56b6eb12f1d button.colab-df-convert');\n",
              "      buttonEl.style.display =\n",
              "        google.colab.kernel.accessAllowed ? 'block' : 'none';\n",
              "\n",
              "      async function convertToInteractive(key) {\n",
              "        const element = document.querySelector('#df-0e0664da-4721-424e-ae9c-b56b6eb12f1d');\n",
              "        const dataTable =\n",
              "          await google.colab.kernel.invokeFunction('convertToInteractive',\n",
              "                                                    [key], {});\n",
              "        if (!dataTable) return;\n",
              "\n",
              "        const docLinkHtml = 'Like what you see? Visit the ' +\n",
              "          '<a target=\"_blank\" href=https://colab.research.google.com/notebooks/data_table.ipynb>data table notebook</a>'\n",
              "          + ' to learn more about interactive tables.';\n",
              "        element.innerHTML = '';\n",
              "        dataTable['output_type'] = 'display_data';\n",
              "        await google.colab.output.renderOutput(dataTable, element);\n",
              "        const docLink = document.createElement('div');\n",
              "        docLink.innerHTML = docLinkHtml;\n",
              "        element.appendChild(docLink);\n",
              "      }\n",
              "    </script>\n",
              "  </div>\n",
              "\n",
              "\n",
              "<div id=\"df-0515f4fc-eea5-46c2-a546-5efe92d1787b\">\n",
              "  <button class=\"colab-df-quickchart\" onclick=\"quickchart('df-0515f4fc-eea5-46c2-a546-5efe92d1787b')\"\n",
              "            title=\"Suggest charts\"\n",
              "            style=\"display:none;\">\n",
              "\n",
              "<svg xmlns=\"http://www.w3.org/2000/svg\" height=\"24px\"viewBox=\"0 0 24 24\"\n",
              "     width=\"24px\">\n",
              "    <g>\n",
              "        <path d=\"M19 3H5c-1.1 0-2 .9-2 2v14c0 1.1.9 2 2 2h14c1.1 0 2-.9 2-2V5c0-1.1-.9-2-2-2zM9 17H7v-7h2v7zm4 0h-2V7h2v10zm4 0h-2v-4h2v4z\"/>\n",
              "    </g>\n",
              "</svg>\n",
              "  </button>\n",
              "\n",
              "<style>\n",
              "  .colab-df-quickchart {\n",
              "      --bg-color: #E8F0FE;\n",
              "      --fill-color: #1967D2;\n",
              "      --hover-bg-color: #E2EBFA;\n",
              "      --hover-fill-color: #174EA6;\n",
              "      --disabled-fill-color: #AAA;\n",
              "      --disabled-bg-color: #DDD;\n",
              "  }\n",
              "\n",
              "  [theme=dark] .colab-df-quickchart {\n",
              "      --bg-color: #3B4455;\n",
              "      --fill-color: #D2E3FC;\n",
              "      --hover-bg-color: #434B5C;\n",
              "      --hover-fill-color: #FFFFFF;\n",
              "      --disabled-bg-color: #3B4455;\n",
              "      --disabled-fill-color: #666;\n",
              "  }\n",
              "\n",
              "  .colab-df-quickchart {\n",
              "    background-color: var(--bg-color);\n",
              "    border: none;\n",
              "    border-radius: 50%;\n",
              "    cursor: pointer;\n",
              "    display: none;\n",
              "    fill: var(--fill-color);\n",
              "    height: 32px;\n",
              "    padding: 0;\n",
              "    width: 32px;\n",
              "  }\n",
              "\n",
              "  .colab-df-quickchart:hover {\n",
              "    background-color: var(--hover-bg-color);\n",
              "    box-shadow: 0 1px 2px rgba(60, 64, 67, 0.3), 0 1px 3px 1px rgba(60, 64, 67, 0.15);\n",
              "    fill: var(--button-hover-fill-color);\n",
              "  }\n",
              "\n",
              "  .colab-df-quickchart-complete:disabled,\n",
              "  .colab-df-quickchart-complete:disabled:hover {\n",
              "    background-color: var(--disabled-bg-color);\n",
              "    fill: var(--disabled-fill-color);\n",
              "    box-shadow: none;\n",
              "  }\n",
              "\n",
              "  .colab-df-spinner {\n",
              "    border: 2px solid var(--fill-color);\n",
              "    border-color: transparent;\n",
              "    border-bottom-color: var(--fill-color);\n",
              "    animation:\n",
              "      spin 1s steps(1) infinite;\n",
              "  }\n",
              "\n",
              "  @keyframes spin {\n",
              "    0% {\n",
              "      border-color: transparent;\n",
              "      border-bottom-color: var(--fill-color);\n",
              "      border-left-color: var(--fill-color);\n",
              "    }\n",
              "    20% {\n",
              "      border-color: transparent;\n",
              "      border-left-color: var(--fill-color);\n",
              "      border-top-color: var(--fill-color);\n",
              "    }\n",
              "    30% {\n",
              "      border-color: transparent;\n",
              "      border-left-color: var(--fill-color);\n",
              "      border-top-color: var(--fill-color);\n",
              "      border-right-color: var(--fill-color);\n",
              "    }\n",
              "    40% {\n",
              "      border-color: transparent;\n",
              "      border-right-color: var(--fill-color);\n",
              "      border-top-color: var(--fill-color);\n",
              "    }\n",
              "    60% {\n",
              "      border-color: transparent;\n",
              "      border-right-color: var(--fill-color);\n",
              "    }\n",
              "    80% {\n",
              "      border-color: transparent;\n",
              "      border-right-color: var(--fill-color);\n",
              "      border-bottom-color: var(--fill-color);\n",
              "    }\n",
              "    90% {\n",
              "      border-color: transparent;\n",
              "      border-bottom-color: var(--fill-color);\n",
              "    }\n",
              "  }\n",
              "</style>\n",
              "\n",
              "  <script>\n",
              "    async function quickchart(key) {\n",
              "      const quickchartButtonEl =\n",
              "        document.querySelector('#' + key + ' button');\n",
              "      quickchartButtonEl.disabled = true;  // To prevent multiple clicks.\n",
              "      quickchartButtonEl.classList.add('colab-df-spinner');\n",
              "      try {\n",
              "        const charts = await google.colab.kernel.invokeFunction(\n",
              "            'suggestCharts', [key], {});\n",
              "      } catch (error) {\n",
              "        console.error('Error during call to suggestCharts:', error);\n",
              "      }\n",
              "      quickchartButtonEl.classList.remove('colab-df-spinner');\n",
              "      quickchartButtonEl.classList.add('colab-df-quickchart-complete');\n",
              "    }\n",
              "    (() => {\n",
              "      let quickchartButtonEl =\n",
              "        document.querySelector('#df-0515f4fc-eea5-46c2-a546-5efe92d1787b button');\n",
              "      quickchartButtonEl.style.display =\n",
              "        google.colab.kernel.accessAllowed ? 'block' : 'none';\n",
              "    })();\n",
              "  </script>\n",
              "</div>\n",
              "\n",
              "    </div>\n",
              "  </div>\n"
            ],
            "application/vnd.google.colaboratory.intrinsic+json": {
              "type": "dataframe",
              "variable_name": "summaries",
              "summary": "{\n  \"name\": \"summaries\",\n  \"rows\": 10,\n  \"fields\": [\n    {\n      \"column\": \"question_summary\",\n      \"properties\": {\n        \"dtype\": \"string\",\n        \"num_unique_values\": 10,\n        \"samples\": [\n          \"So, is it possible to add the spring JWT security as a microservice? I have a spring boot web application that is composed with multi-microservices. and how to make it the first, either after or before the api-gateway microservice?\\nThank you\\n\",\n          \"If I use Spring MVC for designing the client side application, and from there, the client side application sends requests to the microservices REST APIs to use their services, is this a standard and correct solution?\\nI mean, designing the client side app using Spring MVC instead of frameworks like angular or react. But the main logic of the application resides in the spring boot microservices.\\n<a href=\\\"https://i.sstatic.net/BnByRPzu.png\\\" rel=\\\"nofollow noreferrer\\\">This image better shows the issue:</a>\\n I have some spring boot microservices and I want to use these microservices from a client application(front-end).\",\n          \"Here are my specific technical queries:\\n\\nHow can I ensure that Docker Volumes are accessible and consistent across multiple Azure instances or hosts when using Node.js?\\nWhat are the necessary technical steps or configurations to manage data persistence and availability effectively in a scalable Azure deployment?\\nConsidering performance and the generic nature of my service, are there limitations I should be aware of when using Docker Volumes for file storage in Azure compared to Azure Blob Storage?\\n\\nI am looking for detailed insights or examples of configurations that address these concerns, especially any that maintain the generic and performant nature of the service.\\nThank you in advance for your help!\\n Given the dynamic nature of container deployment across various hosts within Azure, I am facing challenges with the accessibility and consistency of Docker Volumes across different instances or hosts.\\nI have reservations about using Azure Blob Storage as an alternative because I believe it could make my service slower and less generic. This server is designed to store SVG and PNG files, and I am considering the use of Docker Volumes for this storage.\"\n        ],\n        \"semantic_type\": \"\",\n        \"description\": \"\"\n      }\n    },\n    {\n      \"column\": \"answer_summary\",\n      \"properties\": {\n        \"dtype\": \"string\",\n        \"num_unique_values\": 10,\n        \"samples\": [\n          \"I've implemented this setup in multiple projects.\\nOtherwise, you'd need to forward all requests to your authentication/authorization service (like an interceptor) before sending them to the actual microservice.\\n The easiest approach is to integrate Spring Security (authentication/authorization) directly into the gateway service.\",\n          \"The term &quot;<em>Microservices</em>&quot; is usually only used in plural, referring to the structural patter of having multiple REST services at interplay in a backend.\\n\\nCan / should you use Spring MVC for the scenario in mind?\\n\\nThe strong point of Spring MVC is a convenient exchange of variables between the static, server side created HTML pages (<strong>V</strong>) and the backend (<strong>C+M</strong>). HTML pages generated by Spring MVC may still contain code that fires requests to a REST API backend.\\n\\nHow is this usually done:\\n\\nThe communication of a web frontend with a REST backend usually works like this: Some JavaScript code, which is running on the client / frontend side issues <a href=\\\"https://developer.mozilla.org/en-US/docs/Web/API/Fetch_API/Using_Fetch\\\" rel=\\\"nofollow noreferrer\\\">fetch</a> calls to send HTTP requests to the RESTful service / backend. <blockquote>\\ntl;dr: Spring MVC will not contradict what you are trying to do, but as a technology this is not the main scenario it was built for.\\n</blockquote>\\nFirst a short terminology clarification (a bit pedantic, but precision helps for the understanding):\\n\\nI think when you say &quot;Microservice&quot;, you mean &quot;<em>one</em> RESTful service, as part of your backend&quot;.\",\n          \"The limitations of using Docker Volumes for file storage in Azure compared to Azure Blob Storage are performance and Scalability.\\n\\nI used Docker volumes with Azure File <a href=\\\"https://azure.microsoft.com/en-us/blog/persistent-docker-volumes-with-azure-file-storage/\\\" rel=\\\"nofollow noreferrer\\\">Storage</a>.\\nupload data to a Docker <a href=\\\"https://stackoverflow.com/questions/42906964/how-can-i-upload-data-to-docker-container\\\">container</a>.\\n\\n<pre class=\\\"lang-js prettyprint-override\\\">\\n// app.js\\n\\nconst express = require('express');\\nconst multer = require('multer');\\nconst { BlobServiceClient, StorageSharedKeyCredential } = require('@azure/storage-blob');\\n\\n// Set up Express\\nconst app = express();\\nconst port = 3000;\\n\\n// Azure Storage configuration\\nconst accountName = process.env.AZURE_STORAGE_ACCOUNT_NAME;\\nconst accountKey =  process.env.AZURE_STORAGE_ACCOUNT_KEY;\\nconst sharedKeyCredential = new StorageSharedKeyCredential(accountName, accountKey);\\nconst blobServiceClient = new BlobServiceClient(`https://${accountName}.blob.core.windows.net`, sharedKeyCredential);\\nconst containerName = 'certificate122';\\n\\n// Set up Multer for file uploads\\nconst storage = multer.memoryStorage();\\nconst upload = multer({ storage: storage });\\n\\n// Serve static files\\napp.use(express.static('public'));\\n\\n// Upload route\\n// Upload route\\napp.post('/upload', upload.array('files'), async (req, res) =&gt; {\\n    try {\\n      const promises = req.files.map(async file =&gt; {\\n        const containerClient = blobServiceClient.getContainerClient(containerName);\\n        const blobName = `${Date.now()}-${file.originalname}`;\\n        const blockBlobClient = containerClient.getBlockBlobClient(blobName);\\n        await blockBlobClient.uploadData(file.buffer, { blobHTTPHeaders: { blobContentType: file.mimetype } });\\n        return blobName;\\n      });\\n      const uploadedFiles = await Promise.all(promises);\\n      console.log(&quot;Uploaded&quot;); // Print &quot;uploaded&quot; if successfully uploaded\\n      res.json({ files: uploadedFiles });\\n    } catch (error) {\\n      res.status(500).json({ error: error.message });\\n    }\\n  });\\n  \\n\\n// Display all files route\\napp.get('/files', async (req, res) =&gt; {\\n  try {\\n    const containerClient = blobServiceClient.getContainerClient(containerName);\\n    const files = [];\\n    for await (const blob of containerClient.listBlobsFlat()) {\\n      files.push(blob.name);\\n    }\\n    res.json({ files });\\n  } catch (error) {\\n    res.status(500).json({ error: error.message });\\n  }\\n});\\n\\n// Start the server\\napp.listen(port, () =&gt; {\\n  console.log(`Server running at http://localhost:${port}`);\\n});\\n\\n<pre class=\\\"lang-html prettyprint-override\\\">\\n&lt;!DOCTYPE html&gt;\\n&lt;html lang=&quot;en&quot;&gt;\\n&lt;head&gt;\\n  &lt;meta charset=&quot;UTF-8&quot;&gt;\\n  &lt;meta name=&quot;viewport&quot; content=&quot;width=device-width, initial-scale=1.0&quot;&gt;\\n  &lt;title&gt;File Upload&lt;/title&gt;\\n&lt;/head&gt;\\n&lt;body&gt;\\n  &lt;h1&gt;File Upload&lt;/h1&gt;\\n  &lt;form id=&quot;uploadForm&quot; enctype=&quot;multipart/form-data&quot;&gt;\\n    &lt;input type=&quot;file&quot; id=&quot;fileInput&quot; name=&quot;files&quot; multiple&gt;\\n    &lt;button type=&quot;submit&quot;&gt;Upload&lt;/button&gt;\\n  &lt;/form&gt;\\n\\n  &lt;h2&gt;Uploaded Files&lt;/h2&gt;\\n  &lt;ul id=&quot;fileList&quot;&gt;&lt;/ul&gt;\\n\\n  &lt;script&gt;\\n    async function fetchFiles() {\\n      const response = await fetch('/files');\\n      const data = await response.json();\\n      const fileList = document.getElementById('fileList');\\n      fileList.innerHTML = '';\\n      data.files.forEach(file =&gt; {\\n        const li = document.createElement('li');\\n        li.textContent = file;\\n        fileList.appendChild(li);\\n      });\\n    }\\n\\n    fetchFiles();\\n\\n    document.getElementById('uploadForm').addEventListener('submit', async (e) =&gt; {\\n      e.preventDefault();\\n      const formData = new FormData(e.target);\\n      const response = await fetch('/upload', {\\n        method: 'POST',\\n        body: formData\\n      });\\n      const data = await response.json();\\n      if (response.ok) {\\n        const uploadedMessage = document.createElement('p');\\n        uploadedMessage.textContent = 'Uploaded';\\n        document.body.appendChild(uploadedMessage);\\n        fetchFiles();\\n      } else {\\n        console.error('Upload failed:', data.error);\\n      }\\n    });\\n  &lt;/script&gt;\\n&lt;/body&gt;\\n&lt;/html&gt;\\n\\n\\n<img src=\\\"https://i.imgur.com/M3ORCKE.png\\\" alt=\\\"enter image description here\\\" />\\nUsed this <a href=\\\"https://medium.com/microsoftazure/how-to-launch-a-dockerized-node-js-app-using-the-azure-web-app-for-containers-service-c3722ce370ab\\\" rel=\\\"nofollow noreferrer\\\">doc</a>  to Launch a Dockerized Node.js App Using the Azure Web App for Containers Service.\\nBuild the Docker image using the following command within the directory containing your code repository:\\n<pre class=\\\"lang-bash prettyprint-override\\\">       docker build -t demoacrjagord.azurecr.io/demo-app:latest .\\n\\n<strong>Push the Docker Image to Azure Container Registry (ACR):</strong>\\n\\nLogin to your Azure Container Registry using the provided credentials:\\n\\n<pre class=\\\"lang-bash prettyprint-override\\\">      docker login demoacrjagord.azurecr.io --username demoacrjagord\\n\\nPush the Docker image to ACR:\\n<pre class=\\\"lang-bash prettyprint-override\\\"> docker push demoacrjagord.azurecr.io/demo-app:latest\\n\\n<strong>Create a Web App for Containers in Azure:</strong>\\n\\nLog in to your Azure portal and navigate to the Azure Web App for Containers section.\\n-   Provide the required information, including the app name, subscription, resource group, OS (Linux), and App Service plan and under &quot;Configure Container,&quot; select the Azure Container Registry, and then choose the ACR, image name, and tag to deploy.\\n-   Click &quot;Create&quot; to start the deployment process.\\n\\n<img src=\\\"https://i.imgur.com/beqqEDu.png\\\" alt=\\\"enter image description here\\\" />\\n<img src=\\\"https://i.imgur.com/9IGMHvC.png\\\" alt=\\\"enter image description here\\\" />\\n For accessing files in Docker, you can use Azure Storage.\"\n        ],\n        \"semantic_type\": \"\",\n        \"description\": \"\"\n      }\n    }\n  ]\n}"
            }
          },
          "metadata": {},
          "execution_count": 25
        }
      ]
    },
    {
      "cell_type": "code",
      "source": [
        "# Save the summarized data to a new Excel file\n",
        "file_path = '/content/TextRank_SummarizedData.xlsx'\n",
        "\n",
        "dataset.to_excel(file_path, index=False, engine='openpyxl')"
      ],
      "metadata": {
        "id": "r4iaj1uPzjHm"
      },
      "execution_count": 26,
      "outputs": []
    },
    {
      "cell_type": "code",
      "source": [
        "# Verify that the file has been saved correctly\n",
        "saved_data = pd.read_excel(file_path)\n",
        "print(saved_data[['question_summary', 'answer_summary']].head())"
      ],
      "metadata": {
        "colab": {
          "base_uri": "https://localhost:8080/"
        },
        "id": "BDtsrw530j84",
        "outputId": "42a71c15-19c8-4c48-eabd-63acb5234a8d"
      },
      "execution_count": 30,
      "outputs": [
        {
          "output_type": "stream",
          "name": "stdout",
          "text": [
            "                                    question_summary  \\\n",
            "0  When all is done, itâ€™ll show a response.\\nSo...   \n",
            "1  If I use Spring MVC for designing the client s...   \n",
            "2  On which layer should I implement the logic fo...   \n",
            "3  But that's trouble for another time.\\nMy wider...   \n",
            "4  I am trying to learn AWS services, and now it ...   \n",
            "\n",
            "                                      answer_summary  \n",
            "0  Single container can usually handle hundreds o...  \n",
            "1  The term &quot;<em>Microservices</em>&quot; is...  \n",
            "2  Your repositories might return the same model,...  \n",
            "3  Use a URL like this, replacing xxxx with your ...  \n",
            "4  It would also facilitate SSL (in addition to t...  \n"
          ]
        }
      ]
    }
  ]
}