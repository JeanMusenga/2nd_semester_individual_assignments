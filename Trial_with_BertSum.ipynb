{
  "nbformat": 4,
  "nbformat_minor": 0,
  "metadata": {
    "colab": {
      "provenance": [],
      "toc_visible": true,
      "authorship_tag": "ABX9TyM1ZTMxj1vbB0lK6x2KBHPA",
      "include_colab_link": true
    },
    "kernelspec": {
      "name": "python3",
      "display_name": "Python 3"
    },
    "language_info": {
      "name": "python"
    }
  },
  "cells": [
    {
      "cell_type": "markdown",
      "metadata": {
        "id": "view-in-github",
        "colab_type": "text"
      },
      "source": [
        "<a href=\"https://colab.research.google.com/github/JeanMusenga/PhD-Thesis_2024_Musenga/blob/main/Trial_with_BertSum.ipynb\" target=\"_parent\"><img src=\"https://colab.research.google.com/assets/colab-badge.svg\" alt=\"Open In Colab\"/></a>"
      ]
    },
    {
      "cell_type": "markdown",
      "source": [
        "Sammaries are not being generated:\n",
        "\n",
        "https://chatgpt.com/share/c64e87ae-aefb-4eef-af28-94d2025276d7\n",
        "\n",
        "It looks like the summaries are still empty, indicating that the summarization process is not working as expected. This might be due to the way the BERT model is being used for summarization. Let's modify the approach to ensure that we are extracting meaningful summaries.\n",
        "\n",
        "Instead of using softmax on the entire sentence embedding, we'll use a more straightforward method: simply selecting a subset of sentences based on their positions in the text."
      ],
      "metadata": {
        "id": "HFZvqDgif_YP"
      }
    },
    {
      "cell_type": "code",
      "source": [
        "# Step 2: Import necessary libraries\n",
        "import pandas as pd\n",
        "import nltk\n",
        "from nltk.tokenize import word_tokenize, sent_tokenize\n",
        "from nltk.corpus import stopwords\n",
        "from nltk.stem import WordNetLemmatizer\n",
        "from transformers import BertTokenizer, BertModel\n",
        "import torch\n",
        "from torch.nn.functional import softmax"
      ],
      "metadata": {
        "id": "Mi_NrPNPYkug"
      },
      "execution_count": null,
      "outputs": []
    },
    {
      "cell_type": "code",
      "source": [
        "file_path = './saved_file'\n",
        "file_path = ('DataSampePilot.xlsx')\n",
        "\n",
        "data = pd.read_excel(file_path)"
      ],
      "metadata": {
        "id": "-J9h-Np1ZLzG"
      },
      "execution_count": 4,
      "outputs": []
    },
    {
      "cell_type": "code",
      "source": [
        "# Display the first few rows of the dataset\n",
        "print(\"Original data:\")\n",
        "print(data.head())\n"
      ],
      "metadata": {
        "id": "WOUOS2K2_gif"
      },
      "execution_count": null,
      "outputs": []
    },
    {
      "cell_type": "code",
      "source": [
        "!git clone https://github.com/nlpyang/BertSum.git"
      ],
      "metadata": {
        "colab": {
          "base_uri": "https://localhost:8080/"
        },
        "id": "96S7gX5cYhef",
        "outputId": "ce791389-d1cf-4fc1-999b-2ef6acc43b40"
      },
      "execution_count": 1,
      "outputs": [
        {
          "output_type": "stream",
          "name": "stdout",
          "text": [
            "Cloning into 'BertSum'...\n",
            "remote: Enumerating objects: 301, done.\u001b[K\n",
            "remote: Counting objects: 100% (293/293), done.\u001b[K\n",
            "remote: Compressing objects: 100% (124/124), done.\u001b[K\n",
            "remote: Total 301 (delta 165), reused 290 (delta 164), pack-reused 8\u001b[K\n",
            "Receiving objects: 100% (301/301), 15.05 MiB | 9.38 MiB/s, done.\n",
            "Resolving deltas: 100% (165/165), done.\n"
          ]
        }
      ]
    },
    {
      "cell_type": "code",
      "source": [
        "# Download NLTK data\n",
        "nltk.download('punkt')\n",
        "nltk.download('stopwords')\n",
        "nltk.download('wordnet')"
      ],
      "metadata": {
        "colab": {
          "base_uri": "https://localhost:8080/"
        },
        "id": "tMajeH3WZC1H",
        "outputId": "151a9955-4dd3-40eb-b9a4-25046af4e900"
      },
      "execution_count": 7,
      "outputs": [
        {
          "output_type": "stream",
          "name": "stderr",
          "text": [
            "[nltk_data] Downloading package punkt to /root/nltk_data...\n",
            "[nltk_data]   Unzipping tokenizers/punkt.zip.\n",
            "[nltk_data] Downloading package stopwords to /root/nltk_data...\n",
            "[nltk_data]   Unzipping corpora/stopwords.zip.\n",
            "[nltk_data] Downloading package wordnet to /root/nltk_data...\n"
          ]
        },
        {
          "output_type": "execute_result",
          "data": {
            "text/plain": [
              "True"
            ]
          },
          "metadata": {},
          "execution_count": 7
        }
      ]
    },
    {
      "cell_type": "code",
      "source": [
        "# Step 3: Preprocess the text data\n",
        "stop_words = set(stopwords.words('english'))\n",
        "lemmatizer = WordNetLemmatizer()"
      ],
      "metadata": {
        "id": "wExJxOst_gf_"
      },
      "execution_count": 8,
      "outputs": []
    },
    {
      "cell_type": "code",
      "source": [
        "def preprocess_text(text):\n",
        "    # Tokenize into words\n",
        "    words = word_tokenize(text)\n",
        "    # Remove stopwords and perform lemmatization\n",
        "    words = [lemmatizer.lemmatize(word) for word in words if word.lower() not in stop_words]\n",
        "    # Join words back into a single string\n",
        "    return ' '.join(words)\n"
      ],
      "metadata": {
        "id": "RNhMI3DaLK2X"
      },
      "execution_count": 9,
      "outputs": []
    },
    {
      "cell_type": "code",
      "source": [
        "# Apply preprocessing to the Question_body and Answer_body columns\n",
        "data['Question_body'] = data['Question_body'].apply(lambda x: preprocess_text(x) if pd.notnull(x) else \"\")\n",
        "data['Answer_body'] = data['Answer_body'].apply(lambda x: preprocess_text(x) if pd.notnull(x) else \"\")\n"
      ],
      "metadata": {
        "id": "uiBjxWL__gax"
      },
      "execution_count": 10,
      "outputs": []
    },
    {
      "cell_type": "code",
      "source": [
        "# Verify preprocessing\n",
        "print(\"Preprocessed data:\")\n",
        "print(data[['Question_body', 'Answer_body']].head())"
      ],
      "metadata": {
        "id": "nMkVj0EfJg3p"
      },
      "execution_count": null,
      "outputs": []
    },
    {
      "cell_type": "code",
      "source": [
        "%cd BertSum"
      ],
      "metadata": {
        "colab": {
          "base_uri": "https://localhost:8080/"
        },
        "id": "Ry6Jcmy6ZHao",
        "outputId": "f850324d-e291-4fdc-ca95-b1fc00a51480"
      },
      "execution_count": 12,
      "outputs": [
        {
          "output_type": "stream",
          "name": "stdout",
          "text": [
            "/content/BertSum\n"
          ]
        }
      ]
    },
    {
      "cell_type": "code",
      "source": [
        "# Step 4: Define the BertSum model for extractive summarization\n",
        "class BertSum:\n",
        "    def __init__(self, model_name='bert-base-uncased'):\n",
        "        self.tokenizer = BertTokenizer.from_pretrained(model_name)\n",
        "        self.model = BertModel.from_pretrained(model_name)\n",
        "\n",
        "    def summarize(self, text):\n",
        "        if len(text.strip()) == 0:\n",
        "            return \"\"\n",
        "        inputs = self.tokenizer(text, return_tensors='pt', truncation=True, padding='max_length', max_length=512)\n",
        "        outputs = self.model(**inputs)\n",
        "        # Obtain the embeddings for each token\n",
        "        token_embeddings = outputs.last_hidden_state\n",
        "        # Average the token embeddings to get a sentence embedding\n",
        "        sentence_embedding = torch.mean(token_embeddings, dim=1)\n",
        "        # Compute softmax scores\n",
        "        scores = softmax(sentence_embedding, dim=1)\n",
        "        # Split the text into sentences\n",
        "        sentences = sent_tokenize(text)\n",
        "        if not sentences:  # Check if the sentence list is empty\n",
        "            return \"\"\n",
        "        # Get the top N sentences (e.g., top 3)\n",
        "        N = min(3, len(sentences))  # Ensure N does not exceed the number of sentences\n",
        "        top_sentence_idxs = scores[0].topk(N).indices.tolist()\n",
        "        # Select the top N sentences, ensuring valid indices\n",
        "        top_sentence_idxs = [idx for idx in top_sentence_idxs if idx < len(sentences)]\n",
        "        summary = '. '.join([sentences[idx] for idx in top_sentence_idxs])\n",
        "        return summary"
      ],
      "metadata": {
        "id": "LYN_5aYT_gYX"
      },
      "execution_count": 13,
      "outputs": []
    },
    {
      "cell_type": "code",
      "source": [
        "# Initialize the model\n",
        "bertsum = BertSum()"
      ],
      "metadata": {
        "id": "DRMqYYws_gVv"
      },
      "execution_count": null,
      "outputs": []
    },
    {
      "cell_type": "code",
      "source": [
        "# Step 5: Apply the model to the Question_body and Answer_body columns\n",
        "def summarize_column(text, column_name):\n",
        "    if pd.notnull(text):\n",
        "        try:\n",
        "            summary = bertsum.summarize(text)\n",
        "            print(f\"Original {column_name}: {text[:100]}...\")  # Print first 100 characters\n",
        "            print(f\"Summary: {summary}\\n\")\n",
        "            return summary\n",
        "        except Exception as e:\n",
        "            print(f\"Error summarizing text: {e}\")\n",
        "            return \"\"\n",
        "    return \"\"\n",
        "data['Question_summary'] = data['Question_body'].apply(lambda x: summarize_column(x, 'Question_body'))\n",
        "data['Answer_summary'] = data['Answer_body'].apply(lambda x: summarize_column(x, 'Answer_body'))\n"
      ],
      "metadata": {
        "id": "-VZmfk0uIKrm"
      },
      "execution_count": null,
      "outputs": []
    },
    {
      "cell_type": "code",
      "source": [
        "# Display the summarized data\n",
        "data[['Question_body', 'Question_summary', 'Answer_body', 'Answer_summary']].head()\n"
      ],
      "metadata": {
        "colab": {
          "base_uri": "https://localhost:8080/",
          "height": 206
        },
        "id": "U81dVUoG_gOg",
        "outputId": "1f59df7a-38f0-4831-dc02-5cf91e4e4081"
      },
      "execution_count": null,
      "outputs": [
        {
          "output_type": "execute_result",
          "data": {
            "text/plain": [
              "                                       Question_body Question_summary  \\\n",
              "0  Kinda new AWS . high-level question . Iâ€™m lo...                    \n",
              "1  spring boot microservices want use microservic...                    \n",
              "2  'm trying properly design application accordin...                    \n",
              "3  heard .NET8 Microsoft gifted u totally & quot ...                    \n",
              "4  trying learn AWS service , mainly focused API ...                    \n",
              "\n",
              "                                         Answer_body Answer_summary  \n",
              "0  send request , get response . order send respo...                 \n",
              "1  < blockquote > tl ; dr : Spring MVC contradict...                 \n",
              "2  Determining source information business logic ...                 \n",
              "3  always asked question : Microsoft template eve...                 \n",
              "4  Short answer : , n't probably . Usually , EKS ...                 "
            ],
            "text/html": [
              "\n",
              "  <div id=\"df-3c7ba8e7-ae47-4119-9e5a-59650ced96df\" class=\"colab-df-container\">\n",
              "    <div>\n",
              "<style scoped>\n",
              "    .dataframe tbody tr th:only-of-type {\n",
              "        vertical-align: middle;\n",
              "    }\n",
              "\n",
              "    .dataframe tbody tr th {\n",
              "        vertical-align: top;\n",
              "    }\n",
              "\n",
              "    .dataframe thead th {\n",
              "        text-align: right;\n",
              "    }\n",
              "</style>\n",
              "<table border=\"1\" class=\"dataframe\">\n",
              "  <thead>\n",
              "    <tr style=\"text-align: right;\">\n",
              "      <th></th>\n",
              "      <th>Question_body</th>\n",
              "      <th>Question_summary</th>\n",
              "      <th>Answer_body</th>\n",
              "      <th>Answer_summary</th>\n",
              "    </tr>\n",
              "  </thead>\n",
              "  <tbody>\n",
              "    <tr>\n",
              "      <th>0</th>\n",
              "      <td>Kinda new AWS . high-level question . Iâ€™m lo...</td>\n",
              "      <td></td>\n",
              "      <td>send request , get response . order send respo...</td>\n",
              "      <td></td>\n",
              "    </tr>\n",
              "    <tr>\n",
              "      <th>1</th>\n",
              "      <td>spring boot microservices want use microservic...</td>\n",
              "      <td></td>\n",
              "      <td>&lt; blockquote &gt; tl ; dr : Spring MVC contradict...</td>\n",
              "      <td></td>\n",
              "    </tr>\n",
              "    <tr>\n",
              "      <th>2</th>\n",
              "      <td>'m trying properly design application accordin...</td>\n",
              "      <td></td>\n",
              "      <td>Determining source information business logic ...</td>\n",
              "      <td></td>\n",
              "    </tr>\n",
              "    <tr>\n",
              "      <th>3</th>\n",
              "      <td>heard .NET8 Microsoft gifted u totally &amp; quot ...</td>\n",
              "      <td></td>\n",
              "      <td>always asked question : Microsoft template eve...</td>\n",
              "      <td></td>\n",
              "    </tr>\n",
              "    <tr>\n",
              "      <th>4</th>\n",
              "      <td>trying learn AWS service , mainly focused API ...</td>\n",
              "      <td></td>\n",
              "      <td>Short answer : , n't probably . Usually , EKS ...</td>\n",
              "      <td></td>\n",
              "    </tr>\n",
              "  </tbody>\n",
              "</table>\n",
              "</div>\n",
              "    <div class=\"colab-df-buttons\">\n",
              "\n",
              "  <div class=\"colab-df-container\">\n",
              "    <button class=\"colab-df-convert\" onclick=\"convertToInteractive('df-3c7ba8e7-ae47-4119-9e5a-59650ced96df')\"\n",
              "            title=\"Convert this dataframe to an interactive table.\"\n",
              "            style=\"display:none;\">\n",
              "\n",
              "  <svg xmlns=\"http://www.w3.org/2000/svg\" height=\"24px\" viewBox=\"0 -960 960 960\">\n",
              "    <path d=\"M120-120v-720h720v720H120Zm60-500h600v-160H180v160Zm220 220h160v-160H400v160Zm0 220h160v-160H400v160ZM180-400h160v-160H180v160Zm440 0h160v-160H620v160ZM180-180h160v-160H180v160Zm440 0h160v-160H620v160Z\"/>\n",
              "  </svg>\n",
              "    </button>\n",
              "\n",
              "  <style>\n",
              "    .colab-df-container {\n",
              "      display:flex;\n",
              "      gap: 12px;\n",
              "    }\n",
              "\n",
              "    .colab-df-convert {\n",
              "      background-color: #E8F0FE;\n",
              "      border: none;\n",
              "      border-radius: 50%;\n",
              "      cursor: pointer;\n",
              "      display: none;\n",
              "      fill: #1967D2;\n",
              "      height: 32px;\n",
              "      padding: 0 0 0 0;\n",
              "      width: 32px;\n",
              "    }\n",
              "\n",
              "    .colab-df-convert:hover {\n",
              "      background-color: #E2EBFA;\n",
              "      box-shadow: 0px 1px 2px rgba(60, 64, 67, 0.3), 0px 1px 3px 1px rgba(60, 64, 67, 0.15);\n",
              "      fill: #174EA6;\n",
              "    }\n",
              "\n",
              "    .colab-df-buttons div {\n",
              "      margin-bottom: 4px;\n",
              "    }\n",
              "\n",
              "    [theme=dark] .colab-df-convert {\n",
              "      background-color: #3B4455;\n",
              "      fill: #D2E3FC;\n",
              "    }\n",
              "\n",
              "    [theme=dark] .colab-df-convert:hover {\n",
              "      background-color: #434B5C;\n",
              "      box-shadow: 0px 1px 3px 1px rgba(0, 0, 0, 0.15);\n",
              "      filter: drop-shadow(0px 1px 2px rgba(0, 0, 0, 0.3));\n",
              "      fill: #FFFFFF;\n",
              "    }\n",
              "  </style>\n",
              "\n",
              "    <script>\n",
              "      const buttonEl =\n",
              "        document.querySelector('#df-3c7ba8e7-ae47-4119-9e5a-59650ced96df button.colab-df-convert');\n",
              "      buttonEl.style.display =\n",
              "        google.colab.kernel.accessAllowed ? 'block' : 'none';\n",
              "\n",
              "      async function convertToInteractive(key) {\n",
              "        const element = document.querySelector('#df-3c7ba8e7-ae47-4119-9e5a-59650ced96df');\n",
              "        const dataTable =\n",
              "          await google.colab.kernel.invokeFunction('convertToInteractive',\n",
              "                                                    [key], {});\n",
              "        if (!dataTable) return;\n",
              "\n",
              "        const docLinkHtml = 'Like what you see? Visit the ' +\n",
              "          '<a target=\"_blank\" href=https://colab.research.google.com/notebooks/data_table.ipynb>data table notebook</a>'\n",
              "          + ' to learn more about interactive tables.';\n",
              "        element.innerHTML = '';\n",
              "        dataTable['output_type'] = 'display_data';\n",
              "        await google.colab.output.renderOutput(dataTable, element);\n",
              "        const docLink = document.createElement('div');\n",
              "        docLink.innerHTML = docLinkHtml;\n",
              "        element.appendChild(docLink);\n",
              "      }\n",
              "    </script>\n",
              "  </div>\n",
              "\n",
              "\n",
              "<div id=\"df-1d39aa41-aa58-49cf-ae57-0bbeaaff9e5a\">\n",
              "  <button class=\"colab-df-quickchart\" onclick=\"quickchart('df-1d39aa41-aa58-49cf-ae57-0bbeaaff9e5a')\"\n",
              "            title=\"Suggest charts\"\n",
              "            style=\"display:none;\">\n",
              "\n",
              "<svg xmlns=\"http://www.w3.org/2000/svg\" height=\"24px\"viewBox=\"0 0 24 24\"\n",
              "     width=\"24px\">\n",
              "    <g>\n",
              "        <path d=\"M19 3H5c-1.1 0-2 .9-2 2v14c0 1.1.9 2 2 2h14c1.1 0 2-.9 2-2V5c0-1.1-.9-2-2-2zM9 17H7v-7h2v7zm4 0h-2V7h2v10zm4 0h-2v-4h2v4z\"/>\n",
              "    </g>\n",
              "</svg>\n",
              "  </button>\n",
              "\n",
              "<style>\n",
              "  .colab-df-quickchart {\n",
              "      --bg-color: #E8F0FE;\n",
              "      --fill-color: #1967D2;\n",
              "      --hover-bg-color: #E2EBFA;\n",
              "      --hover-fill-color: #174EA6;\n",
              "      --disabled-fill-color: #AAA;\n",
              "      --disabled-bg-color: #DDD;\n",
              "  }\n",
              "\n",
              "  [theme=dark] .colab-df-quickchart {\n",
              "      --bg-color: #3B4455;\n",
              "      --fill-color: #D2E3FC;\n",
              "      --hover-bg-color: #434B5C;\n",
              "      --hover-fill-color: #FFFFFF;\n",
              "      --disabled-bg-color: #3B4455;\n",
              "      --disabled-fill-color: #666;\n",
              "  }\n",
              "\n",
              "  .colab-df-quickchart {\n",
              "    background-color: var(--bg-color);\n",
              "    border: none;\n",
              "    border-radius: 50%;\n",
              "    cursor: pointer;\n",
              "    display: none;\n",
              "    fill: var(--fill-color);\n",
              "    height: 32px;\n",
              "    padding: 0;\n",
              "    width: 32px;\n",
              "  }\n",
              "\n",
              "  .colab-df-quickchart:hover {\n",
              "    background-color: var(--hover-bg-color);\n",
              "    box-shadow: 0 1px 2px rgba(60, 64, 67, 0.3), 0 1px 3px 1px rgba(60, 64, 67, 0.15);\n",
              "    fill: var(--button-hover-fill-color);\n",
              "  }\n",
              "\n",
              "  .colab-df-quickchart-complete:disabled,\n",
              "  .colab-df-quickchart-complete:disabled:hover {\n",
              "    background-color: var(--disabled-bg-color);\n",
              "    fill: var(--disabled-fill-color);\n",
              "    box-shadow: none;\n",
              "  }\n",
              "\n",
              "  .colab-df-spinner {\n",
              "    border: 2px solid var(--fill-color);\n",
              "    border-color: transparent;\n",
              "    border-bottom-color: var(--fill-color);\n",
              "    animation:\n",
              "      spin 1s steps(1) infinite;\n",
              "  }\n",
              "\n",
              "  @keyframes spin {\n",
              "    0% {\n",
              "      border-color: transparent;\n",
              "      border-bottom-color: var(--fill-color);\n",
              "      border-left-color: var(--fill-color);\n",
              "    }\n",
              "    20% {\n",
              "      border-color: transparent;\n",
              "      border-left-color: var(--fill-color);\n",
              "      border-top-color: var(--fill-color);\n",
              "    }\n",
              "    30% {\n",
              "      border-color: transparent;\n",
              "      border-left-color: var(--fill-color);\n",
              "      border-top-color: var(--fill-color);\n",
              "      border-right-color: var(--fill-color);\n",
              "    }\n",
              "    40% {\n",
              "      border-color: transparent;\n",
              "      border-right-color: var(--fill-color);\n",
              "      border-top-color: var(--fill-color);\n",
              "    }\n",
              "    60% {\n",
              "      border-color: transparent;\n",
              "      border-right-color: var(--fill-color);\n",
              "    }\n",
              "    80% {\n",
              "      border-color: transparent;\n",
              "      border-right-color: var(--fill-color);\n",
              "      border-bottom-color: var(--fill-color);\n",
              "    }\n",
              "    90% {\n",
              "      border-color: transparent;\n",
              "      border-bottom-color: var(--fill-color);\n",
              "    }\n",
              "  }\n",
              "</style>\n",
              "\n",
              "  <script>\n",
              "    async function quickchart(key) {\n",
              "      const quickchartButtonEl =\n",
              "        document.querySelector('#' + key + ' button');\n",
              "      quickchartButtonEl.disabled = true;  // To prevent multiple clicks.\n",
              "      quickchartButtonEl.classList.add('colab-df-spinner');\n",
              "      try {\n",
              "        const charts = await google.colab.kernel.invokeFunction(\n",
              "            'suggestCharts', [key], {});\n",
              "      } catch (error) {\n",
              "        console.error('Error during call to suggestCharts:', error);\n",
              "      }\n",
              "      quickchartButtonEl.classList.remove('colab-df-spinner');\n",
              "      quickchartButtonEl.classList.add('colab-df-quickchart-complete');\n",
              "    }\n",
              "    (() => {\n",
              "      let quickchartButtonEl =\n",
              "        document.querySelector('#df-1d39aa41-aa58-49cf-ae57-0bbeaaff9e5a button');\n",
              "      quickchartButtonEl.style.display =\n",
              "        google.colab.kernel.accessAllowed ? 'block' : 'none';\n",
              "    })();\n",
              "  </script>\n",
              "</div>\n",
              "\n",
              "    </div>\n",
              "  </div>\n"
            ],
            "application/vnd.google.colaboratory.intrinsic+json": {
              "type": "dataframe",
              "summary": "{\n  \"name\": \"data[['Question_body', 'Question_summary', 'Answer_body', 'Answer_summary']]\",\n  \"rows\": 5,\n  \"fields\": [\n    {\n      \"column\": \"Question_body\",\n      \"properties\": {\n        \"dtype\": \"string\",\n        \"num_unique_values\": 5,\n        \"samples\": [\n          \"spring boot microservices want use microservices client application ( front-end ) . use Spring MVC designing client side application , , client side application sends request microservices REST APIs use service , standard correct solution ? mean , designing client side app using Spring MVC instead framework like angular react . main logic application resides spring boot microservices . < href= '' http : //i.sstatic.net/BnByRPzu.png '' rel= '' nofollow noreferrer '' > image better show issue : < /a >\",\n          \"trying learn AWS service , mainly focused API Gateway . understand benefit API gateway listed . Expose service REST endpoint Feature like authentication authorization Ability deploy multiple stage Throttling option Still sure whether use API Gateway Infront Kubernetes service deployed EKS . instance , let consider service microservices spring boot responds http request , contains custom authentication/authorization mechanism using spring security . really need API Gateway endpoint Infront service ? Also would like know standard/preferred way create infrastructure AWS service .\",\n          \"'m trying properly design application according clean architecture , 'm struggling determine layer ( data/domain ) implement certain logic . application , 's feature display data ( user contact ) either set locally setting retrieved API . version show user depends setting app 's usage mode , example , API return data , user set preference using local data app 's setting . layer implement logic choosing data source ? Let 's say GetUserContactsUseCase domain . , understand , several approach : < strong > Approach 1 < /strong > UserRepository , contains 2 source : LocalData - contains local setting , contact data priority setting . RemoteData - load cache data API . GetUserContactsUseCase access RemoteData LocalData ( apparently need renamed RemoteDataRepository LocalDataRepository ) , determines priority , fetch data . downside solution seems Repository determining data source . < strong > Approach 2 < /strong > UserRepository independently determines priority . maintains encapsulation layer , case , UserRepository contains business logic seems like UseCase , repository . also possible call UseCase repository . One solution seems writing separate UseCase determine source UserContacts pas result ( e.g. , UserContactFetchMode ) UserRepository . UseCase still lead back approach 1 need LocalData RemoteData . < strong > Question : < /strong > Please advise best way organize . 'm sure 's relevant question , suspect confusion level function distribution among Repositories , instance , instead single LocalPreferences , might necessary create several instance , like LocalUserData , LocalPreferencesData , etc .\"\n        ],\n        \"semantic_type\": \"\",\n        \"description\": \"\"\n      }\n    },\n    {\n      \"column\": \"Question_summary\",\n      \"properties\": {\n        \"dtype\": \"object\",\n        \"num_unique_values\": 1,\n        \"samples\": [\n          \"\"\n        ],\n        \"semantic_type\": \"\",\n        \"description\": \"\"\n      }\n    },\n    {\n      \"column\": \"Answer_body\",\n      \"properties\": {\n        \"dtype\": \"string\",\n        \"num_unique_values\": 5,\n        \"samples\": [\n          \"< blockquote > tl ; dr : Spring MVC contradict trying , technology main scenario built . < /blockquote > First short terminology clarification ( bit pedantic , precision help understanding ) : think say & quot ; Microservice & quot ; , mean & quot ; < em > one < /em > RESTful service , part backend & quot ; . term & quot ; < em > Microservices < /em > & quot ; usually used plural , referring structural patter multiple REST service interplay backend . / use Spring MVC scenario mind ? strong point Spring MVC convenient exchange variable static , server side created HTML page ( < strong > V < /strong > ) backend ( < strong > C+M < /strong > ) . E.g . HTML form , Spring MVC give convenient access form field , directly java code . communication describe ( frontend interacting REST API ) part main Spring MVC purpose . However , Spring MVC per se ruling scenario mind . HTML page generated Spring MVC may still contain code fire request REST API backend . usually done : communication web frontend REST backend usually work like : JavaScript code , running client / frontend side issue < href= '' http : //developer.mozilla.org/en-US/docs/Web/API/Fetch_API/Using_Fetch '' rel= '' nofollow noreferrer '' > fetch < /a > call send HTTP request RESTful service / backend . Javascript code ( rather page containing JavaScript code ) delivered anywhere . part Spring MVC application , need Spring MVC deliver webpage . < blockquote > Concerning last question : course use React etc client side , issue request API . basic JavaScript perfectly get job done . fact , adding huge client side framework might likely add unnecessary complexity . 'd go simple basic technology , unless strong reason / need add client sided framework . Similarly , logic residing backend tied Spring MVC backend technology . basic REST API encapsulate backend logic . < /blockquote >\"\n        ],\n        \"semantic_type\": \"\",\n        \"description\": \"\"\n      }\n    },\n    {\n      \"column\": \"Answer_summary\",\n      \"properties\": {\n        \"dtype\": \"object\",\n        \"num_unique_values\": 1,\n        \"samples\": [\n          \"\"\n        ],\n        \"semantic_type\": \"\",\n        \"description\": \"\"\n      }\n    }\n  ]\n}"
            }
          },
          "metadata": {},
          "execution_count": 15
        }
      ]
    },
    {
      "cell_type": "code",
      "source": [
        "# Save the summarized data to a new Excel file\n",
        "data.to_excel('/path/to/your/SummarizedData.xlsx', index=False)"
      ],
      "metadata": {
        "id": "9MGJMIiJ_gMH"
      },
      "execution_count": null,
      "outputs": []
    },
    {
      "cell_type": "code",
      "source": [],
      "metadata": {
        "id": "zo2TbaLM_gJf"
      },
      "execution_count": null,
      "outputs": []
    },
    {
      "cell_type": "code",
      "source": [],
      "metadata": {
        "id": "jBaouv4R_gEv"
      },
      "execution_count": null,
      "outputs": []
    },
    {
      "cell_type": "code",
      "source": [],
      "metadata": {
        "id": "p2wpws-M_gBv"
      },
      "execution_count": null,
      "outputs": []
    }
  ]
}