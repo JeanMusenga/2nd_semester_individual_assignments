{
  "nbformat": 4,
  "nbformat_minor": 0,
  "metadata": {
    "colab": {
      "provenance": [],
      "authorship_tag": "ABX9TyOBttNDd8GHZptdrRSJGE5L",
      "include_colab_link": true
    },
    "kernelspec": {
      "name": "python3",
      "display_name": "Python 3"
    },
    "language_info": {
      "name": "python"
    }
  },
  "cells": [
    {
      "cell_type": "markdown",
      "metadata": {
        "id": "view-in-github",
        "colab_type": "text"
      },
      "source": [
        "<a href=\"https://colab.research.google.com/github/JeanMusenga/PhD-Thesis_2024_Musenga/blob/main/LSA_TextSummarizationWith.ipynb\" target=\"_parent\"><img src=\"https://colab.research.google.com/assets/colab-badge.svg\" alt=\"Open In Colab\"/></a>"
      ]
    },
    {
      "cell_type": "markdown",
      "source": [
        "# Importing necessary libraries"
      ],
      "metadata": {
        "id": "dGfc4TbE_v4H"
      }
    },
    {
      "cell_type": "code",
      "execution_count": 1,
      "metadata": {
        "id": "KTPQ1gFU-wRv"
      },
      "outputs": [],
      "source": [
        "import re\n",
        "import numpy as np\n",
        "import pandas as pd\n",
        "from sklearn.feature_extraction.text import TfidfVectorizer, ENGLISH_STOP_WORDS\n",
        "from sklearn.decomposition import TruncatedSVD"
      ]
    },
    {
      "cell_type": "code",
      "source": [
        "data=pd.read_excel('DataSampePilot.xlsx')"
      ],
      "metadata": {
        "id": "GJhjw2SZApQp"
      },
      "execution_count": 3,
      "outputs": []
    },
    {
      "cell_type": "markdown",
      "source": [
        "# Preprocessing function"
      ],
      "metadata": {
        "id": "bapxKSO7_3W4"
      }
    },
    {
      "cell_type": "code",
      "source": [
        "# Preprocessing function\n",
        "def preprocess_text(text):\n",
        "    sentences = re.split(r'(?<=[.!?]) +', text)  # Simple sentence tokenizer\n",
        "    processed_sentences = []\n",
        "\n",
        "    for sentence in sentences:\n",
        "        words = re.findall(r'\\b\\w+\\b', sentence.lower())  # Tokenization\n",
        "        words = [word for word in words if word not in ENGLISH_STOP_WORDS]\n",
        "        processed_sentences.append(words)\n",
        "\n",
        "    return sentences, processed_sentences"
      ],
      "metadata": {
        "id": "wiS9EDFKAqjH"
      },
      "execution_count": 4,
      "outputs": []
    },
    {
      "cell_type": "markdown",
      "source": [
        "# Build term-document matrix function"
      ],
      "metadata": {
        "id": "EzThkNWCBtKP"
      }
    },
    {
      "cell_type": "code",
      "source": [
        "# Build term-document matrix function\n",
        "def build_term_document_matrix(processed_sentences):\n",
        "    sentences = [\" \".join(sentence) for sentence in processed_sentences]\n",
        "    tfidf_vectorizer = TfidfVectorizer()\n",
        "    tfidf_matrix = tfidf_vectorizer.fit_transform(sentences)\n",
        "    return tfidf_matrix"
      ],
      "metadata": {
        "id": "wCCw354-BqFA"
      },
      "execution_count": 5,
      "outputs": []
    },
    {
      "cell_type": "markdown",
      "source": [
        "# Apply LSA"
      ],
      "metadata": {
        "id": "FZWAF3AWBw_P"
      }
    },
    {
      "cell_type": "code",
      "source": [
        "# Apply LSA\n",
        "def apply_lsa(tfidf_matrix, num_topics=1):\n",
        "    lsa = TruncatedSVD(n_components=num_topics, n_iter=100)\n",
        "    lsa_matrix = lsa.fit_transform(tfidf_matrix)\n",
        "    return lsa, lsa_matrix"
      ],
      "metadata": {
        "id": "-WNEghXPBvtH"
      },
      "execution_count": 8,
      "outputs": []
    },
    {
      "cell_type": "markdown",
      "source": [
        "# Rank sentences"
      ],
      "metadata": {
        "id": "4P22ZsJtB1bQ"
      }
    },
    {
      "cell_type": "code",
      "source": [
        "# Rank sentences\n",
        "def rank_sentences(lsa_matrix):\n",
        "    scores = np.mean(lsa_matrix, axis=1)\n",
        "    return scores"
      ],
      "metadata": {
        "id": "HvmrYMeEB0Kg"
      },
      "execution_count": 6,
      "outputs": []
    },
    {
      "cell_type": "markdown",
      "source": [
        "# Generate summary function"
      ],
      "metadata": {
        "id": "twug6NSfB55f"
      }
    },
    {
      "cell_type": "code",
      "source": [
        "# Generate summary function\n",
        "def generate_summary(original_sentences, scores, num_sentences=3):\n",
        "    ranked_sentence_indices = np.argsort(scores)[::-1]\n",
        "    summary = []\n",
        "    for i in range(min(num_sentences, len(original_sentences))):\n",
        "        summary.append(original_sentences[ranked_sentence_indices[i]])\n",
        "    return \" \".join(summary)"
      ],
      "metadata": {
        "id": "YHmpE8W5B4DQ"
      },
      "execution_count": 7,
      "outputs": []
    },
    {
      "cell_type": "code",
      "source": [
        "# Preprocess the Question_body and Answer_body columns\n",
        "data['processed_question'] = data['Question_body'].apply(preprocess_text)\n",
        "data['processed_answer'] = data['Answer_body'].apply(preprocess_text)"
      ],
      "metadata": {
        "id": "-BsnMCmCB_kn"
      },
      "execution_count": 9,
      "outputs": []
    },
    {
      "cell_type": "code",
      "source": [
        "# Apply term-document matrix building\n",
        "data['question_tfidf_matrix'] = data['processed_question'].apply(lambda x: build_term_document_matrix(x[1]))\n",
        "data['answer_tfidf_matrix'] = data['processed_answer'].apply(lambda x: build_term_document_matrix(x[1]))\n"
      ],
      "metadata": {
        "id": "ue8oB-QvCC1W"
      },
      "execution_count": 10,
      "outputs": []
    },
    {
      "cell_type": "code",
      "source": [
        "# Apply LSA to the term-document matrices for both questions and answers\n",
        "data['question_lsa'], data['question_lsa_matrix'] = zip(*data['question_tfidf_matrix'].apply(apply_lsa))\n",
        "data['answer_lsa'], data['answer_lsa_matrix'] = zip(*data['answer_tfidf_matrix'].apply(apply_lsa))\n"
      ],
      "metadata": {
        "id": "b5DvLLCBCE5G"
      },
      "execution_count": 11,
      "outputs": []
    },
    {
      "cell_type": "code",
      "source": [
        "# Rank sentences\n",
        "data['question_scores'] = data['question_lsa_matrix'].apply(rank_sentences)\n",
        "data['answer_scores'] = data['answer_lsa_matrix'].apply(rank_sentences)\n"
      ],
      "metadata": {
        "id": "ui9Qw3EjCJQm"
      },
      "execution_count": 12,
      "outputs": []
    },
    {
      "cell_type": "code",
      "source": [
        "# Generate summaries for both questions and answers\n",
        "data['question_summary'] = data.apply(lambda x: generate_summary(x['processed_question'][0], x['question_scores']), axis=1)\n",
        "data['answer_summary'] = data.apply(lambda x: generate_summary(x['processed_answer'][0], x['answer_scores']), axis=1)\n"
      ],
      "metadata": {
        "id": "gxLw98IqCLDQ"
      },
      "execution_count": 13,
      "outputs": []
    },
    {
      "cell_type": "code",
      "source": [
        "# Display the summaries\n",
        "summaries = data[['question_summary', 'answer_summary']]\n",
        "summaries.head()"
      ],
      "metadata": {
        "colab": {
          "base_uri": "https://localhost:8080/",
          "height": 206
        },
        "id": "awO5YpX2CNC3",
        "outputId": "866ed115-b1b7-4be5-8f76-1be184fcbd55"
      },
      "execution_count": 14,
      "outputs": [
        {
          "output_type": "execute_result",
          "data": {
            "text/plain": [
              "                                    question_summary  \\\n",
              "0  Would it be all about querying some API over H...   \n",
              "1  I have some spring boot microservices and I wa...   \n",
              "2  On which layer should I implement the logic fo...   \n",
              "3  I can imagine some ways that I could call an A...   \n",
              "4  Also I would like to know what is standard/pre...   \n",
              "\n",
              "                                      answer_summary  \n",
              "0  You send a request, you get a response. In ord...  \n",
              "1  HTML pages generated by Spring MVC may still c...  \n",
              "2  Determining the source of the information is b...  \n",
              "3  if you can't find it I can try to put of a blo...  \n",
              "4  It would also facilitate SSL (in addition to t...  "
            ],
            "text/html": [
              "\n",
              "  <div id=\"df-480f6684-38f9-483d-81ec-3795a798f659\" class=\"colab-df-container\">\n",
              "    <div>\n",
              "<style scoped>\n",
              "    .dataframe tbody tr th:only-of-type {\n",
              "        vertical-align: middle;\n",
              "    }\n",
              "\n",
              "    .dataframe tbody tr th {\n",
              "        vertical-align: top;\n",
              "    }\n",
              "\n",
              "    .dataframe thead th {\n",
              "        text-align: right;\n",
              "    }\n",
              "</style>\n",
              "<table border=\"1\" class=\"dataframe\">\n",
              "  <thead>\n",
              "    <tr style=\"text-align: right;\">\n",
              "      <th></th>\n",
              "      <th>question_summary</th>\n",
              "      <th>answer_summary</th>\n",
              "    </tr>\n",
              "  </thead>\n",
              "  <tbody>\n",
              "    <tr>\n",
              "      <th>0</th>\n",
              "      <td>Would it be all about querying some API over H...</td>\n",
              "      <td>You send a request, you get a response. In ord...</td>\n",
              "    </tr>\n",
              "    <tr>\n",
              "      <th>1</th>\n",
              "      <td>I have some spring boot microservices and I wa...</td>\n",
              "      <td>HTML pages generated by Spring MVC may still c...</td>\n",
              "    </tr>\n",
              "    <tr>\n",
              "      <th>2</th>\n",
              "      <td>On which layer should I implement the logic fo...</td>\n",
              "      <td>Determining the source of the information is b...</td>\n",
              "    </tr>\n",
              "    <tr>\n",
              "      <th>3</th>\n",
              "      <td>I can imagine some ways that I could call an A...</td>\n",
              "      <td>if you can't find it I can try to put of a blo...</td>\n",
              "    </tr>\n",
              "    <tr>\n",
              "      <th>4</th>\n",
              "      <td>Also I would like to know what is standard/pre...</td>\n",
              "      <td>It would also facilitate SSL (in addition to t...</td>\n",
              "    </tr>\n",
              "  </tbody>\n",
              "</table>\n",
              "</div>\n",
              "    <div class=\"colab-df-buttons\">\n",
              "\n",
              "  <div class=\"colab-df-container\">\n",
              "    <button class=\"colab-df-convert\" onclick=\"convertToInteractive('df-480f6684-38f9-483d-81ec-3795a798f659')\"\n",
              "            title=\"Convert this dataframe to an interactive table.\"\n",
              "            style=\"display:none;\">\n",
              "\n",
              "  <svg xmlns=\"http://www.w3.org/2000/svg\" height=\"24px\" viewBox=\"0 -960 960 960\">\n",
              "    <path d=\"M120-120v-720h720v720H120Zm60-500h600v-160H180v160Zm220 220h160v-160H400v160Zm0 220h160v-160H400v160ZM180-400h160v-160H180v160Zm440 0h160v-160H620v160ZM180-180h160v-160H180v160Zm440 0h160v-160H620v160Z\"/>\n",
              "  </svg>\n",
              "    </button>\n",
              "\n",
              "  <style>\n",
              "    .colab-df-container {\n",
              "      display:flex;\n",
              "      gap: 12px;\n",
              "    }\n",
              "\n",
              "    .colab-df-convert {\n",
              "      background-color: #E8F0FE;\n",
              "      border: none;\n",
              "      border-radius: 50%;\n",
              "      cursor: pointer;\n",
              "      display: none;\n",
              "      fill: #1967D2;\n",
              "      height: 32px;\n",
              "      padding: 0 0 0 0;\n",
              "      width: 32px;\n",
              "    }\n",
              "\n",
              "    .colab-df-convert:hover {\n",
              "      background-color: #E2EBFA;\n",
              "      box-shadow: 0px 1px 2px rgba(60, 64, 67, 0.3), 0px 1px 3px 1px rgba(60, 64, 67, 0.15);\n",
              "      fill: #174EA6;\n",
              "    }\n",
              "\n",
              "    .colab-df-buttons div {\n",
              "      margin-bottom: 4px;\n",
              "    }\n",
              "\n",
              "    [theme=dark] .colab-df-convert {\n",
              "      background-color: #3B4455;\n",
              "      fill: #D2E3FC;\n",
              "    }\n",
              "\n",
              "    [theme=dark] .colab-df-convert:hover {\n",
              "      background-color: #434B5C;\n",
              "      box-shadow: 0px 1px 3px 1px rgba(0, 0, 0, 0.15);\n",
              "      filter: drop-shadow(0px 1px 2px rgba(0, 0, 0, 0.3));\n",
              "      fill: #FFFFFF;\n",
              "    }\n",
              "  </style>\n",
              "\n",
              "    <script>\n",
              "      const buttonEl =\n",
              "        document.querySelector('#df-480f6684-38f9-483d-81ec-3795a798f659 button.colab-df-convert');\n",
              "      buttonEl.style.display =\n",
              "        google.colab.kernel.accessAllowed ? 'block' : 'none';\n",
              "\n",
              "      async function convertToInteractive(key) {\n",
              "        const element = document.querySelector('#df-480f6684-38f9-483d-81ec-3795a798f659');\n",
              "        const dataTable =\n",
              "          await google.colab.kernel.invokeFunction('convertToInteractive',\n",
              "                                                    [key], {});\n",
              "        if (!dataTable) return;\n",
              "\n",
              "        const docLinkHtml = 'Like what you see? Visit the ' +\n",
              "          '<a target=\"_blank\" href=https://colab.research.google.com/notebooks/data_table.ipynb>data table notebook</a>'\n",
              "          + ' to learn more about interactive tables.';\n",
              "        element.innerHTML = '';\n",
              "        dataTable['output_type'] = 'display_data';\n",
              "        await google.colab.output.renderOutput(dataTable, element);\n",
              "        const docLink = document.createElement('div');\n",
              "        docLink.innerHTML = docLinkHtml;\n",
              "        element.appendChild(docLink);\n",
              "      }\n",
              "    </script>\n",
              "  </div>\n",
              "\n",
              "\n",
              "<div id=\"df-dfc63710-bb0e-4b35-a91d-a525bcb81c02\">\n",
              "  <button class=\"colab-df-quickchart\" onclick=\"quickchart('df-dfc63710-bb0e-4b35-a91d-a525bcb81c02')\"\n",
              "            title=\"Suggest charts\"\n",
              "            style=\"display:none;\">\n",
              "\n",
              "<svg xmlns=\"http://www.w3.org/2000/svg\" height=\"24px\"viewBox=\"0 0 24 24\"\n",
              "     width=\"24px\">\n",
              "    <g>\n",
              "        <path d=\"M19 3H5c-1.1 0-2 .9-2 2v14c0 1.1.9 2 2 2h14c1.1 0 2-.9 2-2V5c0-1.1-.9-2-2-2zM9 17H7v-7h2v7zm4 0h-2V7h2v10zm4 0h-2v-4h2v4z\"/>\n",
              "    </g>\n",
              "</svg>\n",
              "  </button>\n",
              "\n",
              "<style>\n",
              "  .colab-df-quickchart {\n",
              "      --bg-color: #E8F0FE;\n",
              "      --fill-color: #1967D2;\n",
              "      --hover-bg-color: #E2EBFA;\n",
              "      --hover-fill-color: #174EA6;\n",
              "      --disabled-fill-color: #AAA;\n",
              "      --disabled-bg-color: #DDD;\n",
              "  }\n",
              "\n",
              "  [theme=dark] .colab-df-quickchart {\n",
              "      --bg-color: #3B4455;\n",
              "      --fill-color: #D2E3FC;\n",
              "      --hover-bg-color: #434B5C;\n",
              "      --hover-fill-color: #FFFFFF;\n",
              "      --disabled-bg-color: #3B4455;\n",
              "      --disabled-fill-color: #666;\n",
              "  }\n",
              "\n",
              "  .colab-df-quickchart {\n",
              "    background-color: var(--bg-color);\n",
              "    border: none;\n",
              "    border-radius: 50%;\n",
              "    cursor: pointer;\n",
              "    display: none;\n",
              "    fill: var(--fill-color);\n",
              "    height: 32px;\n",
              "    padding: 0;\n",
              "    width: 32px;\n",
              "  }\n",
              "\n",
              "  .colab-df-quickchart:hover {\n",
              "    background-color: var(--hover-bg-color);\n",
              "    box-shadow: 0 1px 2px rgba(60, 64, 67, 0.3), 0 1px 3px 1px rgba(60, 64, 67, 0.15);\n",
              "    fill: var(--button-hover-fill-color);\n",
              "  }\n",
              "\n",
              "  .colab-df-quickchart-complete:disabled,\n",
              "  .colab-df-quickchart-complete:disabled:hover {\n",
              "    background-color: var(--disabled-bg-color);\n",
              "    fill: var(--disabled-fill-color);\n",
              "    box-shadow: none;\n",
              "  }\n",
              "\n",
              "  .colab-df-spinner {\n",
              "    border: 2px solid var(--fill-color);\n",
              "    border-color: transparent;\n",
              "    border-bottom-color: var(--fill-color);\n",
              "    animation:\n",
              "      spin 1s steps(1) infinite;\n",
              "  }\n",
              "\n",
              "  @keyframes spin {\n",
              "    0% {\n",
              "      border-color: transparent;\n",
              "      border-bottom-color: var(--fill-color);\n",
              "      border-left-color: var(--fill-color);\n",
              "    }\n",
              "    20% {\n",
              "      border-color: transparent;\n",
              "      border-left-color: var(--fill-color);\n",
              "      border-top-color: var(--fill-color);\n",
              "    }\n",
              "    30% {\n",
              "      border-color: transparent;\n",
              "      border-left-color: var(--fill-color);\n",
              "      border-top-color: var(--fill-color);\n",
              "      border-right-color: var(--fill-color);\n",
              "    }\n",
              "    40% {\n",
              "      border-color: transparent;\n",
              "      border-right-color: var(--fill-color);\n",
              "      border-top-color: var(--fill-color);\n",
              "    }\n",
              "    60% {\n",
              "      border-color: transparent;\n",
              "      border-right-color: var(--fill-color);\n",
              "    }\n",
              "    80% {\n",
              "      border-color: transparent;\n",
              "      border-right-color: var(--fill-color);\n",
              "      border-bottom-color: var(--fill-color);\n",
              "    }\n",
              "    90% {\n",
              "      border-color: transparent;\n",
              "      border-bottom-color: var(--fill-color);\n",
              "    }\n",
              "  }\n",
              "</style>\n",
              "\n",
              "  <script>\n",
              "    async function quickchart(key) {\n",
              "      const quickchartButtonEl =\n",
              "        document.querySelector('#' + key + ' button');\n",
              "      quickchartButtonEl.disabled = true;  // To prevent multiple clicks.\n",
              "      quickchartButtonEl.classList.add('colab-df-spinner');\n",
              "      try {\n",
              "        const charts = await google.colab.kernel.invokeFunction(\n",
              "            'suggestCharts', [key], {});\n",
              "      } catch (error) {\n",
              "        console.error('Error during call to suggestCharts:', error);\n",
              "      }\n",
              "      quickchartButtonEl.classList.remove('colab-df-spinner');\n",
              "      quickchartButtonEl.classList.add('colab-df-quickchart-complete');\n",
              "    }\n",
              "    (() => {\n",
              "      let quickchartButtonEl =\n",
              "        document.querySelector('#df-dfc63710-bb0e-4b35-a91d-a525bcb81c02 button');\n",
              "      quickchartButtonEl.style.display =\n",
              "        google.colab.kernel.accessAllowed ? 'block' : 'none';\n",
              "    })();\n",
              "  </script>\n",
              "</div>\n",
              "\n",
              "    </div>\n",
              "  </div>\n"
            ],
            "application/vnd.google.colaboratory.intrinsic+json": {
              "type": "dataframe",
              "variable_name": "summaries",
              "summary": "{\n  \"name\": \"summaries\",\n  \"rows\": 10,\n  \"fields\": [\n    {\n      \"column\": \"question_summary\",\n      \"properties\": {\n        \"dtype\": \"string\",\n        \"num_unique_values\": 10,\n        \"samples\": [\n          \"So, is it possible to add the spring JWT security as a microservice? and how to make it the first, either after or before the api-gateway microservice?\\nThank you\\n I have a spring boot web application that is composed with multi-microservices.\",\n          \"I have some spring boot microservices and I want to use these microservices from a client application(front-end). If I use Spring MVC for designing the client side application, and from there, the client side application sends requests to the microservices REST APIs to use their services, is this a standard and correct solution?\\nI mean, designing the client side app using Spring MVC instead of frameworks like angular or react. But the main logic of the application resides in the spring boot microservices.\\n<a href=\\\"https://i.sstatic.net/BnByRPzu.png\\\" rel=\\\"nofollow noreferrer\\\">This image better shows the issue:</a>\\n\",\n          \"Here are my specific technical queries:\\n\\nHow can I ensure that Docker Volumes are accessible and consistent across multiple Azure instances or hosts when using Node.js?\\nWhat are the necessary technical steps or configurations to manage data persistence and availability effectively in a scalable Azure deployment?\\nConsidering performance and the generic nature of my service, are there limitations I should be aware of when using Docker Volumes for file storage in Azure compared to Azure Blob Storage?\\n\\nI am looking for detailed insights or examples of configurations that address these concerns, especially any that maintain the generic and performant nature of the service.\\nThank you in advance for your help!\\n Given the dynamic nature of container deployment across various hosts within Azure, I am facing challenges with the accessibility and consistency of Docker Volumes across different instances or hosts.\\nI have reservations about using Azure Blob Storage as an alternative because I believe it could make my service slower and less generic. This server is designed to store SVG and PNG files, and I am considering the use of Docker Volumes for this storage.\"\n        ],\n        \"semantic_type\": \"\",\n        \"description\": \"\"\n      }\n    },\n    {\n      \"column\": \"answer_summary\",\n      \"properties\": {\n        \"dtype\": \"string\",\n        \"num_unique_values\": 10,\n        \"samples\": [\n          \"I've implemented this setup in multiple projects.\\nOtherwise, you'd need to forward all requests to your authentication/authorization service (like an interceptor) before sending them to the actual microservice.\\n The easiest approach is to integrate Spring Security (authentication/authorization) directly into the gateway service.\",\n          \"HTML pages generated by Spring MVC may still contain code that fires requests to a REST API backend.\\n\\nHow is this usually done:\\n\\nThe communication of a web frontend with a REST backend usually works like this: Some JavaScript code, which is running on the client / frontend side issues <a href=\\\"https://developer.mozilla.org/en-US/docs/Web/API/Fetch_API/Using_Fetch\\\" rel=\\\"nofollow noreferrer\\\">fetch</a> calls to send HTTP requests to the RESTful service / backend. Any basic REST API can encapsulate backend logic.\\n</blockquote>\\n The term &quot;<em>Microservices</em>&quot; is usually only used in plural, referring to the structural patter of having multiple REST services at interplay in a backend.\\n\\nCan / should you use Spring MVC for the scenario in mind?\\n\\nThe strong point of Spring MVC is a convenient exchange of variables between the static, server side created HTML pages (<strong>V</strong>) and the backend (<strong>C+M</strong>).\",\n          \"For accessing files in Docker, you can use Azure Storage. The limitations of using Docker Volumes for file storage in Azure compared to Azure Blob Storage are performance and Scalability.\\n\\nI used Docker volumes with Azure File <a href=\\\"https://azure.microsoft.com/en-us/blog/persistent-docker-volumes-with-azure-file-storage/\\\" rel=\\\"nofollow noreferrer\\\">Storage</a>.\\nupload data to a Docker <a href=\\\"https://stackoverflow.com/questions/42906964/how-can-i-upload-data-to-docker-container\\\">container</a>.\\n\\n<pre class=\\\"lang-js prettyprint-override\\\">\\n// app.js\\n\\nconst express = require('express');\\nconst multer = require('multer');\\nconst { BlobServiceClient, StorageSharedKeyCredential } = require('@azure/storage-blob');\\n\\n// Set up Express\\nconst app = express();\\nconst port = 3000;\\n\\n// Azure Storage configuration\\nconst accountName = process.env.AZURE_STORAGE_ACCOUNT_NAME;\\nconst accountKey =  process.env.AZURE_STORAGE_ACCOUNT_KEY;\\nconst sharedKeyCredential = new StorageSharedKeyCredential(accountName, accountKey);\\nconst blobServiceClient = new BlobServiceClient(`https://${accountName}.blob.core.windows.net`, sharedKeyCredential);\\nconst containerName = 'certificate122';\\n\\n// Set up Multer for file uploads\\nconst storage = multer.memoryStorage();\\nconst upload = multer({ storage: storage });\\n\\n// Serve static files\\napp.use(express.static('public'));\\n\\n// Upload route\\n// Upload route\\napp.post('/upload', upload.array('files'), async (req, res) =&gt; {\\n    try {\\n      const promises = req.files.map(async file =&gt; {\\n        const containerClient = blobServiceClient.getContainerClient(containerName);\\n        const blobName = `${Date.now()}-${file.originalname}`;\\n        const blockBlobClient = containerClient.getBlockBlobClient(blobName);\\n        await blockBlobClient.uploadData(file.buffer, { blobHTTPHeaders: { blobContentType: file.mimetype } });\\n        return blobName;\\n      });\\n      const uploadedFiles = await Promise.all(promises);\\n      console.log(&quot;Uploaded&quot;); // Print &quot;uploaded&quot; if successfully uploaded\\n      res.json({ files: uploadedFiles });\\n    } catch (error) {\\n      res.status(500).json({ error: error.message });\\n    }\\n  });\\n  \\n\\n// Display all files route\\napp.get('/files', async (req, res) =&gt; {\\n  try {\\n    const containerClient = blobServiceClient.getContainerClient(containerName);\\n    const files = [];\\n    for await (const blob of containerClient.listBlobsFlat()) {\\n      files.push(blob.name);\\n    }\\n    res.json({ files });\\n  } catch (error) {\\n    res.status(500).json({ error: error.message });\\n  }\\n});\\n\\n// Start the server\\napp.listen(port, () =&gt; {\\n  console.log(`Server running at http://localhost:${port}`);\\n});\\n\\n<pre class=\\\"lang-html prettyprint-override\\\">\\n&lt;!DOCTYPE html&gt;\\n&lt;html lang=&quot;en&quot;&gt;\\n&lt;head&gt;\\n  &lt;meta charset=&quot;UTF-8&quot;&gt;\\n  &lt;meta name=&quot;viewport&quot; content=&quot;width=device-width, initial-scale=1.0&quot;&gt;\\n  &lt;title&gt;File Upload&lt;/title&gt;\\n&lt;/head&gt;\\n&lt;body&gt;\\n  &lt;h1&gt;File Upload&lt;/h1&gt;\\n  &lt;form id=&quot;uploadForm&quot; enctype=&quot;multipart/form-data&quot;&gt;\\n    &lt;input type=&quot;file&quot; id=&quot;fileInput&quot; name=&quot;files&quot; multiple&gt;\\n    &lt;button type=&quot;submit&quot;&gt;Upload&lt;/button&gt;\\n  &lt;/form&gt;\\n\\n  &lt;h2&gt;Uploaded Files&lt;/h2&gt;\\n  &lt;ul id=&quot;fileList&quot;&gt;&lt;/ul&gt;\\n\\n  &lt;script&gt;\\n    async function fetchFiles() {\\n      const response = await fetch('/files');\\n      const data = await response.json();\\n      const fileList = document.getElementById('fileList');\\n      fileList.innerHTML = '';\\n      data.files.forEach(file =&gt; {\\n        const li = document.createElement('li');\\n        li.textContent = file;\\n        fileList.appendChild(li);\\n      });\\n    }\\n\\n    fetchFiles();\\n\\n    document.getElementById('uploadForm').addEventListener('submit', async (e) =&gt; {\\n      e.preventDefault();\\n      const formData = new FormData(e.target);\\n      const response = await fetch('/upload', {\\n        method: 'POST',\\n        body: formData\\n      });\\n      const data = await response.json();\\n      if (response.ok) {\\n        const uploadedMessage = document.createElement('p');\\n        uploadedMessage.textContent = 'Uploaded';\\n        document.body.appendChild(uploadedMessage);\\n        fetchFiles();\\n      } else {\\n        console.error('Upload failed:', data.error);\\n      }\\n    });\\n  &lt;/script&gt;\\n&lt;/body&gt;\\n&lt;/html&gt;\\n\\n\\n<img src=\\\"https://i.imgur.com/M3ORCKE.png\\\" alt=\\\"enter image description here\\\" />\\nUsed this <a href=\\\"https://medium.com/microsoftazure/how-to-launch-a-dockerized-node-js-app-using-the-azure-web-app-for-containers-service-c3722ce370ab\\\" rel=\\\"nofollow noreferrer\\\">doc</a>  to Launch a Dockerized Node.js App Using the Azure Web App for Containers Service.\\nBuild the Docker image using the following command within the directory containing your code repository:\\n<pre class=\\\"lang-bash prettyprint-override\\\">       docker build -t demoacrjagord.azurecr.io/demo-app:latest .\\n\\n<strong>Push the Docker Image to Azure Container Registry (ACR):</strong>\\n\\nLogin to your Azure Container Registry using the provided credentials:\\n\\n<pre class=\\\"lang-bash prettyprint-override\\\">      docker login demoacrjagord.azurecr.io --username demoacrjagord\\n\\nPush the Docker image to ACR:\\n<pre class=\\\"lang-bash prettyprint-override\\\"> docker push demoacrjagord.azurecr.io/demo-app:latest\\n\\n<strong>Create a Web App for Containers in Azure:</strong>\\n\\nLog in to your Azure portal and navigate to the Azure Web App for Containers section.\\n-   Provide the required information, including the app name, subscription, resource group, OS (Linux), and App Service plan and under &quot;Configure Container,&quot; select the Azure Container Registry, and then choose the ACR, image name, and tag to deploy.\\n-   Click &quot;Create&quot; to start the deployment process.\\n\\n<img src=\\\"https://i.imgur.com/beqqEDu.png\\\" alt=\\\"enter image description here\\\" />\\n<img src=\\\"https://i.imgur.com/9IGMHvC.png\\\" alt=\\\"enter image description here\\\" />\\n\"\n        ],\n        \"semantic_type\": \"\",\n        \"description\": \"\"\n      }\n    }\n  ]\n}"
            }
          },
          "metadata": {},
          "execution_count": 14
        }
      ]
    }
  ]
}